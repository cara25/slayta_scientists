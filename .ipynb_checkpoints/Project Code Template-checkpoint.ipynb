{
 "cells": [
  {
   "cell_type": "raw",
   "id": "33dd6c4c",
   "metadata": {},
   "source": [
    "---\n",
    "title: \"Project Code\"\n",
    "subtitle: Slayta Scientists\n",
    "author: Allen Zhang, Amanda Tsuetaki, Cara Chang, Rakin Hussain\n",
    "date: 02/27/2023\n",
    "number-sections: true\n",
    "abstract: _This file contains the code for the project on <>, as part of the STAT303-2 course in Winter 2023_.\n",
    "format: \n",
    "  html:\n",
    "    toc: true\n",
    "    toc-title: Contents\n",
    "    self-contained: true\n",
    "    font-size: 100%\n",
    "    toc-depth: 4\n",
    "    mainfont: serif\n",
    "jupyter: python3\n",
    "---"
   ]
  },
  {
   "cell_type": "markdown",
   "id": "fe7ea9bb",
   "metadata": {},
   "source": [
    "## Data quality check / cleaning / preparation \n",
    "\n",
    "Put code with comments. The comments should explain the code such that it can be easily understood. You may put text *(in a markdown cell)* before a large chunk of code to explain the overall purpose of the code, if it is not intuitive. **Put the name of the person / persons who contributed to each code chunk / set of code chunks.** An example is given below."
   ]
  },
  {
   "cell_type": "markdown",
   "id": "db149d8b",
   "metadata": {},
   "source": [
    "### Data quality check and EDA\n",
    "*By Allen Zhang, Amanda Tsuetaki, and Cara Chang*"
   ]
  },
  {
   "cell_type": "markdown",
   "id": "fbc82e7f",
   "metadata": {},
   "source": [
    "The code below visualizes the distribution of all the variables in the dataset, and their association with the response."
   ]
  },
  {
   "cell_type": "code",
   "execution_count": 1,
   "id": "ede8835b",
   "metadata": {
    "scrolled": true
   },
   "outputs": [
    {
     "name": "stdout",
     "output_type": "stream",
     "text": [
      "Requirement already satisfied: group-lasso in /Users/ballen/opt/anaconda3/lib/python3.9/site-packages (1.5.0)\n",
      "Requirement already satisfied: scikit-learn in /Users/ballen/opt/anaconda3/lib/python3.9/site-packages (from group-lasso) (1.0.2)\n",
      "Requirement already satisfied: numpy in /Users/ballen/opt/anaconda3/lib/python3.9/site-packages (from group-lasso) (1.21.5)\n",
      "Requirement already satisfied: joblib>=0.11 in /Users/ballen/opt/anaconda3/lib/python3.9/site-packages (from scikit-learn->group-lasso) (1.1.0)\n",
      "Requirement already satisfied: scipy>=1.1.0 in /Users/ballen/opt/anaconda3/lib/python3.9/site-packages (from scikit-learn->group-lasso) (1.7.3)\n",
      "Requirement already satisfied: threadpoolctl>=2.0.0 in /Users/ballen/opt/anaconda3/lib/python3.9/site-packages (from scikit-learn->group-lasso) (2.2.0)\n",
      "Note: you may need to restart the kernel to use updated packages.\n"
     ]
    }
   ],
   "source": [
    "pip install group-lasso"
   ]
  },
  {
   "cell_type": "code",
   "execution_count": 2,
   "id": "b44fbdd1",
   "metadata": {
    "scrolled": true
   },
   "outputs": [],
   "source": [
    "from group_lasso import LogisticGroupLasso\n",
    "import pandas as pd\n",
    "import numpy as np\n",
    "import seaborn as sns\n",
    "import matplotlib.pyplot as plt\n",
    "import statsmodels.formula.api as sm\n",
    "import sklearn as sk\n",
    "from sklearn.metrics import roc_curve, auc\n",
    "from sklearn import metrics\n",
    "from sklearn import impute\n",
    "from sklearn import preprocessing\n",
    "import itertools\n",
    "import time"
   ]
  },
  {
   "cell_type": "code",
   "execution_count": 3,
   "id": "773e9697",
   "metadata": {},
   "outputs": [
    {
     "data": {
      "text/html": [
       "<div>\n",
       "<style scoped>\n",
       "    .dataframe tbody tr th:only-of-type {\n",
       "        vertical-align: middle;\n",
       "    }\n",
       "\n",
       "    .dataframe tbody tr th {\n",
       "        vertical-align: top;\n",
       "    }\n",
       "\n",
       "    .dataframe thead th {\n",
       "        text-align: right;\n",
       "    }\n",
       "</style>\n",
       "<table border=\"1\" class=\"dataframe\">\n",
       "  <thead>\n",
       "    <tr style=\"text-align: right;\">\n",
       "      <th></th>\n",
       "      <th>id</th>\n",
       "      <th>gender</th>\n",
       "      <th>age</th>\n",
       "      <th>hypertension</th>\n",
       "      <th>heart_disease</th>\n",
       "      <th>ever_married</th>\n",
       "      <th>work_type</th>\n",
       "      <th>Residence_type</th>\n",
       "      <th>avg_glucose_level</th>\n",
       "      <th>bmi</th>\n",
       "      <th>smoking_status</th>\n",
       "      <th>stroke</th>\n",
       "    </tr>\n",
       "  </thead>\n",
       "  <tbody>\n",
       "    <tr>\n",
       "      <th>0</th>\n",
       "      <td>9046</td>\n",
       "      <td>Male</td>\n",
       "      <td>67.0</td>\n",
       "      <td>0</td>\n",
       "      <td>1</td>\n",
       "      <td>Yes</td>\n",
       "      <td>Private</td>\n",
       "      <td>Urban</td>\n",
       "      <td>228.69</td>\n",
       "      <td>36.6</td>\n",
       "      <td>formerly smoked</td>\n",
       "      <td>1</td>\n",
       "    </tr>\n",
       "    <tr>\n",
       "      <th>1</th>\n",
       "      <td>51676</td>\n",
       "      <td>Female</td>\n",
       "      <td>61.0</td>\n",
       "      <td>0</td>\n",
       "      <td>0</td>\n",
       "      <td>Yes</td>\n",
       "      <td>Self-employed</td>\n",
       "      <td>Rural</td>\n",
       "      <td>202.21</td>\n",
       "      <td>NaN</td>\n",
       "      <td>never smoked</td>\n",
       "      <td>1</td>\n",
       "    </tr>\n",
       "    <tr>\n",
       "      <th>2</th>\n",
       "      <td>31112</td>\n",
       "      <td>Male</td>\n",
       "      <td>80.0</td>\n",
       "      <td>0</td>\n",
       "      <td>1</td>\n",
       "      <td>Yes</td>\n",
       "      <td>Private</td>\n",
       "      <td>Rural</td>\n",
       "      <td>105.92</td>\n",
       "      <td>32.5</td>\n",
       "      <td>never smoked</td>\n",
       "      <td>1</td>\n",
       "    </tr>\n",
       "    <tr>\n",
       "      <th>3</th>\n",
       "      <td>60182</td>\n",
       "      <td>Female</td>\n",
       "      <td>49.0</td>\n",
       "      <td>0</td>\n",
       "      <td>0</td>\n",
       "      <td>Yes</td>\n",
       "      <td>Private</td>\n",
       "      <td>Urban</td>\n",
       "      <td>171.23</td>\n",
       "      <td>34.4</td>\n",
       "      <td>smokes</td>\n",
       "      <td>1</td>\n",
       "    </tr>\n",
       "    <tr>\n",
       "      <th>4</th>\n",
       "      <td>1665</td>\n",
       "      <td>Female</td>\n",
       "      <td>79.0</td>\n",
       "      <td>1</td>\n",
       "      <td>0</td>\n",
       "      <td>Yes</td>\n",
       "      <td>Self-employed</td>\n",
       "      <td>Rural</td>\n",
       "      <td>174.12</td>\n",
       "      <td>24.0</td>\n",
       "      <td>never smoked</td>\n",
       "      <td>1</td>\n",
       "    </tr>\n",
       "  </tbody>\n",
       "</table>\n",
       "</div>"
      ],
      "text/plain": [
       "      id  gender   age  hypertension  heart_disease ever_married  \\\n",
       "0   9046    Male  67.0             0              1          Yes   \n",
       "1  51676  Female  61.0             0              0          Yes   \n",
       "2  31112    Male  80.0             0              1          Yes   \n",
       "3  60182  Female  49.0             0              0          Yes   \n",
       "4   1665  Female  79.0             1              0          Yes   \n",
       "\n",
       "       work_type Residence_type  avg_glucose_level   bmi   smoking_status  \\\n",
       "0        Private          Urban             228.69  36.6  formerly smoked   \n",
       "1  Self-employed          Rural             202.21   NaN     never smoked   \n",
       "2        Private          Rural             105.92  32.5     never smoked   \n",
       "3        Private          Urban             171.23  34.4           smokes   \n",
       "4  Self-employed          Rural             174.12  24.0     never smoked   \n",
       "\n",
       "   stroke  \n",
       "0       1  \n",
       "1       1  \n",
       "2       1  \n",
       "3       1  \n",
       "4       1  "
      ]
     },
     "execution_count": 3,
     "metadata": {},
     "output_type": "execute_result"
    }
   ],
   "source": [
    "strokedata = pd.read_csv('healthcare-dataset-stroke-data.csv')\n",
    "strokedata.head()"
   ]
  },
  {
   "cell_type": "code",
   "execution_count": 4,
   "id": "75eabae5",
   "metadata": {},
   "outputs": [
    {
     "data": {
      "text/html": [
       "<div>\n",
       "<style scoped>\n",
       "    .dataframe tbody tr th:only-of-type {\n",
       "        vertical-align: middle;\n",
       "    }\n",
       "\n",
       "    .dataframe tbody tr th {\n",
       "        vertical-align: top;\n",
       "    }\n",
       "\n",
       "    .dataframe thead th {\n",
       "        text-align: right;\n",
       "    }\n",
       "</style>\n",
       "<table border=\"1\" class=\"dataframe\">\n",
       "  <thead>\n",
       "    <tr style=\"text-align: right;\">\n",
       "      <th></th>\n",
       "      <th>id</th>\n",
       "      <th>age</th>\n",
       "      <th>hypertension</th>\n",
       "      <th>heart_disease</th>\n",
       "      <th>avg_glucose_level</th>\n",
       "      <th>bmi</th>\n",
       "      <th>stroke</th>\n",
       "    </tr>\n",
       "  </thead>\n",
       "  <tbody>\n",
       "    <tr>\n",
       "      <th>count</th>\n",
       "      <td>5110.000000</td>\n",
       "      <td>5110.000000</td>\n",
       "      <td>5110.000000</td>\n",
       "      <td>5110.000000</td>\n",
       "      <td>5110.000000</td>\n",
       "      <td>4909.000000</td>\n",
       "      <td>5110.000000</td>\n",
       "    </tr>\n",
       "    <tr>\n",
       "      <th>mean</th>\n",
       "      <td>36517.829354</td>\n",
       "      <td>43.226614</td>\n",
       "      <td>0.097456</td>\n",
       "      <td>0.054012</td>\n",
       "      <td>106.147677</td>\n",
       "      <td>28.893237</td>\n",
       "      <td>0.048728</td>\n",
       "    </tr>\n",
       "    <tr>\n",
       "      <th>std</th>\n",
       "      <td>21161.721625</td>\n",
       "      <td>22.612647</td>\n",
       "      <td>0.296607</td>\n",
       "      <td>0.226063</td>\n",
       "      <td>45.283560</td>\n",
       "      <td>7.854067</td>\n",
       "      <td>0.215320</td>\n",
       "    </tr>\n",
       "    <tr>\n",
       "      <th>min</th>\n",
       "      <td>67.000000</td>\n",
       "      <td>0.080000</td>\n",
       "      <td>0.000000</td>\n",
       "      <td>0.000000</td>\n",
       "      <td>55.120000</td>\n",
       "      <td>10.300000</td>\n",
       "      <td>0.000000</td>\n",
       "    </tr>\n",
       "    <tr>\n",
       "      <th>25%</th>\n",
       "      <td>17741.250000</td>\n",
       "      <td>25.000000</td>\n",
       "      <td>0.000000</td>\n",
       "      <td>0.000000</td>\n",
       "      <td>77.245000</td>\n",
       "      <td>23.500000</td>\n",
       "      <td>0.000000</td>\n",
       "    </tr>\n",
       "    <tr>\n",
       "      <th>50%</th>\n",
       "      <td>36932.000000</td>\n",
       "      <td>45.000000</td>\n",
       "      <td>0.000000</td>\n",
       "      <td>0.000000</td>\n",
       "      <td>91.885000</td>\n",
       "      <td>28.100000</td>\n",
       "      <td>0.000000</td>\n",
       "    </tr>\n",
       "    <tr>\n",
       "      <th>75%</th>\n",
       "      <td>54682.000000</td>\n",
       "      <td>61.000000</td>\n",
       "      <td>0.000000</td>\n",
       "      <td>0.000000</td>\n",
       "      <td>114.090000</td>\n",
       "      <td>33.100000</td>\n",
       "      <td>0.000000</td>\n",
       "    </tr>\n",
       "    <tr>\n",
       "      <th>max</th>\n",
       "      <td>72940.000000</td>\n",
       "      <td>82.000000</td>\n",
       "      <td>1.000000</td>\n",
       "      <td>1.000000</td>\n",
       "      <td>271.740000</td>\n",
       "      <td>97.600000</td>\n",
       "      <td>1.000000</td>\n",
       "    </tr>\n",
       "  </tbody>\n",
       "</table>\n",
       "</div>"
      ],
      "text/plain": [
       "                 id          age  hypertension  heart_disease  \\\n",
       "count   5110.000000  5110.000000   5110.000000    5110.000000   \n",
       "mean   36517.829354    43.226614      0.097456       0.054012   \n",
       "std    21161.721625    22.612647      0.296607       0.226063   \n",
       "min       67.000000     0.080000      0.000000       0.000000   \n",
       "25%    17741.250000    25.000000      0.000000       0.000000   \n",
       "50%    36932.000000    45.000000      0.000000       0.000000   \n",
       "75%    54682.000000    61.000000      0.000000       0.000000   \n",
       "max    72940.000000    82.000000      1.000000       1.000000   \n",
       "\n",
       "       avg_glucose_level          bmi       stroke  \n",
       "count        5110.000000  4909.000000  5110.000000  \n",
       "mean          106.147677    28.893237     0.048728  \n",
       "std            45.283560     7.854067     0.215320  \n",
       "min            55.120000    10.300000     0.000000  \n",
       "25%            77.245000    23.500000     0.000000  \n",
       "50%            91.885000    28.100000     0.000000  \n",
       "75%           114.090000    33.100000     0.000000  \n",
       "max           271.740000    97.600000     1.000000  "
      ]
     },
     "execution_count": 4,
     "metadata": {},
     "output_type": "execute_result"
    }
   ],
   "source": [
    "#...Distribution of continuous variables...#\n",
    "strokedata.describe()"
   ]
  },
  {
   "cell_type": "code",
   "execution_count": 5,
   "id": "8faafdbf",
   "metadata": {},
   "outputs": [
    {
     "name": "stdout",
     "output_type": "stream",
     "text": [
      "Index(['gender', 'ever_married', 'work_type', 'Residence_type',\n",
      "       'smoking_status'],\n",
      "      dtype='object') \n",
      "\n",
      "Female    2994\n",
      "Male      2115\n",
      "Other        1\n",
      "Name: gender, dtype: int64 \n",
      "\n",
      "Yes    3353\n",
      "No     1757\n",
      "Name: ever_married, dtype: int64 \n",
      "\n",
      "Private          2925\n",
      "Self-employed     819\n",
      "children          687\n",
      "Govt_job          657\n",
      "Never_worked       22\n",
      "Name: work_type, dtype: int64 \n",
      "\n",
      "Urban    2596\n",
      "Rural    2514\n",
      "Name: Residence_type, dtype: int64 \n",
      "\n",
      "never smoked       1892\n",
      "Unknown            1544\n",
      "formerly smoked     885\n",
      "smokes              789\n",
      "Name: smoking_status, dtype: int64 \n",
      "\n"
     ]
    }
   ],
   "source": [
    "#...Distribution of categorical variables...#\n",
    "print(strokedata.select_dtypes(exclude=np.number).columns, '\\n')\n",
    "for column in strokedata.select_dtypes(exclude=np.number).columns:\n",
    "    print(strokedata[column].value_counts(), '\\n')"
   ]
  },
  {
   "cell_type": "code",
   "execution_count": 6,
   "id": "e389f4ef",
   "metadata": {},
   "outputs": [
    {
     "data": {
      "text/plain": [
       "id                   0.006388\n",
       "age                  0.245257\n",
       "hypertension         0.127904\n",
       "heart_disease        0.134914\n",
       "avg_glucose_level    0.131945\n",
       "bmi                  0.042374\n",
       "stroke               1.000000\n",
       "dtype: float64"
      ]
     },
     "execution_count": 6,
     "metadata": {},
     "output_type": "execute_result"
    }
   ],
   "source": [
    "#...Association of the response with the predictors...#\n",
    "strokedata.corrwith(strokedata.stroke)"
   ]
  },
  {
   "cell_type": "code",
   "execution_count": 7,
   "id": "ccfb35a8",
   "metadata": {
    "scrolled": true
   },
   "outputs": [
    {
     "data": {
      "text/plain": [
       "<AxesSubplot:xlabel='gender', ylabel='count'>"
      ]
     },
     "execution_count": 7,
     "metadata": {},
     "output_type": "execute_result"
    },
    {
     "data": {
      "image/png": "[encoded data removed]",
      "text/plain": [
       "<Figure size 432x288 with 1 Axes>"
      ]
     },
     "metadata": {
      "needs_background": "light"
     },
     "output_type": "display_data"
    }
   ],
   "source": [
    "#the association for non-numeric variables...#\n",
    "sns.countplot(x = 'gender', hue = 'stroke', data = strokedata)"
   ]
  },
  {
   "cell_type": "code",
   "execution_count": 8,
   "id": "082a0b05",
   "metadata": {
    "scrolled": true
   },
   "outputs": [
    {
     "data": {
      "text/plain": [
       "<AxesSubplot:xlabel='smoking_status', ylabel='count'>"
      ]
     },
     "execution_count": 8,
     "metadata": {},
     "output_type": "execute_result"
    },
    {
     "data": {
      "image/png": "[encoded data removed]",
      "text/plain": [
       "<Figure size 432x288 with 1 Axes>"
      ]
     },
     "metadata": {
      "needs_background": "light"
     },
     "output_type": "display_data"
    }
   ],
   "source": [
    "sns.countplot(x = 'smoking_status', hue = 'stroke', data = strokedata)"
   ]
  },
  {
   "cell_type": "code",
   "execution_count": 9,
   "id": "65190114",
   "metadata": {},
   "outputs": [
    {
     "data": {
      "text/plain": [
       "<AxesSubplot:xlabel='hypertension', ylabel='count'>"
      ]
     },
     "execution_count": 9,
     "metadata": {},
     "output_type": "execute_result"
    },
    {
     "data": {
      "image/png": "[encoded data removed]",
      "text/plain": [
       "<Figure size 432x288 with 1 Axes>"
      ]
     },
     "metadata": {
      "needs_background": "light"
     },
     "output_type": "display_data"
    }
   ],
   "source": [
    "sns.countplot(x = 'hypertension', hue = 'stroke', data = strokedata)"
   ]
  },
  {
   "cell_type": "code",
   "execution_count": 10,
   "id": "d4e0d382",
   "metadata": {},
   "outputs": [
    {
     "data": {
      "text/plain": [
       "<AxesSubplot:xlabel='work_type', ylabel='count'>"
      ]
     },
     "execution_count": 10,
     "metadata": {},
     "output_type": "execute_result"
    },
    {
     "data": {
      "image/png": "[encoded data removed]",
      "text/plain": [
       "<Figure size 432x288 with 1 Axes>"
      ]
     },
     "metadata": {
      "needs_background": "light"
     },
     "output_type": "display_data"
    }
   ],
   "source": [
    "sns.countplot(x = 'work_type', hue = 'stroke', data = strokedata)"
   ]
  },
  {
   "cell_type": "code",
   "execution_count": 11,
   "id": "ec5b75ae",
   "metadata": {},
   "outputs": [
    {
     "data": {
      "text/plain": [
       "<AxesSubplot:xlabel='Residence_type', ylabel='count'>"
      ]
     },
     "execution_count": 11,
     "metadata": {},
     "output_type": "execute_result"
    },
    {
     "data": {
      "image/png": "[encoded data removed]",
      "text/plain": [
       "<Figure size 432x288 with 1 Axes>"
      ]
     },
     "metadata": {
      "needs_background": "light"
     },
     "output_type": "display_data"
    }
   ],
   "source": [
    "sns.countplot(x = 'Residence_type', hue = 'stroke', data = strokedata)"
   ]
  },
  {
   "cell_type": "code",
   "execution_count": 12,
   "id": "f574de8a",
   "metadata": {},
   "outputs": [
    {
     "data": {
      "text/plain": [
       "<AxesSubplot:xlabel='stroke', ylabel='age'>"
      ]
     },
     "execution_count": 12,
     "metadata": {},
     "output_type": "execute_result"
    },
    {
     "data": {
      "image/png": "[encoded data removed]",
      "text/plain": [
       "<Figure size 432x288 with 1 Axes>"
      ]
     },
     "metadata": {
      "needs_background": "light"
     },
     "output_type": "display_data"
    }
   ],
   "source": [
    "# More EDA for transformations\n",
    "# Try visualizing stroke incidence by age\n",
    "sns.boxplot(x = 'stroke', y = 'age', data = strokedata)"
   ]
  },
  {
   "cell_type": "code",
   "execution_count": 13,
   "id": "f309ca8d",
   "metadata": {},
   "outputs": [
    {
     "data": {
      "text/plain": [
       "<AxesSubplot:xlabel='stroke', ylabel='avg_glucose_level'>"
      ]
     },
     "execution_count": 13,
     "metadata": {},
     "output_type": "execute_result"
    },
    {
     "data": {
      "image/png": "[encoded data removed]",
      "text/plain": [
       "<Figure size 432x288 with 1 Axes>"
      ]
     },
     "metadata": {
      "needs_background": "light"
     },
     "output_type": "display_data"
    }
   ],
   "source": [
    "# visualize stroke instances by glucose level\n",
    "sns.boxplot(x = 'stroke', y = 'avg_glucose_level', data = strokedata)"
   ]
  },
  {
   "cell_type": "markdown",
   "id": "02eff50b",
   "metadata": {},
   "source": [
    "### BMI Imputation\n",
    "*By Cara Chang*"
   ]
  },
  {
   "cell_type": "markdown",
   "id": "9b19264d",
   "metadata": {},
   "source": [
    "We realized that our data was missing BMI values, and this was too significant to just drop because upon inspection of the distribution of missing values we saw that we lose 40 instances of stroke"
   ]
  },
  {
   "cell_type": "code",
   "execution_count": 14,
   "id": "92eeb6b8",
   "metadata": {},
   "outputs": [
    {
     "data": {
      "text/plain": [
       "0    161\n",
       "1     40\n",
       "Name: stroke, dtype: int64"
      ]
     },
     "execution_count": 14,
     "metadata": {},
     "output_type": "execute_result"
    }
   ],
   "source": [
    "strokedata.loc[strokedata['bmi'].isnull()].stroke.value_counts()"
   ]
  },
  {
   "cell_type": "markdown",
   "id": "1a7a9b36",
   "metadata": {},
   "source": [
    "If we remove our BMI data, we lose about 1/6 of our overall data, so we will proceed to impute the data through KNN. First, we need to create a subset of the numeric columns and scale the data."
   ]
  },
  {
   "cell_type": "code",
   "execution_count": 15,
   "id": "9aa70627",
   "metadata": {},
   "outputs": [
    {
     "data": {
      "text/html": [
       "<div>\n",
       "<style scoped>\n",
       "    .dataframe tbody tr th:only-of-type {\n",
       "        vertical-align: middle;\n",
       "    }\n",
       "\n",
       "    .dataframe tbody tr th {\n",
       "        vertical-align: top;\n",
       "    }\n",
       "\n",
       "    .dataframe thead th {\n",
       "        text-align: right;\n",
       "    }\n",
       "</style>\n",
       "<table border=\"1\" class=\"dataframe\">\n",
       "  <thead>\n",
       "    <tr style=\"text-align: right;\">\n",
       "      <th></th>\n",
       "      <th>id</th>\n",
       "      <th>gender</th>\n",
       "      <th>age</th>\n",
       "      <th>hypertension</th>\n",
       "      <th>heart_disease</th>\n",
       "      <th>ever_married</th>\n",
       "      <th>work_type</th>\n",
       "      <th>Residence_type</th>\n",
       "      <th>avg_glucose_level</th>\n",
       "      <th>bmi</th>\n",
       "      <th>smoking_status</th>\n",
       "      <th>stroke</th>\n",
       "      <th>imputed_bmi</th>\n",
       "      <th>bmi_original</th>\n",
       "    </tr>\n",
       "  </thead>\n",
       "  <tbody>\n",
       "    <tr>\n",
       "      <th>0</th>\n",
       "      <td>9046</td>\n",
       "      <td>Male</td>\n",
       "      <td>67.0</td>\n",
       "      <td>0</td>\n",
       "      <td>1</td>\n",
       "      <td>Yes</td>\n",
       "      <td>Private</td>\n",
       "      <td>Urban</td>\n",
       "      <td>228.69</td>\n",
       "      <td>36.6</td>\n",
       "      <td>formerly smoked</td>\n",
       "      <td>1</td>\n",
       "      <td>36.6</td>\n",
       "      <td>no</td>\n",
       "    </tr>\n",
       "    <tr>\n",
       "      <th>1</th>\n",
       "      <td>51676</td>\n",
       "      <td>Female</td>\n",
       "      <td>61.0</td>\n",
       "      <td>0</td>\n",
       "      <td>0</td>\n",
       "      <td>Yes</td>\n",
       "      <td>Self-employed</td>\n",
       "      <td>Rural</td>\n",
       "      <td>202.21</td>\n",
       "      <td>NaN</td>\n",
       "      <td>never smoked</td>\n",
       "      <td>1</td>\n",
       "      <td>NaN</td>\n",
       "      <td>yes</td>\n",
       "    </tr>\n",
       "    <tr>\n",
       "      <th>2</th>\n",
       "      <td>31112</td>\n",
       "      <td>Male</td>\n",
       "      <td>80.0</td>\n",
       "      <td>0</td>\n",
       "      <td>1</td>\n",
       "      <td>Yes</td>\n",
       "      <td>Private</td>\n",
       "      <td>Rural</td>\n",
       "      <td>105.92</td>\n",
       "      <td>32.5</td>\n",
       "      <td>never smoked</td>\n",
       "      <td>1</td>\n",
       "      <td>32.5</td>\n",
       "      <td>no</td>\n",
       "    </tr>\n",
       "    <tr>\n",
       "      <th>3</th>\n",
       "      <td>60182</td>\n",
       "      <td>Female</td>\n",
       "      <td>49.0</td>\n",
       "      <td>0</td>\n",
       "      <td>0</td>\n",
       "      <td>Yes</td>\n",
       "      <td>Private</td>\n",
       "      <td>Urban</td>\n",
       "      <td>171.23</td>\n",
       "      <td>34.4</td>\n",
       "      <td>smokes</td>\n",
       "      <td>1</td>\n",
       "      <td>34.4</td>\n",
       "      <td>no</td>\n",
       "    </tr>\n",
       "    <tr>\n",
       "      <th>4</th>\n",
       "      <td>1665</td>\n",
       "      <td>Female</td>\n",
       "      <td>79.0</td>\n",
       "      <td>1</td>\n",
       "      <td>0</td>\n",
       "      <td>Yes</td>\n",
       "      <td>Self-employed</td>\n",
       "      <td>Rural</td>\n",
       "      <td>174.12</td>\n",
       "      <td>24.0</td>\n",
       "      <td>never smoked</td>\n",
       "      <td>1</td>\n",
       "      <td>24.0</td>\n",
       "      <td>no</td>\n",
       "    </tr>\n",
       "  </tbody>\n",
       "</table>\n",
       "</div>"
      ],
      "text/plain": [
       "      id  gender   age  hypertension  heart_disease ever_married  \\\n",
       "0   9046    Male  67.0             0              1          Yes   \n",
       "1  51676  Female  61.0             0              0          Yes   \n",
       "2  31112    Male  80.0             0              1          Yes   \n",
       "3  60182  Female  49.0             0              0          Yes   \n",
       "4   1665  Female  79.0             1              0          Yes   \n",
       "\n",
       "       work_type Residence_type  avg_glucose_level   bmi   smoking_status  \\\n",
       "0        Private          Urban             228.69  36.6  formerly smoked   \n",
       "1  Self-employed          Rural             202.21   NaN     never smoked   \n",
       "2        Private          Rural             105.92  32.5     never smoked   \n",
       "3        Private          Urban             171.23  34.4           smokes   \n",
       "4  Self-employed          Rural             174.12  24.0     never smoked   \n",
       "\n",
       "   stroke  imputed_bmi bmi_original  \n",
       "0       1         36.6           no  \n",
       "1       1          NaN          yes  \n",
       "2       1         32.5           no  \n",
       "3       1         34.4           no  \n",
       "4       1         24.0           no  "
      ]
     },
     "execution_count": 15,
     "metadata": {},
     "output_type": "execute_result"
    }
   ],
   "source": [
    "# Create a copy of the bmi column for imputation\n",
    "strokedata['imputed_bmi'] = strokedata['bmi']\n",
    "# Create a column that will say if bmi has been imputed or not\n",
    "strokedata['bmi_original'] = 'no'\n",
    "strokedata.loc[strokedata['bmi'].isnull(), 'bmi_original'] = 'yes'\n",
    "strokedata.head()"
   ]
  },
  {
   "cell_type": "code",
   "execution_count": 16,
   "id": "34f0b5ad",
   "metadata": {},
   "outputs": [],
   "source": [
    "#Considering numeric columns in the data to use KNN\n",
    "num_cols = [2, 8, 12] # age and avg_glucose_level and imputed_bmi\n",
    "\n",
    "#Create an object of type MinMaxScaler\n",
    "scaler = sk.preprocessing.MinMaxScaler()\n",
    "\n",
    "#Use the object method 'fit_transform' to scale the values to a standard uniform distribution\n",
    "scaled_data = pd.DataFrame(scaler.fit_transform(strokedata.iloc[:,num_cols]))"
   ]
  },
  {
   "cell_type": "code",
   "execution_count": 17,
   "id": "b10835b4",
   "metadata": {},
   "outputs": [],
   "source": [
    "#Imputing missing values with KNNImputer\n",
    "\n",
    "#Define an object of type KNNImputer\n",
    "imputer = impute.KNNImputer(n_neighbors=3, weights=\"uniform\")\n",
    "\n",
    "#Use the object method 'fit_transform' to impute missing values\n",
    "imputed_arr = imputer.fit_transform(scaled_data)\n",
    "\n",
    "#Scaling back the scaled array to obtain the data at the original scale\n",
    "\n",
    "#Use the object method 'inverse_transform' to scale back the values to the original scale of the data\n",
    "unscaled_data = scaler.inverse_transform(imputed_arr)\n",
    "\n",
    "#Note the method imputes the missing value of all the columns\n",
    "#However, we are interested in imputing the missing values of only the 'imputed_bmi' column\n",
    "\n",
    "strokedata.loc[:,'imputed_bmi'] = unscaled_data[:,2]"
   ]
  },
  {
   "cell_type": "code",
   "execution_count": 18,
   "id": "4cc44c96",
   "metadata": {},
   "outputs": [
    {
     "data": {
      "text/plain": [
       "0"
      ]
     },
     "execution_count": 18,
     "metadata": {},
     "output_type": "execute_result"
    }
   ],
   "source": [
    "# Check that we imputed the values\n",
    "\n",
    "strokedata['imputed_bmi'].isnull().sum()"
   ]
  },
  {
   "cell_type": "markdown",
   "id": "95281d61",
   "metadata": {},
   "source": [
    "### Splitting the data"
   ]
  },
  {
   "cell_type": "code",
   "execution_count": 19,
   "id": "94f023ee",
   "metadata": {},
   "outputs": [],
   "source": [
    "#we split the data into a 70-30 split for train and test data\n",
    "np.random.seed(2)\n",
    "train = strokedata.sample(round(strokedata.shape[0]*0.7))\n",
    "test = strokedata.drop(train.index)"
   ]
  },
  {
   "cell_type": "markdown",
   "id": "a22b4ad2",
   "metadata": {},
   "source": [
    "### Creating Dummy Variables\n",
    "*By Rakin Hussain*"
   ]
  },
  {
   "cell_type": "code",
   "execution_count": 20,
   "id": "4864209c",
   "metadata": {},
   "outputs": [
    {
     "name": "stdout",
     "output_type": "stream",
     "text": [
      "(1533, 25)\n",
      "(3577, 26)\n"
     ]
    },
    {
     "data": {
      "text/html": [
       "<div>\n",
       "<style scoped>\n",
       "    .dataframe tbody tr th:only-of-type {\n",
       "        vertical-align: middle;\n",
       "    }\n",
       "\n",
       "    .dataframe tbody tr th {\n",
       "        vertical-align: top;\n",
       "    }\n",
       "\n",
       "    .dataframe thead th {\n",
       "        text-align: right;\n",
       "    }\n",
       "</style>\n",
       "<table border=\"1\" class=\"dataframe\">\n",
       "  <thead>\n",
       "    <tr style=\"text-align: right;\">\n",
       "      <th></th>\n",
       "      <th>id</th>\n",
       "      <th>age</th>\n",
       "      <th>hypertension</th>\n",
       "      <th>heart_disease</th>\n",
       "      <th>avg_glucose_level</th>\n",
       "      <th>bmi</th>\n",
       "      <th>stroke</th>\n",
       "      <th>imputed_bmi</th>\n",
       "      <th>gender_Female</th>\n",
       "      <th>gender_Male</th>\n",
       "      <th>...</th>\n",
       "      <th>work_type_Self-employed</th>\n",
       "      <th>work_type_children</th>\n",
       "      <th>Residence_type_Rural</th>\n",
       "      <th>Residence_type_Urban</th>\n",
       "      <th>smoking_status_Unknown</th>\n",
       "      <th>smoking_status_formerly smoked</th>\n",
       "      <th>smoking_status_never smoked</th>\n",
       "      <th>smoking_status_smokes</th>\n",
       "      <th>bmi_original_no</th>\n",
       "      <th>bmi_original_yes</th>\n",
       "    </tr>\n",
       "  </thead>\n",
       "  <tbody>\n",
       "    <tr>\n",
       "      <th>0</th>\n",
       "      <td>9046</td>\n",
       "      <td>67.0</td>\n",
       "      <td>0</td>\n",
       "      <td>1</td>\n",
       "      <td>228.69</td>\n",
       "      <td>36.6</td>\n",
       "      <td>1</td>\n",
       "      <td>36.600000</td>\n",
       "      <td>0</td>\n",
       "      <td>1</td>\n",
       "      <td>...</td>\n",
       "      <td>0</td>\n",
       "      <td>0</td>\n",
       "      <td>0</td>\n",
       "      <td>1</td>\n",
       "      <td>0</td>\n",
       "      <td>1</td>\n",
       "      <td>0</td>\n",
       "      <td>0</td>\n",
       "      <td>1</td>\n",
       "      <td>0</td>\n",
       "    </tr>\n",
       "    <tr>\n",
       "      <th>1</th>\n",
       "      <td>51676</td>\n",
       "      <td>61.0</td>\n",
       "      <td>0</td>\n",
       "      <td>0</td>\n",
       "      <td>202.21</td>\n",
       "      <td>NaN</td>\n",
       "      <td>1</td>\n",
       "      <td>32.866667</td>\n",
       "      <td>1</td>\n",
       "      <td>0</td>\n",
       "      <td>...</td>\n",
       "      <td>1</td>\n",
       "      <td>0</td>\n",
       "      <td>1</td>\n",
       "      <td>0</td>\n",
       "      <td>0</td>\n",
       "      <td>0</td>\n",
       "      <td>1</td>\n",
       "      <td>0</td>\n",
       "      <td>0</td>\n",
       "      <td>1</td>\n",
       "    </tr>\n",
       "    <tr>\n",
       "      <th>7</th>\n",
       "      <td>10434</td>\n",
       "      <td>69.0</td>\n",
       "      <td>0</td>\n",
       "      <td>0</td>\n",
       "      <td>94.39</td>\n",
       "      <td>22.8</td>\n",
       "      <td>1</td>\n",
       "      <td>22.800000</td>\n",
       "      <td>1</td>\n",
       "      <td>0</td>\n",
       "      <td>...</td>\n",
       "      <td>0</td>\n",
       "      <td>0</td>\n",
       "      <td>0</td>\n",
       "      <td>1</td>\n",
       "      <td>0</td>\n",
       "      <td>0</td>\n",
       "      <td>1</td>\n",
       "      <td>0</td>\n",
       "      <td>1</td>\n",
       "      <td>0</td>\n",
       "    </tr>\n",
       "    <tr>\n",
       "      <th>10</th>\n",
       "      <td>12109</td>\n",
       "      <td>81.0</td>\n",
       "      <td>1</td>\n",
       "      <td>0</td>\n",
       "      <td>80.43</td>\n",
       "      <td>29.7</td>\n",
       "      <td>1</td>\n",
       "      <td>29.700000</td>\n",
       "      <td>1</td>\n",
       "      <td>0</td>\n",
       "      <td>...</td>\n",
       "      <td>0</td>\n",
       "      <td>0</td>\n",
       "      <td>1</td>\n",
       "      <td>0</td>\n",
       "      <td>0</td>\n",
       "      <td>0</td>\n",
       "      <td>1</td>\n",
       "      <td>0</td>\n",
       "      <td>1</td>\n",
       "      <td>0</td>\n",
       "    </tr>\n",
       "    <tr>\n",
       "      <th>12</th>\n",
       "      <td>12175</td>\n",
       "      <td>54.0</td>\n",
       "      <td>0</td>\n",
       "      <td>0</td>\n",
       "      <td>104.51</td>\n",
       "      <td>27.3</td>\n",
       "      <td>1</td>\n",
       "      <td>27.300000</td>\n",
       "      <td>1</td>\n",
       "      <td>0</td>\n",
       "      <td>...</td>\n",
       "      <td>0</td>\n",
       "      <td>0</td>\n",
       "      <td>0</td>\n",
       "      <td>1</td>\n",
       "      <td>0</td>\n",
       "      <td>0</td>\n",
       "      <td>0</td>\n",
       "      <td>1</td>\n",
       "      <td>1</td>\n",
       "      <td>0</td>\n",
       "    </tr>\n",
       "  </tbody>\n",
       "</table>\n",
       "<p>5 rows × 25 columns</p>\n",
       "</div>"
      ],
      "text/plain": [
       "       id   age  hypertension  heart_disease  avg_glucose_level   bmi  stroke  \\\n",
       "0    9046  67.0             0              1             228.69  36.6       1   \n",
       "1   51676  61.0             0              0             202.21   NaN       1   \n",
       "7   10434  69.0             0              0              94.39  22.8       1   \n",
       "10  12109  81.0             1              0              80.43  29.7       1   \n",
       "12  12175  54.0             0              0             104.51  27.3       1   \n",
       "\n",
       "    imputed_bmi  gender_Female  gender_Male  ...  work_type_Self-employed  \\\n",
       "0     36.600000              0            1  ...                        0   \n",
       "1     32.866667              1            0  ...                        1   \n",
       "7     22.800000              1            0  ...                        0   \n",
       "10    29.700000              1            0  ...                        0   \n",
       "12    27.300000              1            0  ...                        0   \n",
       "\n",
       "    work_type_children  Residence_type_Rural  Residence_type_Urban  \\\n",
       "0                    0                     0                     1   \n",
       "1                    0                     1                     0   \n",
       "7                    0                     0                     1   \n",
       "10                   0                     1                     0   \n",
       "12                   0                     0                     1   \n",
       "\n",
       "    smoking_status_Unknown  smoking_status_formerly smoked  \\\n",
       "0                        0                               1   \n",
       "1                        0                               0   \n",
       "7                        0                               0   \n",
       "10                       0                               0   \n",
       "12                       0                               0   \n",
       "\n",
       "    smoking_status_never smoked  smoking_status_smokes  bmi_original_no  \\\n",
       "0                             0                      0                1   \n",
       "1                             1                      0                0   \n",
       "7                             1                      0                1   \n",
       "10                            1                      0                1   \n",
       "12                            0                      1                1   \n",
       "\n",
       "    bmi_original_yes  \n",
       "0                  0  \n",
       "1                  1  \n",
       "7                  0  \n",
       "10                 0  \n",
       "12                 0  \n",
       "\n",
       "[5 rows x 25 columns]"
      ]
     },
     "execution_count": 20,
     "metadata": {},
     "output_type": "execute_result"
    }
   ],
   "source": [
    "#create a new dataframe that dummies all categorical variables\n",
    "traind = pd.get_dummies(train)\n",
    "traind.head()\n",
    "testd = strokedata.drop(traind.index)\n",
    "testd = pd.get_dummies(testd)\n",
    "print(testd.shape)\n",
    "print(traind.shape)\n",
    "testd.head()"
   ]
  },
  {
   "cell_type": "markdown",
   "id": "1e557027",
   "metadata": {},
   "source": [
    "### Binning Glucose Level\n",
    "*By Allen Zhang*"
   ]
  },
  {
   "cell_type": "code",
   "execution_count": 21,
   "id": "d98ff7fa",
   "metadata": {},
   "outputs": [],
   "source": [
    "#creating bins for glucose levels; the levels are hardcoded by number to represent abnormally/normally high or low sugar levels\n",
    "binned_glucose = pd.cut(traind['avg_glucose_level'], bins=[50,140,160,180,200,220,240,260,280],retbins = True) # 8 bins, 9 limits\n",
    "traind['glucose_level_binned'] = binned_glucose[0]\n",
    "binned_glucose = pd.cut(train['avg_glucose_level'], bins=[50,140,160,180,200,220,240,260,280],retbins = True) # 8 bins, 9 limits\n",
    "train['glucose_level_binned'] = binned_glucose[0]\n",
    "binned_glucose = pd.cut(test['avg_glucose_level'], bins=[50,140,160,180,200,220,240,260,280],retbins = True) # 8 bins, 9 limits\n",
    "test['glucose_level_binned'] = binned_glucose[0]"
   ]
  },
  {
   "cell_type": "code",
   "execution_count": 22,
   "id": "500a067e",
   "metadata": {},
   "outputs": [
    {
     "data": {
      "text/html": [
       "<div>\n",
       "<style scoped>\n",
       "    .dataframe tbody tr th:only-of-type {\n",
       "        vertical-align: middle;\n",
       "    }\n",
       "\n",
       "    .dataframe tbody tr th {\n",
       "        vertical-align: top;\n",
       "    }\n",
       "\n",
       "    .dataframe thead th {\n",
       "        text-align: right;\n",
       "    }\n",
       "</style>\n",
       "<table border=\"1\" class=\"dataframe\">\n",
       "  <thead>\n",
       "    <tr style=\"text-align: right;\">\n",
       "      <th></th>\n",
       "      <th>glucose_level_binned</th>\n",
       "      <th>stroke_percent</th>\n",
       "      <th>nobs</th>\n",
       "    </tr>\n",
       "  </thead>\n",
       "  <tbody>\n",
       "    <tr>\n",
       "      <th>0</th>\n",
       "      <td>(50, 140]</td>\n",
       "      <td>0.036642</td>\n",
       "      <td>3002</td>\n",
       "    </tr>\n",
       "    <tr>\n",
       "      <th>1</th>\n",
       "      <td>(140, 160]</td>\n",
       "      <td>0.019048</td>\n",
       "      <td>105</td>\n",
       "    </tr>\n",
       "    <tr>\n",
       "      <th>2</th>\n",
       "      <td>(160, 180]</td>\n",
       "      <td>0.160714</td>\n",
       "      <td>56</td>\n",
       "    </tr>\n",
       "    <tr>\n",
       "      <th>3</th>\n",
       "      <td>(180, 200]</td>\n",
       "      <td>0.155963</td>\n",
       "      <td>109</td>\n",
       "    </tr>\n",
       "    <tr>\n",
       "      <th>4</th>\n",
       "      <td>(200, 220]</td>\n",
       "      <td>0.083333</td>\n",
       "      <td>168</td>\n",
       "    </tr>\n",
       "    <tr>\n",
       "      <th>5</th>\n",
       "      <td>(220, 240]</td>\n",
       "      <td>0.101010</td>\n",
       "      <td>99</td>\n",
       "    </tr>\n",
       "    <tr>\n",
       "      <th>6</th>\n",
       "      <td>(240, 260]</td>\n",
       "      <td>0.225806</td>\n",
       "      <td>31</td>\n",
       "    </tr>\n",
       "    <tr>\n",
       "      <th>7</th>\n",
       "      <td>(260, 280]</td>\n",
       "      <td>0.142857</td>\n",
       "      <td>7</td>\n",
       "    </tr>\n",
       "  </tbody>\n",
       "</table>\n",
       "</div>"
      ],
      "text/plain": [
       "  glucose_level_binned  stroke_percent  nobs\n",
       "0            (50, 140]        0.036642  3002\n",
       "1           (140, 160]        0.019048   105\n",
       "2           (160, 180]        0.160714    56\n",
       "3           (180, 200]        0.155963   109\n",
       "4           (200, 220]        0.083333   168\n",
       "5           (220, 240]        0.101010    99\n",
       "6           (240, 260]        0.225806    31\n",
       "7           (260, 280]        0.142857     7"
      ]
     },
     "execution_count": 22,
     "metadata": {},
     "output_type": "execute_result"
    }
   ],
   "source": [
    "#Finding percentage of people having diabetes in each Age bin\n",
    "avg_glucose_data = traind.groupby('glucose_level_binned')['stroke'].agg([('stroke_percent','mean'),('nobs','count')]).reset_index(drop=False)\n",
    "avg_glucose_data"
   ]
  },
  {
   "cell_type": "code",
   "execution_count": 23,
   "id": "8a8f9cca",
   "metadata": {},
   "outputs": [
    {
     "data": {
      "text/plain": [
       "Text(0.5, 0, 'glucose_level_bin')"
      ]
     },
     "execution_count": 23,
     "metadata": {},
     "output_type": "execute_result"
    },
    {
     "data": {
      "image/png": "[encoded data removed]",
      "text/plain": [
       "<Figure size 432x288 with 1 Axes>"
      ]
     },
     "metadata": {
      "needs_background": "light"
     },
     "output_type": "display_data"
    }
   ],
   "source": [
    "sns.lineplot(x = avg_glucose_data.index, y= avg_glucose_data['stroke_percent'])\n",
    "plt.xlabel('glucose_level_bin')"
   ]
  },
  {
   "cell_type": "markdown",
   "id": "2052d9d8",
   "metadata": {},
   "source": [
    "### Binning Age (excluded from model)\n",
    "*By Cara Chang*"
   ]
  },
  {
   "cell_type": "code",
   "execution_count": 24,
   "id": "573a9d6d",
   "metadata": {},
   "outputs": [],
   "source": [
    "#we also tried to bin age, which seemed like it would be helpful at first but we decided not to use it in the end\n",
    "binned_age = pd.qcut(traind['age'], 10, retbins = True) # 9 bins, 10 limits\n",
    "traind['age_binned'] = binned_age[0]"
   ]
  },
  {
   "cell_type": "code",
   "execution_count": 25,
   "id": "b50f4148",
   "metadata": {},
   "outputs": [
    {
     "data": {
      "text/html": [
       "<div>\n",
       "<style scoped>\n",
       "    .dataframe tbody tr th:only-of-type {\n",
       "        vertical-align: middle;\n",
       "    }\n",
       "\n",
       "    .dataframe tbody tr th {\n",
       "        vertical-align: top;\n",
       "    }\n",
       "\n",
       "    .dataframe thead th {\n",
       "        text-align: right;\n",
       "    }\n",
       "</style>\n",
       "<table border=\"1\" class=\"dataframe\">\n",
       "  <thead>\n",
       "    <tr style=\"text-align: right;\">\n",
       "      <th></th>\n",
       "      <th>age_binned</th>\n",
       "      <th>stroke_percent</th>\n",
       "      <th>nobs</th>\n",
       "    </tr>\n",
       "  </thead>\n",
       "  <tbody>\n",
       "    <tr>\n",
       "      <th>0</th>\n",
       "      <td>(0.079, 11.0]</td>\n",
       "      <td>0.000000</td>\n",
       "      <td>379</td>\n",
       "    </tr>\n",
       "    <tr>\n",
       "      <th>1</th>\n",
       "      <td>(11.0, 21.0]</td>\n",
       "      <td>0.000000</td>\n",
       "      <td>367</td>\n",
       "    </tr>\n",
       "    <tr>\n",
       "      <th>2</th>\n",
       "      <td>(21.0, 30.0]</td>\n",
       "      <td>0.000000</td>\n",
       "      <td>343</td>\n",
       "    </tr>\n",
       "    <tr>\n",
       "      <th>3</th>\n",
       "      <td>(30.0, 38.0]</td>\n",
       "      <td>0.005291</td>\n",
       "      <td>378</td>\n",
       "    </tr>\n",
       "    <tr>\n",
       "      <th>4</th>\n",
       "      <td>(38.0, 45.0]</td>\n",
       "      <td>0.011019</td>\n",
       "      <td>363</td>\n",
       "    </tr>\n",
       "    <tr>\n",
       "      <th>5</th>\n",
       "      <td>(45.0, 52.0]</td>\n",
       "      <td>0.029891</td>\n",
       "      <td>368</td>\n",
       "    </tr>\n",
       "    <tr>\n",
       "      <th>6</th>\n",
       "      <td>(52.0, 58.0]</td>\n",
       "      <td>0.062678</td>\n",
       "      <td>351</td>\n",
       "    </tr>\n",
       "    <tr>\n",
       "      <th>7</th>\n",
       "      <td>(58.0, 65.0]</td>\n",
       "      <td>0.066474</td>\n",
       "      <td>346</td>\n",
       "    </tr>\n",
       "    <tr>\n",
       "      <th>8</th>\n",
       "      <td>(65.0, 75.0]</td>\n",
       "      <td>0.114846</td>\n",
       "      <td>357</td>\n",
       "    </tr>\n",
       "    <tr>\n",
       "      <th>9</th>\n",
       "      <td>(75.0, 82.0]</td>\n",
       "      <td>0.206154</td>\n",
       "      <td>325</td>\n",
       "    </tr>\n",
       "  </tbody>\n",
       "</table>\n",
       "</div>"
      ],
      "text/plain": [
       "      age_binned  stroke_percent  nobs\n",
       "0  (0.079, 11.0]        0.000000   379\n",
       "1   (11.0, 21.0]        0.000000   367\n",
       "2   (21.0, 30.0]        0.000000   343\n",
       "3   (30.0, 38.0]        0.005291   378\n",
       "4   (38.0, 45.0]        0.011019   363\n",
       "5   (45.0, 52.0]        0.029891   368\n",
       "6   (52.0, 58.0]        0.062678   351\n",
       "7   (58.0, 65.0]        0.066474   346\n",
       "8   (65.0, 75.0]        0.114846   357\n",
       "9   (75.0, 82.0]        0.206154   325"
      ]
     },
     "execution_count": 25,
     "metadata": {},
     "output_type": "execute_result"
    }
   ],
   "source": [
    "#Finding percentage of people having diabetes in each Age bin\n",
    "age_data = traind.groupby('age_binned')['stroke'].agg([('stroke_percent','mean'),('nobs','count')]).reset_index(drop=False)\n",
    "age_data"
   ]
  },
  {
   "cell_type": "code",
   "execution_count": 26,
   "id": "9200a066",
   "metadata": {},
   "outputs": [
    {
     "data": {
      "text/plain": [
       "Text(0.5, 0, 'Age_bin')"
      ]
     },
     "execution_count": 26,
     "metadata": {},
     "output_type": "execute_result"
    },
    {
     "data": {
      "image/png": "[encoded data removed]",
      "text/plain": [
       "<Figure size 432x288 with 1 Axes>"
      ]
     },
     "metadata": {
      "needs_background": "light"
     },
     "output_type": "display_data"
    }
   ],
   "source": [
    "# Visualize percentages\n",
    "\n",
    "sns.lineplot(x = age_data.index, y= age_data['stroke_percent'])\n",
    "plt.xlabel('Age_bin')"
   ]
  },
  {
   "cell_type": "markdown",
   "id": "d11156d2",
   "metadata": {},
   "source": [
    "Age was approximately linear, and when we tried transforming age even with a quadratic term (as it looks slightly quadratic), we did not have a good improvement of fit."
   ]
  },
  {
   "cell_type": "markdown",
   "id": "ae59be4d",
   "metadata": {},
   "source": [
    "### Helper Functions\n",
    "*By Rakin Hussain*"
   ]
  },
  {
   "cell_type": "code",
   "execution_count": 27,
   "id": "f1b0f952",
   "metadata": {},
   "outputs": [],
   "source": [
    "#helper functions\n",
    "\n",
    "#variable transformations\n",
    "def var_transform(data):\n",
    "    duration_binned = pd.qcut(train['duration'], 8, retbins = True)\n",
    "    bins = duration_binned[1]\n",
    "    data['duration_binned'] = pd.cut(data['duration'], bins = bins)\n",
    "    return data\n",
    "\n",
    "#jitter the values\n",
    "def jitter(values,j):\n",
    "    return values + np.random.normal(j,0.02,values.shape)\n",
    "\n",
    "#Function to compute confusion matrix and prediction accuracy on training data\n",
    "def confusion_matrix_train(model,cutoff=0.5):\n",
    "    # Confusion matrix\n",
    "    cm_df = pd.DataFrame(model.pred_table(threshold = cutoff))\n",
    "    #Formatting the confusion matrix\n",
    "    cm_df.columns = ['Predicted 0', 'Predicted 1'] \n",
    "    cm_df = cm_df.rename(index={0: 'Actual 0',1: 'Actual 1'})\n",
    "    cm = np.array(cm_df)\n",
    "    # Calculate the accuracy\n",
    "    accuracy = (cm[0,0]+cm[1,1])/cm.sum()\n",
    "    sns.heatmap(cm_df, annot=True, cmap='Blues', fmt='g')\n",
    "    plt.ylabel(\"Actual Values\")\n",
    "    plt.xlabel(\"Predicted Values\")\n",
    "    print(\"Classification accuracy = {:.1%}\".format(accuracy))\n",
    "\n",
    "#Function to compute confusion matrix and prediction accuracy on test data\n",
    "#Function to compute confusion matrix and prediction accuracy on test data\n",
    "def confusion_matrix_test(data,actual_values,model,cutoff=0.5):\n",
    "#Predict the values using the Logit model\n",
    "    pred_values = model.predict(data)\n",
    "# Specify the bins\n",
    "    bins=np.array([0,cutoff,1])\n",
    "#Confusion matrix\n",
    "    cm = np.histogram2d(actual_values, pred_values, bins=bins)[0]\n",
    "    cm_df = pd.DataFrame(cm)\n",
    "    cm_df.columns = ['Predicted 0','Predicted 1']\n",
    "    cm_df = cm_df.rename(index={0: 'Actual 0',1:'Actual 1'})\n",
    "    accuracy = (cm[0,0]+cm[1,1])/cm.sum()\n",
    "    sns.heatmap(cm_df, annot=True, cmap='Blues', fmt='g')\n",
    "    plt.ylabel(\"Actual Values\")\n",
    "    plt.xlabel(\"Predicted Values\")\n",
    "    print(\"Classification accuracy = {:.1%}\".format(accuracy))\n",
    "    \n",
    "#Function to compute confusion matrix and prediction accuracy on test/train data\n",
    "def confusion_matrix_data(data,actual_values,model,cutoff=0.5):\n",
    "#Predict the values using the Logit model\n",
    "    pred_values = model.predict(data)\n",
    "# Specify the bins\n",
    "    bins=np.array([0,cutoff,1])\n",
    "#Confusion matrix\n",
    "    cm = np.histogram2d(actual_values, pred_values, bins=bins)[0]\n",
    "    cm_df = pd.DataFrame(cm)\n",
    "    cm_df.columns = ['Predicted 0','Predicted 1']\n",
    "    cm_df = cm_df.rename(index={0: 'Actual 0',1:'Actual 1'})\n",
    "# Calculate the accuracy\n",
    "    accuracy = (cm[0,0]+cm[1,1])/cm.sum()\n",
    "    fnr = (cm[1,0])/(cm[1,0]+cm[1,1])\n",
    "    precision = (cm[1,1])/(cm[0,1]+cm[1,1])\n",
    "    fpr = (cm[0,1])/(cm[0,0]+cm[0,1])\n",
    "    tpr = (cm[1,1])/(cm[1,0]+cm[1,1])\n",
    "    f1 = 2*(precision*tpr) / (precision + tpr)\n",
    "    fpr_roc, tpr_roc, auc_thresholds = roc_curve(actual_values, pred_values)\n",
    "    auc_value = (auc(fpr_roc, tpr_roc))# AUC of ROC\n",
    "    sns.heatmap(cm_df, annot=True, cmap='Blues', fmt='g')\n",
    "    plt.ylabel(\"Actual Values\")\n",
    "    plt.xlabel(\"Predicted Values\")\n",
    "    print(\"Classification accuracy = {:.1%}\".format(accuracy))\n",
    "    print(\"Precision = {:.1%}\".format(precision))\n",
    "    print(\"TPR or Recall = {:.1%}\".format(tpr))\n",
    "    print(\"FNR = {:.1%}\".format(fnr))\n",
    "    print(\"FPR = {:.1%}\".format(fpr))\n",
    "    print(\"ROC-AUC = {:.1%}\".format(auc_value))\n",
    "    print(\"F1 = \" + str(f1))\n",
    "    \n",
    "#plotting roc\n",
    "def plot_roc_curve(fpr, tpr, label=None):\n",
    "    plt.figure(figsize=(8,8))\n",
    "    plt.title('ROC Curve')\n",
    "    plt.plot(fpr, tpr, linewidth=2, label=label)\n",
    "    plt.plot([0, 1], [0, 1], 'k--')\n",
    "    plt.axis([-0.005, 1, 0, 1.005])\n",
    "    plt.xticks(np.arange(0,1, 0.05), rotation=90)\n",
    "    plt.xlabel(\"False Positive Rate\")\n",
    "    plt.ylabel(\"True Positive Rate (Recall)\")\n",
    "    "
   ]
  },
  {
   "cell_type": "code",
   "execution_count": 28,
   "id": "eacc9453",
   "metadata": {},
   "outputs": [],
   "source": [
    "from sklearn.metrics import precision_recall_curve\n",
    "y = train.stroke # True response values\n",
    "#ypred = logit_model.predict(train) # predicted response values\n",
    "\n",
    "#to call:\n",
    "#p, r, thresholds = precision_recall_curve(y, ypred)\n",
    "\n",
    "def plot_precision_recall_vs_threshold(precisions, recalls, thresholds):\n",
    "    plt.figure(figsize=(8, 8))\n",
    "    plt.title(\"Precision and Recall Scores as a function of the decision threshold\")\n",
    "    plt.plot(thresholds, precisions[:-1], \"b--\", label=\"Precision\")\n",
    "    plt.plot(thresholds, recalls[:-1], \"g-\", label=\"Recall\")\n",
    "    plt.ylabel(\"Score\")\n",
    "    plt.xlabel(\"Decision Threshold\")\n",
    "    plt.legend(loc='best')\n",
    "    plt.legend()\n",
    "# to call:\n",
    "# plot_precision_recall_vs_threshold(p, r, thresholds)"
   ]
  },
  {
   "cell_type": "markdown",
   "id": "88a000ce",
   "metadata": {},
   "source": [
    "### VIF\n",
    "*By Rakin Hussain*"
   ]
  },
  {
   "cell_type": "code",
   "execution_count": 29,
   "id": "bce29c37",
   "metadata": {},
   "outputs": [
    {
     "name": "stdout",
     "output_type": "stream",
     "text": [
      "                           feature       VIF\n",
      "0                            const  0.000000\n",
      "1                              age  2.834028\n",
      "2                     hypertension  1.117608\n",
      "3                    heart_disease  1.114110\n",
      "4                avg_glucose_level  1.105810\n",
      "5                      imputed_bmi  1.326531\n",
      "6                    gender_Female       inf\n",
      "7                      gender_Male       inf\n",
      "8                     gender_Other       inf\n",
      "9                  ever_married_No       inf\n",
      "10                ever_married_Yes       inf\n",
      "11              work_type_Govt_job       inf\n",
      "12          work_type_Never_worked       inf\n",
      "13               work_type_Private       inf\n",
      "14         work_type_Self-employed       inf\n",
      "15              work_type_children       inf\n",
      "16            Residence_type_Rural       inf\n",
      "17            Residence_type_Urban       inf\n",
      "18          smoking_status_Unknown       inf\n",
      "19  smoking_status_formerly smoked       inf\n",
      "20     smoking_status_never smoked       inf\n",
      "21           smoking_status_smokes       inf\n"
     ]
    },
    {
     "name": "stderr",
     "output_type": "stream",
     "text": [
      "/Users/ballen/opt/anaconda3/lib/python3.9/site-packages/statsmodels/regression/linear_model.py:1736: RuntimeWarning: divide by zero encountered in double_scalars\n",
      "  return 1 - self.ssr/self.centered_tss\n",
      "/Users/ballen/opt/anaconda3/lib/python3.9/site-packages/statsmodels/stats/outliers_influence.py:195: RuntimeWarning: divide by zero encountered in double_scalars\n",
      "  vif = 1. / (1. - r_squared_i)\n"
     ]
    }
   ],
   "source": [
    "#setting up VIF\n",
    "predictors = ['age', 'hypertension', 'heart_disease', 'avg_glucose_level',\n",
    "           'imputed_bmi', 'gender_Female', 'gender_Male',\n",
    "       'gender_Other', 'ever_married_No', 'ever_married_Yes',\n",
    "       'work_type_Govt_job', 'work_type_Never_worked', 'work_type_Private',\n",
    "       'work_type_Self-employed', 'work_type_children', 'Residence_type_Rural',\n",
    "       'Residence_type_Urban', 'smoking_status_Unknown',\n",
    "       'smoking_status_formerly smoked', 'smoking_status_never smoked',\n",
    "       'smoking_status_smokes']\n",
    "X = traind[predictors] \n",
    "\n",
    "from statsmodels.stats.outliers_influence import variance_inflation_factor\n",
    "from statsmodels.tools.tools import add_constant\n",
    "\n",
    "X = add_constant(X)\n",
    "vif_data = pd.DataFrame()\n",
    "vif_data[\"feature\"] = X.columns\n",
    "\n",
    "for i in range(len(X.columns)):\n",
    "    vif_data.loc[i,'VIF'] = variance_inflation_factor(X.values, i)\n",
    "\n",
    "print(vif_data)"
   ]
  },
  {
   "cell_type": "markdown",
   "id": "4b137ad2",
   "metadata": {},
   "source": [
    "All of the collinear variables are due to associations between dummy categories."
   ]
  },
  {
   "cell_type": "markdown",
   "id": "acab331a",
   "metadata": {},
   "source": [
    "## Developing the model"
   ]
  },
  {
   "cell_type": "markdown",
   "id": "ae5ec4c9",
   "metadata": {},
   "source": [
    "Put code with comments. The comments should explain the code such that it can be easily understood. You may put text *(in a markdown cell)* before a large chunk of code to explain the overall purpose of the code, if it is not intuitive. **Put the name of the person / persons who contributed to each code chunk / set of code chunks.**"
   ]
  },
  {
   "cell_type": "markdown",
   "id": "b7733a36",
   "metadata": {},
   "source": [
    "### Lasso Selection\n",
    "*By Rakin Hussain*"
   ]
  },
  {
   "cell_type": "code",
   "execution_count": 30,
   "id": "cf5cba15",
   "metadata": {},
   "outputs": [],
   "source": [
    "#helper function\n",
    "from sklearn.linear_model import Ridge, RidgeCV, Lasso, LassoCV\n",
    "from sklearn.preprocessing import StandardScaler \n",
    "from sklearn.metrics import r2_score\n",
    "\n",
    "y=traind.stroke\n",
    "\n",
    "#Standardizing predictors so that each of them have zero mean and unit variance\n",
    "\n",
    "#Defining a scaler object\n",
    "scalerr = StandardScaler()\n",
    "\n",
    "#The scaler object will contain the mean and variance of each column (predictor) of X. \n",
    "#These values will be useful to scale test data based on the same mean and variance as obtained on train data\n",
    "scalerr.fit(X)\n",
    "\n",
    "#Using the scaler object (or the values of mean and variance stored in it) to standardize X (or train data)\n",
    "Xstd = scalerr.transform(X)\n",
    "\n",
    "#Creating a range of values of the tuning parameter to visualize the lasso coefficients\n",
    "#for different values of the tuning parameter\n",
    "alphas = 10**np.linspace(10,-2,100)*0.1\n",
    "\n",
    "#Finding the lasso coefficients for increasing values of the tuning parameter\n",
    "lasso = Lasso(max_iter = 10000)\n",
    "coefs = []\n",
    "\n",
    "for a in alphas:\n",
    "    lasso.set_params(alpha=a)\n",
    "    lasso.fit(Xstd, y)\n",
    "    coefs.append(lasso.coef_)"
   ]
  },
  {
   "cell_type": "code",
   "execution_count": 31,
   "id": "16b024cb",
   "metadata": {},
   "outputs": [
    {
     "data": {
      "text/plain": [
       "Text(0, 0.5, 'Standardized coefficient')"
      ]
     },
     "execution_count": 31,
     "metadata": {},
     "output_type": "execute_result"
    },
    {
     "data": {
      "image/png": "[encoded data removed]",
      "text/plain": [
       "<Figure size 432x288 with 1 Axes>"
      ]
     },
     "metadata": {
      "needs_background": "light"
     },
     "output_type": "display_data"
    }
   ],
   "source": [
    "#Visualizing the shrinkage in lasso coefficients with increasing values of the tuning parameter lambda\n",
    "plt.xlabel('xlabel', fontsize=18)\n",
    "plt.ylabel('ylabel', fontsize=18)\n",
    "plt.plot(alphas, coefs)\n",
    "plt.xscale('log')\n",
    "plt.xlabel('$\\lambda$')\n",
    "plt.ylabel('Standardized coefficient')"
   ]
  },
  {
   "cell_type": "code",
   "execution_count": 32,
   "id": "4deaaaee",
   "metadata": {},
   "outputs": [
    {
     "data": {
      "text/plain": [
       "0.0013524798652315671"
      ]
     },
     "execution_count": 32,
     "metadata": {},
     "output_type": "execute_result"
    }
   ],
   "source": [
    "#Let us use cross validation to find the optimal value of the tuning parameter - lambda\n",
    "#For the optimal lambda, the cross validation error will be the least\n",
    "\n",
    "#Note that we are reducing the range of alpha so as to better visualize the minimum\n",
    "alphas = 10**np.linspace(-1,-5,200)*0.5\n",
    "lassocv = LassoCV(alphas = alphas, cv = 10, max_iter = 100000)\n",
    "lassocv.fit(Xstd, y)\n",
    "\n",
    "#Optimal value of the tuning parameter - lamda\n",
    "lassocv.alpha_"
   ]
  },
  {
   "cell_type": "markdown",
   "id": "7c669083",
   "metadata": {},
   "source": [
    "The 10-fold cross validation error minimizes at lambda = 0.001."
   ]
  },
  {
   "cell_type": "code",
   "execution_count": 33,
   "id": "1f6265a3",
   "metadata": {},
   "outputs": [
    {
     "name": "stdout",
     "output_type": "stream",
     "text": [
      "age 0.0\n",
      "hypertension 0.06460924103525655\n",
      "heart_disease 0.008508993748070272\n",
      "avg_glucose_level 0.011912393576721554\n",
      "imputed_bmi 0.009882927519591083\n",
      "gender_Female -0.0037011625476134785\n",
      "gender_Male 0.0\n",
      "gender_Other -0.0\n",
      "ever_married_No -0.0\n",
      "ever_married_Yes 0.01097416616524748\n",
      "work_type_Govt_job -2.607177357241072e-18\n",
      "work_type_Never_worked -0.0037589564148674892\n",
      "work_type_Private 0.0005058317560568095\n",
      "work_type_Self-employed 0.0\n",
      "work_type_children -0.004789842558510318\n",
      "Residence_type_Rural 0.015140352243811559\n",
      "Residence_type_Urban -0.0006642707692392022\n",
      "smoking_status_Unknown 3.724539081772961e-19\n",
      "smoking_status_formerly smoked 0.0\n",
      "smoking_status_never smoked 3.4218982966500313e-05\n",
      "smoking_status_smokes -0.0013247454159403718\n"
     ]
    }
   ],
   "source": [
    "#Checking the coefficients of the lasso model\n",
    "lasso.coef_\n",
    "\n",
    "for i in range(21):\n",
    "    print(predictors[i], lasso.coef_[i])"
   ]
  },
  {
   "cell_type": "markdown",
   "id": "bda2f610",
   "metadata": {},
   "source": [
    "[All of the zeroed variables would be removed according to LASSO] Going forward, we would have to implement a group lasso technique to account for the dummy variables. We cannot feasibly remove specific categories within dummies. However, this is beyond the scope of the class, so we will proceed with all of the variables. (We will not eliminate age due to academic research suggesting that age is a target indicator for stroke)."
   ]
  },
  {
   "cell_type": "markdown",
   "id": "392bb382",
   "metadata": {},
   "source": [
    "### Fitting the Initial Model\n",
    "*By Cara Chang and Amanda Tsuetaki*"
   ]
  },
  {
   "cell_type": "code",
   "execution_count": 34,
   "id": "afd91d07",
   "metadata": {},
   "outputs": [
    {
     "name": "stdout",
     "output_type": "stream",
     "text": [
      "Optimization terminated successfully.\n",
      "         Current function value: 0.153034\n",
      "         Iterations 9\n"
     ]
    },
    {
     "data": {
      "text/plain": [
       "<AxesSubplot:xlabel='age', ylabel='stroke'>"
      ]
     },
     "execution_count": 34,
     "metadata": {},
     "output_type": "execute_result"
    },
    {
     "data": {
      "image/png": "[encoded data removed]",
      "text/plain": [
       "<Figure size 432x288 with 1 Axes>"
      ]
     },
     "metadata": {
      "needs_background": "light"
     },
     "output_type": "display_data"
    }
   ],
   "source": [
    "# Include jitter for better visualization of the distribution of 1s and 0s\n",
    "def jitter(values,j=0):\n",
    "    return values + np.random.normal(j,0.02,values.shape)\n",
    "\n",
    "sns.scatterplot(x = jitter(train.age), y = jitter(train.stroke), data = train, color = 'orange')\n",
    "logit_model = sm.logit(formula = 'stroke~age', data = train).fit()\n",
    "sns.lineplot(x = 'age', y= logit_model.predict(train), data = train, color = 'blue')"
   ]
  },
  {
   "cell_type": "code",
   "execution_count": 35,
   "id": "e74e3fa1",
   "metadata": {},
   "outputs": [
    {
     "data": {
      "text/html": [
       "<table class=\"simpletable\">\n",
       "<caption>Logit Regression Results</caption>\n",
       "<tr>\n",
       "  <th>Dep. Variable:</th>        <td>stroke</td>      <th>  No. Observations:  </th>  <td>  3577</td>  \n",
       "</tr>\n",
       "<tr>\n",
       "  <th>Model:</th>                 <td>Logit</td>      <th>  Df Residuals:      </th>  <td>  3575</td>  \n",
       "</tr>\n",
       "<tr>\n",
       "  <th>Method:</th>                 <td>MLE</td>       <th>  Df Model:          </th>  <td>     1</td>  \n",
       "</tr>\n",
       "<tr>\n",
       "  <th>Date:</th>            <td>Mon, 13 Mar 2023</td> <th>  Pseudo R-squ.:     </th>  <td>0.1995</td>  \n",
       "</tr>\n",
       "<tr>\n",
       "  <th>Time:</th>                <td>21:26:50</td>     <th>  Log-Likelihood:    </th> <td> -547.40</td> \n",
       "</tr>\n",
       "<tr>\n",
       "  <th>converged:</th>             <td>True</td>       <th>  LL-Null:           </th> <td> -683.80</td> \n",
       "</tr>\n",
       "<tr>\n",
       "  <th>Covariance Type:</th>     <td>nonrobust</td>    <th>  LLR p-value:       </th> <td>2.803e-61</td>\n",
       "</tr>\n",
       "</table>\n",
       "<table class=\"simpletable\">\n",
       "<tr>\n",
       "      <td></td>         <th>coef</th>     <th>std err</th>      <th>z</th>      <th>P>|z|</th>  <th>[0.025</th>    <th>0.975]</th>  \n",
       "</tr>\n",
       "<tr>\n",
       "  <th>Intercept</th> <td>   -7.5734</td> <td>    0.429</td> <td>  -17.670</td> <td> 0.000</td> <td>   -8.413</td> <td>   -6.733</td>\n",
       "</tr>\n",
       "<tr>\n",
       "  <th>age</th>       <td>    0.0793</td> <td>    0.006</td> <td>   12.711</td> <td> 0.000</td> <td>    0.067</td> <td>    0.092</td>\n",
       "</tr>\n",
       "</table>"
      ],
      "text/plain": [
       "<class 'statsmodels.iolib.summary.Summary'>\n",
       "\"\"\"\n",
       "                           Logit Regression Results                           \n",
       "==============================================================================\n",
       "Dep. Variable:                 stroke   No. Observations:                 3577\n",
       "Model:                          Logit   Df Residuals:                     3575\n",
       "Method:                           MLE   Df Model:                            1\n",
       "Date:                Mon, 13 Mar 2023   Pseudo R-squ.:                  0.1995\n",
       "Time:                        21:26:50   Log-Likelihood:                -547.40\n",
       "converged:                       True   LL-Null:                       -683.80\n",
       "Covariance Type:            nonrobust   LLR p-value:                 2.803e-61\n",
       "==============================================================================\n",
       "                 coef    std err          z      P>|z|      [0.025      0.975]\n",
       "------------------------------------------------------------------------------\n",
       "Intercept     -7.5734      0.429    -17.670      0.000      -8.413      -6.733\n",
       "age            0.0793      0.006     12.711      0.000       0.067       0.092\n",
       "==============================================================================\n",
       "\"\"\""
      ]
     },
     "execution_count": 35,
     "metadata": {},
     "output_type": "execute_result"
    }
   ],
   "source": [
    "logit_model.summary()"
   ]
  },
  {
   "cell_type": "code",
   "execution_count": 36,
   "id": "8c479c23",
   "metadata": {},
   "outputs": [
    {
     "data": {
      "text/plain": [
       "8.25290320710006"
      ]
     },
     "execution_count": 36,
     "metadata": {},
     "output_type": "execute_result"
    }
   ],
   "source": [
    "(np.exp(0.0793)-1)*100"
   ]
  },
  {
   "cell_type": "markdown",
   "id": "4594f99f",
   "metadata": {},
   "source": [
    "The coefficient of age is 0.0793, which means for a unit increase in age, the log odds of stroke likeliness increase by 0.0793, or the odds increases by 8.25%.\n",
    "\n",
    "Assuming a significance level of  𝛼=0.05\n",
    " , age seems to be a staistically variable as its p-value and the model's overall LLR p-value are less than our  𝛼\n",
    "  level.\n",
    "\n",
    "Print out the correlations for each of the continuous variables to check for possible interactions."
   ]
  },
  {
   "cell_type": "code",
   "execution_count": 37,
   "id": "7f978a0b",
   "metadata": {},
   "outputs": [
    {
     "data": {
      "text/html": [
       "<div>\n",
       "<style scoped>\n",
       "    .dataframe tbody tr th:only-of-type {\n",
       "        vertical-align: middle;\n",
       "    }\n",
       "\n",
       "    .dataframe tbody tr th {\n",
       "        vertical-align: top;\n",
       "    }\n",
       "\n",
       "    .dataframe thead th {\n",
       "        text-align: right;\n",
       "    }\n",
       "</style>\n",
       "<table border=\"1\" class=\"dataframe\">\n",
       "  <thead>\n",
       "    <tr style=\"text-align: right;\">\n",
       "      <th></th>\n",
       "      <th>id</th>\n",
       "      <th>age</th>\n",
       "      <th>hypertension</th>\n",
       "      <th>heart_disease</th>\n",
       "      <th>avg_glucose_level</th>\n",
       "      <th>bmi</th>\n",
       "      <th>stroke</th>\n",
       "      <th>imputed_bmi</th>\n",
       "    </tr>\n",
       "  </thead>\n",
       "  <tbody>\n",
       "    <tr>\n",
       "      <th>id</th>\n",
       "      <td>1.000000</td>\n",
       "      <td>-0.014804</td>\n",
       "      <td>0.001437</td>\n",
       "      <td>0.005596</td>\n",
       "      <td>-0.029385</td>\n",
       "      <td>-0.003362</td>\n",
       "      <td>-0.004766</td>\n",
       "      <td>-0.007601</td>\n",
       "    </tr>\n",
       "    <tr>\n",
       "      <th>age</th>\n",
       "      <td>-0.014804</td>\n",
       "      <td>1.000000</td>\n",
       "      <td>0.272511</td>\n",
       "      <td>0.266071</td>\n",
       "      <td>0.226338</td>\n",
       "      <td>0.340309</td>\n",
       "      <td>0.248097</td>\n",
       "      <td>0.338419</td>\n",
       "    </tr>\n",
       "    <tr>\n",
       "      <th>hypertension</th>\n",
       "      <td>0.001437</td>\n",
       "      <td>0.272511</td>\n",
       "      <td>1.000000</td>\n",
       "      <td>0.108822</td>\n",
       "      <td>0.169636</td>\n",
       "      <td>0.171667</td>\n",
       "      <td>0.117325</td>\n",
       "      <td>0.166541</td>\n",
       "    </tr>\n",
       "    <tr>\n",
       "      <th>heart_disease</th>\n",
       "      <td>0.005596</td>\n",
       "      <td>0.266071</td>\n",
       "      <td>0.108822</td>\n",
       "      <td>1.000000</td>\n",
       "      <td>0.150224</td>\n",
       "      <td>0.049623</td>\n",
       "      <td>0.137965</td>\n",
       "      <td>0.049233</td>\n",
       "    </tr>\n",
       "    <tr>\n",
       "      <th>avg_glucose_level</th>\n",
       "      <td>-0.029385</td>\n",
       "      <td>0.226338</td>\n",
       "      <td>0.169636</td>\n",
       "      <td>0.150224</td>\n",
       "      <td>1.000000</td>\n",
       "      <td>0.178433</td>\n",
       "      <td>0.116067</td>\n",
       "      <td>0.182748</td>\n",
       "    </tr>\n",
       "    <tr>\n",
       "      <th>bmi</th>\n",
       "      <td>-0.003362</td>\n",
       "      <td>0.340309</td>\n",
       "      <td>0.171667</td>\n",
       "      <td>0.049623</td>\n",
       "      <td>0.178433</td>\n",
       "      <td>1.000000</td>\n",
       "      <td>0.046985</td>\n",
       "      <td>1.000000</td>\n",
       "    </tr>\n",
       "    <tr>\n",
       "      <th>stroke</th>\n",
       "      <td>-0.004766</td>\n",
       "      <td>0.248097</td>\n",
       "      <td>0.117325</td>\n",
       "      <td>0.137965</td>\n",
       "      <td>0.116067</td>\n",
       "      <td>0.046985</td>\n",
       "      <td>1.000000</td>\n",
       "      <td>0.044624</td>\n",
       "    </tr>\n",
       "    <tr>\n",
       "      <th>imputed_bmi</th>\n",
       "      <td>-0.007601</td>\n",
       "      <td>0.338419</td>\n",
       "      <td>0.166541</td>\n",
       "      <td>0.049233</td>\n",
       "      <td>0.182748</td>\n",
       "      <td>1.000000</td>\n",
       "      <td>0.044624</td>\n",
       "      <td>1.000000</td>\n",
       "    </tr>\n",
       "  </tbody>\n",
       "</table>\n",
       "</div>"
      ],
      "text/plain": [
       "                         id       age  hypertension  heart_disease  \\\n",
       "id                 1.000000 -0.014804      0.001437       0.005596   \n",
       "age               -0.014804  1.000000      0.272511       0.266071   \n",
       "hypertension       0.001437  0.272511      1.000000       0.108822   \n",
       "heart_disease      0.005596  0.266071      0.108822       1.000000   \n",
       "avg_glucose_level -0.029385  0.226338      0.169636       0.150224   \n",
       "bmi               -0.003362  0.340309      0.171667       0.049623   \n",
       "stroke            -0.004766  0.248097      0.117325       0.137965   \n",
       "imputed_bmi       -0.007601  0.338419      0.166541       0.049233   \n",
       "\n",
       "                   avg_glucose_level       bmi    stroke  imputed_bmi  \n",
       "id                         -0.029385 -0.003362 -0.004766    -0.007601  \n",
       "age                         0.226338  0.340309  0.248097     0.338419  \n",
       "hypertension                0.169636  0.171667  0.117325     0.166541  \n",
       "heart_disease               0.150224  0.049623  0.137965     0.049233  \n",
       "avg_glucose_level           1.000000  0.178433  0.116067     0.182748  \n",
       "bmi                         0.178433  1.000000  0.046985     1.000000  \n",
       "stroke                      0.116067  0.046985  1.000000     0.044624  \n",
       "imputed_bmi                 0.182748  1.000000  0.044624     1.000000  "
      ]
     },
     "execution_count": 37,
     "metadata": {},
     "output_type": "execute_result"
    }
   ],
   "source": [
    "corr_table = train.corr()\n",
    "corr_table"
   ]
  },
  {
   "cell_type": "markdown",
   "id": "bd912c8e",
   "metadata": {},
   "source": [
    "BMI and age have a correlations of 0.340309 that might be worth looking into as an interaction term. To test this, train a basic model using all of the continuous variables and then add in the interaction term."
   ]
  },
  {
   "cell_type": "code",
   "execution_count": 38,
   "id": "407eee67",
   "metadata": {},
   "outputs": [
    {
     "name": "stdout",
     "output_type": "stream",
     "text": [
      "Optimization terminated successfully.\n",
      "         Current function value: 0.151553\n",
      "         Iterations 9\n"
     ]
    },
    {
     "data": {
      "text/html": [
       "<table class=\"simpletable\">\n",
       "<caption>Logit Regression Results</caption>\n",
       "<tr>\n",
       "  <th>Dep. Variable:</th>        <td>stroke</td>      <th>  No. Observations:  </th>  <td>  3577</td>  \n",
       "</tr>\n",
       "<tr>\n",
       "  <th>Model:</th>                 <td>Logit</td>      <th>  Df Residuals:      </th>  <td>  3572</td>  \n",
       "</tr>\n",
       "<tr>\n",
       "  <th>Method:</th>                 <td>MLE</td>       <th>  Df Model:          </th>  <td>     4</td>  \n",
       "</tr>\n",
       "<tr>\n",
       "  <th>Date:</th>            <td>Mon, 13 Mar 2023</td> <th>  Pseudo R-squ.:     </th>  <td>0.2072</td>  \n",
       "</tr>\n",
       "<tr>\n",
       "  <th>Time:</th>                <td>21:26:50</td>     <th>  Log-Likelihood:    </th> <td> -542.10</td> \n",
       "</tr>\n",
       "<tr>\n",
       "  <th>converged:</th>             <td>True</td>       <th>  LL-Null:           </th> <td> -683.80</td> \n",
       "</tr>\n",
       "<tr>\n",
       "  <th>Covariance Type:</th>     <td>nonrobust</td>    <th>  LLR p-value:       </th> <td>4.149e-60</td>\n",
       "</tr>\n",
       "</table>\n",
       "<table class=\"simpletable\">\n",
       "<tr>\n",
       "          <td></td>             <th>coef</th>     <th>std err</th>      <th>z</th>      <th>P>|z|</th>  <th>[0.025</th>    <th>0.975]</th>  \n",
       "</tr>\n",
       "<tr>\n",
       "  <th>Intercept</th>         <td>   -8.1115</td> <td>    0.637</td> <td>  -12.732</td> <td> 0.000</td> <td>   -9.360</td> <td>   -6.863</td>\n",
       "</tr>\n",
       "<tr>\n",
       "  <th>imputed_bmi</th>       <td>    0.0072</td> <td>    0.013</td> <td>    0.533</td> <td> 0.594</td> <td>   -0.019</td> <td>    0.034</td>\n",
       "</tr>\n",
       "<tr>\n",
       "  <th>avg_glucose_level</th> <td>    0.0034</td> <td>    0.001</td> <td>    2.389</td> <td> 0.017</td> <td>    0.001</td> <td>    0.006</td>\n",
       "</tr>\n",
       "<tr>\n",
       "  <th>age</th>               <td>    0.0768</td> <td>    0.007</td> <td>   11.764</td> <td> 0.000</td> <td>    0.064</td> <td>    0.090</td>\n",
       "</tr>\n",
       "<tr>\n",
       "  <th>hypertension</th>      <td>    0.3211</td> <td>    0.199</td> <td>    1.616</td> <td> 0.106</td> <td>   -0.068</td> <td>    0.711</td>\n",
       "</tr>\n",
       "</table>"
      ],
      "text/plain": [
       "<class 'statsmodels.iolib.summary.Summary'>\n",
       "\"\"\"\n",
       "                           Logit Regression Results                           \n",
       "==============================================================================\n",
       "Dep. Variable:                 stroke   No. Observations:                 3577\n",
       "Model:                          Logit   Df Residuals:                     3572\n",
       "Method:                           MLE   Df Model:                            4\n",
       "Date:                Mon, 13 Mar 2023   Pseudo R-squ.:                  0.2072\n",
       "Time:                        21:26:50   Log-Likelihood:                -542.10\n",
       "converged:                       True   LL-Null:                       -683.80\n",
       "Covariance Type:            nonrobust   LLR p-value:                 4.149e-60\n",
       "=====================================================================================\n",
       "                        coef    std err          z      P>|z|      [0.025      0.975]\n",
       "-------------------------------------------------------------------------------------\n",
       "Intercept            -8.1115      0.637    -12.732      0.000      -9.360      -6.863\n",
       "imputed_bmi           0.0072      0.013      0.533      0.594      -0.019       0.034\n",
       "avg_glucose_level     0.0034      0.001      2.389      0.017       0.001       0.006\n",
       "age                   0.0768      0.007     11.764      0.000       0.064       0.090\n",
       "hypertension          0.3211      0.199      1.616      0.106      -0.068       0.711\n",
       "=====================================================================================\n",
       "\"\"\""
      ]
     },
     "execution_count": 38,
     "metadata": {},
     "output_type": "execute_result"
    }
   ],
   "source": [
    "# basic model with all the continuous vars\n",
    "logit_model = sm.logit(formula = 'stroke~imputed_bmi+avg_glucose_level+age+hypertension', data = train).fit()\n",
    "logit_model.summary()"
   ]
  },
  {
   "cell_type": "markdown",
   "id": "3659a598",
   "metadata": {},
   "source": [
    "BMI does not appear to be statistically significant in this model, to test for the interaction, add an interaction term between BMI and age."
   ]
  },
  {
   "cell_type": "code",
   "execution_count": 64,
   "id": "86c89e63",
   "metadata": {},
   "outputs": [
    {
     "name": "stdout",
     "output_type": "stream",
     "text": [
      "Optimization terminated successfully.\n",
      "         Current function value: 0.151543\n",
      "         Iterations 9\n"
     ]
    },
    {
     "data": {
      "text/html": [
       "<table class=\"simpletable\">\n",
       "<caption>Logit Regression Results</caption>\n",
       "<tr>\n",
       "  <th>Dep. Variable:</th>        <td>stroke</td>      <th>  No. Observations:  </th>  <td>  3577</td>  \n",
       "</tr>\n",
       "<tr>\n",
       "  <th>Model:</th>                 <td>Logit</td>      <th>  Df Residuals:      </th>  <td>  3572</td>  \n",
       "</tr>\n",
       "<tr>\n",
       "  <th>Method:</th>                 <td>MLE</td>       <th>  Df Model:          </th>  <td>     4</td>  \n",
       "</tr>\n",
       "<tr>\n",
       "  <th>Date:</th>            <td>Mon, 13 Mar 2023</td> <th>  Pseudo R-squ.:     </th>  <td>0.2073</td>  \n",
       "</tr>\n",
       "<tr>\n",
       "  <th>Time:</th>                <td>21:33:25</td>     <th>  Log-Likelihood:    </th> <td> -542.07</td> \n",
       "</tr>\n",
       "<tr>\n",
       "  <th>converged:</th>             <td>True</td>       <th>  LL-Null:           </th> <td> -683.80</td> \n",
       "</tr>\n",
       "<tr>\n",
       "  <th>Covariance Type:</th>     <td>nonrobust</td>    <th>  LLR p-value:       </th> <td>4.005e-60</td>\n",
       "</tr>\n",
       "</table>\n",
       "<table class=\"simpletable\">\n",
       "<tr>\n",
       "            <td></td>              <th>coef</th>     <th>std err</th>      <th>z</th>      <th>P>|z|</th>  <th>[0.025</th>    <th>0.975]</th>  \n",
       "</tr>\n",
       "<tr>\n",
       "  <th>Intercept</th>            <td>  -10.5468</td> <td>    1.420</td> <td>   -7.427</td> <td> 0.000</td> <td>  -13.330</td> <td>   -7.764</td>\n",
       "</tr>\n",
       "<tr>\n",
       "  <th>imputed_bmi</th>          <td>    0.0848</td> <td>    0.042</td> <td>    2.033</td> <td> 0.042</td> <td>    0.003</td> <td>    0.167</td>\n",
       "</tr>\n",
       "<tr>\n",
       "  <th>I(imputed_bmi * age)</th> <td>   -0.0012</td> <td>    0.001</td> <td>   -1.833</td> <td> 0.067</td> <td>   -0.003</td> <td> 8.52e-05</td>\n",
       "</tr>\n",
       "<tr>\n",
       "  <th>avg_glucose_level</th>    <td>    0.0039</td> <td>    0.001</td> <td>    2.723</td> <td> 0.006</td> <td>    0.001</td> <td>    0.007</td>\n",
       "</tr>\n",
       "<tr>\n",
       "  <th>age</th>                  <td>    0.1152</td> <td>    0.022</td> <td>    5.324</td> <td> 0.000</td> <td>    0.073</td> <td>    0.158</td>\n",
       "</tr>\n",
       "</table>"
      ],
      "text/plain": [
       "<class 'statsmodels.iolib.summary.Summary'>\n",
       "\"\"\"\n",
       "                           Logit Regression Results                           \n",
       "==============================================================================\n",
       "Dep. Variable:                 stroke   No. Observations:                 3577\n",
       "Model:                          Logit   Df Residuals:                     3572\n",
       "Method:                           MLE   Df Model:                            4\n",
       "Date:                Mon, 13 Mar 2023   Pseudo R-squ.:                  0.2073\n",
       "Time:                        21:33:25   Log-Likelihood:                -542.07\n",
       "converged:                       True   LL-Null:                       -683.80\n",
       "Covariance Type:            nonrobust   LLR p-value:                 4.005e-60\n",
       "========================================================================================\n",
       "                           coef    std err          z      P>|z|      [0.025      0.975]\n",
       "----------------------------------------------------------------------------------------\n",
       "Intercept              -10.5468      1.420     -7.427      0.000     -13.330      -7.764\n",
       "imputed_bmi              0.0848      0.042      2.033      0.042       0.003       0.167\n",
       "I(imputed_bmi * age)    -0.0012      0.001     -1.833      0.067      -0.003    8.52e-05\n",
       "avg_glucose_level        0.0039      0.001      2.723      0.006       0.001       0.007\n",
       "age                      0.1152      0.022      5.324      0.000       0.073       0.158\n",
       "========================================================================================\n",
       "\"\"\""
      ]
     },
     "execution_count": 64,
     "metadata": {},
     "output_type": "execute_result"
    }
   ],
   "source": [
    "#new model adding an interaction between bmi and age\n",
    "logit_model2 = sm.logit(formula = 'stroke~imputed_bmi+I(imputed_bmi*age)+avg_glucose_level+age', data = train).fit()\n",
    "logit_model2.summary()"
   ]
  },
  {
   "cell_type": "code",
   "execution_count": 40,
   "id": "b90ad1de",
   "metadata": {},
   "outputs": [
    {
     "name": "stdout",
     "output_type": "stream",
     "text": [
      "Classification accuracy = 75.0%\n",
      "Precision = 12.2%\n",
      "TPR or Recall = 78.8%\n",
      "FNR = 21.2%\n",
      "FPR = 25.2%\n",
      "ROC-AUC = 85.1%\n",
      "F1 = 0.21081576535288726\n"
     ]
    },
    {
     "data": {
      "image/png": "[encoded data removed]",
      "text/plain": [
       "<Figure size 432x288 with 2 Axes>"
      ]
     },
     "metadata": {
      "needs_background": "light"
     },
     "output_type": "display_data"
    }
   ],
   "source": [
    "confusion_matrix_data(train.dropna(),train.dropna().stroke,logit_model,cutoff=0.05)"
   ]
  },
  {
   "cell_type": "code",
   "execution_count": 41,
   "id": "1e847367",
   "metadata": {},
   "outputs": [
    {
     "name": "stdout",
     "output_type": "stream",
     "text": [
      "Classification accuracy = 74.7%\n",
      "Precision = 12.2%\n",
      "TPR or Recall = 80.1%\n",
      "FNR = 19.9%\n",
      "FPR = 25.5%\n",
      "ROC-AUC = 84.9%\n",
      "F1 = 0.21214868540344517\n"
     ]
    },
    {
     "data": {
      "image/png": "[encoded data removed]",
      "text/plain": [
       "<Figure size 432x288 with 2 Axes>"
      ]
     },
     "metadata": {
      "needs_background": "light"
     },
     "output_type": "display_data"
    }
   ],
   "source": [
    "confusion_matrix_data(train.dropna(),train.dropna().stroke,logit_model2,cutoff=0.05)"
   ]
  },
  {
   "cell_type": "code",
   "execution_count": 42,
   "id": "20b76950",
   "metadata": {},
   "outputs": [
    {
     "name": "stdout",
     "output_type": "stream",
     "text": [
      "Optimization terminated successfully.\n",
      "         Current function value: 0.151199\n",
      "         Iterations 9\n"
     ]
    },
    {
     "data": {
      "text/html": [
       "<table class=\"simpletable\">\n",
       "<caption>Logit Regression Results</caption>\n",
       "<tr>\n",
       "  <th>Dep. Variable:</th>        <td>stroke</td>      <th>  No. Observations:  </th>  <td>  3577</td>  \n",
       "</tr>\n",
       "<tr>\n",
       "  <th>Model:</th>                 <td>Logit</td>      <th>  Df Residuals:      </th>  <td>  3571</td>  \n",
       "</tr>\n",
       "<tr>\n",
       "  <th>Method:</th>                 <td>MLE</td>       <th>  Df Model:          </th>  <td>     5</td>  \n",
       "</tr>\n",
       "<tr>\n",
       "  <th>Date:</th>            <td>Mon, 13 Mar 2023</td> <th>  Pseudo R-squ.:     </th>  <td>0.2091</td>  \n",
       "</tr>\n",
       "<tr>\n",
       "  <th>Time:</th>                <td>21:26:51</td>     <th>  Log-Likelihood:    </th> <td> -540.84</td> \n",
       "</tr>\n",
       "<tr>\n",
       "  <th>converged:</th>             <td>True</td>       <th>  LL-Null:           </th> <td> -683.80</td> \n",
       "</tr>\n",
       "<tr>\n",
       "  <th>Covariance Type:</th>     <td>nonrobust</td>    <th>  LLR p-value:       </th> <td>1.068e-59</td>\n",
       "</tr>\n",
       "</table>\n",
       "<table class=\"simpletable\">\n",
       "<tr>\n",
       "            <td></td>              <th>coef</th>     <th>std err</th>      <th>z</th>      <th>P>|z|</th>  <th>[0.025</th>    <th>0.975]</th>  \n",
       "</tr>\n",
       "<tr>\n",
       "  <th>Intercept</th>            <td>  -10.3732</td> <td>    1.398</td> <td>   -7.418</td> <td> 0.000</td> <td>  -13.114</td> <td>   -7.632</td>\n",
       "</tr>\n",
       "<tr>\n",
       "  <th>imputed_bmi</th>          <td>    0.0810</td> <td>    0.041</td> <td>    1.977</td> <td> 0.048</td> <td>    0.001</td> <td>    0.161</td>\n",
       "</tr>\n",
       "<tr>\n",
       "  <th>I(imputed_bmi * age)</th> <td>   -0.0012</td> <td>    0.001</td> <td>   -1.814</td> <td> 0.070</td> <td>   -0.002</td> <td> 9.64e-05</td>\n",
       "</tr>\n",
       "<tr>\n",
       "  <th>avg_glucose_level</th>    <td>    0.0036</td> <td>    0.001</td> <td>    2.529</td> <td> 0.011</td> <td>    0.001</td> <td>    0.006</td>\n",
       "</tr>\n",
       "<tr>\n",
       "  <th>age</th>                  <td>    0.1128</td> <td>    0.021</td> <td>    5.289</td> <td> 0.000</td> <td>    0.071</td> <td>    0.155</td>\n",
       "</tr>\n",
       "<tr>\n",
       "  <th>hypertension</th>         <td>    0.3168</td> <td>    0.199</td> <td>    1.595</td> <td> 0.111</td> <td>   -0.072</td> <td>    0.706</td>\n",
       "</tr>\n",
       "</table>"
      ],
      "text/plain": [
       "<class 'statsmodels.iolib.summary.Summary'>\n",
       "\"\"\"\n",
       "                           Logit Regression Results                           \n",
       "==============================================================================\n",
       "Dep. Variable:                 stroke   No. Observations:                 3577\n",
       "Model:                          Logit   Df Residuals:                     3571\n",
       "Method:                           MLE   Df Model:                            5\n",
       "Date:                Mon, 13 Mar 2023   Pseudo R-squ.:                  0.2091\n",
       "Time:                        21:26:51   Log-Likelihood:                -540.84\n",
       "converged:                       True   LL-Null:                       -683.80\n",
       "Covariance Type:            nonrobust   LLR p-value:                 1.068e-59\n",
       "========================================================================================\n",
       "                           coef    std err          z      P>|z|      [0.025      0.975]\n",
       "----------------------------------------------------------------------------------------\n",
       "Intercept              -10.3732      1.398     -7.418      0.000     -13.114      -7.632\n",
       "imputed_bmi              0.0810      0.041      1.977      0.048       0.001       0.161\n",
       "I(imputed_bmi * age)    -0.0012      0.001     -1.814      0.070      -0.002    9.64e-05\n",
       "avg_glucose_level        0.0036      0.001      2.529      0.011       0.001       0.006\n",
       "age                      0.1128      0.021      5.289      0.000       0.071       0.155\n",
       "hypertension             0.3168      0.199      1.595      0.111      -0.072       0.706\n",
       "========================================================================================\n",
       "\"\"\""
      ]
     },
     "execution_count": 42,
     "metadata": {},
     "output_type": "execute_result"
    }
   ],
   "source": [
    "# add hypertension\n",
    "logit_model3 = sm.logit(formula = 'stroke~imputed_bmi+I(imputed_bmi*age)+avg_glucose_level+age+hypertension', data = train).fit()\n",
    "logit_model3.summary()"
   ]
  },
  {
   "cell_type": "code",
   "execution_count": 43,
   "id": "b8fa571e",
   "metadata": {},
   "outputs": [
    {
     "name": "stdout",
     "output_type": "stream",
     "text": [
      "Classification accuracy = 74.5%\n",
      "Precision = 11.8%\n",
      "TPR or Recall = 76.2%\n",
      "FNR = 23.8%\n",
      "FPR = 25.6%\n",
      "ROC-AUC = 83.6%\n",
      "F1 = 0.2038216560509554\n"
     ]
    },
    {
     "data": {
      "image/png": "[encoded data removed]",
      "text/plain": [
       "<Figure size 432x288 with 2 Axes>"
      ]
     },
     "metadata": {
      "needs_background": "light"
     },
     "output_type": "display_data"
    }
   ],
   "source": [
    "confusion_matrix_data(test.dropna(),test.dropna().stroke,logit_model3,cutoff=0.05)"
   ]
  },
  {
   "cell_type": "code",
   "execution_count": 44,
   "id": "1d6f2866",
   "metadata": {},
   "outputs": [
    {
     "name": "stdout",
     "output_type": "stream",
     "text": [
      "Optimization terminated successfully.\n",
      "         Current function value: 0.149123\n",
      "         Iterations 9\n"
     ]
    },
    {
     "data": {
      "text/html": [
       "<table class=\"simpletable\">\n",
       "<caption>Logit Regression Results</caption>\n",
       "<tr>\n",
       "  <th>Dep. Variable:</th>        <td>stroke</td>      <th>  No. Observations:  </th>  <td>  3577</td>  \n",
       "</tr>\n",
       "<tr>\n",
       "  <th>Model:</th>                 <td>Logit</td>      <th>  Df Residuals:      </th>  <td>  3565</td>  \n",
       "</tr>\n",
       "<tr>\n",
       "  <th>Method:</th>                 <td>MLE</td>       <th>  Df Model:          </th>  <td>    11</td>  \n",
       "</tr>\n",
       "<tr>\n",
       "  <th>Date:</th>            <td>Mon, 13 Mar 2023</td> <th>  Pseudo R-squ.:     </th>  <td>0.2199</td>  \n",
       "</tr>\n",
       "<tr>\n",
       "  <th>Time:</th>                <td>21:26:51</td>     <th>  Log-Likelihood:    </th> <td> -533.41</td> \n",
       "</tr>\n",
       "<tr>\n",
       "  <th>converged:</th>             <td>True</td>       <th>  LL-Null:           </th> <td> -683.80</td> \n",
       "</tr>\n",
       "<tr>\n",
       "  <th>Covariance Type:</th>     <td>nonrobust</td>    <th>  LLR p-value:       </th> <td>6.032e-58</td>\n",
       "</tr>\n",
       "</table>\n",
       "<table class=\"simpletable\">\n",
       "<tr>\n",
       "                               <td></td>                                 <th>coef</th>     <th>std err</th>      <th>z</th>      <th>P>|z|</th>  <th>[0.025</th>    <th>0.975]</th>  \n",
       "</tr>\n",
       "<tr>\n",
       "  <th>Intercept</th>                                                  <td>  -10.1102</td> <td>    1.379</td> <td>   -7.333</td> <td> 0.000</td> <td>  -12.812</td> <td>   -7.408</td>\n",
       "</tr>\n",
       "<tr>\n",
       "  <th>glucose_level_binned[T.Interval(140, 160, closed='right')]</th> <td>   -0.6163</td> <td>    0.737</td> <td>   -0.837</td> <td> 0.403</td> <td>   -2.060</td> <td>    0.827</td>\n",
       "</tr>\n",
       "<tr>\n",
       "  <th>glucose_level_binned[T.Interval(160, 180, closed='right')]</th> <td>    1.3561</td> <td>    0.422</td> <td>    3.217</td> <td> 0.001</td> <td>    0.530</td> <td>    2.182</td>\n",
       "</tr>\n",
       "<tr>\n",
       "  <th>glucose_level_binned[T.Interval(180, 200, closed='right')]</th> <td>    0.9186</td> <td>    0.303</td> <td>    3.031</td> <td> 0.002</td> <td>    0.325</td> <td>    1.513</td>\n",
       "</tr>\n",
       "<tr>\n",
       "  <th>glucose_level_binned[T.Interval(200, 220, closed='right')]</th> <td>    0.0129</td> <td>    0.310</td> <td>    0.041</td> <td> 0.967</td> <td>   -0.595</td> <td>    0.621</td>\n",
       "</tr>\n",
       "<tr>\n",
       "  <th>glucose_level_binned[T.Interval(220, 240, closed='right')]</th> <td>    0.2282</td> <td>    0.365</td> <td>    0.625</td> <td> 0.532</td> <td>   -0.487</td> <td>    0.943</td>\n",
       "</tr>\n",
       "<tr>\n",
       "  <th>glucose_level_binned[T.Interval(240, 260, closed='right')]</th> <td>    1.1012</td> <td>    0.468</td> <td>    2.351</td> <td> 0.019</td> <td>    0.183</td> <td>    2.019</td>\n",
       "</tr>\n",
       "<tr>\n",
       "  <th>glucose_level_binned[T.Interval(260, 280, closed='right')]</th> <td>    0.5902</td> <td>    1.115</td> <td>    0.529</td> <td> 0.597</td> <td>   -1.595</td> <td>    2.775</td>\n",
       "</tr>\n",
       "<tr>\n",
       "  <th>imputed_bmi</th>                                                <td>    0.0814</td> <td>    0.041</td> <td>    2.008</td> <td> 0.045</td> <td>    0.002</td> <td>    0.161</td>\n",
       "</tr>\n",
       "<tr>\n",
       "  <th>I(imputed_bmi * age)</th>                                       <td>   -0.0012</td> <td>    0.001</td> <td>   -1.787</td> <td> 0.074</td> <td>   -0.002</td> <td>    0.000</td>\n",
       "</tr>\n",
       "<tr>\n",
       "  <th>age</th>                                                        <td>    0.1126</td> <td>    0.021</td> <td>    5.313</td> <td> 0.000</td> <td>    0.071</td> <td>    0.154</td>\n",
       "</tr>\n",
       "<tr>\n",
       "  <th>hypertension</th>                                               <td>    0.2654</td> <td>    0.202</td> <td>    1.315</td> <td> 0.189</td> <td>   -0.130</td> <td>    0.661</td>\n",
       "</tr>\n",
       "</table>"
      ],
      "text/plain": [
       "<class 'statsmodels.iolib.summary.Summary'>\n",
       "\"\"\"\n",
       "                           Logit Regression Results                           \n",
       "==============================================================================\n",
       "Dep. Variable:                 stroke   No. Observations:                 3577\n",
       "Model:                          Logit   Df Residuals:                     3565\n",
       "Method:                           MLE   Df Model:                           11\n",
       "Date:                Mon, 13 Mar 2023   Pseudo R-squ.:                  0.2199\n",
       "Time:                        21:26:51   Log-Likelihood:                -533.41\n",
       "converged:                       True   LL-Null:                       -683.80\n",
       "Covariance Type:            nonrobust   LLR p-value:                 6.032e-58\n",
       "==============================================================================================================================\n",
       "                                                                 coef    std err          z      P>|z|      [0.025      0.975]\n",
       "------------------------------------------------------------------------------------------------------------------------------\n",
       "Intercept                                                    -10.1102      1.379     -7.333      0.000     -12.812      -7.408\n",
       "glucose_level_binned[T.Interval(140, 160, closed='right')]    -0.6163      0.737     -0.837      0.403      -2.060       0.827\n",
       "glucose_level_binned[T.Interval(160, 180, closed='right')]     1.3561      0.422      3.217      0.001       0.530       2.182\n",
       "glucose_level_binned[T.Interval(180, 200, closed='right')]     0.9186      0.303      3.031      0.002       0.325       1.513\n",
       "glucose_level_binned[T.Interval(200, 220, closed='right')]     0.0129      0.310      0.041      0.967      -0.595       0.621\n",
       "glucose_level_binned[T.Interval(220, 240, closed='right')]     0.2282      0.365      0.625      0.532      -0.487       0.943\n",
       "glucose_level_binned[T.Interval(240, 260, closed='right')]     1.1012      0.468      2.351      0.019       0.183       2.019\n",
       "glucose_level_binned[T.Interval(260, 280, closed='right')]     0.5902      1.115      0.529      0.597      -1.595       2.775\n",
       "imputed_bmi                                                    0.0814      0.041      2.008      0.045       0.002       0.161\n",
       "I(imputed_bmi * age)                                          -0.0012      0.001     -1.787      0.074      -0.002       0.000\n",
       "age                                                            0.1126      0.021      5.313      0.000       0.071       0.154\n",
       "hypertension                                                   0.2654      0.202      1.315      0.189      -0.130       0.661\n",
       "==============================================================================================================================\n",
       "\"\"\""
      ]
     },
     "execution_count": 44,
     "metadata": {},
     "output_type": "execute_result"
    }
   ],
   "source": [
    "# add glucose_level_binned\n",
    "logit_model4 = sm.logit(formula = 'stroke~imputed_bmi+I(imputed_bmi*age)+age+hypertension+glucose_level_binned', data = train).fit()\n",
    "logit_model4.summary()"
   ]
  },
  {
   "cell_type": "code",
   "execution_count": 45,
   "id": "eae2979f",
   "metadata": {},
   "outputs": [
    {
     "name": "stdout",
     "output_type": "stream",
     "text": [
      "Classification accuracy = 76.0%\n",
      "Precision = 12.3%\n",
      "TPR or Recall = 74.6%\n",
      "FNR = 25.4%\n",
      "FPR = 23.9%\n",
      "ROC-AUC = 83.1%\n",
      "F1 = 0.21076233183856502\n"
     ]
    },
    {
     "data": {
      "image/png": "[encoded data removed]",
      "text/plain": [
       "<Figure size 432x288 with 2 Axes>"
      ]
     },
     "metadata": {
      "needs_background": "light"
     },
     "output_type": "display_data"
    }
   ],
   "source": [
    "confusion_matrix_data(test.dropna(),test.dropna().stroke,logit_model4,cutoff=0.05)"
   ]
  },
  {
   "cell_type": "markdown",
   "id": "c7d1f0c8",
   "metadata": {},
   "source": [
    "### Search for potential interaction terms\n",
    "*By Cara Chang*"
   ]
  },
  {
   "cell_type": "code",
   "execution_count": 46,
   "id": "d3d4e0c7",
   "metadata": {},
   "outputs": [
    {
     "name": "stdout",
     "output_type": "stream",
     "text": [
      "model number 0\n",
      "                            OLS Regression Results                            \n",
      "==============================================================================\n",
      "Dep. Variable:                 stroke   R-squared:                       0.075\n",
      "Model:                            OLS   Adj. R-squared:                  0.072\n",
      "Method:                 Least Squares   F-statistic:                     23.15\n",
      "Date:                Mon, 13 Mar 2023   Prob (F-statistic):           3.08e-50\n",
      "Time:                        21:26:51   Log-Likelihood:                 762.70\n",
      "No. Observations:                3441   AIC:                            -1499.\n",
      "Df Residuals:                    3428   BIC:                            -1420.\n",
      "Df Model:                          12                                         \n",
      "Covariance Type:            nonrobust                                         \n",
      "==============================================================================================================================\n",
      "                                                                 coef    std err          t      P>|t|      [0.025      0.975]\n",
      "------------------------------------------------------------------------------------------------------------------------------\n",
      "Intercept                                                      0.0140      0.025      0.572      0.568      -0.034       0.062\n",
      "glucose_level_binned[T.Interval(140, 160, closed='right')]    -0.0138      0.019     -0.712      0.476      -0.052       0.024\n",
      "glucose_level_binned[T.Interval(160, 180, closed='right')]     0.0802      0.027      2.938      0.003       0.027       0.134\n",
      "glucose_level_binned[T.Interval(180, 200, closed='right')]     0.0733      0.020      3.599      0.000       0.033       0.113\n",
      "glucose_level_binned[T.Interval(200, 220, closed='right')]     0.0135      0.017      0.803      0.422      -0.019       0.046\n",
      "glucose_level_binned[T.Interval(220, 240, closed='right')]     0.0217      0.021      1.034      0.301      -0.019       0.063\n",
      "glucose_level_binned[T.Interval(240, 260, closed='right')]     0.1587      0.036      4.348      0.000       0.087       0.230\n",
      "glucose_level_binned[T.Interval(260, 280, closed='right')]     0.0665      0.080      0.835      0.404      -0.090       0.223\n",
      "bmi                                                           -0.0012      0.000     -2.398      0.017      -0.002      -0.000\n",
      "I(imputed_bmi * age)                                        3.776e-05   2.23e-05      1.696      0.090    -5.9e-06    8.14e-05\n",
      "age                                                            0.0009      0.001      1.422      0.155      -0.000       0.002\n",
      "hypertension                                                   0.1357      0.046      2.930      0.003       0.045       0.226\n",
      "imputed_bmi                                                   -0.0012      0.000     -2.398      0.017      -0.002      -0.000\n",
      "hypertension:imputed_bmi                                      -0.0028      0.001     -2.067      0.039      -0.005      -0.000\n",
      "==============================================================================\n",
      "Omnibus:                     2815.118   Durbin-Watson:                   1.998\n",
      "Prob(Omnibus):                  0.000   Jarque-Bera (JB):            46138.110\n",
      "Skew:                           4.034   Prob(JB):                         0.00\n",
      "Kurtosis:                      19.022   Cond. No.                     9.13e+17\n",
      "==============================================================================\n",
      "\n",
      "Notes:\n",
      "[1] Standard Errors assume that the covariance matrix of the errors is correctly specified.\n",
      "[2] The smallest eigenvalue is 9.41e-27. This might indicate that there are\n",
      "strong multicollinearity problems or that the design matrix is singular.\n",
      "Classification accuracy = 50.6%\n",
      "Precision = 9.5%\n",
      "TPR or Recall = 88.7%\n",
      "FNR = 11.3%\n",
      "FPR = 51.7%\n",
      "ROC-AUC = 82.9%\n",
      "F1 = 0.17160686427457097\n",
      "model number 1\n",
      "                            OLS Regression Results                            \n",
      "==============================================================================\n",
      "Dep. Variable:                 stroke   R-squared:                       0.076\n",
      "Model:                            OLS   Adj. R-squared:                  0.073\n",
      "Method:                 Least Squares   F-statistic:                     23.54\n",
      "Date:                Mon, 13 Mar 2023   Prob (F-statistic):           3.77e-51\n",
      "Time:                        21:26:52   Log-Likelihood:                 764.89\n",
      "No. Observations:                3441   AIC:                            -1504.\n",
      "Df Residuals:                    3428   BIC:                            -1424.\n",
      "Df Model:                          12                                         \n",
      "Covariance Type:            nonrobust                                         \n",
      "==============================================================================================================================\n",
      "                                                                 coef    std err          t      P>|t|      [0.025      0.975]\n",
      "------------------------------------------------------------------------------------------------------------------------------\n",
      "Intercept                                                      0.0059      0.025      0.240      0.810      -0.043       0.054\n",
      "glucose_level_binned[T.Interval(140, 160, closed='right')]    -0.0128      0.019     -0.662      0.508      -0.051       0.025\n",
      "glucose_level_binned[T.Interval(160, 180, closed='right')]     0.0825      0.027      3.026      0.002       0.029       0.136\n",
      "glucose_level_binned[T.Interval(180, 200, closed='right')]     0.0728      0.020      3.573      0.000       0.033       0.113\n",
      "glucose_level_binned[T.Interval(200, 220, closed='right')]     0.0131      0.017      0.779      0.436      -0.020       0.046\n",
      "glucose_level_binned[T.Interval(220, 240, closed='right')]     0.0210      0.021      1.002      0.317      -0.020       0.062\n",
      "glucose_level_binned[T.Interval(240, 260, closed='right')]     0.1561      0.036      4.277      0.000       0.085       0.228\n",
      "glucose_level_binned[T.Interval(260, 280, closed='right')]     0.0574      0.080      0.720      0.471      -0.099       0.214\n",
      "bmi                                                           -0.0019      0.001     -1.912      0.056      -0.004    4.76e-05\n",
      "I(imputed_bmi * age)                                        2.337e-05   2.22e-05      1.051      0.293   -2.02e-05     6.7e-05\n",
      "age                                                            0.0012      0.001      1.993      0.046    1.92e-05       0.002\n",
      "hypertension                                                  -0.1067      0.052     -2.036      0.042      -0.209      -0.004\n",
      "hypertension:age                                               0.0024      0.001      2.939      0.003       0.001       0.004\n",
      "==============================================================================\n",
      "Omnibus:                     2815.815   Durbin-Watson:                   1.999\n",
      "Prob(Omnibus):                  0.000   Jarque-Bera (JB):            46394.529\n",
      "Skew:                           4.033   Prob(JB):                         0.00\n",
      "Kurtosis:                      19.079   Cond. No.                     3.64e+04\n",
      "==============================================================================\n",
      "\n",
      "Notes:\n",
      "[1] Standard Errors assume that the covariance matrix of the errors is correctly specified.\n",
      "[2] The condition number is large, 3.64e+04. This might indicate that there are\n",
      "strong multicollinearity or other numerical problems.\n",
      "Classification accuracy = 52.3%\n",
      "Precision = 9.7%\n",
      "TPR or Recall = 88.7%\n",
      "FNR = 11.3%\n",
      "FPR = 50.0%\n",
      "ROC-AUC = 82.6%\n",
      "F1 = 0.17543859649122806\n",
      "model number 2\n",
      "                            OLS Regression Results                            \n",
      "==============================================================================\n",
      "Dep. Variable:                 stroke   R-squared:                       0.080\n",
      "Model:                            OLS   Adj. R-squared:                  0.076\n",
      "Method:                 Least Squares   F-statistic:                     21.28\n",
      "Date:                Mon, 13 Mar 2023   Prob (F-statistic):           9.13e-53\n",
      "Time:                        21:26:52   Log-Likelihood:                 772.10\n",
      "No. Observations:                3441   AIC:                            -1514.\n",
      "Df Residuals:                    3426   BIC:                            -1422.\n",
      "Df Model:                          14                                         \n",
      "Covariance Type:            nonrobust                                         \n",
      "==============================================================================================================================\n",
      "                                                                 coef    std err          t      P>|t|      [0.025      0.975]\n",
      "------------------------------------------------------------------------------------------------------------------------------\n",
      "Intercept                                                      0.0354      0.026      1.360      0.174      -0.016       0.086\n",
      "glucose_level_binned[T.Interval(140, 160, closed='right')]    -0.0143      0.019     -0.738      0.461      -0.052       0.024\n",
      "glucose_level_binned[T.Interval(160, 180, closed='right')]     0.0835      0.027      3.068      0.002       0.030       0.137\n",
      "glucose_level_binned[T.Interval(180, 200, closed='right')]     0.0736      0.020      3.619      0.000       0.034       0.113\n",
      "glucose_level_binned[T.Interval(200, 220, closed='right')]     0.0132      0.017      0.790      0.430      -0.020       0.046\n",
      "glucose_level_binned[T.Interval(220, 240, closed='right')]     0.0202      0.021      0.963      0.336      -0.021       0.061\n",
      "glucose_level_binned[T.Interval(240, 260, closed='right')]     0.1539      0.036      4.226      0.000       0.083       0.225\n",
      "glucose_level_binned[T.Interval(260, 280, closed='right')]     0.0618      0.080      0.777      0.437      -0.094       0.218\n",
      "bmi                                                           -0.0031      0.001     -2.974      0.003      -0.005      -0.001\n",
      "I(imputed_bmi * age)                                        3.022e-05   1.21e-05      2.487      0.013     6.4e-06     5.4e-05\n",
      "age                                                            0.0002      0.001      0.301      0.764      -0.001       0.001\n",
      "hypertension                                                  -0.4090      0.134     -3.053      0.002      -0.672      -0.146\n",
      "hypertension:bmi                                               0.0096      0.003      2.807      0.005       0.003       0.016\n",
      "hypertension:age                                               0.0097      0.002      4.263      0.000       0.005       0.014\n",
      "bmi:age                                                     3.022e-05   1.21e-05      2.487      0.013     6.4e-06     5.4e-05\n",
      "hypertension:bmi:age                                          -0.0002   6.42e-05     -3.623      0.000      -0.000      -0.000\n",
      "==============================================================================\n",
      "Omnibus:                     2806.429   Durbin-Watson:                   2.000\n",
      "Prob(Omnibus):                  0.000   Jarque-Bera (JB):            46139.692\n",
      "Skew:                           4.013   Prob(JB):                         0.00\n",
      "Kurtosis:                      19.043   Cond. No.                     2.87e+16\n",
      "==============================================================================\n",
      "\n",
      "Notes:\n",
      "[1] Standard Errors assume that the covariance matrix of the errors is correctly specified.\n",
      "[2] The smallest eigenvalue is 1.93e-23. This might indicate that there are\n",
      "strong multicollinearity problems or that the design matrix is singular.\n",
      "Classification accuracy = 53.3%\n",
      "Precision = 9.8%\n",
      "TPR or Recall = 87.1%\n",
      "FNR = 12.9%\n",
      "FPR = 48.7%\n",
      "ROC-AUC = 82.1%\n",
      "F1 = 0.176759410801964\n",
      "model number 3\n"
     ]
    },
    {
     "name": "stdout",
     "output_type": "stream",
     "text": [
      "                            OLS Regression Results                            \n",
      "==============================================================================\n",
      "Dep. Variable:                 stroke   R-squared:                       0.090\n",
      "Model:                            OLS   Adj. R-squared:                  0.086\n",
      "Method:                 Least Squares   F-statistic:                     18.89\n",
      "Date:                Mon, 13 Mar 2023   Prob (F-statistic):           3.40e-58\n",
      "Time:                        21:26:52   Log-Likelihood:                 791.67\n",
      "No. Observations:                3441   AIC:                            -1545.\n",
      "Df Residuals:                    3422   BIC:                            -1429.\n",
      "Df Model:                          18                                         \n",
      "Covariance Type:            nonrobust                                         \n",
      "===========================================================================================================================================\n",
      "                                                                              coef    std err          t      P>|t|      [0.025      0.975]\n",
      "-------------------------------------------------------------------------------------------------------------------------------------------\n",
      "Intercept                                                                   0.0171      0.024      0.703      0.482      -0.031       0.065\n",
      "glucose_level_binned[T.Interval(140, 160, closed='right')]                 -0.0057      0.020     -0.283      0.778      -0.045       0.034\n",
      "glucose_level_binned[T.Interval(160, 180, closed='right')]                  0.0438      0.032      1.390      0.165      -0.018       0.106\n",
      "glucose_level_binned[T.Interval(180, 200, closed='right')]                  0.0814      0.023      3.524      0.000       0.036       0.127\n",
      "glucose_level_binned[T.Interval(200, 220, closed='right')]                  0.0265      0.019      1.412      0.158      -0.010       0.063\n",
      "glucose_level_binned[T.Interval(220, 240, closed='right')]                  0.0511      0.024      2.160      0.031       0.005       0.098\n",
      "glucose_level_binned[T.Interval(240, 260, closed='right')]                  0.0245      0.041      0.591      0.555      -0.057       0.106\n",
      "glucose_level_binned[T.Interval(260, 280, closed='right')]                 -0.0546      0.136     -0.400      0.689      -0.322       0.213\n",
      "bmi                                                                        -0.0025      0.001     -2.588      0.010      -0.004      -0.001\n",
      "I(imputed_bmi * age)                                                      3.12e-05   2.19e-05      1.423      0.155   -1.18e-05    7.42e-05\n",
      "age                                                                         0.0011      0.001      1.841      0.066   -7.06e-05       0.002\n",
      "hypertension                                                                0.0442      0.014      3.076      0.002       0.016       0.072\n",
      "hypertension:glucose_level_binned[T.Interval(140, 160, closed='right')]    -0.0974      0.072     -1.347      0.178      -0.239       0.044\n",
      "hypertension:glucose_level_binned[T.Interval(160, 180, closed='right')]     0.1366      0.062      2.208      0.027       0.015       0.258\n",
      "hypertension:glucose_level_binned[T.Interval(180, 200, closed='right')]    -0.0313      0.047     -0.658      0.511      -0.124       0.062\n",
      "hypertension:glucose_level_binned[T.Interval(200, 220, closed='right')]    -0.0553      0.040     -1.389      0.165      -0.133       0.023\n",
      "hypertension:glucose_level_binned[T.Interval(220, 240, closed='right')]    -0.1221      0.049     -2.486      0.013      -0.218      -0.026\n",
      "hypertension:glucose_level_binned[T.Interval(240, 260, closed='right')]     0.5602      0.085      6.603      0.000       0.394       0.727\n",
      "hypertension:glucose_level_binned[T.Interval(260, 280, closed='right')]     0.1812      0.168      1.082      0.280      -0.147       0.510\n",
      "==============================================================================\n",
      "Omnibus:                     2832.920   Durbin-Watson:                   2.000\n",
      "Prob(Omnibus):                  0.000   Jarque-Bera (JB):            48613.102\n",
      "Skew:                           4.050   Prob(JB):                         0.00\n",
      "Kurtosis:                      19.537   Cond. No.                     9.47e+04\n",
      "==============================================================================\n",
      "\n",
      "Notes:\n",
      "[1] Standard Errors assume that the covariance matrix of the errors is correctly specified.\n",
      "[2] The condition number is large, 9.47e+04. This might indicate that there are\n",
      "strong multicollinearity or other numerical problems.\n",
      "Classification accuracy = 51.0%\n",
      "Precision = 9.7%\n",
      "TPR or Recall = 90.3%\n",
      "FNR = 9.7%\n",
      "FPR = 51.4%\n",
      "ROC-AUC = 82.7%\n",
      "F1 = 0.1752738654147105\n",
      "model number 4\n",
      "                            OLS Regression Results                            \n",
      "==============================================================================\n",
      "Dep. Variable:                 stroke   R-squared:                       0.080\n",
      "Model:                            OLS   Adj. R-squared:                  0.076\n",
      "Method:                 Least Squares   F-statistic:                     22.84\n",
      "Date:                Mon, 13 Mar 2023   Prob (F-statistic):           2.89e-53\n",
      "Time:                        21:26:52   Log-Likelihood:                 771.64\n",
      "No. Observations:                3441   AIC:                            -1515.\n",
      "Df Residuals:                    3427   BIC:                            -1429.\n",
      "Df Model:                          13                                         \n",
      "Covariance Type:            nonrobust                                         \n",
      "==============================================================================================================================\n",
      "                                                                 coef    std err          t      P>|t|      [0.025      0.975]\n",
      "------------------------------------------------------------------------------------------------------------------------------\n",
      "Intercept                                                      0.0142      0.025      0.578      0.563      -0.034       0.062\n",
      "glucose_level_binned[T.Interval(140, 160, closed='right')]    -0.0149      0.019     -0.768      0.443      -0.053       0.023\n",
      "glucose_level_binned[T.Interval(160, 180, closed='right')]     0.0823      0.027      3.023      0.003       0.029       0.136\n",
      "glucose_level_binned[T.Interval(180, 200, closed='right')]     0.0725      0.020      3.566      0.000       0.033       0.112\n",
      "glucose_level_binned[T.Interval(200, 220, closed='right')]     0.0074      0.017      0.440      0.660      -0.026       0.040\n",
      "glucose_level_binned[T.Interval(220, 240, closed='right')]     0.0162      0.021      0.772      0.440      -0.025       0.057\n",
      "glucose_level_binned[T.Interval(240, 260, closed='right')]     0.1512      0.036      4.148      0.000       0.080       0.223\n",
      "glucose_level_binned[T.Interval(260, 280, closed='right')]     0.0620      0.080      0.779      0.436      -0.094       0.218\n",
      "bmi                                                           -0.0011      0.000     -2.296      0.022      -0.002      -0.000\n",
      "I(imputed_bmi * age)                                        2.718e-05   2.24e-05      1.211      0.226   -1.68e-05    7.12e-05\n",
      "age                                                            0.0010      0.001      1.709      0.087      -0.000       0.002\n",
      "hypertension                                                   0.0407      0.012      3.384      0.001       0.017       0.064\n",
      "heart_disease                                                  0.0516      0.087      0.594      0.553      -0.119       0.222\n",
      "imputed_bmi                                                   -0.0011      0.000     -2.296      0.022      -0.002      -0.000\n",
      "heart_disease:imputed_bmi                                      0.0008      0.003      0.272      0.786      -0.005       0.006\n",
      "==============================================================================\n",
      "Omnibus:                     2802.076   Durbin-Watson:                   2.001\n",
      "Prob(Omnibus):                  0.000   Jarque-Bera (JB):            45736.249\n",
      "Skew:                           4.007   Prob(JB):                         0.00\n",
      "Kurtosis:                      18.961   Cond. No.                     9.13e+17\n",
      "==============================================================================\n",
      "\n",
      "Notes:\n",
      "[1] Standard Errors assume that the covariance matrix of the errors is correctly specified.\n",
      "[2] The smallest eigenvalue is 9.42e-27. This might indicate that there are\n",
      "strong multicollinearity problems or that the design matrix is singular.\n",
      "Classification accuracy = 54.6%\n",
      "Precision = 10.0%\n",
      "TPR or Recall = 85.5%\n",
      "FNR = 14.5%\n",
      "FPR = 47.3%\n",
      "ROC-AUC = 83.1%\n",
      "F1 = 0.1793570219966159\n",
      "model number 5\n"
     ]
    },
    {
     "name": "stdout",
     "output_type": "stream",
     "text": [
      "                            OLS Regression Results                            \n",
      "==============================================================================\n",
      "Dep. Variable:                 stroke   R-squared:                       0.083\n",
      "Model:                            OLS   Adj. R-squared:                  0.079\n",
      "Method:                 Least Squares   F-statistic:                     23.78\n",
      "Date:                Mon, 13 Mar 2023   Prob (F-statistic):           1.33e-55\n",
      "Time:                        21:26:52   Log-Likelihood:                 777.25\n",
      "No. Observations:                3441   AIC:                            -1526.\n",
      "Df Residuals:                    3427   BIC:                            -1440.\n",
      "Df Model:                          13                                         \n",
      "Covariance Type:            nonrobust                                         \n",
      "==============================================================================================================================\n",
      "                                                                 coef    std err          t      P>|t|      [0.025      0.975]\n",
      "------------------------------------------------------------------------------------------------------------------------------\n",
      "Intercept                                                      0.0140      0.024      0.573      0.567      -0.034       0.062\n",
      "glucose_level_binned[T.Interval(140, 160, closed='right')]    -0.0144      0.019     -0.746      0.456      -0.052       0.023\n",
      "glucose_level_binned[T.Interval(160, 180, closed='right')]     0.0807      0.027      2.970      0.003       0.027       0.134\n",
      "glucose_level_binned[T.Interval(180, 200, closed='right')]     0.0751      0.020      3.698      0.000       0.035       0.115\n",
      "glucose_level_binned[T.Interval(200, 220, closed='right')]     0.0040      0.017      0.241      0.810      -0.029       0.037\n",
      "glucose_level_binned[T.Interval(220, 240, closed='right')]     0.0168      0.021      0.801      0.423      -0.024       0.058\n",
      "glucose_level_binned[T.Interval(240, 260, closed='right')]     0.1473      0.036      4.047      0.000       0.076       0.219\n",
      "glucose_level_binned[T.Interval(260, 280, closed='right')]     0.0633      0.079      0.797      0.426      -0.092       0.219\n",
      "bmi                                                           -0.0021      0.001     -2.183      0.029      -0.004      -0.000\n",
      "I(imputed_bmi * age)                                        2.874e-05    2.2e-05      1.306      0.192   -1.44e-05    7.19e-05\n",
      "age                                                            0.0009      0.001      1.545      0.122      -0.000       0.002\n",
      "hypertension                                                   0.0406      0.012      3.385      0.001       0.017       0.064\n",
      "heart_disease                                                 -0.2194      0.089     -2.463      0.014      -0.394      -0.045\n",
      "heart_disease:age                                              0.0043      0.001      3.356      0.001       0.002       0.007\n",
      "==============================================================================\n",
      "Omnibus:                     2798.867   Durbin-Watson:                   2.004\n",
      "Prob(Omnibus):                  0.000   Jarque-Bera (JB):            45885.157\n",
      "Skew:                           3.998   Prob(JB):                         0.00\n",
      "Kurtosis:                      19.003   Cond. No.                     4.08e+04\n",
      "==============================================================================\n",
      "\n",
      "Notes:\n",
      "[1] Standard Errors assume that the covariance matrix of the errors is correctly specified.\n",
      "[2] The condition number is large, 4.08e+04. This might indicate that there are\n",
      "strong multicollinearity or other numerical problems.\n",
      "Classification accuracy = 56.5%\n",
      "Precision = 10.5%\n",
      "TPR or Recall = 87.1%\n",
      "FNR = 12.9%\n",
      "FPR = 45.3%\n",
      "ROC-AUC = 83.2%\n",
      "F1 = 0.18685121107266436\n",
      "model number 6\n",
      "                            OLS Regression Results                            \n",
      "==============================================================================\n",
      "Dep. Variable:                 stroke   R-squared:                       0.084\n",
      "Model:                            OLS   Adj. R-squared:                  0.080\n",
      "Method:                 Least Squares   F-statistic:                     20.84\n",
      "Date:                Mon, 13 Mar 2023   Prob (F-statistic):           6.23e-55\n",
      "Time:                        21:26:53   Log-Likelihood:                 778.96\n",
      "No. Observations:                3441   AIC:                            -1526.\n",
      "Df Residuals:                    3425   BIC:                            -1428.\n",
      "Df Model:                          15                                         \n",
      "Covariance Type:            nonrobust                                         \n",
      "==============================================================================================================================\n",
      "                                                                 coef    std err          t      P>|t|      [0.025      0.975]\n",
      "------------------------------------------------------------------------------------------------------------------------------\n",
      "Intercept                                                      0.0127      0.025      0.519      0.604      -0.035       0.061\n",
      "glucose_level_binned[T.Interval(140, 160, closed='right')]    -0.0152      0.019     -0.785      0.433      -0.053       0.023\n",
      "glucose_level_binned[T.Interval(160, 180, closed='right')]     0.0809      0.027      2.978      0.003       0.028       0.134\n",
      "glucose_level_binned[T.Interval(180, 200, closed='right')]     0.0755      0.020      3.716      0.000       0.036       0.115\n",
      "glucose_level_binned[T.Interval(200, 220, closed='right')]     0.0049      0.017      0.292      0.771      -0.028       0.038\n",
      "glucose_level_binned[T.Interval(220, 240, closed='right')]     0.0164      0.021      0.783      0.433      -0.025       0.058\n",
      "glucose_level_binned[T.Interval(240, 260, closed='right')]     0.1484      0.036      4.078      0.000       0.077       0.220\n",
      "glucose_level_binned[T.Interval(260, 280, closed='right')]     0.0646      0.079      0.814      0.416      -0.091       0.220\n",
      "bmi                                                           -0.0021      0.001     -2.117      0.034      -0.004      -0.000\n",
      "I(imputed_bmi * age)                                        1.243e-05   1.13e-05      1.105      0.269   -9.64e-06    3.45e-05\n",
      "age                                                            0.0010      0.001      1.695      0.090      -0.000       0.002\n",
      "hypertension                                                   0.0400      0.012      3.332      0.001       0.016       0.064\n",
      "heart_disease                                                 -1.0185      0.536     -1.900      0.058      -2.070       0.033\n",
      "heart_disease:bmi                                              0.0251      0.017      1.452      0.147      -0.009       0.059\n",
      "heart_disease:age                                              0.0146      0.008      1.838      0.066      -0.001       0.030\n",
      "bmi:age                                                     1.243e-05   1.13e-05      1.105      0.269   -9.64e-06    3.45e-05\n",
      "heart_disease:bmi:age                                         -0.0003      0.000     -1.238      0.216      -0.001       0.000\n",
      "==============================================================================\n",
      "Omnibus:                     2796.714   Durbin-Watson:                   2.005\n",
      "Prob(Omnibus):                  0.000   Jarque-Bera (JB):            45776.344\n",
      "Skew:                           3.994   Prob(JB):                         0.00\n",
      "Kurtosis:                      18.984   Cond. No.                     2.89e+16\n",
      "==============================================================================\n",
      "\n",
      "Notes:\n",
      "[1] Standard Errors assume that the covariance matrix of the errors is correctly specified.\n",
      "[2] The smallest eigenvalue is 1.88e-23. This might indicate that there are\n",
      "strong multicollinearity problems or that the design matrix is singular.\n",
      "Classification accuracy = 56.4%\n",
      "Precision = 10.5%\n",
      "TPR or Recall = 87.1%\n",
      "FNR = 12.9%\n",
      "FPR = 45.4%\n",
      "ROC-AUC = 83.2%\n",
      "F1 = 0.18685121107266436\n",
      "model number 7\n",
      "                            OLS Regression Results                            \n",
      "==============================================================================\n",
      "Dep. Variable:                 stroke   R-squared:                       0.089\n",
      "Model:                            OLS   Adj. R-squared:                  0.084\n",
      "Method:                 Least Squares   F-statistic:                     17.58\n",
      "Date:                Mon, 13 Mar 2023   Prob (F-statistic):           1.92e-56\n",
      "Time:                        21:26:53   Log-Likelihood:                 788.98\n",
      "No. Observations:                3441   AIC:                            -1538.\n",
      "Df Residuals:                    3421   BIC:                            -1415.\n",
      "Df Model:                          19                                         \n",
      "Covariance Type:            nonrobust                                         \n",
      "============================================================================================================================================\n",
      "                                                                               coef    std err          t      P>|t|      [0.025      0.975]\n",
      "--------------------------------------------------------------------------------------------------------------------------------------------\n",
      "Intercept                                                                    0.0157      0.024      0.645      0.519      -0.032       0.063\n",
      "glucose_level_binned[T.Interval(140, 160, closed='right')]                  -0.0063      0.020     -0.319      0.750      -0.045       0.033\n",
      "glucose_level_binned[T.Interval(160, 180, closed='right')]                   0.0732      0.028      2.648      0.008       0.019       0.127\n",
      "glucose_level_binned[T.Interval(180, 200, closed='right')]                   0.0825      0.021      3.883      0.000       0.041       0.124\n",
      "glucose_level_binned[T.Interval(200, 220, closed='right')]                   0.0012      0.018      0.067      0.947      -0.034       0.037\n",
      "glucose_level_binned[T.Interval(220, 240, closed='right')]                   0.0244      0.023      1.076      0.282      -0.020       0.069\n",
      "glucose_level_binned[T.Interval(240, 260, closed='right')]                   0.1060      0.041      2.610      0.009       0.026       0.186\n",
      "glucose_level_binned[T.Interval(260, 280, closed='right')]                  -0.0873      0.087     -1.007      0.314      -0.257       0.083\n",
      "bmi                                                                         -0.0023      0.001     -2.376      0.018      -0.004      -0.000\n",
      "I(imputed_bmi * age)                                                      3.103e-05    2.2e-05      1.413      0.158    -1.2e-05    7.41e-05\n",
      "age                                                                          0.0009      0.001      1.583      0.114      -0.000       0.002\n",
      "hypertension                                                                 0.0386      0.012      3.210      0.001       0.015       0.062\n",
      "heart_disease                                                                0.0701      0.020      3.574      0.000       0.032       0.109\n",
      "heart_disease:glucose_level_binned[T.Interval(140, 160, closed='right')]    -0.1453      0.083     -1.742      0.082      -0.309       0.018\n",
      "heart_disease:glucose_level_binned[T.Interval(160, 180, closed='right')]     0.2431      0.140      1.731      0.084      -0.032       0.518\n",
      "heart_disease:glucose_level_binned[T.Interval(180, 200, closed='right')]    -0.1059      0.070     -1.504      0.133      -0.244       0.032\n",
      "heart_disease:glucose_level_binned[T.Interval(200, 220, closed='right')]     0.0377      0.047      0.810      0.418      -0.054       0.129\n",
      "heart_disease:glucose_level_binned[T.Interval(220, 240, closed='right')]    -0.0494      0.058     -0.856      0.392      -0.163       0.064\n",
      "heart_disease:glucose_level_binned[T.Interval(240, 260, closed='right')]     0.2207      0.091      2.437      0.015       0.043       0.398\n",
      "heart_disease:glucose_level_binned[T.Interval(260, 280, closed='right')]     0.9046      0.212      4.261      0.000       0.488       1.321\n",
      "==============================================================================\n",
      "Omnibus:                     2816.886   Durbin-Watson:                   1.996\n",
      "Prob(Omnibus):                  0.000   Jarque-Bera (JB):            47172.387\n",
      "Skew:                           4.027   Prob(JB):                         0.00\n",
      "Kurtosis:                      19.253   Cond. No.                     9.90e+04\n",
      "==============================================================================\n",
      "\n",
      "Notes:\n",
      "[1] Standard Errors assume that the covariance matrix of the errors is correctly specified.\n",
      "[2] The condition number is large, 9.9e+04. This might indicate that there are\n",
      "strong multicollinearity or other numerical problems.\n",
      "Classification accuracy = 54.1%\n",
      "Precision = 9.6%\n",
      "TPR or Recall = 83.6%\n",
      "FNR = 16.4%\n",
      "FPR = 47.7%\n",
      "ROC-AUC = 81.1%\n",
      "F1 = 0.17142857142857143\n",
      "model number 8\n"
     ]
    },
    {
     "name": "stdout",
     "output_type": "stream",
     "text": [
      "                            OLS Regression Results                            \n",
      "==============================================================================\n",
      "Dep. Variable:                 stroke   R-squared:                       0.074\n",
      "Model:                            OLS   Adj. R-squared:                  0.070\n",
      "Method:                 Least Squares   F-statistic:                     21.07\n",
      "Date:                Mon, 13 Mar 2023   Prob (F-statistic):           8.24e-49\n",
      "Time:                        21:26:53   Log-Likelihood:                 760.93\n",
      "No. Observations:                3441   AIC:                            -1494.\n",
      "Df Residuals:                    3427   BIC:                            -1408.\n",
      "Df Model:                          13                                         \n",
      "Covariance Type:            nonrobust                                         \n",
      "==============================================================================================================================\n",
      "                                                                 coef    std err          t      P>|t|      [0.025      0.975]\n",
      "------------------------------------------------------------------------------------------------------------------------------\n",
      "Intercept                                                      0.0274      0.027      0.996      0.319      -0.027       0.081\n",
      "glucose_level_binned[T.Interval(140, 160, closed='right')]    -0.0134      0.019     -0.688      0.491      -0.051       0.025\n",
      "glucose_level_binned[T.Interval(160, 180, closed='right')]     0.0809      0.027      2.961      0.003       0.027       0.134\n",
      "glucose_level_binned[T.Interval(180, 200, closed='right')]     0.0738      0.020      3.617      0.000       0.034       0.114\n",
      "glucose_level_binned[T.Interval(200, 220, closed='right')]     0.0135      0.017      0.802      0.423      -0.019       0.046\n",
      "glucose_level_binned[T.Interval(220, 240, closed='right')]     0.0224      0.021      1.066      0.286      -0.019       0.064\n",
      "glucose_level_binned[T.Interval(240, 260, closed='right')]     0.1593      0.037      4.363      0.000       0.088       0.231\n",
      "glucose_level_binned[T.Interval(260, 280, closed='right')]     0.0673      0.080      0.844      0.399      -0.089       0.224\n",
      "Residence_type[T.Urban]                                       -0.0212      0.026     -0.823      0.411      -0.072       0.029\n",
      "bmi                                                           -0.0014      0.001     -2.721      0.007      -0.002      -0.000\n",
      "I(imputed_bmi * age)                                        3.132e-05   2.21e-05      1.418      0.156    -1.2e-05    7.46e-05\n",
      "age                                                            0.0011      0.001      1.843      0.065   -6.98e-05       0.002\n",
      "hypertension                                                   0.0433      0.012      3.595      0.000       0.020       0.067\n",
      "imputed_bmi                                                   -0.0014      0.001     -2.721      0.007      -0.002      -0.000\n",
      "Residence_type[T.Urban]:imputed_bmi                            0.0007      0.001      0.865      0.387      -0.001       0.002\n",
      "==============================================================================\n",
      "Omnibus:                     2816.930   Durbin-Watson:                   2.001\n",
      "Prob(Omnibus):                  0.000   Jarque-Bera (JB):            46191.901\n",
      "Skew:                           4.038   Prob(JB):                         0.00\n",
      "Kurtosis:                      19.030   Cond. No.                     9.12e+17\n",
      "==============================================================================\n",
      "\n",
      "Notes:\n",
      "[1] Standard Errors assume that the covariance matrix of the errors is correctly specified.\n",
      "[2] The smallest eigenvalue is 9.43e-27. This might indicate that there are\n",
      "strong multicollinearity problems or that the design matrix is singular.\n",
      "Classification accuracy = 50.5%\n",
      "Precision = 9.7%\n",
      "TPR or Recall = 90.3%\n",
      "FNR = 9.7%\n",
      "FPR = 51.9%\n",
      "ROC-AUC = 83.3%\n",
      "F1 = 0.17445482866043616\n",
      "model number 9\n",
      "                            OLS Regression Results                            \n",
      "==============================================================================\n",
      "Dep. Variable:                 stroke   R-squared:                       0.074\n",
      "Model:                            OLS   Adj. R-squared:                  0.070\n",
      "Method:                 Least Squares   F-statistic:                     21.05\n",
      "Date:                Mon, 13 Mar 2023   Prob (F-statistic):           9.14e-49\n",
      "Time:                        21:26:53   Log-Likelihood:                 760.82\n",
      "No. Observations:                3441   AIC:                            -1494.\n",
      "Df Residuals:                    3427   BIC:                            -1408.\n",
      "Df Model:                          13                                         \n",
      "Covariance Type:            nonrobust                                         \n",
      "==============================================================================================================================\n",
      "                                                                 coef    std err          t      P>|t|      [0.025      0.975]\n",
      "------------------------------------------------------------------------------------------------------------------------------\n",
      "Intercept                                                      0.0126      0.025      0.496      0.620      -0.037       0.062\n",
      "glucose_level_binned[T.Interval(140, 160, closed='right')]    -0.0128      0.019     -0.658      0.510      -0.051       0.025\n",
      "glucose_level_binned[T.Interval(160, 180, closed='right')]     0.0809      0.027      2.963      0.003       0.027       0.134\n",
      "glucose_level_binned[T.Interval(180, 200, closed='right')]     0.0737      0.020      3.613      0.000       0.034       0.114\n",
      "glucose_level_binned[T.Interval(200, 220, closed='right')]     0.0135      0.017      0.801      0.423      -0.019       0.046\n",
      "glucose_level_binned[T.Interval(220, 240, closed='right')]     0.0216      0.021      1.027      0.305      -0.020       0.063\n",
      "glucose_level_binned[T.Interval(240, 260, closed='right')]     0.1596      0.037      4.371      0.000       0.088       0.231\n",
      "glucose_level_binned[T.Interval(260, 280, closed='right')]     0.0646      0.080      0.809      0.419      -0.092       0.221\n",
      "Residence_type[T.Urban]                                        0.0096      0.014      0.672      0.502      -0.018       0.038\n",
      "bmi                                                           -0.0025      0.001     -2.602      0.009      -0.004      -0.001\n",
      "I(imputed_bmi * age)                                        3.205e-05   2.21e-05      1.451      0.147   -1.13e-05    7.54e-05\n",
      "age                                                            0.0012      0.001      1.945      0.052   -9.81e-06       0.002\n",
      "Residence_type[T.Urban]:age                                   -0.0002      0.000     -0.731      0.465      -0.001       0.000\n",
      "hypertension                                                   0.0431      0.012      3.576      0.000       0.019       0.067\n",
      "==============================================================================\n",
      "Omnibus:                     2817.334   Durbin-Watson:                   2.000\n",
      "Prob(Omnibus):                  0.000   Jarque-Bera (JB):            46217.639\n",
      "Skew:                           4.039   Prob(JB):                         0.00\n",
      "Kurtosis:                      19.035   Cond. No.                     3.64e+04\n",
      "==============================================================================\n",
      "\n",
      "Notes:\n",
      "[1] Standard Errors assume that the covariance matrix of the errors is correctly specified.\n",
      "[2] The condition number is large, 3.64e+04. This might indicate that there are\n",
      "strong multicollinearity or other numerical problems.\n",
      "Classification accuracy = 50.0%\n",
      "Precision = 9.7%\n",
      "TPR or Recall = 91.9%\n",
      "FNR = 8.1%\n",
      "FPR = 52.6%\n",
      "ROC-AUC = 83.0%\n",
      "F1 = 0.17565485362095531\n",
      "model number 10\n",
      "                            OLS Regression Results                            \n",
      "==============================================================================\n",
      "Dep. Variable:                 stroke   R-squared:                       0.074\n",
      "Model:                            OLS   Adj. R-squared:                  0.070\n",
      "Method:                 Least Squares   F-statistic:                     18.37\n",
      "Date:                Mon, 13 Mar 2023   Prob (F-statistic):           7.91e-48\n",
      "Time:                        21:26:54   Log-Likelihood:                 761.77\n",
      "No. Observations:                3441   AIC:                            -1492.\n",
      "Df Residuals:                    3425   BIC:                            -1393.\n",
      "Df Model:                          15                                         \n",
      "Covariance Type:            nonrobust                                         \n",
      "==============================================================================================================================\n",
      "                                                                 coef    std err          t      P>|t|      [0.025      0.975]\n",
      "------------------------------------------------------------------------------------------------------------------------------\n",
      "Intercept                                                      0.0107      0.035      0.307      0.759      -0.057       0.079\n",
      "glucose_level_binned[T.Interval(140, 160, closed='right')]    -0.0128      0.019     -0.661      0.509      -0.051       0.025\n",
      "glucose_level_binned[T.Interval(160, 180, closed='right')]     0.0819      0.027      2.996      0.003       0.028       0.135\n",
      "glucose_level_binned[T.Interval(180, 200, closed='right')]     0.0742      0.020      3.638      0.000       0.034       0.114\n",
      "glucose_level_binned[T.Interval(200, 220, closed='right')]     0.0136      0.017      0.807      0.420      -0.019       0.047\n",
      "glucose_level_binned[T.Interval(220, 240, closed='right')]     0.0225      0.021      1.068      0.285      -0.019       0.064\n",
      "glucose_level_binned[T.Interval(240, 260, closed='right')]     0.1592      0.037      4.360      0.000       0.088       0.231\n",
      "glucose_level_binned[T.Interval(260, 280, closed='right')]     0.0655      0.080      0.820      0.412      -0.091       0.222\n",
      "Residence_type[T.Urban]                                        0.0123      0.049      0.251      0.802      -0.083       0.108\n",
      "bmi                                                           -0.0024      0.001     -1.780      0.075      -0.005       0.000\n",
      "Residence_type[T.Urban]:bmi                                -8.332e-05      0.002     -0.043      0.965      -0.004       0.004\n",
      "I(imputed_bmi * age)                                        8.081e-06   1.58e-05      0.513      0.608   -2.28e-05     3.9e-05\n",
      "age                                                            0.0017      0.001      1.962      0.050    8.32e-07       0.003\n",
      "Residence_type[T.Urban]:age                                   -0.0011      0.001     -0.957      0.339      -0.003       0.001\n",
      "hypertension                                                   0.0432      0.012      3.589      0.000       0.020       0.067\n",
      "bmi:age                                                     8.081e-06   1.58e-05      0.513      0.608   -2.28e-05     3.9e-05\n",
      "Residence_type[T.Urban]:bmi:age                             2.996e-05   4.33e-05      0.692      0.489   -5.49e-05       0.000\n",
      "==============================================================================\n",
      "Omnibus:                     2815.379   Durbin-Watson:                   2.001\n",
      "Prob(Omnibus):                  0.000   Jarque-Bera (JB):            46123.701\n",
      "Skew:                           4.035   Prob(JB):                         0.00\n",
      "Kurtosis:                      19.018   Cond. No.                     2.34e+16\n",
      "==============================================================================\n",
      "\n",
      "Notes:\n",
      "[1] Standard Errors assume that the covariance matrix of the errors is correctly specified.\n",
      "[2] The smallest eigenvalue is 3.28e-23. This might indicate that there are\n",
      "strong multicollinearity problems or that the design matrix is singular.\n"
     ]
    },
    {
     "name": "stdout",
     "output_type": "stream",
     "text": [
      "Classification accuracy = 50.7%\n",
      "Precision = 9.7%\n",
      "TPR or Recall = 90.3%\n",
      "FNR = 9.7%\n",
      "FPR = 51.7%\n",
      "ROC-AUC = 83.1%\n",
      "F1 = 0.1755485893416928\n",
      "model number 11\n",
      "                            OLS Regression Results                            \n",
      "==============================================================================\n",
      "Dep. Variable:                 stroke   R-squared:                       0.076\n",
      "Model:                            OLS   Adj. R-squared:                  0.071\n",
      "Method:                 Least Squares   F-statistic:                     14.86\n",
      "Date:                Mon, 13 Mar 2023   Prob (F-statistic):           1.10e-46\n",
      "Time:                        21:26:54   Log-Likelihood:                 765.07\n",
      "No. Observations:                3441   AIC:                            -1490.\n",
      "Df Residuals:                    3421   BIC:                            -1367.\n",
      "Df Model:                          19                                         \n",
      "Covariance Type:            nonrobust                                         \n",
      "======================================================================================================================================================\n",
      "                                                                                         coef    std err          t      P>|t|      [0.025      0.975]\n",
      "------------------------------------------------------------------------------------------------------------------------------------------------------\n",
      "Intercept                                                                              0.0170      0.025      0.684      0.494      -0.032       0.066\n",
      "glucose_level_binned[T.Interval(140, 160, closed='right')]                            -0.0245      0.028     -0.886      0.376      -0.079       0.030\n",
      "glucose_level_binned[T.Interval(160, 180, closed='right')]                             0.1166      0.036      3.246      0.001       0.046       0.187\n",
      "glucose_level_binned[T.Interval(180, 200, closed='right')]                             0.0957      0.028      3.364      0.001       0.040       0.152\n",
      "glucose_level_binned[T.Interval(200, 220, closed='right')]                            -0.0193      0.023     -0.838      0.402      -0.065       0.026\n",
      "glucose_level_binned[T.Interval(220, 240, closed='right')]                             0.0188      0.028      0.672      0.502      -0.036       0.073\n",
      "glucose_level_binned[T.Interval(240, 260, closed='right')]                             0.1632      0.056      2.889      0.004       0.052       0.274\n",
      "glucose_level_binned[T.Interval(260, 280, closed='right')]                             0.0887      0.087      1.014      0.311      -0.083       0.260\n",
      "Residence_type[T.Urban]                                                               -0.0008      0.007     -0.115      0.908      -0.015       0.013\n",
      "Residence_type[T.Urban]:glucose_level_binned[T.Interval(140, 160, closed='right')]     0.0224      0.039      0.578      0.564      -0.054       0.099\n",
      "Residence_type[T.Urban]:glucose_level_binned[T.Interval(160, 180, closed='right')]    -0.0847      0.055     -1.538      0.124      -0.193       0.023\n",
      "Residence_type[T.Urban]:glucose_level_binned[T.Interval(180, 200, closed='right')]    -0.0442      0.040     -1.103      0.270      -0.123       0.034\n",
      "Residence_type[T.Urban]:glucose_level_binned[T.Interval(200, 220, closed='right')]     0.0680      0.033      2.089      0.037       0.004       0.132\n",
      "Residence_type[T.Urban]:glucose_level_binned[T.Interval(220, 240, closed='right')]     0.0082      0.041      0.198      0.843      -0.073       0.089\n",
      "Residence_type[T.Urban]:glucose_level_binned[T.Interval(240, 260, closed='right')]    -0.0057      0.074     -0.078      0.938      -0.150       0.139\n",
      "Residence_type[T.Urban]:glucose_level_binned[T.Interval(260, 280, closed='right')]    -0.1311      0.213     -0.615      0.539      -0.549       0.287\n",
      "bmi                                                                                   -0.0025      0.001     -2.568      0.010      -0.004      -0.001\n",
      "I(imputed_bmi * age)                                                                3.062e-05   2.21e-05      1.385      0.166   -1.27e-05     7.4e-05\n",
      "age                                                                                    0.0011      0.001      1.885      0.059   -4.47e-05       0.002\n",
      "hypertension                                                                           0.0420      0.012      3.486      0.000       0.018       0.066\n",
      "==============================================================================\n",
      "Omnibus:                     2810.558   Durbin-Watson:                   1.997\n",
      "Prob(Omnibus):                  0.000   Jarque-Bera (JB):            45943.693\n",
      "Skew:                           4.026   Prob(JB):                         0.00\n",
      "Kurtosis:                      18.988   Cond. No.                     9.87e+04\n",
      "==============================================================================\n",
      "\n",
      "Notes:\n",
      "[1] Standard Errors assume that the covariance matrix of the errors is correctly specified.\n",
      "[2] The condition number is large, 9.87e+04. This might indicate that there are\n",
      "strong multicollinearity or other numerical problems.\n",
      "Classification accuracy = 50.8%\n",
      "Precision = 9.7%\n",
      "TPR or Recall = 90.3%\n",
      "FNR = 9.7%\n",
      "FPR = 51.6%\n",
      "ROC-AUC = 83.2%\n",
      "F1 = 0.1752738654147105\n",
      "model number 12\n",
      "                            OLS Regression Results                            \n",
      "==============================================================================\n",
      "Dep. Variable:                 stroke   R-squared:                       0.075\n",
      "Model:                            OLS   Adj. R-squared:                  0.070\n",
      "Method:                 Least Squares   F-statistic:                     16.29\n",
      "Date:                Mon, 13 Mar 2023   Prob (F-statistic):           7.40e-47\n",
      "Time:                        21:26:54   Log-Likelihood:                 762.49\n",
      "No. Observations:                3441   AIC:                            -1489.\n",
      "Df Residuals:                    3423   BIC:                            -1378.\n",
      "Df Model:                          17                                         \n",
      "Covariance Type:            nonrobust                                         \n",
      "==============================================================================================================================\n",
      "                                                                 coef    std err          t      P>|t|      [0.025      0.975]\n",
      "------------------------------------------------------------------------------------------------------------------------------\n",
      "Intercept                                                      0.0317      0.026      1.207      0.227      -0.020       0.083\n",
      "glucose_level_binned[T.Interval(140, 160, closed='right')]    -0.0133      0.019     -0.685      0.493      -0.051       0.025\n",
      "glucose_level_binned[T.Interval(160, 180, closed='right')]     0.0806      0.027      2.950      0.003       0.027       0.134\n",
      "glucose_level_binned[T.Interval(180, 200, closed='right')]     0.0743      0.020      3.637      0.000       0.034       0.114\n",
      "glucose_level_binned[T.Interval(200, 220, closed='right')]     0.0132      0.017      0.785      0.432      -0.020       0.046\n",
      "glucose_level_binned[T.Interval(220, 240, closed='right')]     0.0217      0.021      1.029      0.304      -0.020       0.063\n",
      "glucose_level_binned[T.Interval(240, 260, closed='right')]     0.1597      0.037      4.371      0.000       0.088       0.231\n",
      "glucose_level_binned[T.Interval(260, 280, closed='right')]     0.0676      0.080      0.847      0.397      -0.089       0.224\n",
      "smoking_status[T.formerly smoked]                             -0.0438      0.046     -0.950      0.342      -0.134       0.047\n",
      "smoking_status[T.never smoked]                                -0.0603      0.034     -1.772      0.076      -0.127       0.006\n",
      "smoking_status[T.smokes]                                      -0.0592      0.044     -1.355      0.176      -0.145       0.026\n",
      "bmi                                                           -0.0015      0.001     -2.838      0.005      -0.003      -0.000\n",
      "I(imputed_bmi * age)                                        1.515e-05   2.44e-05      0.621      0.535   -3.27e-05     6.3e-05\n",
      "age                                                            0.0016      0.001      2.390      0.017       0.000       0.003\n",
      "hypertension                                                   0.0425      0.012      3.518      0.000       0.019       0.066\n",
      "imputed_bmi                                                   -0.0015      0.001     -2.838      0.005      -0.003      -0.000\n",
      "smoking_status[T.formerly smoked]:imputed_bmi                  0.0014      0.001      0.954      0.340      -0.002       0.004\n",
      "smoking_status[T.never smoked]:imputed_bmi                     0.0019      0.001      1.650      0.099      -0.000       0.004\n",
      "smoking_status[T.smokes]:imputed_bmi                           0.0020      0.001      1.396      0.163      -0.001       0.005\n",
      "==============================================================================\n",
      "Omnibus:                     2814.218   Durbin-Watson:                   1.997\n",
      "Prob(Omnibus):                  0.000   Jarque-Bera (JB):            46064.662\n",
      "Skew:                           4.033   Prob(JB):                         0.00\n",
      "Kurtosis:                      19.007   Cond. No.                     6.67e+17\n",
      "==============================================================================\n",
      "\n",
      "Notes:\n",
      "[1] Standard Errors assume that the covariance matrix of the errors is correctly specified.\n",
      "[2] The smallest eigenvalue is 1.76e-26. This might indicate that there are\n",
      "strong multicollinearity problems or that the design matrix is singular.\n"
     ]
    },
    {
     "name": "stdout",
     "output_type": "stream",
     "text": [
      "Classification accuracy = 50.1%\n",
      "Precision = 9.7%\n",
      "TPR or Recall = 90.3%\n",
      "FNR = 9.7%\n",
      "FPR = 52.3%\n",
      "ROC-AUC = 83.4%\n",
      "F1 = 0.17445482866043616\n",
      "model number 13\n",
      "                            OLS Regression Results                            \n",
      "==============================================================================\n",
      "Dep. Variable:                 stroke   R-squared:                       0.078\n",
      "Model:                            OLS   Adj. R-squared:                  0.074\n",
      "Method:                 Least Squares   F-statistic:                     17.11\n",
      "Date:                Mon, 13 Mar 2023   Prob (F-statistic):           1.63e-49\n",
      "Time:                        21:26:55   Log-Likelihood:                 768.98\n",
      "No. Observations:                3441   AIC:                            -1502.\n",
      "Df Residuals:                    3423   BIC:                            -1391.\n",
      "Df Model:                          17                                         \n",
      "Covariance Type:            nonrobust                                         \n",
      "==============================================================================================================================\n",
      "                                                                 coef    std err          t      P>|t|      [0.025      0.975]\n",
      "------------------------------------------------------------------------------------------------------------------------------\n",
      "Intercept                                                      0.0024      0.025      0.095      0.925      -0.046       0.051\n",
      "glucose_level_binned[T.Interval(140, 160, closed='right')]    -0.0121      0.019     -0.623      0.533      -0.050       0.026\n",
      "glucose_level_binned[T.Interval(160, 180, closed='right')]     0.0830      0.027      3.043      0.002       0.030       0.137\n",
      "glucose_level_binned[T.Interval(180, 200, closed='right')]     0.0733      0.020      3.596      0.000       0.033       0.113\n",
      "glucose_level_binned[T.Interval(200, 220, closed='right')]     0.0130      0.017      0.773      0.439      -0.020       0.046\n",
      "glucose_level_binned[T.Interval(220, 240, closed='right')]     0.0205      0.021      0.977      0.329      -0.021       0.062\n",
      "glucose_level_binned[T.Interval(240, 260, closed='right')]     0.1566      0.036      4.292      0.000       0.085       0.228\n",
      "glucose_level_binned[T.Interval(260, 280, closed='right')]     0.0619      0.080      0.777      0.437      -0.094       0.218\n",
      "smoking_status[T.formerly smoked]                             -0.0466      0.029     -1.617      0.106      -0.103       0.010\n",
      "smoking_status[T.never smoked]                                -0.0581      0.018     -3.223      0.001      -0.093      -0.023\n",
      "smoking_status[T.smokes]                                      -0.0770      0.028     -2.743      0.006      -0.132      -0.022\n",
      "bmi                                                           -0.0008      0.001     -0.768      0.443      -0.003       0.001\n",
      "I(imputed_bmi * age)                                        9.343e-07   2.37e-05      0.039      0.969   -4.56e-05    4.74e-05\n",
      "age                                                            0.0011      0.001      1.815      0.070   -9.05e-05       0.002\n",
      "smoking_status[T.formerly smoked]:age                          0.0011      0.001      2.055      0.040    5.08e-05       0.002\n",
      "smoking_status[T.never smoked]:age                             0.0013      0.000      3.429      0.001       0.001       0.002\n",
      "smoking_status[T.smokes]:age                                   0.0018      0.001      3.124      0.002       0.001       0.003\n",
      "hypertension                                                   0.0385      0.012      3.177      0.002       0.015       0.062\n",
      "==============================================================================\n",
      "Omnibus:                     2802.875   Durbin-Watson:                   2.002\n",
      "Prob(Omnibus):                  0.000   Jarque-Bera (JB):            45556.677\n",
      "Skew:                           4.011   Prob(JB):                         0.00\n",
      "Kurtosis:                      18.918   Cond. No.                     3.64e+04\n",
      "==============================================================================\n",
      "\n",
      "Notes:\n",
      "[1] Standard Errors assume that the covariance matrix of the errors is correctly specified.\n",
      "[2] The condition number is large, 3.64e+04. This might indicate that there are\n",
      "strong multicollinearity or other numerical problems.\n",
      "Classification accuracy = 52.6%\n",
      "Precision = 9.9%\n",
      "TPR or Recall = 90.2%\n",
      "FNR = 9.8%\n",
      "FPR = 49.7%\n",
      "ROC-AUC = 83.1%\n",
      "F1 = 0.17886178861788618\n",
      "model number 14\n",
      "                            OLS Regression Results                            \n",
      "==============================================================================\n",
      "Dep. Variable:                 stroke   R-squared:                       0.079\n",
      "Model:                            OLS   Adj. R-squared:                  0.072\n",
      "Method:                 Least Squares   F-statistic:                     12.66\n",
      "Date:                Mon, 13 Mar 2023   Prob (F-statistic):           4.46e-46\n",
      "Time:                        21:26:55   Log-Likelihood:                 769.31\n",
      "No. Observations:                3441   AIC:                            -1491.\n",
      "Df Residuals:                    3417   BIC:                            -1343.\n",
      "Df Model:                          23                                         \n",
      "Covariance Type:            nonrobust                                         \n",
      "==============================================================================================================================\n",
      "                                                                 coef    std err          t      P>|t|      [0.025      0.975]\n",
      "------------------------------------------------------------------------------------------------------------------------------\n",
      "Intercept                                                      0.0024      0.034      0.071      0.943      -0.064       0.069\n",
      "glucose_level_binned[T.Interval(140, 160, closed='right')]    -0.0122      0.019     -0.627      0.531      -0.050       0.026\n",
      "glucose_level_binned[T.Interval(160, 180, closed='right')]     0.0833      0.027      3.047      0.002       0.030       0.137\n",
      "glucose_level_binned[T.Interval(180, 200, closed='right')]     0.0732      0.020      3.584      0.000       0.033       0.113\n",
      "glucose_level_binned[T.Interval(200, 220, closed='right')]     0.0128      0.017      0.761      0.447      -0.020       0.046\n",
      "glucose_level_binned[T.Interval(220, 240, closed='right')]     0.0198      0.021      0.938      0.348      -0.022       0.061\n",
      "glucose_level_binned[T.Interval(240, 260, closed='right')]     0.1571      0.037      4.299      0.000       0.085       0.229\n",
      "glucose_level_binned[T.Interval(260, 280, closed='right')]     0.0621      0.080      0.779      0.436      -0.094       0.219\n",
      "smoking_status[T.formerly smoked]                             -0.0187      0.111     -0.169      0.866      -0.236       0.199\n",
      "smoking_status[T.never smoked]                                -0.0558      0.066     -0.848      0.396      -0.185       0.073\n",
      "smoking_status[T.smokes]                                      -0.1141      0.105     -1.088      0.277      -0.320       0.092\n",
      "bmi                                                           -0.0009      0.002     -0.567      0.571      -0.004       0.002\n",
      "smoking_status[T.formerly smoked]:bmi                         -0.0010      0.004     -0.245      0.807      -0.009       0.007\n",
      "smoking_status[T.never smoked]:bmi                         -5.231e-05      0.002     -0.021      0.983      -0.005       0.005\n",
      "smoking_status[T.smokes]:bmi                                   0.0013      0.004      0.356      0.722      -0.006       0.008\n",
      "I(imputed_bmi * age)                                       -5.476e-06   1.89e-05     -0.290      0.772   -4.25e-05    3.15e-05\n",
      "age                                                            0.0015      0.001      1.501      0.133      -0.000       0.003\n",
      "smoking_status[T.formerly smoked]:age                          0.0002      0.002      0.089      0.929      -0.004       0.005\n",
      "smoking_status[T.never smoked]:age                             0.0008      0.002      0.494      0.622      -0.002       0.004\n",
      "smoking_status[T.smokes]:age                                   0.0021      0.002      0.851      0.395      -0.003       0.007\n",
      "hypertension                                                   0.0381      0.012      3.144      0.002       0.014       0.062\n",
      "bmi:age                                                    -5.476e-06   1.89e-05     -0.290      0.772   -4.25e-05    3.15e-05\n",
      "smoking_status[T.formerly smoked]:bmi:age                    3.07e-05   7.79e-05      0.394      0.694      -0.000       0.000\n",
      "smoking_status[T.never smoked]:bmi:age                      1.778e-05   5.66e-05      0.314      0.753   -9.31e-05       0.000\n",
      "smoking_status[T.smokes]:bmi:age                           -9.289e-06   8.29e-05     -0.112      0.911      -0.000       0.000\n",
      "==============================================================================\n",
      "Omnibus:                     2802.313   Durbin-Watson:                   2.002\n",
      "Prob(Omnibus):                  0.000   Jarque-Bera (JB):            45526.193\n",
      "Skew:                           4.010   Prob(JB):                         0.00\n",
      "Kurtosis:                      18.912   Cond. No.                     3.88e+15\n",
      "==============================================================================\n",
      "\n",
      "Notes:\n",
      "[1] Standard Errors assume that the covariance matrix of the errors is correctly specified.\n",
      "[2] The smallest eigenvalue is 1.18e-21. This might indicate that there are\n",
      "strong multicollinearity problems or that the design matrix is singular.\n"
     ]
    },
    {
     "name": "stdout",
     "output_type": "stream",
     "text": [
      "Classification accuracy = 53.0%\n",
      "Precision = 10.1%\n",
      "TPR or Recall = 91.8%\n",
      "FNR = 8.2%\n",
      "FPR = 49.3%\n",
      "ROC-AUC = 83.1%\n",
      "F1 = 0.18241042345276873\n",
      "model number 15\n",
      "                            OLS Regression Results                            \n",
      "==============================================================================\n",
      "Dep. Variable:                 stroke   R-squared:                       0.091\n",
      "Model:                            OLS   Adj. R-squared:                  0.082\n",
      "Method:                 Least Squares   F-statistic:                     10.06\n",
      "Date:                Mon, 13 Mar 2023   Prob (F-statistic):           1.08e-49\n",
      "Time:                        21:26:56   Log-Likelihood:                 793.32\n",
      "No. Observations:                3441   AIC:                            -1517.\n",
      "Df Residuals:                    3406   BIC:                            -1302.\n",
      "Df Model:                          34                                         \n",
      "Covariance Type:            nonrobust                                         \n",
      "================================================================================================================================================================\n",
      "                                                                                                   coef    std err          t      P>|t|      [0.025      0.975]\n",
      "----------------------------------------------------------------------------------------------------------------------------------------------------------------\n",
      "Intercept                                                                                        0.0132      0.025      0.537      0.591      -0.035       0.062\n",
      "glucose_level_binned[T.Interval(140, 160, closed='right')]                                       0.0046      0.033      0.139      0.889      -0.061       0.070\n",
      "glucose_level_binned[T.Interval(160, 180, closed='right')]                                       0.0614      0.061      0.999      0.318      -0.059       0.182\n",
      "glucose_level_binned[T.Interval(180, 200, closed='right')]                                      -0.0014      0.047     -0.029      0.977      -0.094       0.092\n",
      "glucose_level_binned[T.Interval(200, 220, closed='right')]                                       0.0250      0.044      0.566      0.571      -0.061       0.111\n",
      "glucose_level_binned[T.Interval(220, 240, closed='right')]                                      -0.0821      0.065     -1.262      0.207      -0.210       0.045\n",
      "glucose_level_binned[T.Interval(240, 260, closed='right')]                                      -0.0846      0.097     -0.872      0.383      -0.275       0.106\n",
      "glucose_level_binned[T.Interval(260, 280, closed='right')]                                       0.1743      0.066      2.653      0.008       0.045       0.303\n",
      "smoking_status[T.formerly smoked]                                                               -0.0081      0.012     -0.676      0.499      -0.032       0.015\n",
      "smoking_status[T.never smoked]                                                                  -0.0085      0.009     -0.905      0.365      -0.027       0.010\n",
      "smoking_status[T.smokes]                                                                        -0.0120      0.012     -1.023      0.306      -0.035       0.011\n",
      "smoking_status[T.formerly smoked]:glucose_level_binned[T.Interval(140, 160, closed='right')]    -0.0126      0.055     -0.229      0.819      -0.121       0.096\n",
      "smoking_status[T.never smoked]:glucose_level_binned[T.Interval(140, 160, closed='right')]       -0.0280      0.047     -0.596      0.552      -0.120       0.064\n",
      "smoking_status[T.smokes]:glucose_level_binned[T.Interval(140, 160, closed='right')]             -0.0453      0.062     -0.730      0.465      -0.167       0.076\n",
      "smoking_status[T.formerly smoked]:glucose_level_binned[T.Interval(160, 180, closed='right')]     0.1437      0.087      1.649      0.099      -0.027       0.314\n",
      "smoking_status[T.never smoked]:glucose_level_binned[T.Interval(160, 180, closed='right')]       -0.0116      0.075     -0.154      0.878      -0.159       0.136\n",
      "smoking_status[T.smokes]:glucose_level_binned[T.Interval(160, 180, closed='right')]             -0.0141      0.083     -0.169      0.866      -0.178       0.150\n",
      "smoking_status[T.formerly smoked]:glucose_level_binned[T.Interval(180, 200, closed='right')]     0.1442      0.066      2.173      0.030       0.014       0.274\n",
      "smoking_status[T.never smoked]:glucose_level_binned[T.Interval(180, 200, closed='right')]        0.0456      0.055      0.828      0.408      -0.062       0.154\n",
      "smoking_status[T.smokes]:glucose_level_binned[T.Interval(180, 200, closed='right')]              0.1912      0.072      2.652      0.008       0.050       0.333\n",
      "smoking_status[T.formerly smoked]:glucose_level_binned[T.Interval(200, 220, closed='right')]    -0.0224      0.053     -0.425      0.671      -0.126       0.081\n",
      "smoking_status[T.never smoked]:glucose_level_binned[T.Interval(200, 220, closed='right')]       -0.0456      0.051     -0.893      0.372      -0.146       0.055\n",
      "smoking_status[T.smokes]:glucose_level_binned[T.Interval(200, 220, closed='right')]              0.0840      0.059      1.421      0.155      -0.032       0.200\n",
      "smoking_status[T.formerly smoked]:glucose_level_binned[T.Interval(220, 240, closed='right')]     0.0372      0.076      0.489      0.625      -0.112       0.186\n",
      "smoking_status[T.never smoked]:glucose_level_binned[T.Interval(220, 240, closed='right')]        0.1759      0.072      2.459      0.014       0.036       0.316\n",
      "smoking_status[T.smokes]:glucose_level_binned[T.Interval(220, 240, closed='right')]              0.0891      0.081      1.107      0.269      -0.069       0.247\n",
      "smoking_status[T.formerly smoked]:glucose_level_binned[T.Interval(240, 260, closed='right')]     0.3540      0.125      2.825      0.005       0.108       0.600\n",
      "smoking_status[T.never smoked]:glucose_level_binned[T.Interval(240, 260, closed='right')]        0.2614      0.113      2.307      0.021       0.039       0.483\n",
      "smoking_status[T.smokes]:glucose_level_binned[T.Interval(240, 260, closed='right')]              0.2639      0.119      2.220      0.026       0.031       0.497\n",
      "smoking_status[T.formerly smoked]:glucose_level_binned[T.Interval(260, 280, closed='right')]    -0.2464      0.117     -2.107      0.035      -0.476      -0.017\n",
      "smoking_status[T.never smoked]:glucose_level_binned[T.Interval(260, 280, closed='right')]       -0.2849      0.103     -2.776      0.006      -0.486      -0.084\n",
      "smoking_status[T.smokes]:glucose_level_binned[T.Interval(260, 280, closed='right')]              0.7056      0.152      4.652      0.000       0.408       1.003\n",
      "bmi                                                                                             -0.0022      0.001     -2.185      0.029      -0.004      -0.000\n",
      "I(imputed_bmi * age)                                                                          2.312e-05   2.26e-05      1.021      0.307   -2.13e-05    6.75e-05\n",
      "age                                                                                              0.0014      0.001      2.205      0.028       0.000       0.003\n",
      "hypertension                                                                                     0.0448      0.012      3.707      0.000       0.021       0.068\n",
      "==============================================================================\n",
      "Omnibus:                     2800.355   Durbin-Watson:                   2.008\n",
      "Prob(Omnibus):                  0.000   Jarque-Bera (JB):            46146.867\n",
      "Skew:                           3.998   Prob(JB):                         0.00\n",
      "Kurtosis:                      19.060   Cond. No.                     1.16e+16\n",
      "==============================================================================\n",
      "\n",
      "Notes:\n",
      "[1] Standard Errors assume that the covariance matrix of the errors is correctly specified.\n",
      "[2] The smallest eigenvalue is 5.82e-23. This might indicate that there are\n",
      "strong multicollinearity problems or that the design matrix is singular.\n",
      "Classification accuracy = 51.3%\n",
      "Precision = 9.4%\n",
      "TPR or Recall = 85.2%\n",
      "FNR = 14.8%\n",
      "FPR = 50.8%\n",
      "ROC-AUC = 81.3%\n",
      "F1 = 0.1691056910569106\n"
     ]
    },
    {
     "data": {
      "image/png": "[encoded data removed]",
      "text/plain": [
       "<Figure size 432x288 with 17 Axes>"
      ]
     },
     "metadata": {
      "needs_background": "light"
     },
     "output_type": "display_data"
    }
   ],
   "source": [
    "#we thought there might be more interaction terms, especially with categorical variables\n",
    "potential_interaction_cat = ['hypertension', 'heart_disease', 'Residence_type', 'smoking_status']\n",
    "quantitative_interaction = ['imputed_bmi', 'age', 'bmi*age', 'glucose_level_binned']\n",
    "formula_list = []\n",
    "i = 0\n",
    "# look for possible interactions with categorical variables\n",
    "for categorical_var in potential_interaction_cat:\n",
    "    for quantitative_var in quantitative_interaction:\n",
    "        var0 = categorical_var\n",
    "        var1 = quantitative_var\n",
    "        model_formula = 'stroke~bmi+I(imputed_bmi*age)+age+hypertension+glucose_level_binned+' + '+'.join([var0+\"*\"+var1])\n",
    "        formula_list.append(model_formula)\n",
    "        print(\"model number \" + str(i))\n",
    "        model = sm.ols(formula = model_formula, data=train).fit()\n",
    "        print(model.summary())\n",
    "        confusion_matrix_data(test.dropna(),test.dropna().stroke,model,cutoff=0.05)\n",
    "        i = i + 1"
   ]
  },
  {
   "cell_type": "code",
   "execution_count": 47,
   "id": "1e1c7b8f",
   "metadata": {},
   "outputs": [
    {
     "name": "stdout",
     "output_type": "stream",
     "text": [
      "stroke~bmi+I(imputed_bmi*age)+age+hypertension+glucose_level_binned+heart_disease*age\n",
      "stroke~bmi+I(imputed_bmi*age)+age+hypertension+glucose_level_binned+heart_disease*bmi*age\n",
      "stroke~bmi+I(imputed_bmi*age)+age+hypertension+glucose_level_binned+smoking_status*bmi*age\n"
     ]
    }
   ],
   "source": [
    "# Looking closer at models that gave an F1 greater than 0.18\n",
    "print(formula_list[5])\n",
    "print(formula_list[6])\n",
    "print(formula_list[14])"
   ]
  },
  {
   "cell_type": "markdown",
   "id": "da951be1",
   "metadata": {},
   "source": [
    "Only the 5th formula worked, as the other formulas had too many iterations to retrieve."
   ]
  },
  {
   "cell_type": "code",
   "execution_count": 48,
   "id": "18ffb4fd",
   "metadata": {},
   "outputs": [
    {
     "name": "stdout",
     "output_type": "stream",
     "text": [
      "Optimization terminated successfully.\n",
      "         Current function value: 0.136899\n",
      "         Iterations 10\n"
     ]
    },
    {
     "data": {
      "text/html": [
       "<table class=\"simpletable\">\n",
       "<caption>Logit Regression Results</caption>\n",
       "<tr>\n",
       "  <th>Dep. Variable:</th>        <td>stroke</td>      <th>  No. Observations:  </th>  <td>  3441</td>  \n",
       "</tr>\n",
       "<tr>\n",
       "  <th>Model:</th>                 <td>Logit</td>      <th>  Df Residuals:      </th>  <td>  3427</td>  \n",
       "</tr>\n",
       "<tr>\n",
       "  <th>Method:</th>                 <td>MLE</td>       <th>  Df Model:          </th>  <td>    13</td>  \n",
       "</tr>\n",
       "<tr>\n",
       "  <th>Date:</th>            <td>Mon, 13 Mar 2023</td> <th>  Pseudo R-squ.:     </th>  <td>0.2203</td>  \n",
       "</tr>\n",
       "<tr>\n",
       "  <th>Time:</th>                <td>21:26:57</td>     <th>  Log-Likelihood:    </th> <td> -471.07</td> \n",
       "</tr>\n",
       "<tr>\n",
       "  <th>converged:</th>             <td>True</td>       <th>  LL-Null:           </th> <td> -604.20</td> \n",
       "</tr>\n",
       "<tr>\n",
       "  <th>Covariance Type:</th>     <td>nonrobust</td>    <th>  LLR p-value:       </th> <td>2.647e-49</td>\n",
       "</tr>\n",
       "</table>\n",
       "<table class=\"simpletable\">\n",
       "<tr>\n",
       "                               <td></td>                                 <th>coef</th>     <th>std err</th>      <th>z</th>      <th>P>|z|</th>  <th>[0.025</th>    <th>0.975]</th>  \n",
       "</tr>\n",
       "<tr>\n",
       "  <th>Intercept</th>                                                  <td>  -10.2653</td> <td>    1.340</td> <td>   -7.662</td> <td> 0.000</td> <td>  -12.891</td> <td>   -7.639</td>\n",
       "</tr>\n",
       "<tr>\n",
       "  <th>glucose_level_binned[T.Interval(140, 160, closed='right')]</th> <td>   -0.5320</td> <td>    0.738</td> <td>   -0.721</td> <td> 0.471</td> <td>   -1.979</td> <td>    0.915</td>\n",
       "</tr>\n",
       "<tr>\n",
       "  <th>glucose_level_binned[T.Interval(160, 180, closed='right')]</th> <td>    1.2979</td> <td>    0.469</td> <td>    2.767</td> <td> 0.006</td> <td>    0.379</td> <td>    2.217</td>\n",
       "</tr>\n",
       "<tr>\n",
       "  <th>glucose_level_binned[T.Interval(180, 200, closed='right')]</th> <td>    0.9011</td> <td>    0.329</td> <td>    2.738</td> <td> 0.006</td> <td>    0.256</td> <td>    1.546</td>\n",
       "</tr>\n",
       "<tr>\n",
       "  <th>glucose_level_binned[T.Interval(200, 220, closed='right')]</th> <td>    0.1119</td> <td>    0.328</td> <td>    0.341</td> <td> 0.733</td> <td>   -0.531</td> <td>    0.755</td>\n",
       "</tr>\n",
       "<tr>\n",
       "  <th>glucose_level_binned[T.Interval(220, 240, closed='right')]</th> <td>    0.2305</td> <td>    0.387</td> <td>    0.596</td> <td> 0.551</td> <td>   -0.528</td> <td>    0.989</td>\n",
       "</tr>\n",
       "<tr>\n",
       "  <th>glucose_level_binned[T.Interval(240, 260, closed='right')]</th> <td>    1.2368</td> <td>    0.484</td> <td>    2.558</td> <td> 0.011</td> <td>    0.289</td> <td>    2.184</td>\n",
       "</tr>\n",
       "<tr>\n",
       "  <th>glucose_level_binned[T.Interval(260, 280, closed='right')]</th> <td>    0.7335</td> <td>    1.149</td> <td>    0.638</td> <td> 0.523</td> <td>   -1.518</td> <td>    2.985</td>\n",
       "</tr>\n",
       "<tr>\n",
       "  <th>bmi</th>                                                        <td>    0.0888</td> <td>    0.038</td> <td>    2.349</td> <td> 0.019</td> <td>    0.015</td> <td>    0.163</td>\n",
       "</tr>\n",
       "<tr>\n",
       "  <th>I(imputed_bmi * age)</th>                                       <td>   -0.0013</td> <td>    0.001</td> <td>   -2.064</td> <td> 0.039</td> <td>   -0.003</td> <td>-6.51e-05</td>\n",
       "</tr>\n",
       "<tr>\n",
       "  <th>age</th>                                                        <td>    0.1119</td> <td>    0.021</td> <td>    5.354</td> <td> 0.000</td> <td>    0.071</td> <td>    0.153</td>\n",
       "</tr>\n",
       "<tr>\n",
       "  <th>hypertension</th>                                               <td>    0.4128</td> <td>    0.213</td> <td>    1.938</td> <td> 0.053</td> <td>   -0.005</td> <td>    0.830</td>\n",
       "</tr>\n",
       "<tr>\n",
       "  <th>heart_disease</th>                                              <td>    1.3987</td> <td>    1.855</td> <td>    0.754</td> <td> 0.451</td> <td>   -2.237</td> <td>    5.034</td>\n",
       "</tr>\n",
       "<tr>\n",
       "  <th>heart_disease:age</th>                                          <td>   -0.0123</td> <td>    0.026</td> <td>   -0.481</td> <td> 0.630</td> <td>   -0.062</td> <td>    0.038</td>\n",
       "</tr>\n",
       "</table>"
      ],
      "text/plain": [
       "<class 'statsmodels.iolib.summary.Summary'>\n",
       "\"\"\"\n",
       "                           Logit Regression Results                           \n",
       "==============================================================================\n",
       "Dep. Variable:                 stroke   No. Observations:                 3441\n",
       "Model:                          Logit   Df Residuals:                     3427\n",
       "Method:                           MLE   Df Model:                           13\n",
       "Date:                Mon, 13 Mar 2023   Pseudo R-squ.:                  0.2203\n",
       "Time:                        21:26:57   Log-Likelihood:                -471.07\n",
       "converged:                       True   LL-Null:                       -604.20\n",
       "Covariance Type:            nonrobust   LLR p-value:                 2.647e-49\n",
       "==============================================================================================================================\n",
       "                                                                 coef    std err          z      P>|z|      [0.025      0.975]\n",
       "------------------------------------------------------------------------------------------------------------------------------\n",
       "Intercept                                                    -10.2653      1.340     -7.662      0.000     -12.891      -7.639\n",
       "glucose_level_binned[T.Interval(140, 160, closed='right')]    -0.5320      0.738     -0.721      0.471      -1.979       0.915\n",
       "glucose_level_binned[T.Interval(160, 180, closed='right')]     1.2979      0.469      2.767      0.006       0.379       2.217\n",
       "glucose_level_binned[T.Interval(180, 200, closed='right')]     0.9011      0.329      2.738      0.006       0.256       1.546\n",
       "glucose_level_binned[T.Interval(200, 220, closed='right')]     0.1119      0.328      0.341      0.733      -0.531       0.755\n",
       "glucose_level_binned[T.Interval(220, 240, closed='right')]     0.2305      0.387      0.596      0.551      -0.528       0.989\n",
       "glucose_level_binned[T.Interval(240, 260, closed='right')]     1.2368      0.484      2.558      0.011       0.289       2.184\n",
       "glucose_level_binned[T.Interval(260, 280, closed='right')]     0.7335      1.149      0.638      0.523      -1.518       2.985\n",
       "bmi                                                            0.0888      0.038      2.349      0.019       0.015       0.163\n",
       "I(imputed_bmi * age)                                          -0.0013      0.001     -2.064      0.039      -0.003   -6.51e-05\n",
       "age                                                            0.1119      0.021      5.354      0.000       0.071       0.153\n",
       "hypertension                                                   0.4128      0.213      1.938      0.053      -0.005       0.830\n",
       "heart_disease                                                  1.3987      1.855      0.754      0.451      -2.237       5.034\n",
       "heart_disease:age                                             -0.0123      0.026     -0.481      0.630      -0.062       0.038\n",
       "==============================================================================================================================\n",
       "\"\"\""
      ]
     },
     "execution_count": 48,
     "metadata": {},
     "output_type": "execute_result"
    }
   ],
   "source": [
    "#new model using the newly found interactions\n",
    "logit_model5 = sm.logit(formula = formula_list[5], data = train).fit()\n",
    "logit_model5.summary()"
   ]
  },
  {
   "cell_type": "code",
   "execution_count": 49,
   "id": "573f9181",
   "metadata": {},
   "outputs": [
    {
     "name": "stdout",
     "output_type": "stream",
     "text": [
      "Classification accuracy = 78.5%\n",
      "Precision = 13.8%\n",
      "TPR or Recall = 76.2%\n",
      "FNR = 23.8%\n",
      "FPR = 21.4%\n",
      "ROC-AUC = 83.8%\n",
      "F1 = 0.23357664233576642\n"
     ]
    },
    {
     "data": {
      "image/png": "[encoded data removed]",
      "text/plain": [
       "<Figure size 432x288 with 2 Axes>"
      ]
     },
     "metadata": {
      "needs_background": "light"
     },
     "output_type": "display_data"
    }
   ],
   "source": [
    "confusion_matrix_data(test.dropna(),test.dropna().stroke,logit_model5,cutoff=0.05)"
   ]
  },
  {
   "cell_type": "markdown",
   "id": "61d407b4",
   "metadata": {},
   "source": [
    "### Forward Selection and Forward Selection with 2nd order interactions\n",
    "*By Rakin Hussain*"
   ]
  },
  {
   "cell_type": "code",
   "execution_count": 50,
   "id": "3c00f9a9",
   "metadata": {},
   "outputs": [],
   "source": [
    "#setting up forward selection\n",
    "traind.rename(columns = {'smoking_status_formerly smoked':'smoking_status_formerly_smoked',\n",
    "                         'smoking_status_never smoked':'smoking_status_never_smoked'}, inplace = True)\n",
    "\n",
    "testd.rename(columns = {'smoking_status_formerly smoked':'smoking_status_formerly_smoked',\n",
    "                         'smoking_status_never smoked':'smoking_status_never_smoked'}, inplace = True)"
   ]
  },
  {
   "cell_type": "code",
   "execution_count": 51,
   "id": "6286fa63",
   "metadata": {},
   "outputs": [],
   "source": [
    "X = traind[['age', 'hypertension', 'heart_disease', 'avg_glucose_level',\n",
    "           'imputed_bmi', 'ever_married_No', 'ever_married_Yes', 'Residence_type_Rural',\n",
    "       'Residence_type_Urban', 'smoking_status_Unknown',\n",
    "       'smoking_status_formerly_smoked', 'smoking_status_never_smoked',\n",
    "       'smoking_status_smokes']]\n",
    "\n",
    "X_backup = traind[['age', 'hypertension', 'heart_disease', 'avg_glucose_level',\n",
    "           'imputed_bmi', 'ever_married_No', 'ever_married_Yes',\n",
    "       'Residence_type_Rural',\n",
    "       'Residence_type_Urban', 'smoking_status_Unknown',\n",
    "       'smoking_status_formerly_smoked', 'smoking_status_never_smoked',\n",
    "       'smoking_status_smokes']]"
   ]
  },
  {
   "cell_type": "code",
   "execution_count": 52,
   "id": "a67338e7",
   "metadata": {},
   "outputs": [],
   "source": [
    "import warnings\n",
    "warnings.filterwarnings(\"ignore\")\n",
    "\n",
    "for combo in itertools.combinations(X_backup.columns, 2):    \n",
    "    traind['_'.join(combo)] = traind[combo[0]]*traind[combo[1]] # Creating int. terms\n",
    "    testd['_'.join(combo)] = testd[combo[0]]*testd[combo[1]] # Creating int. terms\n",
    "    X.loc[:,'_'.join(combo)] = traind.loc[:,'_'.join(combo)] # Creating the same X"
   ]
  },
  {
   "cell_type": "code",
   "execution_count": 53,
   "id": "cba45c70",
   "metadata": {},
   "outputs": [
    {
     "name": "stdout",
     "output_type": "stream",
     "text": [
      "Processed  91 models on 1 predictors in 0.8417577743530273 seconds.\n",
      "Processed  90 models on 2 predictors in 1.2755730152130127 seconds.\n",
      "Processed  89 models on 3 predictors in 1.5524132251739502 seconds.\n",
      "Processed  88 models on 4 predictors in 1.054762840270996 seconds.\n",
      "Processed  87 models on 5 predictors in 1.3203859329223633 seconds.\n",
      "Processed  86 models on 6 predictors in 1.612860918045044 seconds.\n",
      "Processed  85 models on 7 predictors in 2.466768980026245 seconds.\n",
      "Processed  84 models on 8 predictors in 3.1777772903442383 seconds.\n",
      "Processed  83 models on 9 predictors in 2.2325329780578613 seconds.\n",
      "Processed  82 models on 10 predictors in 3.164466381072998 seconds.\n",
      "Processed  81 models on 11 predictors in 3.251134157180786 seconds.\n",
      "Processed  80 models on 12 predictors in 3.622121810913086 seconds.\n",
      "Processed  79 models on 13 predictors in 7.369401931762695 seconds.\n",
      "Processed  78 models on 14 predictors in 3.2302560806274414 seconds.\n",
      "Processed  77 models on 15 predictors in 2.3153162002563477 seconds.\n",
      "Processed  76 models on 16 predictors in 2.9364359378814697 seconds.\n",
      "Processed  75 models on 17 predictors in 3.680635929107666 seconds.\n",
      "Processed  74 models on 18 predictors in 2.951052188873291 seconds.\n",
      "Processed  73 models on 19 predictors in 3.345128297805786 seconds.\n",
      "Processed  72 models on 20 predictors in 3.657400131225586 seconds.\n",
      "Processed  71 models on 21 predictors in 5.33042311668396 seconds.\n",
      "Processed  70 models on 22 predictors in 4.35394811630249 seconds.\n",
      "Processed  69 models on 23 predictors in 5.042509078979492 seconds.\n",
      "Processed  68 models on 24 predictors in 3.725980043411255 seconds.\n",
      "Processed  67 models on 25 predictors in 4.178936958312988 seconds.\n",
      "Processed  66 models on 26 predictors in 4.1247169971466064 seconds.\n",
      "Processed  65 models on 27 predictors in 5.367777109146118 seconds.\n",
      "Processed  64 models on 28 predictors in 4.206923007965088 seconds.\n",
      "Processed  63 models on 29 predictors in 4.489058017730713 seconds.\n",
      "Processed  62 models on 30 predictors in 5.340817213058472 seconds.\n",
      "Processed  61 models on 31 predictors in 5.972868204116821 seconds.\n",
      "Processed  60 models on 32 predictors in 4.843114137649536 seconds.\n",
      "Processed  59 models on 33 predictors in 5.714613199234009 seconds.\n",
      "Processed  58 models on 34 predictors in 5.478318214416504 seconds.\n",
      "Processed  57 models on 35 predictors in 4.777346134185791 seconds.\n",
      "Processed  56 models on 36 predictors in 5.5853331089019775 seconds.\n",
      "Processed  55 models on 37 predictors in 5.068240165710449 seconds.\n",
      "Processed  54 models on 38 predictors in 5.441167116165161 seconds.\n",
      "Processed  53 models on 39 predictors in 5.774413108825684 seconds.\n",
      "Processed  52 models on 40 predictors in 5.05317497253418 seconds.\n",
      "Processed  51 models on 41 predictors in 5.363080978393555 seconds.\n",
      "Processed  50 models on 42 predictors in 7.523331165313721 seconds.\n",
      "Processed  49 models on 43 predictors in 5.966517925262451 seconds.\n",
      "Processed  48 models on 44 predictors in 8.39119267463684 seconds.\n",
      "Processed  47 models on 45 predictors in 6.295662879943848 seconds.\n",
      "Processed  46 models on 46 predictors in 4.821879863739014 seconds.\n",
      "Processed  45 models on 47 predictors in 4.5615270137786865 seconds.\n",
      "Processed  44 models on 48 predictors in 4.877660036087036 seconds.\n",
      "Processed  43 models on 49 predictors in 4.679659843444824 seconds.\n",
      "Processed  42 models on 50 predictors in 4.755249977111816 seconds.\n",
      "Processed  41 models on 51 predictors in 5.146514177322388 seconds.\n",
      "Processed  40 models on 52 predictors in 4.87050986289978 seconds.\n",
      "Processed  39 models on 53 predictors in 5.7529332637786865 seconds.\n",
      "Processed  38 models on 54 predictors in 4.966593027114868 seconds.\n",
      "Processed  37 models on 55 predictors in 7.234595060348511 seconds.\n",
      "Processed  36 models on 56 predictors in 7.45705509185791 seconds.\n",
      "Processed  35 models on 57 predictors in 5.411994934082031 seconds.\n",
      "Processed  34 models on 58 predictors in 7.212315082550049 seconds.\n",
      "Processed  33 models on 59 predictors in 4.641574859619141 seconds.\n",
      "Processed  32 models on 60 predictors in 5.083827972412109 seconds.\n",
      "Processed  31 models on 61 predictors in 5.591559886932373 seconds.\n",
      "Processed  30 models on 62 predictors in 6.0264739990234375 seconds.\n",
      "Processed  29 models on 63 predictors in 5.4057581424713135 seconds.\n",
      "Processed  28 models on 64 predictors in 4.7624876499176025 seconds.\n",
      "Processed  27 models on 65 predictors in 5.772606134414673 seconds.\n",
      "Processed  26 models on 66 predictors in 7.019190073013306 seconds.\n",
      "Processed  25 models on 67 predictors in 5.833989858627319 seconds.\n",
      "Processed  24 models on 68 predictors in 4.72025203704834 seconds.\n",
      "Processed  23 models on 69 predictors in 3.767179012298584 seconds.\n",
      "Processed  22 models on 70 predictors in 4.5670881271362305 seconds.\n",
      "Processed  21 models on 71 predictors in 4.245362758636475 seconds.\n",
      "Processed  20 models on 72 predictors in 5.811881065368652 seconds.\n",
      "Processed  19 models on 73 predictors in 4.467118740081787 seconds.\n",
      "Processed  18 models on 74 predictors in 4.929529190063477 seconds.\n",
      "Processed  17 models on 75 predictors in 5.231882095336914 seconds.\n",
      "Processed  16 models on 76 predictors in 3.0645008087158203 seconds.\n",
      "Processed  15 models on 77 predictors in 2.9356319904327393 seconds.\n",
      "Processed  14 models on 78 predictors in 3.0698421001434326 seconds.\n",
      "Processed  13 models on 79 predictors in 4.406261920928955 seconds.\n",
      "Processed  12 models on 80 predictors in 3.1041369438171387 seconds.\n",
      "Processed  11 models on 81 predictors in 1.9580762386322021 seconds.\n",
      "Processed  10 models on 82 predictors in 2.2737579345703125 seconds.\n",
      "Processed  9 models on 83 predictors in 2.92598295211792 seconds.\n",
      "Processed  8 models on 84 predictors in 2.2984321117401123 seconds.\n",
      "Processed  7 models on 85 predictors in 1.7722270488739014 seconds.\n",
      "Processed  6 models on 86 predictors in 1.2588989734649658 seconds.\n",
      "Processed  5 models on 87 predictors in 0.9049983024597168 seconds.\n",
      "Processed  4 models on 88 predictors in 0.9360628128051758 seconds.\n",
      "Processed  3 models on 89 predictors in 0.5962600708007812 seconds.\n",
      "Processed  2 models on 90 predictors in 0.43764615058898926 seconds.\n",
      "Processed  1 models on 91 predictors in 0.23636698722839355 seconds.\n",
      "Total elapsed time: 382.52810502052307 seconds.\n"
     ]
    }
   ],
   "source": [
    "def processSubset(predictor_subset):\n",
    "    # Fit model on feature_set and calculate R-squared\n",
    "    model = sm.ols('stroke~' + '+'.join(predictor_subset),data = traind).fit()\n",
    "    Rsquared = model.rsquared\n",
    "    return {\"model\":model, \"Rsquared\":Rsquared}\n",
    "\n",
    "#Function to find the best predictor out of p-k predictors and add it to the model containing the k predictors\n",
    "def forward(predictors):\n",
    "\n",
    "    # Pull out predictors we still need to process\n",
    "    remaining_predictors = [p for p in X.columns if p not in predictors]\n",
    "    \n",
    "    tic = time.time()\n",
    "    \n",
    "    results = []\n",
    "    \n",
    "    for p in remaining_predictors:\n",
    "        results.append(processSubset(predictors+[p]))\n",
    "    \n",
    "    # Wrap everything up in a nice dataframe\n",
    "    models = pd.DataFrame(results)\n",
    "    \n",
    "    # Choose the model with the highest RSS\n",
    "    best_model = models.loc[models['Rsquared'].argmax()]\n",
    "    \n",
    "    toc = time.time()\n",
    "    print(\"Processed \", models.shape[0], \"models on\", len(predictors)+1, \"predictors in\", (toc-tic), \"seconds.\")\n",
    "    \n",
    "    # Return the best model, along with some other useful information about the model\n",
    "    return best_model\n",
    "\n",
    "def forward_selection():\n",
    "    models_best = pd.DataFrame(columns=[\"Rsquared\", \"model\"]) # start with empty df\n",
    "    tic = time.time()\n",
    "    predictors = []\n",
    "    for i in range(1,len(X.columns)+1):    \n",
    "        models_best.loc[i] = forward(predictors)\n",
    "        predictors = list(models_best.loc[i][\"model\"].params.index[1:])\n",
    "    toc = time.time()\n",
    "    print(\"Total elapsed time:\", (toc-tic), \"seconds.\")\n",
    "    return models_best\n",
    "\n",
    "models_best = forward_selection()"
   ]
  },
  {
   "cell_type": "code",
   "execution_count": 54,
   "id": "12fdd22e",
   "metadata": {},
   "outputs": [
    {
     "name": "stdout",
     "output_type": "stream",
     "text": [
      "8\n"
     ]
    },
    {
     "data": {
      "image/png": "[encoded data removed]",
      "text/plain": [
       "<Figure size 1440x720 with 4 Axes>"
      ]
     },
     "metadata": {
      "needs_background": "light"
     },
     "output_type": "display_data"
    }
   ],
   "source": [
    "def best_sub_plots():\n",
    "    plt.figure(figsize=(20,10))\n",
    "    plt.rcParams.update({'font.size': 18, 'lines.markersize': 10})\n",
    "\n",
    "    # Set up a 2x2 grid so we can look at 4 plots at once\n",
    "    plt.subplot(2, 2, 1)\n",
    "\n",
    "    # We will now plot a red dot to indicate the model with the largest adjusted R^2 statistic.\n",
    "    # The argmax() function can be used to identify the location of the maximum point of a vector\n",
    "    plt.plot(models_best[\"Rsquared\"])\n",
    "    plt.xlabel('# Predictors')\n",
    "    plt.ylabel('Rsquared')\n",
    "\n",
    "    # We will now plot a red dot to indicate the model with the largest adjusted R^2 statistic.\n",
    "    # The argmax() function can be used to identify the location of the maximum point of a vector\n",
    "\n",
    "    rsquared_adj = models_best.apply(lambda row: row[1].rsquared_adj, axis=1)\n",
    "\n",
    "    plt.subplot(2, 2, 2)\n",
    "    plt.plot(rsquared_adj)\n",
    "    plt.plot(1+rsquared_adj.argmax(), rsquared_adj.max(), \"or\")\n",
    "    plt.xlabel('# Predictors')\n",
    "    plt.ylabel('adjusted rsquared')\n",
    "\n",
    "    # We'll do the same for AIC and BIC, this time looking for the models with the SMALLEST statistic\n",
    "    aic = models_best.apply(lambda row: row[1].aic, axis=1)\n",
    "\n",
    "    plt.subplot(2, 2, 3)\n",
    "    plt.plot(aic)\n",
    "    plt.plot(1+aic.argmin(), aic.min(), \"or\")\n",
    "    plt.xlabel('# Predictors')\n",
    "    plt.ylabel('AIC')\n",
    "\n",
    "    bic = models_best.apply(lambda row: row[1].bic, axis=1)\n",
    "\n",
    "    plt.subplot(2, 2, 4)\n",
    "    plt.plot(bic)\n",
    "    plt.plot(1+bic.argmin(), bic.min(), \"or\")\n",
    "    plt.xlabel('# Predictors')\n",
    "    plt.ylabel('BIC')\n",
    "    print(1+bic.argmin())\n",
    "best_sub_plots()"
   ]
  },
  {
   "cell_type": "code",
   "execution_count": 55,
   "id": "27600437",
   "metadata": {},
   "outputs": [
    {
     "data": {
      "text/html": [
       "<table class=\"simpletable\">\n",
       "<caption>OLS Regression Results</caption>\n",
       "<tr>\n",
       "  <th>Dep. Variable:</th>         <td>stroke</td>      <th>  R-squared:         </th> <td>   0.089</td>\n",
       "</tr>\n",
       "<tr>\n",
       "  <th>Model:</th>                   <td>OLS</td>       <th>  Adj. R-squared:    </th> <td>   0.087</td>\n",
       "</tr>\n",
       "<tr>\n",
       "  <th>Method:</th>             <td>Least Squares</td>  <th>  F-statistic:       </th> <td>   43.61</td>\n",
       "</tr>\n",
       "<tr>\n",
       "  <th>Date:</th>             <td>Mon, 13 Mar 2023</td> <th>  Prob (F-statistic):</th> <td>3.59e-67</td>\n",
       "</tr>\n",
       "<tr>\n",
       "  <th>Time:</th>                 <td>21:33:22</td>     <th>  Log-Likelihood:    </th> <td>  627.02</td>\n",
       "</tr>\n",
       "<tr>\n",
       "  <th>No. Observations:</th>      <td>  3577</td>      <th>  AIC:               </th> <td>  -1236.</td>\n",
       "</tr>\n",
       "<tr>\n",
       "  <th>Df Residuals:</th>          <td>  3568</td>      <th>  BIC:               </th> <td>  -1180.</td>\n",
       "</tr>\n",
       "<tr>\n",
       "  <th>Df Model:</th>              <td>     8</td>      <th>                     </th>     <td> </td>   \n",
       "</tr>\n",
       "<tr>\n",
       "  <th>Covariance Type:</th>      <td>nonrobust</td>    <th>                     </th>     <td> </td>   \n",
       "</tr>\n",
       "</table>\n",
       "<table class=\"simpletable\">\n",
       "<tr>\n",
       "                       <td></td>                          <th>coef</th>     <th>std err</th>      <th>t</th>      <th>P>|t|</th>  <th>[0.025</th>    <th>0.975]</th>  \n",
       "</tr>\n",
       "<tr>\n",
       "  <th>Intercept</th>                                   <td>   -0.1270</td> <td>    0.015</td> <td>   -8.290</td> <td> 0.000</td> <td>   -0.157</td> <td>   -0.097</td>\n",
       "</tr>\n",
       "<tr>\n",
       "  <th>age</th>                                         <td>    0.0029</td> <td>    0.000</td> <td>    8.805</td> <td> 0.000</td> <td>    0.002</td> <td>    0.004</td>\n",
       "</tr>\n",
       "<tr>\n",
       "  <th>heart_disease_smoking_status_smokes</th>         <td>    0.1559</td> <td>    0.031</td> <td>    5.055</td> <td> 0.000</td> <td>    0.095</td> <td>    0.216</td>\n",
       "</tr>\n",
       "<tr>\n",
       "  <th>age_avg_glucose_level</th>                       <td> 5.214e-06</td> <td> 1.32e-06</td> <td>    3.949</td> <td> 0.000</td> <td> 2.63e-06</td> <td>  7.8e-06</td>\n",
       "</tr>\n",
       "<tr>\n",
       "  <th>ever_married_No_smoking_status_Unknown</th>      <td>    0.0392</td> <td>    0.017</td> <td>    2.267</td> <td> 0.023</td> <td>    0.005</td> <td>    0.073</td>\n",
       "</tr>\n",
       "<tr>\n",
       "  <th>hypertension_ever_married_No</th>                <td>    0.1463</td> <td>    0.038</td> <td>    3.862</td> <td> 0.000</td> <td>    0.072</td> <td>    0.220</td>\n",
       "</tr>\n",
       "<tr>\n",
       "  <th>ever_married_No_smoking_status_never_smoked</th> <td>    0.0316</td> <td>    0.017</td> <td>    1.851</td> <td> 0.064</td> <td>   -0.002</td> <td>    0.065</td>\n",
       "</tr>\n",
       "<tr>\n",
       "  <th>age_ever_married_No</th>                         <td>   -0.0019</td> <td>    0.000</td> <td>   -4.107</td> <td> 0.000</td> <td>   -0.003</td> <td>   -0.001</td>\n",
       "</tr>\n",
       "<tr>\n",
       "  <th>ever_married_No</th>                             <td>    0.0725</td> <td>    0.024</td> <td>    3.063</td> <td> 0.002</td> <td>    0.026</td> <td>    0.119</td>\n",
       "</tr>\n",
       "</table>\n",
       "<table class=\"simpletable\">\n",
       "<tr>\n",
       "  <th>Omnibus:</th>       <td>2698.513</td> <th>  Durbin-Watson:     </th> <td>   1.997</td> \n",
       "</tr>\n",
       "<tr>\n",
       "  <th>Prob(Omnibus):</th>  <td> 0.000</td>  <th>  Jarque-Bera (JB):  </th> <td>35062.378</td>\n",
       "</tr>\n",
       "<tr>\n",
       "  <th>Skew:</th>           <td> 3.680</td>  <th>  Prob(JB):          </th> <td>    0.00</td> \n",
       "</tr>\n",
       "<tr>\n",
       "  <th>Kurtosis:</th>       <td>16.457</td>  <th>  Cond. No.          </th> <td>6.91e+04</td> \n",
       "</tr>\n",
       "</table><br/><br/>Notes:<br/>[1] Standard Errors assume that the covariance matrix of the errors is correctly specified.<br/>[2] The condition number is large, 6.91e+04. This might indicate that there are<br/>strong multicollinearity or other numerical problems."
      ],
      "text/plain": [
       "<class 'statsmodels.iolib.summary.Summary'>\n",
       "\"\"\"\n",
       "                            OLS Regression Results                            \n",
       "==============================================================================\n",
       "Dep. Variable:                 stroke   R-squared:                       0.089\n",
       "Model:                            OLS   Adj. R-squared:                  0.087\n",
       "Method:                 Least Squares   F-statistic:                     43.61\n",
       "Date:                Mon, 13 Mar 2023   Prob (F-statistic):           3.59e-67\n",
       "Time:                        21:33:22   Log-Likelihood:                 627.02\n",
       "No. Observations:                3577   AIC:                            -1236.\n",
       "Df Residuals:                    3568   BIC:                            -1180.\n",
       "Df Model:                           8                                         \n",
       "Covariance Type:            nonrobust                                         \n",
       "===============================================================================================================\n",
       "                                                  coef    std err          t      P>|t|      [0.025      0.975]\n",
       "---------------------------------------------------------------------------------------------------------------\n",
       "Intercept                                      -0.1270      0.015     -8.290      0.000      -0.157      -0.097\n",
       "age                                             0.0029      0.000      8.805      0.000       0.002       0.004\n",
       "heart_disease_smoking_status_smokes             0.1559      0.031      5.055      0.000       0.095       0.216\n",
       "age_avg_glucose_level                        5.214e-06   1.32e-06      3.949      0.000    2.63e-06     7.8e-06\n",
       "ever_married_No_smoking_status_Unknown          0.0392      0.017      2.267      0.023       0.005       0.073\n",
       "hypertension_ever_married_No                    0.1463      0.038      3.862      0.000       0.072       0.220\n",
       "ever_married_No_smoking_status_never_smoked     0.0316      0.017      1.851      0.064      -0.002       0.065\n",
       "age_ever_married_No                            -0.0019      0.000     -4.107      0.000      -0.003      -0.001\n",
       "ever_married_No                                 0.0725      0.024      3.063      0.002       0.026       0.119\n",
       "==============================================================================\n",
       "Omnibus:                     2698.513   Durbin-Watson:                   1.997\n",
       "Prob(Omnibus):                  0.000   Jarque-Bera (JB):            35062.378\n",
       "Skew:                           3.680   Prob(JB):                         0.00\n",
       "Kurtosis:                      16.457   Cond. No.                     6.91e+04\n",
       "==============================================================================\n",
       "\n",
       "Notes:\n",
       "[1] Standard Errors assume that the covariance matrix of the errors is correctly specified.\n",
       "[2] The condition number is large, 6.91e+04. This might indicate that there are\n",
       "strong multicollinearity or other numerical problems.\n",
       "\"\"\""
      ]
     },
     "execution_count": 55,
     "metadata": {},
     "output_type": "execute_result"
    }
   ],
   "source": [
    "#chose 8 from the BIC graph \n",
    "best_forward = models_best.loc[8,'model']\n",
    "best_forward.summary()"
   ]
  },
  {
   "cell_type": "code",
   "execution_count": 56,
   "id": "8b621d11",
   "metadata": {},
   "outputs": [
    {
     "name": "stdout",
     "output_type": "stream",
     "text": [
      "Optimization terminated successfully.\n",
      "         Current function value: 0.149222\n",
      "         Iterations 11\n"
     ]
    },
    {
     "data": {
      "text/html": [
       "<table class=\"simpletable\">\n",
       "<caption>Logit Regression Results</caption>\n",
       "<tr>\n",
       "  <th>Dep. Variable:</th>        <td>stroke</td>      <th>  No. Observations:  </th>  <td>  3577</td>  \n",
       "</tr>\n",
       "<tr>\n",
       "  <th>Model:</th>                 <td>Logit</td>      <th>  Df Residuals:      </th>  <td>  3568</td>  \n",
       "</tr>\n",
       "<tr>\n",
       "  <th>Method:</th>                 <td>MLE</td>       <th>  Df Model:          </th>  <td>     8</td>  \n",
       "</tr>\n",
       "<tr>\n",
       "  <th>Date:</th>            <td>Mon, 13 Mar 2023</td> <th>  Pseudo R-squ.:     </th>  <td>0.2194</td>  \n",
       "</tr>\n",
       "<tr>\n",
       "  <th>Time:</th>                <td>21:33:23</td>     <th>  Log-Likelihood:    </th> <td> -533.77</td> \n",
       "</tr>\n",
       "<tr>\n",
       "  <th>converged:</th>             <td>True</td>       <th>  LL-Null:           </th> <td> -683.80</td> \n",
       "</tr>\n",
       "<tr>\n",
       "  <th>Covariance Type:</th>     <td>nonrobust</td>    <th>  LLR p-value:       </th> <td>3.998e-60</td>\n",
       "</tr>\n",
       "</table>\n",
       "<table class=\"simpletable\">\n",
       "<tr>\n",
       "                       <td></td>                          <th>coef</th>     <th>std err</th>      <th>z</th>      <th>P>|z|</th>  <th>[0.025</th>    <th>0.975]</th>  \n",
       "</tr>\n",
       "<tr>\n",
       "  <th>Intercept</th>                                   <td>   -7.1670</td> <td>    0.491</td> <td>  -14.588</td> <td> 0.000</td> <td>   -8.130</td> <td>   -6.204</td>\n",
       "</tr>\n",
       "<tr>\n",
       "  <th>age</th>                                         <td>    0.0663</td> <td>    0.008</td> <td>    8.506</td> <td> 0.000</td> <td>    0.051</td> <td>    0.082</td>\n",
       "</tr>\n",
       "<tr>\n",
       "  <th>heart_disease_smoking_status_smokes</th>         <td>    1.2488</td> <td>    0.375</td> <td>    3.326</td> <td> 0.001</td> <td>    0.513</td> <td>    1.985</td>\n",
       "</tr>\n",
       "<tr>\n",
       "  <th>age_avg_glucose_level</th>                       <td> 5.112e-05</td> <td> 2.01e-05</td> <td>    2.537</td> <td> 0.011</td> <td> 1.16e-05</td> <td> 9.06e-05</td>\n",
       "</tr>\n",
       "<tr>\n",
       "  <th>ever_married_No_smoking_status_Unknown</th>      <td>    1.0611</td> <td>    0.915</td> <td>    1.160</td> <td> 0.246</td> <td>   -0.732</td> <td>    2.854</td>\n",
       "</tr>\n",
       "<tr>\n",
       "  <th>hypertension_ever_married_No</th>                <td>    1.5368</td> <td>    0.628</td> <td>    2.449</td> <td> 0.014</td> <td>    0.307</td> <td>    2.767</td>\n",
       "</tr>\n",
       "<tr>\n",
       "  <th>ever_married_No_smoking_status_never_smoked</th> <td>    1.4312</td> <td>    0.748</td> <td>    1.915</td> <td> 0.056</td> <td>   -0.034</td> <td>    2.896</td>\n",
       "</tr>\n",
       "<tr>\n",
       "  <th>age_ever_married_No</th>                         <td>    0.0144</td> <td>    0.018</td> <td>    0.795</td> <td> 0.427</td> <td>   -0.021</td> <td>    0.050</td>\n",
       "</tr>\n",
       "<tr>\n",
       "  <th>ever_married_No</th>                             <td>   -2.3922</td> <td>    1.398</td> <td>   -1.711</td> <td> 0.087</td> <td>   -5.133</td> <td>    0.348</td>\n",
       "</tr>\n",
       "</table>"
      ],
      "text/plain": [
       "<class 'statsmodels.iolib.summary.Summary'>\n",
       "\"\"\"\n",
       "                           Logit Regression Results                           \n",
       "==============================================================================\n",
       "Dep. Variable:                 stroke   No. Observations:                 3577\n",
       "Model:                          Logit   Df Residuals:                     3568\n",
       "Method:                           MLE   Df Model:                            8\n",
       "Date:                Mon, 13 Mar 2023   Pseudo R-squ.:                  0.2194\n",
       "Time:                        21:33:23   Log-Likelihood:                -533.77\n",
       "converged:                       True   LL-Null:                       -683.80\n",
       "Covariance Type:            nonrobust   LLR p-value:                 3.998e-60\n",
       "===============================================================================================================\n",
       "                                                  coef    std err          z      P>|z|      [0.025      0.975]\n",
       "---------------------------------------------------------------------------------------------------------------\n",
       "Intercept                                      -7.1670      0.491    -14.588      0.000      -8.130      -6.204\n",
       "age                                             0.0663      0.008      8.506      0.000       0.051       0.082\n",
       "heart_disease_smoking_status_smokes             1.2488      0.375      3.326      0.001       0.513       1.985\n",
       "age_avg_glucose_level                        5.112e-05   2.01e-05      2.537      0.011    1.16e-05    9.06e-05\n",
       "ever_married_No_smoking_status_Unknown          1.0611      0.915      1.160      0.246      -0.732       2.854\n",
       "hypertension_ever_married_No                    1.5368      0.628      2.449      0.014       0.307       2.767\n",
       "ever_married_No_smoking_status_never_smoked     1.4312      0.748      1.915      0.056      -0.034       2.896\n",
       "age_ever_married_No                             0.0144      0.018      0.795      0.427      -0.021       0.050\n",
       "ever_married_No                                -2.3922      1.398     -1.711      0.087      -5.133       0.348\n",
       "===============================================================================================================\n",
       "\"\"\""
      ]
     },
     "execution_count": 56,
     "metadata": {},
     "output_type": "execute_result"
    }
   ],
   "source": [
    "#creating the model from the forward steps\n",
    "forward_logit = sm.logit('stroke~age+heart_disease_smoking_status_smokes+age_avg_glucose_level+\\\n",
    "                          ever_married_No_smoking_status_Unknown+hypertension_ever_married_No+\\\n",
    "                          ever_married_No_smoking_status_never_smoked+age_ever_married_No+ever_married_No',\n",
    "                         data = traind).fit()\n",
    "\n",
    "forward_logit.summary()"
   ]
  },
  {
   "cell_type": "code",
   "execution_count": 57,
   "id": "cbc8d1f4",
   "metadata": {},
   "outputs": [
    {
     "name": "stdout",
     "output_type": "stream",
     "text": [
      "Classification accuracy = 74.8%\n",
      "Precision = 14.1%\n",
      "TPR or Recall = 75.9%\n",
      "FNR = 24.1%\n",
      "FPR = 25.2%\n",
      "ROC-AUC = 82.3%\n",
      "F1 = 0.23715415019762845\n"
     ]
    },
    {
     "data": {
      "image/png": "[encoded data removed]",
      "text/plain": [
       "<Figure size 432x288 with 2 Axes>"
      ]
     },
     "metadata": {
      "needs_background": "light"
     },
     "output_type": "display_data"
    }
   ],
   "source": [
    "confusion_matrix_data(testd,testd.stroke,forward_logit, cutoff=0.05)"
   ]
  },
  {
   "cell_type": "markdown",
   "id": "0396f558",
   "metadata": {},
   "source": [
    "### Trying Transformation Terms\n",
    "*By Cara Chang*"
   ]
  },
  {
   "cell_type": "code",
   "execution_count": 58,
   "id": "93256542",
   "metadata": {},
   "outputs": [
    {
     "name": "stdout",
     "output_type": "stream",
     "text": [
      "Optimization terminated successfully.\n",
      "         Current function value: 0.147017\n",
      "         Iterations 13\n"
     ]
    },
    {
     "data": {
      "text/html": [
       "<table class=\"simpletable\">\n",
       "<caption>Logit Regression Results</caption>\n",
       "<tr>\n",
       "  <th>Dep. Variable:</th>        <td>stroke</td>      <th>  No. Observations:  </th>  <td>  3577</td>  \n",
       "</tr>\n",
       "<tr>\n",
       "  <th>Model:</th>                 <td>Logit</td>      <th>  Df Residuals:      </th>  <td>  3561</td>  \n",
       "</tr>\n",
       "<tr>\n",
       "  <th>Method:</th>                 <td>MLE</td>       <th>  Df Model:          </th>  <td>    15</td>  \n",
       "</tr>\n",
       "<tr>\n",
       "  <th>Date:</th>            <td>Mon, 13 Mar 2023</td> <th>  Pseudo R-squ.:     </th>  <td>0.2309</td>  \n",
       "</tr>\n",
       "<tr>\n",
       "  <th>Time:</th>                <td>21:33:23</td>     <th>  Log-Likelihood:    </th> <td> -525.88</td> \n",
       "</tr>\n",
       "<tr>\n",
       "  <th>converged:</th>             <td>True</td>       <th>  LL-Null:           </th> <td> -683.80</td> \n",
       "</tr>\n",
       "<tr>\n",
       "  <th>Covariance Type:</th>     <td>nonrobust</td>    <th>  LLR p-value:       </th> <td>2.841e-58</td>\n",
       "</tr>\n",
       "</table>\n",
       "<table class=\"simpletable\">\n",
       "<tr>\n",
       "                               <td></td>                                 <th>coef</th>     <th>std err</th>      <th>z</th>      <th>P>|z|</th>  <th>[0.025</th>    <th>0.975]</th>  \n",
       "</tr>\n",
       "<tr>\n",
       "  <th>Intercept</th>                                                  <td>  -32.4198</td> <td>   10.562</td> <td>   -3.069</td> <td> 0.002</td> <td>  -53.122</td> <td>  -11.718</td>\n",
       "</tr>\n",
       "<tr>\n",
       "  <th>glucose_level_binned[T.Interval(140, 160, closed='right')]</th> <td>   -0.6494</td> <td>    0.737</td> <td>   -0.882</td> <td> 0.378</td> <td>   -2.093</td> <td>    0.794</td>\n",
       "</tr>\n",
       "<tr>\n",
       "  <th>glucose_level_binned[T.Interval(160, 180, closed='right')]</th> <td>    1.3146</td> <td>    0.421</td> <td>    3.124</td> <td> 0.002</td> <td>    0.490</td> <td>    2.139</td>\n",
       "</tr>\n",
       "<tr>\n",
       "  <th>glucose_level_binned[T.Interval(180, 200, closed='right')]</th> <td>    0.9122</td> <td>    0.301</td> <td>    3.033</td> <td> 0.002</td> <td>    0.323</td> <td>    1.502</td>\n",
       "</tr>\n",
       "<tr>\n",
       "  <th>glucose_level_binned[T.Interval(200, 220, closed='right')]</th> <td>   -0.0654</td> <td>    0.312</td> <td>   -0.209</td> <td> 0.834</td> <td>   -0.678</td> <td>    0.547</td>\n",
       "</tr>\n",
       "<tr>\n",
       "  <th>glucose_level_binned[T.Interval(220, 240, closed='right')]</th> <td>    0.1676</td> <td>    0.365</td> <td>    0.459</td> <td> 0.646</td> <td>   -0.548</td> <td>    0.883</td>\n",
       "</tr>\n",
       "<tr>\n",
       "  <th>glucose_level_binned[T.Interval(240, 260, closed='right')]</th> <td>    1.0471</td> <td>    0.472</td> <td>    2.218</td> <td> 0.027</td> <td>    0.122</td> <td>    1.972</td>\n",
       "</tr>\n",
       "<tr>\n",
       "  <th>glucose_level_binned[T.Interval(260, 280, closed='right')]</th> <td>    0.5765</td> <td>    1.114</td> <td>    0.518</td> <td> 0.605</td> <td>   -1.606</td> <td>    2.759</td>\n",
       "</tr>\n",
       "<tr>\n",
       "  <th>imputed_bmi</th>                                                <td>    0.1199</td> <td>    0.070</td> <td>    1.712</td> <td> 0.087</td> <td>   -0.017</td> <td>    0.257</td>\n",
       "</tr>\n",
       "<tr>\n",
       "  <th>I(imputed_bmi * age)</th>                                       <td>   -0.0017</td> <td>    0.001</td> <td>   -1.536</td> <td> 0.124</td> <td>   -0.004</td> <td>    0.000</td>\n",
       "</tr>\n",
       "<tr>\n",
       "  <th>age</th>                                                        <td>    1.1896</td> <td>    0.525</td> <td>    2.268</td> <td> 0.023</td> <td>    0.161</td> <td>    2.218</td>\n",
       "</tr>\n",
       "<tr>\n",
       "  <th>hypertension</th>                                               <td>    1.2594</td> <td>    0.939</td> <td>    1.341</td> <td> 0.180</td> <td>   -0.582</td> <td>    3.100</td>\n",
       "</tr>\n",
       "<tr>\n",
       "  <th>I(age ** 2)</th>                                                <td>   -0.0171</td> <td>    0.009</td> <td>   -1.964</td> <td> 0.050</td> <td>   -0.034</td> <td>-3.55e-05</td>\n",
       "</tr>\n",
       "<tr>\n",
       "  <th>I(age ** 3)</th>                                                <td> 8.896e-05</td> <td> 4.73e-05</td> <td>    1.881</td> <td> 0.060</td> <td>-3.75e-06</td> <td>    0.000</td>\n",
       "</tr>\n",
       "<tr>\n",
       "  <th>I(age * heart_disease * imputed_bmi)</th>                       <td>    0.0002</td> <td>    0.000</td> <td>    2.098</td> <td> 0.036</td> <td> 1.43e-05</td> <td>    0.000</td>\n",
       "</tr>\n",
       "<tr>\n",
       "  <th>I(imputed_bmi * hypertension)</th>                              <td>   -0.0324</td> <td>    0.030</td> <td>   -1.085</td> <td> 0.278</td> <td>   -0.091</td> <td>    0.026</td>\n",
       "</tr>\n",
       "</table><br/><br/>Possibly complete quasi-separation: A fraction 0.26 of observations can be<br/>perfectly predicted. This might indicate that there is complete<br/>quasi-separation. In this case some parameters will not be identified."
      ],
      "text/plain": [
       "<class 'statsmodels.iolib.summary.Summary'>\n",
       "\"\"\"\n",
       "                           Logit Regression Results                           \n",
       "==============================================================================\n",
       "Dep. Variable:                 stroke   No. Observations:                 3577\n",
       "Model:                          Logit   Df Residuals:                     3561\n",
       "Method:                           MLE   Df Model:                           15\n",
       "Date:                Mon, 13 Mar 2023   Pseudo R-squ.:                  0.2309\n",
       "Time:                        21:33:23   Log-Likelihood:                -525.88\n",
       "converged:                       True   LL-Null:                       -683.80\n",
       "Covariance Type:            nonrobust   LLR p-value:                 2.841e-58\n",
       "==============================================================================================================================\n",
       "                                                                 coef    std err          z      P>|z|      [0.025      0.975]\n",
       "------------------------------------------------------------------------------------------------------------------------------\n",
       "Intercept                                                    -32.4198     10.562     -3.069      0.002     -53.122     -11.718\n",
       "glucose_level_binned[T.Interval(140, 160, closed='right')]    -0.6494      0.737     -0.882      0.378      -2.093       0.794\n",
       "glucose_level_binned[T.Interval(160, 180, closed='right')]     1.3146      0.421      3.124      0.002       0.490       2.139\n",
       "glucose_level_binned[T.Interval(180, 200, closed='right')]     0.9122      0.301      3.033      0.002       0.323       1.502\n",
       "glucose_level_binned[T.Interval(200, 220, closed='right')]    -0.0654      0.312     -0.209      0.834      -0.678       0.547\n",
       "glucose_level_binned[T.Interval(220, 240, closed='right')]     0.1676      0.365      0.459      0.646      -0.548       0.883\n",
       "glucose_level_binned[T.Interval(240, 260, closed='right')]     1.0471      0.472      2.218      0.027       0.122       1.972\n",
       "glucose_level_binned[T.Interval(260, 280, closed='right')]     0.5765      1.114      0.518      0.605      -1.606       2.759\n",
       "imputed_bmi                                                    0.1199      0.070      1.712      0.087      -0.017       0.257\n",
       "I(imputed_bmi * age)                                          -0.0017      0.001     -1.536      0.124      -0.004       0.000\n",
       "age                                                            1.1896      0.525      2.268      0.023       0.161       2.218\n",
       "hypertension                                                   1.2594      0.939      1.341      0.180      -0.582       3.100\n",
       "I(age ** 2)                                                   -0.0171      0.009     -1.964      0.050      -0.034   -3.55e-05\n",
       "I(age ** 3)                                                 8.896e-05   4.73e-05      1.881      0.060   -3.75e-06       0.000\n",
       "I(age * heart_disease * imputed_bmi)                           0.0002      0.000      2.098      0.036    1.43e-05       0.000\n",
       "I(imputed_bmi * hypertension)                                 -0.0324      0.030     -1.085      0.278      -0.091       0.026\n",
       "==============================================================================================================================\n",
       "\n",
       "Possibly complete quasi-separation: A fraction 0.26 of observations can be\n",
       "perfectly predicted. This might indicate that there is complete\n",
       "quasi-separation. In this case some parameters will not be identified.\n",
       "\"\"\""
      ]
     },
     "execution_count": 58,
     "metadata": {},
     "output_type": "execute_result"
    }
   ],
   "source": [
    "#added some transformation terms that were observed from EDA before\n",
    "logit_model6 = sm.logit(formula = \"stroke~imputed_bmi+I(imputed_bmi*age)+age+hypertension+glucose_level_binned+I(age**2)+I(age**3)+I(age*heart_disease*imputed_bmi)+I(imputed_bmi*hypertension)\", data = train).fit()\n",
    "logit_model6.summary()"
   ]
  },
  {
   "cell_type": "code",
   "execution_count": 59,
   "id": "3bf7c3a6",
   "metadata": {},
   "outputs": [
    {
     "name": "stdout",
     "output_type": "stream",
     "text": [
      "Classification accuracy = 66.9%\n",
      "Precision = 9.9%\n",
      "TPR or Recall = 82.5%\n",
      "FNR = 17.5%\n",
      "FPR = 33.8%\n",
      "ROC-AUC = 83.0%\n",
      "F1 = 0.176271186440678\n"
     ]
    },
    {
     "data": {
      "image/png": "[encoded data removed]",
      "text/plain": [
       "<Figure size 432x288 with 2 Axes>"
      ]
     },
     "metadata": {
      "needs_background": "light"
     },
     "output_type": "display_data"
    }
   ],
   "source": [
    "confusion_matrix_data(test.dropna(),test.dropna().stroke,logit_model6,cutoff=0.04)"
   ]
  },
  {
   "cell_type": "markdown",
   "id": "6333ae48",
   "metadata": {},
   "source": [
    "Brute-forcing interactions and transformation terms did not do much to the model fit. We would be better off without transformation terms, as this second-to-last model has a worse FNR and F1 compared to our final model."
   ]
  },
  {
   "cell_type": "code",
   "execution_count": 60,
   "id": "e9e55de0",
   "metadata": {},
   "outputs": [
    {
     "name": "stdout",
     "output_type": "stream",
     "text": [
      "Optimization terminated successfully.\n",
      "         Current function value: 0.147459\n",
      "         Iterations 14\n"
     ]
    },
    {
     "data": {
      "text/html": [
       "<table class=\"simpletable\">\n",
       "<caption>Logit Regression Results</caption>\n",
       "<tr>\n",
       "  <th>Dep. Variable:</th>        <td>stroke</td>      <th>  No. Observations:  </th>  <td>  3577</td>  \n",
       "</tr>\n",
       "<tr>\n",
       "  <th>Model:</th>                 <td>Logit</td>      <th>  Df Residuals:      </th>  <td>  3563</td>  \n",
       "</tr>\n",
       "<tr>\n",
       "  <th>Method:</th>                 <td>MLE</td>       <th>  Df Model:          </th>  <td>    13</td>  \n",
       "</tr>\n",
       "<tr>\n",
       "  <th>Date:</th>            <td>Mon, 13 Mar 2023</td> <th>  Pseudo R-squ.:     </th>  <td>0.2286</td>  \n",
       "</tr>\n",
       "<tr>\n",
       "  <th>Time:</th>                <td>21:33:23</td>     <th>  Log-Likelihood:    </th> <td> -527.46</td> \n",
       "</tr>\n",
       "<tr>\n",
       "  <th>converged:</th>             <td>True</td>       <th>  LL-Null:           </th> <td> -683.80</td> \n",
       "</tr>\n",
       "<tr>\n",
       "  <th>Covariance Type:</th>     <td>nonrobust</td>    <th>  LLR p-value:       </th> <td>5.335e-59</td>\n",
       "</tr>\n",
       "</table>\n",
       "<table class=\"simpletable\">\n",
       "<tr>\n",
       "                       <td></td>                          <th>coef</th>     <th>std err</th>      <th>z</th>      <th>P>|z|</th>  <th>[0.025</th>    <th>0.975]</th>  \n",
       "</tr>\n",
       "<tr>\n",
       "  <th>Intercept</th>                                   <td>  -34.3702</td> <td>   10.764</td> <td>   -3.193</td> <td> 0.001</td> <td>  -55.468</td> <td>  -13.272</td>\n",
       "</tr>\n",
       "<tr>\n",
       "  <th>age</th>                                         <td>    1.2954</td> <td>    0.531</td> <td>    2.442</td> <td> 0.015</td> <td>    0.256</td> <td>    2.335</td>\n",
       "</tr>\n",
       "<tr>\n",
       "  <th>heart_disease_smoking_status_smokes</th>         <td>    1.1717</td> <td>    0.430</td> <td>    2.722</td> <td> 0.006</td> <td>    0.328</td> <td>    2.015</td>\n",
       "</tr>\n",
       "<tr>\n",
       "  <th>age_avg_glucose_level</th>                       <td> 5.319e-05</td> <td>  2.1e-05</td> <td>    2.533</td> <td> 0.011</td> <td>  1.2e-05</td> <td> 9.43e-05</td>\n",
       "</tr>\n",
       "<tr>\n",
       "  <th>ever_married_No_smoking_status_Unknown</th>      <td>    1.1450</td> <td>    0.904</td> <td>    1.267</td> <td> 0.205</td> <td>   -0.626</td> <td>    2.917</td>\n",
       "</tr>\n",
       "<tr>\n",
       "  <th>hypertension_ever_married_No</th>                <td>    1.4486</td> <td>    0.611</td> <td>    2.371</td> <td> 0.018</td> <td>    0.251</td> <td>    2.646</td>\n",
       "</tr>\n",
       "<tr>\n",
       "  <th>ever_married_No_smoking_status_never_smoked</th> <td>    1.4507</td> <td>    0.732</td> <td>    1.983</td> <td> 0.047</td> <td>    0.017</td> <td>    2.885</td>\n",
       "</tr>\n",
       "<tr>\n",
       "  <th>age_ever_married_No</th>                         <td>   -0.0133</td> <td>    0.023</td> <td>   -0.570</td> <td> 0.569</td> <td>   -0.059</td> <td>    0.033</td>\n",
       "</tr>\n",
       "<tr>\n",
       "  <th>ever_married_No</th>                             <td>   -0.3883</td> <td>    1.699</td> <td>   -0.228</td> <td> 0.819</td> <td>   -3.719</td> <td>    2.942</td>\n",
       "</tr>\n",
       "<tr>\n",
       "  <th>imputed_bmi</th>                                 <td>    0.1197</td> <td>    0.069</td> <td>    1.725</td> <td> 0.085</td> <td>   -0.016</td> <td>    0.256</td>\n",
       "</tr>\n",
       "<tr>\n",
       "  <th>I(imputed_bmi * age)</th>                        <td>   -0.0018</td> <td>    0.001</td> <td>   -1.656</td> <td> 0.098</td> <td>   -0.004</td> <td>    0.000</td>\n",
       "</tr>\n",
       "<tr>\n",
       "  <th>I(age * heart_disease * imputed_bmi)</th>        <td> 4.199e-05</td> <td>    0.000</td> <td>    0.348</td> <td> 0.728</td> <td>   -0.000</td> <td>    0.000</td>\n",
       "</tr>\n",
       "<tr>\n",
       "  <th>I(age ** 2)</th>                                 <td>   -0.0190</td> <td>    0.009</td> <td>   -2.164</td> <td> 0.030</td> <td>   -0.036</td> <td>   -0.002</td>\n",
       "</tr>\n",
       "<tr>\n",
       "  <th>I(age ** 3)</th>                                 <td> 9.952e-05</td> <td> 4.75e-05</td> <td>    2.094</td> <td> 0.036</td> <td> 6.35e-06</td> <td>    0.000</td>\n",
       "</tr>\n",
       "</table><br/><br/>Possibly complete quasi-separation: A fraction 0.26 of observations can be<br/>perfectly predicted. This might indicate that there is complete<br/>quasi-separation. In this case some parameters will not be identified."
      ],
      "text/plain": [
       "<class 'statsmodels.iolib.summary.Summary'>\n",
       "\"\"\"\n",
       "                           Logit Regression Results                           \n",
       "==============================================================================\n",
       "Dep. Variable:                 stroke   No. Observations:                 3577\n",
       "Model:                          Logit   Df Residuals:                     3563\n",
       "Method:                           MLE   Df Model:                           13\n",
       "Date:                Mon, 13 Mar 2023   Pseudo R-squ.:                  0.2286\n",
       "Time:                        21:33:23   Log-Likelihood:                -527.46\n",
       "converged:                       True   LL-Null:                       -683.80\n",
       "Covariance Type:            nonrobust   LLR p-value:                 5.335e-59\n",
       "===============================================================================================================\n",
       "                                                  coef    std err          z      P>|z|      [0.025      0.975]\n",
       "---------------------------------------------------------------------------------------------------------------\n",
       "Intercept                                     -34.3702     10.764     -3.193      0.001     -55.468     -13.272\n",
       "age                                             1.2954      0.531      2.442      0.015       0.256       2.335\n",
       "heart_disease_smoking_status_smokes             1.1717      0.430      2.722      0.006       0.328       2.015\n",
       "age_avg_glucose_level                        5.319e-05    2.1e-05      2.533      0.011     1.2e-05    9.43e-05\n",
       "ever_married_No_smoking_status_Unknown          1.1450      0.904      1.267      0.205      -0.626       2.917\n",
       "hypertension_ever_married_No                    1.4486      0.611      2.371      0.018       0.251       2.646\n",
       "ever_married_No_smoking_status_never_smoked     1.4507      0.732      1.983      0.047       0.017       2.885\n",
       "age_ever_married_No                            -0.0133      0.023     -0.570      0.569      -0.059       0.033\n",
       "ever_married_No                                -0.3883      1.699     -0.228      0.819      -3.719       2.942\n",
       "imputed_bmi                                     0.1197      0.069      1.725      0.085      -0.016       0.256\n",
       "I(imputed_bmi * age)                           -0.0018      0.001     -1.656      0.098      -0.004       0.000\n",
       "I(age * heart_disease * imputed_bmi)         4.199e-05      0.000      0.348      0.728      -0.000       0.000\n",
       "I(age ** 2)                                    -0.0190      0.009     -2.164      0.030      -0.036      -0.002\n",
       "I(age ** 3)                                  9.952e-05   4.75e-05      2.094      0.036    6.35e-06       0.000\n",
       "===============================================================================================================\n",
       "\n",
       "Possibly complete quasi-separation: A fraction 0.26 of observations can be\n",
       "perfectly predicted. This might indicate that there is complete\n",
       "quasi-separation. In this case some parameters will not be identified.\n",
       "\"\"\""
      ]
     },
     "execution_count": 60,
     "metadata": {},
     "output_type": "execute_result"
    }
   ],
   "source": [
    "# Combining forward selection and categorical variable insights with age transformation terms\n",
    "logit_model7 = sm.logit('stroke~age+heart_disease_smoking_status_smokes+age_avg_glucose_level+\\\n",
    "                          ever_married_No_smoking_status_Unknown+hypertension_ever_married_No+\\\n",
    "                          ever_married_No_smoking_status_never_smoked+age_ever_married_No+ever_married_No+\\\n",
    "                          imputed_bmi+I(imputed_bmi*age)+I(age * heart_disease * imputed_bmi)+I(age**2)+I(age**3)',\n",
    "                         data = traind).fit()\n",
    "\n",
    "\n",
    "logit_model7.summary()"
   ]
  },
  {
   "cell_type": "code",
   "execution_count": 61,
   "id": "90aed3c2",
   "metadata": {},
   "outputs": [
    {
     "name": "stdout",
     "output_type": "stream",
     "text": [
      "Classification accuracy = 60.8%\n",
      "Precision = 10.6%\n",
      "TPR or Recall = 88.6%\n",
      "FNR = 11.4%\n",
      "FPR = 40.7%\n",
      "ROC-AUC = 82.5%\n",
      "F1 = 0.18893387314439944\n"
     ]
    },
    {
     "data": {
      "image/png": "[encoded data removed]",
      "text/plain": [
       "<Figure size 432x288 with 2 Axes>"
      ]
     },
     "metadata": {
      "needs_background": "light"
     },
     "output_type": "display_data"
    }
   ],
   "source": [
    "confusion_matrix_data(testd, testd.stroke, logit_model7, cutoff=0.03)"
   ]
  },
  {
   "cell_type": "markdown",
   "id": "6444e611",
   "metadata": {},
   "source": [
    "### Code fitting the final model"
   ]
  },
  {
   "cell_type": "markdown",
   "id": "f6cae72f",
   "metadata": {},
   "source": [
    "Put the code(s) that fit the final model(s) in separate cell(s), i.e., the code with the `.ols()` or `.logit()` functions."
   ]
  },
  {
   "cell_type": "code",
   "execution_count": 62,
   "id": "8ab5ffc1",
   "metadata": {},
   "outputs": [
    {
     "name": "stdout",
     "output_type": "stream",
     "text": [
      "Optimization terminated successfully.\n",
      "         Current function value: 0.148885\n",
      "         Iterations 11\n"
     ]
    },
    {
     "data": {
      "text/html": [
       "<table class=\"simpletable\">\n",
       "<caption>Logit Regression Results</caption>\n",
       "<tr>\n",
       "  <th>Dep. Variable:</th>        <td>stroke</td>      <th>  No. Observations:  </th>  <td>  3577</td>  \n",
       "</tr>\n",
       "<tr>\n",
       "  <th>Model:</th>                 <td>Logit</td>      <th>  Df Residuals:      </th>  <td>  3565</td>  \n",
       "</tr>\n",
       "<tr>\n",
       "  <th>Method:</th>                 <td>MLE</td>       <th>  Df Model:          </th>  <td>    11</td>  \n",
       "</tr>\n",
       "<tr>\n",
       "  <th>Date:</th>            <td>Mon, 13 Mar 2023</td> <th>  Pseudo R-squ.:     </th>  <td>0.2212</td>  \n",
       "</tr>\n",
       "<tr>\n",
       "  <th>Time:</th>                <td>21:33:24</td>     <th>  Log-Likelihood:    </th> <td> -532.56</td> \n",
       "</tr>\n",
       "<tr>\n",
       "  <th>converged:</th>             <td>True</td>       <th>  LL-Null:           </th> <td> -683.80</td> \n",
       "</tr>\n",
       "<tr>\n",
       "  <th>Covariance Type:</th>     <td>nonrobust</td>    <th>  LLR p-value:       </th> <td>2.639e-58</td>\n",
       "</tr>\n",
       "</table>\n",
       "<table class=\"simpletable\">\n",
       "<tr>\n",
       "                       <td></td>                          <th>coef</th>     <th>std err</th>      <th>z</th>      <th>P>|z|</th>  <th>[0.025</th>    <th>0.975]</th>  \n",
       "</tr>\n",
       "<tr>\n",
       "  <th>Intercept</th>                                   <td>   -9.5082</td> <td>    1.441</td> <td>   -6.598</td> <td> 0.000</td> <td>  -12.333</td> <td>   -6.684</td>\n",
       "</tr>\n",
       "<tr>\n",
       "  <th>age</th>                                         <td>    0.0995</td> <td>    0.022</td> <td>    4.498</td> <td> 0.000</td> <td>    0.056</td> <td>    0.143</td>\n",
       "</tr>\n",
       "<tr>\n",
       "  <th>heart_disease_smoking_status_smokes</th>         <td>    1.2047</td> <td>    0.433</td> <td>    2.782</td> <td> 0.005</td> <td>    0.356</td> <td>    2.053</td>\n",
       "</tr>\n",
       "<tr>\n",
       "  <th>age_avg_glucose_level</th>                       <td> 5.039e-05</td> <td> 2.09e-05</td> <td>    2.406</td> <td> 0.016</td> <td> 9.34e-06</td> <td> 9.15e-05</td>\n",
       "</tr>\n",
       "<tr>\n",
       "  <th>ever_married_No_smoking_status_Unknown</th>      <td>    1.0029</td> <td>    0.914</td> <td>    1.097</td> <td> 0.273</td> <td>   -0.789</td> <td>    2.795</td>\n",
       "</tr>\n",
       "<tr>\n",
       "  <th>hypertension_ever_married_No</th>                <td>    1.4500</td> <td>    0.624</td> <td>    2.322</td> <td> 0.020</td> <td>    0.226</td> <td>    2.674</td>\n",
       "</tr>\n",
       "<tr>\n",
       "  <th>ever_married_No_smoking_status_never_smoked</th> <td>    1.4277</td> <td>    0.746</td> <td>    1.914</td> <td> 0.056</td> <td>   -0.034</td> <td>    2.890</td>\n",
       "</tr>\n",
       "<tr>\n",
       "  <th>age_ever_married_No</th>                         <td>    0.0135</td> <td>    0.018</td> <td>    0.741</td> <td> 0.459</td> <td>   -0.022</td> <td>    0.049</td>\n",
       "</tr>\n",
       "<tr>\n",
       "  <th>ever_married_No</th>                             <td>   -2.2909</td> <td>    1.410</td> <td>   -1.625</td> <td> 0.104</td> <td>   -5.055</td> <td>    0.473</td>\n",
       "</tr>\n",
       "<tr>\n",
       "  <th>imputed_bmi</th>                                 <td>    0.0747</td> <td>    0.043</td> <td>    1.748</td> <td> 0.080</td> <td>   -0.009</td> <td>    0.159</td>\n",
       "</tr>\n",
       "<tr>\n",
       "  <th>I(imputed_bmi * age)</th>                        <td>   -0.0011</td> <td>    0.001</td> <td>   -1.548</td> <td> 0.122</td> <td>   -0.002</td> <td>    0.000</td>\n",
       "</tr>\n",
       "<tr>\n",
       "  <th>I(age * heart_disease * imputed_bmi)</th>        <td> 2.568e-05</td> <td>    0.000</td> <td>    0.213</td> <td> 0.831</td> <td>   -0.000</td> <td>    0.000</td>\n",
       "</tr>\n",
       "</table>"
      ],
      "text/plain": [
       "<class 'statsmodels.iolib.summary.Summary'>\n",
       "\"\"\"\n",
       "                           Logit Regression Results                           \n",
       "==============================================================================\n",
       "Dep. Variable:                 stroke   No. Observations:                 3577\n",
       "Model:                          Logit   Df Residuals:                     3565\n",
       "Method:                           MLE   Df Model:                           11\n",
       "Date:                Mon, 13 Mar 2023   Pseudo R-squ.:                  0.2212\n",
       "Time:                        21:33:24   Log-Likelihood:                -532.56\n",
       "converged:                       True   LL-Null:                       -683.80\n",
       "Covariance Type:            nonrobust   LLR p-value:                 2.639e-58\n",
       "===============================================================================================================\n",
       "                                                  coef    std err          z      P>|z|      [0.025      0.975]\n",
       "---------------------------------------------------------------------------------------------------------------\n",
       "Intercept                                      -9.5082      1.441     -6.598      0.000     -12.333      -6.684\n",
       "age                                             0.0995      0.022      4.498      0.000       0.056       0.143\n",
       "heart_disease_smoking_status_smokes             1.2047      0.433      2.782      0.005       0.356       2.053\n",
       "age_avg_glucose_level                        5.039e-05   2.09e-05      2.406      0.016    9.34e-06    9.15e-05\n",
       "ever_married_No_smoking_status_Unknown          1.0029      0.914      1.097      0.273      -0.789       2.795\n",
       "hypertension_ever_married_No                    1.4500      0.624      2.322      0.020       0.226       2.674\n",
       "ever_married_No_smoking_status_never_smoked     1.4277      0.746      1.914      0.056      -0.034       2.890\n",
       "age_ever_married_No                             0.0135      0.018      0.741      0.459      -0.022       0.049\n",
       "ever_married_No                                -2.2909      1.410     -1.625      0.104      -5.055       0.473\n",
       "imputed_bmi                                     0.0747      0.043      1.748      0.080      -0.009       0.159\n",
       "I(imputed_bmi * age)                           -0.0011      0.001     -1.548      0.122      -0.002       0.000\n",
       "I(age * heart_disease * imputed_bmi)         2.568e-05      0.000      0.213      0.831      -0.000       0.000\n",
       "===============================================================================================================\n",
       "\"\"\""
      ]
     },
     "execution_count": 62,
     "metadata": {},
     "output_type": "execute_result"
    }
   ],
   "source": [
    "# Combining forward selection and categorical variable insights:\n",
    "model_final = sm.logit('stroke~age+heart_disease_smoking_status_smokes+age_avg_glucose_level+\\\n",
    "                          ever_married_No_smoking_status_Unknown+hypertension_ever_married_No+\\\n",
    "                          ever_married_No_smoking_status_never_smoked+age_ever_married_No+ever_married_No+\\\n",
    "                          imputed_bmi+I(imputed_bmi*age)+I(age * heart_disease * imputed_bmi)',\n",
    "                         data = traind).fit()\n",
    "\n",
    "\n",
    "model_final.summary()"
   ]
  },
  {
   "cell_type": "code",
   "execution_count": 63,
   "id": "a0a0b4d3",
   "metadata": {},
   "outputs": [
    {
     "name": "stdout",
     "output_type": "stream",
     "text": [
      "Classification accuracy = 64.7%\n",
      "Precision = 11.5%\n",
      "TPR or Recall = 87.3%\n",
      "FNR = 12.7%\n",
      "FPR = 36.5%\n",
      "ROC-AUC = 82.2%\n",
      "F1 = 0.203240058910162\n"
     ]
    },
    {
     "data": {
      "image/png": "[encoded data removed]",
      "text/plain": [
       "<Figure size 432x288 with 2 Axes>"
      ]
     },
     "metadata": {
      "needs_background": "light"
     },
     "output_type": "display_data"
    }
   ],
   "source": [
    "confusion_matrix_data(testd, testd.stroke, model_final, cutoff=0.03)"
   ]
  },
  {
   "cell_type": "markdown",
   "id": "7da1040b",
   "metadata": {},
   "source": [
    "Our final model has an FNR of 12.7% and an F1 of 0.2032. While this is not an ideal F1 score, we had difficulty getting a higher value since selection results required a low cutoff to minimize F1, and we also focused on optimizing different metrics in class. Therefore, we had less practice optimizing F1 score instead of accuracy."
   ]
  }
 ],
 "metadata": {
  "kernelspec": {
   "display_name": "Python 3 (ipykernel)",
   "language": "python",
   "name": "python3"
  },
  "language_info": {
   "codemirror_mode": {
    "name": "ipython",
    "version": 3
   },
   "file_extension": ".py",
   "mimetype": "text/x-python",
   "name": "python",
   "nbconvert_exporter": "python",
   "pygments_lexer": "ipython3",
   "version": "3.9.12"
  }
 },
 "nbformat": 4,
 "nbformat_minor": 5
}
