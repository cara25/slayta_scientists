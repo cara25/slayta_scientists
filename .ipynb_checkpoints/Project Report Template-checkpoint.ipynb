{
 "cells": [
  {
   "cell_type": "raw",
   "id": "33dd6c4c",
   "metadata": {},
   "source": [
    "---\n",
    "title: \"Project Report\"\n",
    "subtitle: Slayta Scientists\n",
    "author: Allen Zhang, Amanda Tsuetaki, Cara Chang, Rakin Hussain\n",
    "date: 02/27/2023\n",
    "number-sections: true\n",
    "abstract: _According to the World Health Organization (WHO), stroke is the 2nd leading cause of death globally, responsible for approximately 11% of total deaths [1]. In turn, strokes are the leading cause of death in the United States according to the Centers for Disease Control and Prevention [2]. We developed — logistic models in order to predict stroke likelihood within patients in hopes to create a model that can be used as a preemptive measure to ensure awareness of stroke likelihood. We hope that our model will supplement current lab-based techniques to benefit doctors, medical providers, and at-risk patients_.\n",
    "format: \n",
    "  html:\n",
    "    toc: true\n",
    "    toc-title: Contents\n",
    "    self-contained: true\n",
    "    font-size: 100%\n",
    "    toc-depth: 4\n",
    "    mainfont: serif\n",
    "jupyter: python3\n",
    "---"
   ]
  },
  {
   "cell_type": "markdown",
   "id": "aba5ee91",
   "metadata": {},
   "source": [
    "## Length of the report {-}\n",
    "The length of the report must be no more than 15 pages, when printed as PDF. However, there is no requirement on the minimum number of pages.\n",
    "\n",
    "You may put additional stuff as Appendix. You may refer to the Appendix in the main report to support your arguments. However, your appendix is unlikely to be checked while grading, unless the grader deems it necessary. The appendix, references, and information about GitHub and individual contribution will not be included in the page count, and there is no limit on the length of the appendix.\n",
    "\n",
    "**Delete this section from the report, when using this template.** "
   ]
  },
  {
   "cell_type": "markdown",
   "id": "93d3d9ed",
   "metadata": {},
   "source": [
    "## Code should be put separately in the code template {-}\n",
    "Your report should be in a research-paper like style. If there is something that can only be explained by showing the code, then you may put it, otherwise do not put the code in the report. We will check your code in the code template. \n",
    "\n",
    "## **Delete this section from the report, when using this template.** "
   ]
  },
  {
   "cell_type": "markdown",
   "id": "0116f49b",
   "metadata": {},
   "source": [
    "## Background / Motivation\n",
    "\n",
    "What motivated you to work on this problem?\n",
    "\n",
    "Mention any background about the problem, if it is required to understand your analysis later on."
   ]
  },
  {
   "cell_type": "markdown",
   "id": "24d9d966",
   "metadata": {},
   "source": [
    "In the United States, someone will have a stroke every 40 seconds [2]. The urgency for better stroke protocol and understanding of what causes strokes is pressing because of its prominence in our society. Stroke-related costs in the United States came to 53 billion dollars from 2017 to 2018 [2]. One of the best ways to prevent a stroke is preemptive measures such as maintaining a healthy lifestyle through exercise, abstaining from smoking, and managing underlying health issues such as diabetes [3]. High cholesterol and high blood pressure are early indicators of stroke detection for those more susceptible to stroke [3]. According to the American Heart Association, “Over the past 30 years, stroke incidence among adults 49 and younger has continued to increase in Southern states and the Midwest” [4]. These statistics have motivated our team to create a first step toward preventative stroke modeling through logistic regressions which will predict if a person, given certain characteristics, will be more vulnerable to having a stroke. "
   ]
  },
  {
   "cell_type": "markdown",
   "id": "84ff1421",
   "metadata": {},
   "source": [
    "## Problem statement \n",
    "\n",
    "Describe your problem statement. Articulate your objectives using absolutely no jargon. Interpret the problem as inference and/or prediction."
   ]
  },
  {
   "cell_type": "code",
   "execution_count": null,
   "id": "061dc784",
   "metadata": {},
   "outputs": [],
   "source": []
  },
  {
   "cell_type": "markdown",
   "id": "38c7b95f",
   "metadata": {},
   "source": [
    "## Data sources\n",
    "What data did you use? Provide details about your data. Include links to data if you are using open-access data."
   ]
  },
  {
   "cell_type": "markdown",
   "id": "f9986b7a",
   "metadata": {},
   "source": [
    "To create this model, we utilized a ‘Stroke Prediction Dataset’ which can be found on a Data science company’s website, Kaggle. The dataset included different variables: \n",
    "unique id, gender, age, hypertension, heart disease, marital status, work type, place of residence, average glucose level, body mass index (BMI), smoking status, and if they had a stroke. We aimed to create a model that minimized the false negative rate because we are working within diagnosis which means false negatives, people being told they are not at risk for stroke but actually are at high risk, would be the worst possible outcome.\n"
   ]
  },
  {
   "cell_type": "markdown",
   "id": "8c255035",
   "metadata": {},
   "source": [
    "## Stakeholders\n",
    "Who cares? If you are successful, what difference will it make to them?"
   ]
  },
  {
   "cell_type": "markdown",
   "id": "55250daf",
   "metadata": {},
   "source": [
    "At-risk patients will benefit the most from our exact modeling because it will allow them to start preventative measures and lifestyle changes sooner to decrease their risk. Along with that, making sure that at-risk patients are prepared is very important to our mission. Helping target at-risk patients with information about how to know if they are experiencing a stroke was very important to us. Taking the next steps promptly is imperative for the person to survive that stroke. Along with that, creating a model that will predict stroke likelihood would also help family and friends of loved ones who are predicted to have a stroke because they could also become more prepared if the situation escalates. Awareness of possible stroke is our driving goal for our patients.\n",
    "\tOur second stakeholder would be a medical professional. Every medical professional swear on the Hippocratic oath and promises to ‘do no harm’ [5]. By having logistic classification models to predict patients' likelihood of stroke, doctors could better address their patients. Along with that, if doctors are unsure of if a person is having a stroke or had a stroke, they can use this model to affirm or reject their null hypothesis. As medical professionals are constantly doing research on different health issues, they can also use this model to find participants in studies of strokes and determine if someone is eligible. \n",
    "\n"
   ]
  },
  {
   "cell_type": "markdown",
   "id": "fe7ea9bb",
   "metadata": {},
   "source": [
    "## Data quality check / cleaning / preparation \n",
    "\n",
    "In a tabular form, show the distribution of values of each variable used in the analysis - for both categorical and continuous variables. Distribution of a categorical variable must include the number of missing values, the number of unique values, the frequency of all its levels. If a categorical variable has too many levels, you may just include the counts of the top 3-5 levels. \n",
    "\n",
    "If the tables in this section take too much space, you may put them in the appendix, and just mention any useful insights you obtained from the data quality check that helped you develop the model or helped you realize the necessary data cleaning / preparation.\n",
    "\n",
    "Were there any potentially incorrect values of variables that required cleaning? If yes, how did you clean them? \n",
    "\n",
    "Did you do any data wrangling or data preparation before the data was ready to use for model development? Did you create any new predictors from exisiting predictors? For example, if you have number of transactions and spend in a credit card dataset, you may create spend per transaction for predicting if a customer pays their credit card bill. Mention the steps at a broad level, you may put minor details in the appendix. Only mention the steps that ended up being useful towards developing your final model(s)."
   ]
  },
  {
   "cell_type": "code",
   "execution_count": 18,
   "id": "80905e45",
   "metadata": {},
   "outputs": [],
   "source": [
    "import pandas as pd\n",
    "import numpy as np\n",
    "strokedata = pd.read_csv('healthcare-dataset-stroke-data.csv')"
   ]
  },
  {
   "cell_type": "code",
   "execution_count": 22,
   "id": "201683bd",
   "metadata": {},
   "outputs": [
    {
     "data": {
      "text/html": [
       "<div>\n",
       "<style scoped>\n",
       "    .dataframe tbody tr th:only-of-type {\n",
       "        vertical-align: middle;\n",
       "    }\n",
       "\n",
       "    .dataframe tbody tr th {\n",
       "        vertical-align: top;\n",
       "    }\n",
       "\n",
       "    .dataframe thead th {\n",
       "        text-align: right;\n",
       "    }\n",
       "</style>\n",
       "<table border=\"1\" class=\"dataframe\">\n",
       "  <thead>\n",
       "    <tr style=\"text-align: right;\">\n",
       "      <th></th>\n",
       "      <th>id</th>\n",
       "      <th>age</th>\n",
       "      <th>avg_glucose_level</th>\n",
       "      <th>bmi</th>\n",
       "    </tr>\n",
       "  </thead>\n",
       "  <tbody>\n",
       "    <tr>\n",
       "      <th>count</th>\n",
       "      <td>5110.000000</td>\n",
       "      <td>5110.000000</td>\n",
       "      <td>5110.000000</td>\n",
       "      <td>4909.000000</td>\n",
       "    </tr>\n",
       "    <tr>\n",
       "      <th>mean</th>\n",
       "      <td>36517.829354</td>\n",
       "      <td>43.226614</td>\n",
       "      <td>106.147677</td>\n",
       "      <td>28.893237</td>\n",
       "    </tr>\n",
       "    <tr>\n",
       "      <th>std</th>\n",
       "      <td>21161.721625</td>\n",
       "      <td>22.612647</td>\n",
       "      <td>45.283560</td>\n",
       "      <td>7.854067</td>\n",
       "    </tr>\n",
       "    <tr>\n",
       "      <th>min</th>\n",
       "      <td>67.000000</td>\n",
       "      <td>0.080000</td>\n",
       "      <td>55.120000</td>\n",
       "      <td>10.300000</td>\n",
       "    </tr>\n",
       "    <tr>\n",
       "      <th>25%</th>\n",
       "      <td>17741.250000</td>\n",
       "      <td>25.000000</td>\n",
       "      <td>77.245000</td>\n",
       "      <td>23.500000</td>\n",
       "    </tr>\n",
       "    <tr>\n",
       "      <th>50%</th>\n",
       "      <td>36932.000000</td>\n",
       "      <td>45.000000</td>\n",
       "      <td>91.885000</td>\n",
       "      <td>28.100000</td>\n",
       "    </tr>\n",
       "    <tr>\n",
       "      <th>75%</th>\n",
       "      <td>54682.000000</td>\n",
       "      <td>61.000000</td>\n",
       "      <td>114.090000</td>\n",
       "      <td>33.100000</td>\n",
       "    </tr>\n",
       "    <tr>\n",
       "      <th>max</th>\n",
       "      <td>72940.000000</td>\n",
       "      <td>82.000000</td>\n",
       "      <td>271.740000</td>\n",
       "      <td>97.600000</td>\n",
       "    </tr>\n",
       "  </tbody>\n",
       "</table>\n",
       "</div>"
      ],
      "text/plain": [
       "                 id          age  avg_glucose_level          bmi\n",
       "count   5110.000000  5110.000000        5110.000000  4909.000000\n",
       "mean   36517.829354    43.226614         106.147677    28.893237\n",
       "std    21161.721625    22.612647          45.283560     7.854067\n",
       "min       67.000000     0.080000          55.120000    10.300000\n",
       "25%    17741.250000    25.000000          77.245000    23.500000\n",
       "50%    36932.000000    45.000000          91.885000    28.100000\n",
       "75%    54682.000000    61.000000         114.090000    33.100000\n",
       "max    72940.000000    82.000000         271.740000    97.600000"
      ]
     },
     "execution_count": 22,
     "metadata": {},
     "output_type": "execute_result"
    }
   ],
   "source": [
    "strokedata[['id', 'age', 'avg_glucose_level', 'bmi']].describe()"
   ]
  },
  {
   "cell_type": "code",
   "execution_count": 25,
   "id": "84bedc0e",
   "metadata": {},
   "outputs": [
    {
     "data": {
      "text/plain": [
       "0    4612\n",
       "1     498\n",
       "Name: hypertension, dtype: int64"
      ]
     },
     "execution_count": 25,
     "metadata": {},
     "output_type": "execute_result"
    }
   ],
   "source": [
    "strokedata['hypertension'].value_counts()"
   ]
  },
  {
   "cell_type": "code",
   "execution_count": 24,
   "id": "5dff4913",
   "metadata": {},
   "outputs": [
    {
     "data": {
      "text/plain": [
       "0    4834\n",
       "1     276\n",
       "Name: heart_disease, dtype: int64"
      ]
     },
     "execution_count": 24,
     "metadata": {},
     "output_type": "execute_result"
    }
   ],
   "source": [
    "strokedata['heart_disease'].value_counts()"
   ]
  },
  {
   "cell_type": "code",
   "execution_count": 26,
   "id": "b4e632fc",
   "metadata": {},
   "outputs": [
    {
     "data": {
      "text/plain": [
       "0    4861\n",
       "1     249\n",
       "Name: stroke, dtype: int64"
      ]
     },
     "execution_count": 26,
     "metadata": {},
     "output_type": "execute_result"
    }
   ],
   "source": [
    "strokedata['stroke'].value_counts()"
   ]
  },
  {
   "cell_type": "code",
   "execution_count": 27,
   "id": "b291647f",
   "metadata": {},
   "outputs": [
    {
     "data": {
      "text/html": [
       "<div>\n",
       "<style scoped>\n",
       "    .dataframe tbody tr th:only-of-type {\n",
       "        vertical-align: middle;\n",
       "    }\n",
       "\n",
       "    .dataframe tbody tr th {\n",
       "        vertical-align: top;\n",
       "    }\n",
       "\n",
       "    .dataframe thead th {\n",
       "        text-align: right;\n",
       "    }\n",
       "</style>\n",
       "<table border=\"1\" class=\"dataframe\">\n",
       "  <thead>\n",
       "    <tr style=\"text-align: right;\">\n",
       "      <th></th>\n",
       "      <th>Variable Name</th>\n",
       "      <th>Missing Values</th>\n",
       "      <th>Unique Values</th>\n",
       "    </tr>\n",
       "  </thead>\n",
       "  <tbody>\n",
       "    <tr>\n",
       "      <th>0</th>\n",
       "      <td>gender</td>\n",
       "      <td>None</td>\n",
       "      <td>3</td>\n",
       "    </tr>\n",
       "    <tr>\n",
       "      <th>1</th>\n",
       "      <td>ever_married</td>\n",
       "      <td>None</td>\n",
       "      <td>2</td>\n",
       "    </tr>\n",
       "    <tr>\n",
       "      <th>2</th>\n",
       "      <td>work_type</td>\n",
       "      <td>None</td>\n",
       "      <td>5</td>\n",
       "    </tr>\n",
       "    <tr>\n",
       "      <th>3</th>\n",
       "      <td>Residence_type</td>\n",
       "      <td>None</td>\n",
       "      <td>2</td>\n",
       "    </tr>\n",
       "    <tr>\n",
       "      <th>4</th>\n",
       "      <td>smoking_status</td>\n",
       "      <td>None</td>\n",
       "      <td>4</td>\n",
       "    </tr>\n",
       "    <tr>\n",
       "      <th>5</th>\n",
       "      <td>hypertension</td>\n",
       "      <td>None</td>\n",
       "      <td>2</td>\n",
       "    </tr>\n",
       "    <tr>\n",
       "      <th>6</th>\n",
       "      <td>heart_disease</td>\n",
       "      <td>None</td>\n",
       "      <td>2</td>\n",
       "    </tr>\n",
       "    <tr>\n",
       "      <th>7</th>\n",
       "      <td>stroke</td>\n",
       "      <td>None</td>\n",
       "      <td>2</td>\n",
       "    </tr>\n",
       "  </tbody>\n",
       "</table>\n",
       "</div>"
      ],
      "text/plain": [
       "    Variable Name Missing Values  Unique Values\n",
       "0          gender           None              3\n",
       "1    ever_married           None              2\n",
       "2       work_type           None              5\n",
       "3  Residence_type           None              2\n",
       "4  smoking_status           None              4\n",
       "5    hypertension           None              2\n",
       "6   heart_disease           None              2\n",
       "7          stroke           None              2"
      ]
     },
     "execution_count": 27,
     "metadata": {},
     "output_type": "execute_result"
    }
   ],
   "source": [
    "strokedata_dict = {'Variable Name': ['gender', 'ever_married', 'work_type', 'Residence_type', 'smoking_status', 'hypertension', 'heart_disease', 'stroke'], 'Missing Values': ['None', 'None', 'None', 'None', 'None', 'None', 'None', 'None'], 'Unique Values': [3, 2, 5, 2, 4, 2, 2, 2]}\n",
    "pd.DataFrame(strokedata_dict)"
   ]
  },
  {
   "cell_type": "code",
   "execution_count": 28,
   "id": "ac76f815",
   "metadata": {},
   "outputs": [
    {
     "data": {
      "text/html": [
       "<div>\n",
       "<style scoped>\n",
       "    .dataframe tbody tr th:only-of-type {\n",
       "        vertical-align: middle;\n",
       "    }\n",
       "\n",
       "    .dataframe tbody tr th {\n",
       "        vertical-align: top;\n",
       "    }\n",
       "\n",
       "    .dataframe thead th {\n",
       "        text-align: right;\n",
       "    }\n",
       "</style>\n",
       "<table border=\"1\" class=\"dataframe\">\n",
       "  <thead>\n",
       "    <tr style=\"text-align: right;\">\n",
       "      <th></th>\n",
       "      <th>gender</th>\n",
       "      <th>gender_count</th>\n",
       "      <th>ever_married</th>\n",
       "      <th>ever_married_count</th>\n",
       "      <th>work_type</th>\n",
       "      <th>work_type_count</th>\n",
       "      <th>Residence_type</th>\n",
       "      <th>Residence_type_count</th>\n",
       "      <th>smoking_status</th>\n",
       "      <th>smoking_status_count</th>\n",
       "      <th>hypertension</th>\n",
       "      <th>hypertension_count</th>\n",
       "      <th>heart_disease</th>\n",
       "      <th>heart_disease_count</th>\n",
       "      <th>stroke</th>\n",
       "      <th>stroke_count</th>\n",
       "    </tr>\n",
       "  </thead>\n",
       "  <tbody>\n",
       "    <tr>\n",
       "      <th>0</th>\n",
       "      <td>Female</td>\n",
       "      <td>2994.0</td>\n",
       "      <td>Yes</td>\n",
       "      <td>3353.0</td>\n",
       "      <td>Private</td>\n",
       "      <td>2925</td>\n",
       "      <td>Urban</td>\n",
       "      <td>2596.0</td>\n",
       "      <td>never smoked</td>\n",
       "      <td>1892.0</td>\n",
       "      <td>0.0</td>\n",
       "      <td>4612.0</td>\n",
       "      <td>0.0</td>\n",
       "      <td>4834.0</td>\n",
       "      <td>0.0</td>\n",
       "      <td>4861.0</td>\n",
       "    </tr>\n",
       "    <tr>\n",
       "      <th>1</th>\n",
       "      <td>Male</td>\n",
       "      <td>2115.0</td>\n",
       "      <td>No</td>\n",
       "      <td>1757.0</td>\n",
       "      <td>Self-employed</td>\n",
       "      <td>819</td>\n",
       "      <td>Rural</td>\n",
       "      <td>2514.0</td>\n",
       "      <td>Unknown</td>\n",
       "      <td>1544.0</td>\n",
       "      <td>1.0</td>\n",
       "      <td>498.0</td>\n",
       "      <td>1.0</td>\n",
       "      <td>276.0</td>\n",
       "      <td>1.0</td>\n",
       "      <td>249.0</td>\n",
       "    </tr>\n",
       "    <tr>\n",
       "      <th>2</th>\n",
       "      <td>Other</td>\n",
       "      <td>1.0</td>\n",
       "      <td>NaN</td>\n",
       "      <td>NaN</td>\n",
       "      <td>children</td>\n",
       "      <td>687</td>\n",
       "      <td>NaN</td>\n",
       "      <td>NaN</td>\n",
       "      <td>formerly smoked</td>\n",
       "      <td>885.0</td>\n",
       "      <td>NaN</td>\n",
       "      <td>NaN</td>\n",
       "      <td>NaN</td>\n",
       "      <td>NaN</td>\n",
       "      <td>NaN</td>\n",
       "      <td>NaN</td>\n",
       "    </tr>\n",
       "    <tr>\n",
       "      <th>3</th>\n",
       "      <td>NaN</td>\n",
       "      <td>NaN</td>\n",
       "      <td>NaN</td>\n",
       "      <td>NaN</td>\n",
       "      <td>Govt_job</td>\n",
       "      <td>657</td>\n",
       "      <td>NaN</td>\n",
       "      <td>NaN</td>\n",
       "      <td>smokes</td>\n",
       "      <td>789.0</td>\n",
       "      <td>NaN</td>\n",
       "      <td>NaN</td>\n",
       "      <td>NaN</td>\n",
       "      <td>NaN</td>\n",
       "      <td>NaN</td>\n",
       "      <td>NaN</td>\n",
       "    </tr>\n",
       "    <tr>\n",
       "      <th>4</th>\n",
       "      <td>NaN</td>\n",
       "      <td>NaN</td>\n",
       "      <td>NaN</td>\n",
       "      <td>NaN</td>\n",
       "      <td>Never_worked</td>\n",
       "      <td>22</td>\n",
       "      <td>NaN</td>\n",
       "      <td>NaN</td>\n",
       "      <td>NaN</td>\n",
       "      <td>NaN</td>\n",
       "      <td>NaN</td>\n",
       "      <td>NaN</td>\n",
       "      <td>NaN</td>\n",
       "      <td>NaN</td>\n",
       "      <td>NaN</td>\n",
       "      <td>NaN</td>\n",
       "    </tr>\n",
       "  </tbody>\n",
       "</table>\n",
       "</div>"
      ],
      "text/plain": [
       "   gender  gender_count ever_married  ever_married_count      work_type  \\\n",
       "0  Female        2994.0          Yes              3353.0        Private   \n",
       "1    Male        2115.0           No              1757.0  Self-employed   \n",
       "2   Other           1.0          NaN                 NaN       children   \n",
       "3     NaN           NaN          NaN                 NaN       Govt_job   \n",
       "4     NaN           NaN          NaN                 NaN   Never_worked   \n",
       "\n",
       "   work_type_count Residence_type  Residence_type_count   smoking_status  \\\n",
       "0             2925          Urban                2596.0     never smoked   \n",
       "1              819          Rural                2514.0          Unknown   \n",
       "2              687            NaN                   NaN  formerly smoked   \n",
       "3              657            NaN                   NaN           smokes   \n",
       "4               22            NaN                   NaN              NaN   \n",
       "\n",
       "   smoking_status_count  hypertension  hypertension_count  heart_disease  \\\n",
       "0                1892.0           0.0              4612.0            0.0   \n",
       "1                1544.0           1.0               498.0            1.0   \n",
       "2                 885.0           NaN                 NaN            NaN   \n",
       "3                 789.0           NaN                 NaN            NaN   \n",
       "4                   NaN           NaN                 NaN            NaN   \n",
       "\n",
       "   heart_disease_count  stroke  stroke_count  \n",
       "0               4834.0     0.0        4861.0  \n",
       "1                276.0     1.0         249.0  \n",
       "2                  NaN     NaN           NaN  \n",
       "3                  NaN     NaN           NaN  \n",
       "4                  NaN     NaN           NaN  "
      ]
     },
     "execution_count": 28,
     "metadata": {},
     "output_type": "execute_result"
    }
   ],
   "source": [
    "strokedata_cat_dict2 = {'gender': ['Female', 'Male', 'Other', np.NaN, np.NaN], 'gender_count': [2994, 2115, 1, np.NaN, np.NaN], 'ever_married': ['Yes', 'No', np.NaN, np.NaN, np.NaN], 'ever_married_count': [3353, 1757, np.NaN, np.NaN, np.NaN], 'work_type': ['Private', 'Self-employed', 'children', 'Govt_job', 'Never_worked'], 'work_type_count': [2925, 819, 687, 657, 22], 'Residence_type': ['Urban', 'Rural', np.NaN, np.NaN, np.NaN], 'Residence_type_count': [2596, 2514, np.NaN, np.NaN, np.NaN], 'smoking_status': ['never smoked', 'Unknown', 'formerly smoked', 'smokes', np.NaN], 'smoking_status_count': [1892, 1544, 885, 789, np.NaN], 'hypertension': [0, 1, np.NaN, np.NaN, np.NaN], 'hypertension_count': [4612, 498, np.NaN, np.NaN, np.NaN], 'heart_disease': [0, 1, np.NaN, np.NaN, np.NaN], 'heart_disease_count': [4834, 276, np.NaN, np.NaN, np.NaN], 'stroke': [0, 1, np.NaN, np.NaN, np.NaN], 'stroke_count': [4861, 249, np.NaN, np.NaN, np.NaN]}\n",
    "pd.DataFrame(strokedata_cat_dict2)"
   ]
  },
  {
   "cell_type": "markdown",
   "id": "3ea02d60",
   "metadata": {},
   "source": [
    "We imputed BMI because there were missing values that would have lost a significant portion of our target variable (stroke), so this was a new variable called imputed_bmi using K-Nearest Neighbors and then also a flag variable called bmi_original that said \"yes\" or \"no\" if the value was imputed or not. We also binned glucose to better see non-linear trends with stroke. We split our data 70/30 into train and test."
   ]
  },
  {
   "cell_type": "markdown",
   "id": "fbb11c9b",
   "metadata": {},
   "source": [
    "## Exploratory data analysis"
   ]
  },
  {
   "cell_type": "markdown",
   "id": "e4bd74a9",
   "metadata": {},
   "source": [
    "Put the relevant EDA here (visualizations, tables, etc.) that helped you figure out useful predictors for developing the model(s). Only put the EDA that ended up being useful towards developing your final model(s). \n",
    "\n",
    "List the insights (as bullet points) you got from EDA that ended up being useful towards developing your final model. \n",
    "\n",
    "Again, if there are too many plots / tables, you may put them into appendix, and just mention the insights you got from them."
   ]
  },
  {
   "cell_type": "markdown",
   "id": "d39c782c",
   "metadata": {},
   "source": [
    "## Approach\n",
    "\n",
    "What kind of a model (linear / logistic / other) did you use? What performance metric(s) did you optimize and why?\n",
    "\n",
    "Is there anything unorthodox / new in your approach? \n",
    "\n",
    "What problems did you anticipate? What problems did you encounter? Did the very first model you tried work? \n",
    "\n",
    "Did your problem already have solution(s) (posted on Kaggle or elsewhere). If yes, then how did you build upon those solutions, what did you do differently? Is your model better as compared to those solutions in terms of prediction / inference?\n",
    "\n",
    "**Important: Mention any code repositories (with citations) or other sources that you used, and specifically what changes you made to them for your project.**"
   ]
  },
  {
   "cell_type": "markdown",
   "id": "6a3148fe",
   "metadata": {},
   "source": [
    "We used a logistic model to optimize FNR and F1. We wanted to minimize FNR because it was better to overdiagnose people and send them through to more screening than to underdiagnose people at risk of stroke. F1 was an important metric to capture both precision and recall and value both of them when training our model. Because we were minimizing FNR using a lower cutoff, we had difficulty getting our precision high, so this was the main issue in getting a good F1 score.\n",
    "\n",
    "We had a lot of difficulty finding interactions/transformations that would work for our model. We tried a lot in terms of lasso regression and variable selection beyond arbitrary transformations and transformations based on visualizations, but nothing was super successful beyond a base model.\n",
    "\n",
    "We did not use code on Kaggle that had successful solutions because many utilized ML techniques that we do not have access to yet, so we tried our best to use variable selection techniques within the scope of this quarter's class."
   ]
  },
  {
   "cell_type": "markdown",
   "id": "acab331a",
   "metadata": {},
   "source": [
    "## Developing the model"
   ]
  },
  {
   "cell_type": "markdown",
   "id": "ae5ec4c9",
   "metadata": {},
   "source": [
    "Explain the steps taken to develop and improve the base model - informative visualizations / addressing modeling assumption violations / variable transformation / interactions / outlier treatment / influential points treatment / addressing over-fitting / addressing multicollinearity / variable selection - stepwise regression, lasso, ridge regression). \n",
    "\n",
    "Did you succeed in achieving your goal, or did you fail? Why?\n",
    "\n",
    "**Put the final model equation**.\n",
    "\n",
    "**Important: This section should be rigorous and thorough. Present detailed information about decision you made, why you made them, and any evidence/experimentation to back them up.**"
   ]
  },
  {
   "cell_type": "markdown",
   "id": "1b46343d",
   "metadata": {},
   "source": [
    "## Limitations of the model with regard to inference / prediction"
   ]
  },
  {
   "cell_type": "markdown",
   "id": "c85ead90",
   "metadata": {},
   "source": [
    "If it is inference, will the inference hold for a certain period of time, for a certain subset of population, and / or for certain conditions.\n",
    "\n",
    "If it is prediction, then will it be possible / convenient / expensive for the stakeholders to collect the data relating to the predictors in the model. Using your model, how soon will the stakeholder be able to predict the outcome before the outcome occurs. For example, if the model predicts the number of bikes people will rent in Evanston on a certain day, then how many days before that day will your model be able to make the prediction. This will depend on how soon the data that your model uses becomes available. If you are predicting election results, how many days / weeks / months / years before the election can you predict the results. \n",
    "\n",
    "When will your model become too obsolete to be useful?"
   ]
  },
  {
   "cell_type": "markdown",
   "id": "f6026cb7",
   "metadata": {},
   "source": [
    "## Other sections *(optional)*\n",
    "\n",
    "You are welcome to introduce additional sections or subsections, if required, to address any specific aspects of your project in detail. For example, you may briefly discuss potential future work that the research community could focus on to make further progress in the direction of your project's topic."
   ]
  },
  {
   "cell_type": "markdown",
   "id": "62a185cb",
   "metadata": {},
   "source": [
    "## Conclusions and Recommendations to stakeholder(s)\n",
    "\n",
    "What conclusions do you draw based on your model? If it is inference you may draw conclusions based on the coefficients, statistical significance of predictors / interactions, etc. If it is prediction, you may draw conclusions based on prediction accuracy, or other performance metrics.\n",
    "\n",
    "How do you use those conclusions to come up with meaningful recommendations for stakeholders? The recommendations must be action-items for stakeholders that they can directly implement without any further analysis. Be as precise as possible. The stakeholder(s) are depending on you to come up with practically implementable recommendations, instead of having to think for themselves.\n",
    "\n",
    "If your recommendations are not practically implementable by stakeholders, how will they help them? Is there some additional data / analysis / domain expertise you need to do to make the recommendations implementable? \n",
    "\n",
    "Do the stakeholder(s) need to be aware about some limitations of your model? Is your model only good for one-time use, or is it possible to update your model at a certain frequency (based on recent data) to keep using it in the future? If it can be used in the future, then for how far into the future?"
   ]
  },
  {
   "cell_type": "markdown",
   "id": "9c44497c",
   "metadata": {},
   "source": [
    "## GitHub and individual contribution {-}"
   ]
  },
  {
   "cell_type": "markdown",
   "id": "c98b3f66",
   "metadata": {},
   "source": [
    "https://github.com/cara25/slayta_scientists"
   ]
  },
  {
   "cell_type": "markdown",
   "id": "5505da5c",
   "metadata": {},
   "source": [
    "<html>\n",
    "<style>\n",
    "table, td, th {\n",
    "  border: 1px solid black;\n",
    "}\n",
    "\n",
    "table {\n",
    "  border-collapse: collapse;\n",
    "  width: 100%;\n",
    "}\n",
    "\n",
    "th {\n",
    "  text-align: left;\n",
    "}\n",
    "    \n",
    "\n",
    "</style>\n",
    "<body>\n",
    "\n",
    "<h2>Individual contribution</h2>\n",
    "\n",
    "<table style=\"width:100%\">\n",
    "     <colgroup>\n",
    "       <col span=\"1\" style=\"width: 15%;\">\n",
    "       <col span=\"1\" style=\"width: 20%;\">\n",
    "       <col span=\"1\" style=\"width: 50%;\">\n",
    "       <col span=\"1\" style=\"width: 15%;\"> \n",
    "    </colgroup>\n",
    "  <tr>\n",
    "    <th>Team member</th>\n",
    "    <th>Contributed aspects</th>\n",
    "    <th>Details</th>\n",
    "    <th>Number of GitHub commits</th>\n",
    "  </tr>\n",
    "  <tr>\n",
    "    <td>Elton John</td>\n",
    "    <td>Data cleaning and EDA</td>\n",
    "    <td>Cleaned data to impute missing values and developed visualizations to identify appropriate variable transformations.</td>\n",
    "    <td>100</td>\n",
    "  </tr>\n",
    "  <tr>\n",
    "    <td>Xena Valenzuela</td>\n",
    "    <td>Assumptions and interactions</td>\n",
    "    <td>Checked and addressed modeling assumptions and identified relevant variable interactions.</td>\n",
    "    <td>120</td>\n",
    "  </tr>\n",
    "    <tr>\n",
    "    <td>Sankaranarayanan Balasubramanian</td>\n",
    "    <td>Outlier and influential points treatment</td>\n",
    "    <td>Identified outliers/influential points and analayzed their effect on the model.</td>\n",
    "    <td>130</td>    \n",
    "  </tr>\n",
    "    <tr>\n",
    "    <td>Chun-Li</td>\n",
    "    <td>Variable selection and addressing overfitting</td>\n",
    "    <td>Performed variable selection on an exhaustive set of predictors to address multicollinearity and overfitting.</td>\n",
    "    <td>150</td>    \n",
    "  </tr>\n",
    "</table>"
   ]
  },
  {
   "cell_type": "markdown",
   "id": "192bbd23",
   "metadata": {},
   "source": [
    "List the **challenges** you faced when collaborating with the team on GitHub. Are you comfortable using GitHub? \n",
    "Do you feel GitHuB made collaboration easier? If not, then why? *(Individual team members can put their opinion separately, if different from the rest of the team)*"
   ]
  },
  {
   "cell_type": "markdown",
   "id": "00b1cafe",
   "metadata": {},
   "source": [
    "## References {-}"
   ]
  },
  {
   "cell_type": "markdown",
   "id": "ebdb1aad",
   "metadata": {},
   "source": [
    "List and number all bibliographical references. When referenced in the text, enclose the citation number in square brackets, for example [1].\n",
    "\n",
    "[1] Authors. The frobnicatable foo filter, 2014. Face and Gesture submission ID 324. Supplied as additional material\n",
    "fg324.pdf. 3\n"
   ]
  },
  {
   "cell_type": "markdown",
   "id": "9474d6df",
   "metadata": {},
   "source": [
    "[1]https://www.who.int/news-room/fact-sheets/detail/the-top-10-causes-of-death#:~:text=Stroke%20and%20chronic%20obstructive%20pulmonary,6%25%20of%20total%20deaths%20respectively.\n",
    "\n",
    "[2] https://www.cdc.gov/stroke/facts.htm#:~:text=Stroke%20statistics,-In%202020%2C%201&text=Every%203.5%20minutes%2C%20someone%20dies%20of%20stroke.&text=Every%20year%2C%20more%20than%20795%2C000,are%20first%20or%20new%20strokes.&text=About%20185%2C000%20strokes%E2%80%94nearly%201,have%20had%20a%20previous%20stroke.\n",
    "\n",
    "[3]https://www.cdc.gov/stroke/prevention.htm\n",
    "\n",
    "[4]https://www.npr.org/sections/health-shots/2022/03/14/1086345393/strokes-young-people-hailey-bieber \n",
    "\n",
    "[5] https://www.health.harvard.edu/blog/first-do-no-harm-201510138421 \n"
   ]
  },
  {
   "cell_type": "markdown",
   "id": "5831751c",
   "metadata": {},
   "source": [
    "## Appendix {-}"
   ]
  },
  {
   "cell_type": "markdown",
   "id": "d13d374d",
   "metadata": {},
   "source": [
    "You may put additional stuff here as Appendix. You may refer to the Appendix in the main report to support your arguments. However, the appendix section is unlikely to be checked while grading, unless the grader deems it necessary."
   ]
  },
  {
   "cell_type": "code",
   "execution_count": null,
   "id": "666ee4a0",
   "metadata": {},
   "outputs": [],
   "source": []
  }
 ],
 "metadata": {
  "kernelspec": {
   "display_name": "Python 3 (ipykernel)",
   "language": "python",
   "name": "python3"
  },
  "language_info": {
   "codemirror_mode": {
    "name": "ipython",
    "version": 3
   },
   "file_extension": ".py",
   "mimetype": "text/x-python",
   "name": "python",
   "nbconvert_exporter": "python",
   "pygments_lexer": "ipython3",
   "version": "3.9.7"
  }
 },
 "nbformat": 4,
 "nbformat_minor": 5
}
