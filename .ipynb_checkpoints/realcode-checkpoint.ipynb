{
 "cells": [
  {
   "cell_type": "code",
   "execution_count": 1,
   "id": "135cfb01",
   "metadata": {
    "scrolled": true
   },
   "outputs": [
    {
     "data": {
      "text/html": [
       "<div>\n",
       "<style scoped>\n",
       "    .dataframe tbody tr th:only-of-type {\n",
       "        vertical-align: middle;\n",
       "    }\n",
       "\n",
       "    .dataframe tbody tr th {\n",
       "        vertical-align: top;\n",
       "    }\n",
       "\n",
       "    .dataframe thead th {\n",
       "        text-align: right;\n",
       "    }\n",
       "</style>\n",
       "<table border=\"1\" class=\"dataframe\">\n",
       "  <thead>\n",
       "    <tr style=\"text-align: right;\">\n",
       "      <th></th>\n",
       "      <th>id</th>\n",
       "      <th>gender</th>\n",
       "      <th>age</th>\n",
       "      <th>hypertension</th>\n",
       "      <th>heart_disease</th>\n",
       "      <th>ever_married</th>\n",
       "      <th>work_type</th>\n",
       "      <th>Residence_type</th>\n",
       "      <th>avg_glucose_level</th>\n",
       "      <th>bmi</th>\n",
       "      <th>smoking_status</th>\n",
       "      <th>stroke</th>\n",
       "    </tr>\n",
       "  </thead>\n",
       "  <tbody>\n",
       "    <tr>\n",
       "      <th>0</th>\n",
       "      <td>9046</td>\n",
       "      <td>Male</td>\n",
       "      <td>67.0</td>\n",
       "      <td>0</td>\n",
       "      <td>1</td>\n",
       "      <td>Yes</td>\n",
       "      <td>Private</td>\n",
       "      <td>Urban</td>\n",
       "      <td>228.69</td>\n",
       "      <td>36.6</td>\n",
       "      <td>formerly smoked</td>\n",
       "      <td>1</td>\n",
       "    </tr>\n",
       "    <tr>\n",
       "      <th>1</th>\n",
       "      <td>51676</td>\n",
       "      <td>Female</td>\n",
       "      <td>61.0</td>\n",
       "      <td>0</td>\n",
       "      <td>0</td>\n",
       "      <td>Yes</td>\n",
       "      <td>Self-employed</td>\n",
       "      <td>Rural</td>\n",
       "      <td>202.21</td>\n",
       "      <td>NaN</td>\n",
       "      <td>never smoked</td>\n",
       "      <td>1</td>\n",
       "    </tr>\n",
       "    <tr>\n",
       "      <th>2</th>\n",
       "      <td>31112</td>\n",
       "      <td>Male</td>\n",
       "      <td>80.0</td>\n",
       "      <td>0</td>\n",
       "      <td>1</td>\n",
       "      <td>Yes</td>\n",
       "      <td>Private</td>\n",
       "      <td>Rural</td>\n",
       "      <td>105.92</td>\n",
       "      <td>32.5</td>\n",
       "      <td>never smoked</td>\n",
       "      <td>1</td>\n",
       "    </tr>\n",
       "    <tr>\n",
       "      <th>3</th>\n",
       "      <td>60182</td>\n",
       "      <td>Female</td>\n",
       "      <td>49.0</td>\n",
       "      <td>0</td>\n",
       "      <td>0</td>\n",
       "      <td>Yes</td>\n",
       "      <td>Private</td>\n",
       "      <td>Urban</td>\n",
       "      <td>171.23</td>\n",
       "      <td>34.4</td>\n",
       "      <td>smokes</td>\n",
       "      <td>1</td>\n",
       "    </tr>\n",
       "    <tr>\n",
       "      <th>4</th>\n",
       "      <td>1665</td>\n",
       "      <td>Female</td>\n",
       "      <td>79.0</td>\n",
       "      <td>1</td>\n",
       "      <td>0</td>\n",
       "      <td>Yes</td>\n",
       "      <td>Self-employed</td>\n",
       "      <td>Rural</td>\n",
       "      <td>174.12</td>\n",
       "      <td>24.0</td>\n",
       "      <td>never smoked</td>\n",
       "      <td>1</td>\n",
       "    </tr>\n",
       "  </tbody>\n",
       "</table>\n",
       "</div>"
      ],
      "text/plain": [
       "      id  gender   age  hypertension  heart_disease ever_married  \\\n",
       "0   9046    Male  67.0             0              1          Yes   \n",
       "1  51676  Female  61.0             0              0          Yes   \n",
       "2  31112    Male  80.0             0              1          Yes   \n",
       "3  60182  Female  49.0             0              0          Yes   \n",
       "4   1665  Female  79.0             1              0          Yes   \n",
       "\n",
       "       work_type Residence_type  avg_glucose_level   bmi   smoking_status  \\\n",
       "0        Private          Urban             228.69  36.6  formerly smoked   \n",
       "1  Self-employed          Rural             202.21   NaN     never smoked   \n",
       "2        Private          Rural             105.92  32.5     never smoked   \n",
       "3        Private          Urban             171.23  34.4           smokes   \n",
       "4  Self-employed          Rural             174.12  24.0     never smoked   \n",
       "\n",
       "   stroke  \n",
       "0       1  \n",
       "1       1  \n",
       "2       1  \n",
       "3       1  \n",
       "4       1  "
      ]
     },
     "execution_count": 1,
     "metadata": {},
     "output_type": "execute_result"
    }
   ],
   "source": [
    "import pandas as pd\n",
    "import numpy as np\n",
    "import seaborn as sns\n",
    "import matplotlib.pyplot as plt\n",
    "import statsmodels.formula.api as sm\n",
    "from sklearn.metrics import roc_curve, auc\n",
    "\n",
    "strokedata = pd.read_csv('healthcare-dataset-stroke-data.csv')\n",
    "strokedata.head()"
   ]
  },
  {
   "cell_type": "markdown",
   "id": "12fdde1b",
   "metadata": {},
   "source": [
    "# Creating test and training data frame"
   ]
  },
  {
   "cell_type": "code",
   "execution_count": 2,
   "id": "4cab18da",
   "metadata": {},
   "outputs": [],
   "source": [
    "np.random.seed(2)\n",
    "train = strokedata.sample(round(strokedata.shape[0]*0.7))\n",
    "test = strokedata.drop(train.index)"
   ]
  },
  {
   "cell_type": "markdown",
   "id": "badd82f7",
   "metadata": {},
   "source": [
    "Train data consists of [3577 rows x 12 columns]  and test data consists of [1533 rows x 12 columns]"
   ]
  },
  {
   "cell_type": "markdown",
   "id": "44532045",
   "metadata": {},
   "source": [
    "# Helper Function Creation "
   ]
  },
  {
   "cell_type": "code",
   "execution_count": 3,
   "id": "71181924",
   "metadata": {},
   "outputs": [],
   "source": [
    "#helper functions\n",
    "\n",
    "#variable transformations\n",
    "def var_transform(data):\n",
    "    duration_binned = pd.qcut(train['duration'], 8, retbins = True)\n",
    "    bins = duration_binned[1]\n",
    "    data['duration_binned'] = pd.cut(data['duration'], bins = bins)\n",
    "    return data\n",
    "\n",
    "#jitter the values\n",
    "def jitter(values,j):\n",
    "    return values + np.random.normal(j,0.02,values.shape)\n",
    "\n",
    "#Function to compute confusion matrix and prediction accuracy on training data\n",
    "def confusion_matrix_train(model,cutoff=0.5):\n",
    "    # Confusion matrix\n",
    "    cm_df = pd.DataFrame(model.pred_table(threshold = cutoff))\n",
    "    #Formatting the confusion matrix\n",
    "    cm_df.columns = ['Predicted 0', 'Predicted 1'] \n",
    "    cm_df = cm_df.rename(index={0: 'Actual 0',1: 'Actual 1'})\n",
    "    cm = np.array(cm_df)\n",
    "    # Calculate the accuracy\n",
    "    accuracy = (cm[0,0]+cm[1,1])/cm.sum()\n",
    "    sns.heatmap(cm_df, annot=True, cmap='Blues', fmt='g')\n",
    "    plt.ylabel(\"Actual Values\")\n",
    "    plt.xlabel(\"Predicted Values\")\n",
    "    print(\"Classification accuracy = {:.1%}\".format(accuracy))\n",
    "\n",
    "#Function to compute confusion matrix and prediction accuracy on test data\n",
    "#Function to compute confusion matrix and prediction accuracy on test data\n",
    "def confusion_matrix_test(data,actual_values,model,cutoff=0.5):\n",
    "#Predict the values using the Logit model\n",
    "    pred_values = model.predict(data)\n",
    "# Specify the bins\n",
    "    bins=np.array([0,cutoff,1])\n",
    "#Confusion matrix\n",
    "    cm = np.histogram2d(actual_values, pred_values, bins=bins)[0]\n",
    "    cm_df = pd.DataFrame(cm)\n",
    "    cm_df.columns = ['Predicted 0','Predicted 1']\n",
    "    cm_df = cm_df.rename(index={0: 'Actual 0',1:'Actual 1'})\n",
    "    accuracy = (cm[0,0]+cm[1,1])/cm.sum()\n",
    "    sns.heatmap(cm_df, annot=True, cmap='Blues', fmt='g')\n",
    "    plt.ylabel(\"Actual Values\")\n",
    "    plt.xlabel(\"Predicted Values\")\n",
    "    print(\"Classification accuracy = {:.1%}\".format(accuracy))\n",
    "    \n",
    "#Function to compute confusion matrix and prediction accuracy on test/train data\n",
    "def confusion_matrix_data(data,actual_values,model,cutoff=0.5):\n",
    "#Predict the values using the Logit model\n",
    "    pred_values = model.predict(data)\n",
    "# Specify the bins\n",
    "    bins=np.array([0,cutoff,1])\n",
    "#Confusion matrix\n",
    "    cm = np.histogram2d(actual_values, pred_values, bins=bins)[0]\n",
    "    cm_df = pd.DataFrame(cm)\n",
    "    cm_df.columns = ['Predicted 0','Predicted 1']\n",
    "    cm_df = cm_df.rename(index={0: 'Actual 0',1:'Actual 1'})\n",
    "# Calculate the accuracy\n",
    "    accuracy = (cm[0,0]+cm[1,1])/cm.sum()\n",
    "    fnr = (cm[1,0])/(cm[1,0]+cm[1,1])\n",
    "    precision = (cm[1,1])/(cm[0,1]+cm[1,1])\n",
    "    fpr = (cm[0,1])/(cm[0,0]+cm[0,1])\n",
    "    tpr = (cm[1,1])/(cm[1,0]+cm[1,1])\n",
    "    fpr_roc, tpr_roc, auc_thresholds = roc_curve(actual_values, pred_values)\n",
    "    auc_value = (auc(fpr_roc, tpr_roc))# AUC of ROC\n",
    "    sns.heatmap(cm_df, annot=True, cmap='Blues', fmt='g')\n",
    "    plt.ylabel(\"Actual Values\")\n",
    "    plt.xlabel(\"Predicted Values\")\n",
    "    print(\"Classification accuracy = {:.1%}\".format(accuracy))\n",
    "    print(\"Precision = {:.1%}\".format(precision))\n",
    "    print(\"TPR or Recall = {:.1%}\".format(tpr))\n",
    "    print(\"FNR = {:.1%}\".format(fnr))\n",
    "    print(\"FPR = {:.1%}\".format(fpr))\n",
    "    print(\"ROC-AUC = {:.1%}\".format(auc_value))\n",
    "    \n",
    "#plotting roc\n",
    "def plot_roc_curve(fpr, tpr, label=None):\n",
    "    plt.figure(figsize=(8,8))\n",
    "    plt.title('ROC Curve')\n",
    "    plt.plot(fpr, tpr, linewidth=2, label=label)\n",
    "    plt.plot([0, 1], [0, 1], 'k--')\n",
    "    plt.axis([-0.005, 1, 0, 1.005])\n",
    "    plt.xticks(np.arange(0,1, 0.05), rotation=90)\n",
    "    plt.xlabel(\"False Positive Rate\")\n",
    "    plt.ylabel(\"True Positive Rate (Recall)\")\n",
    "    "
   ]
  },
  {
   "cell_type": "markdown",
   "id": "f1218d51",
   "metadata": {},
   "source": [
    "from sklearn.metrics import precision_recall_curve\n",
    "y = train.stroke # True response values\n",
    "ypred = logit_model.predict(train) # predicted response values\n",
    "\n",
    "p, r, thresholds = precision_recall_curve(y, ypred)\n",
    "\n",
    "def plot_precision_recall_vs_threshold(precisions, recalls, thresholds):\n",
    "    plt.figure(figsize=(8, 8))\n",
    "    plt.title(\"Precision and Recall Scores as a function of the decision threshold\")\n",
    "    plt.plot(thresholds, precisions[:-1], \"b--\", label=\"Precision\")\n",
    "    plt.plot(thresholds, recalls[:-1], \"g-\", label=\"Recall\")\n",
    "    plt.ylabel(\"Score\")\n",
    "    plt.xlabel(\"Decision Threshold\")\n",
    "    plt.legend(loc='best')\n",
    "    plt.legend()\n",
    "plot_precision_recall_vs_threshold(p, r, thresholds)"
   ]
  },
  {
   "cell_type": "markdown",
   "id": "b36cf4b8",
   "metadata": {},
   "source": [
    "# Examining the Distribution of the Target Column"
   ]
  },
  {
   "cell_type": "code",
   "execution_count": 4,
   "id": "2287e2fa",
   "metadata": {
    "scrolled": true
   },
   "outputs": [
    {
     "data": {
      "text/plain": [
       "0    3407\n",
       "1     170\n",
       "Name: stroke, dtype: int64"
      ]
     },
     "execution_count": 4,
     "metadata": {},
     "output_type": "execute_result"
    }
   ],
   "source": [
    "train.stroke.value_counts()"
   ]
  },
  {
   "cell_type": "code",
   "execution_count": 5,
   "id": "cea16855",
   "metadata": {},
   "outputs": [
    {
     "data": {
      "image/png": "[encoded data removed]",
      "text/plain": [
       "<Figure size 432x288 with 1 Axes>"
      ]
     },
     "metadata": {
      "needs_background": "light"
     },
     "output_type": "display_data"
    }
   ],
   "source": [
    "sns.countplot(x = 'stroke',data = train);"
   ]
  },
  {
   "cell_type": "markdown",
   "id": "a99aa472",
   "metadata": {},
   "source": [
    "# Fitting the initial logistic regression model"
   ]
  },
  {
   "cell_type": "code",
   "execution_count": 6,
   "id": "7ccb73a3",
   "metadata": {},
   "outputs": [
    {
     "name": "stdout",
     "output_type": "stream",
     "text": [
      "Optimization terminated successfully.\n",
      "         Current function value: 0.153034\n",
      "         Iterations 9\n"
     ]
    },
    {
     "data": {
      "text/plain": [
       "<AxesSubplot:xlabel='age', ylabel='stroke'>"
      ]
     },
     "execution_count": 6,
     "metadata": {},
     "output_type": "execute_result"
    },
    {
     "data": {
      "image/png": "[encoded data removed]",
      "text/plain": [
       "<Figure size 432x288 with 1 Axes>"
      ]
     },
     "metadata": {
      "needs_background": "light"
     },
     "output_type": "display_data"
    }
   ],
   "source": [
    "sns.scatterplot(x = 'age', y = 'stroke', data = train, color = 'orange')\n",
    "logit_model = sm.logit(formula = 'stroke~age', data = train).fit()\n",
    "sns.lineplot(x = 'age', y= logit_model.predict(train), data = train, color = 'blue')"
   ]
  },
  {
   "cell_type": "code",
   "execution_count": 7,
   "id": "c3c723c6",
   "metadata": {},
   "outputs": [
    {
     "data": {
      "text/html": [
       "<table class=\"simpletable\">\n",
       "<caption>Logit Regression Results</caption>\n",
       "<tr>\n",
       "  <th>Dep. Variable:</th>        <td>stroke</td>      <th>  No. Observations:  </th>  <td>  3577</td>  \n",
       "</tr>\n",
       "<tr>\n",
       "  <th>Model:</th>                 <td>Logit</td>      <th>  Df Residuals:      </th>  <td>  3575</td>  \n",
       "</tr>\n",
       "<tr>\n",
       "  <th>Method:</th>                 <td>MLE</td>       <th>  Df Model:          </th>  <td>     1</td>  \n",
       "</tr>\n",
       "<tr>\n",
       "  <th>Date:</th>            <td>Sun, 26 Feb 2023</td> <th>  Pseudo R-squ.:     </th>  <td>0.1995</td>  \n",
       "</tr>\n",
       "<tr>\n",
       "  <th>Time:</th>                <td>15:54:20</td>     <th>  Log-Likelihood:    </th> <td> -547.40</td> \n",
       "</tr>\n",
       "<tr>\n",
       "  <th>converged:</th>             <td>True</td>       <th>  LL-Null:           </th> <td> -683.80</td> \n",
       "</tr>\n",
       "<tr>\n",
       "  <th>Covariance Type:</th>     <td>nonrobust</td>    <th>  LLR p-value:       </th> <td>2.803e-61</td>\n",
       "</tr>\n",
       "</table>\n",
       "<table class=\"simpletable\">\n",
       "<tr>\n",
       "      <td></td>         <th>coef</th>     <th>std err</th>      <th>z</th>      <th>P>|z|</th>  <th>[0.025</th>    <th>0.975]</th>  \n",
       "</tr>\n",
       "<tr>\n",
       "  <th>Intercept</th> <td>   -7.5734</td> <td>    0.429</td> <td>  -17.670</td> <td> 0.000</td> <td>   -8.413</td> <td>   -6.733</td>\n",
       "</tr>\n",
       "<tr>\n",
       "  <th>age</th>       <td>    0.0793</td> <td>    0.006</td> <td>   12.711</td> <td> 0.000</td> <td>    0.067</td> <td>    0.092</td>\n",
       "</tr>\n",
       "</table>"
      ],
      "text/plain": [
       "<class 'statsmodels.iolib.summary.Summary'>\n",
       "\"\"\"\n",
       "                           Logit Regression Results                           \n",
       "==============================================================================\n",
       "Dep. Variable:                 stroke   No. Observations:                 3577\n",
       "Model:                          Logit   Df Residuals:                     3575\n",
       "Method:                           MLE   Df Model:                            1\n",
       "Date:                Sun, 26 Feb 2023   Pseudo R-squ.:                  0.1995\n",
       "Time:                        15:54:20   Log-Likelihood:                -547.40\n",
       "converged:                       True   LL-Null:                       -683.80\n",
       "Covariance Type:            nonrobust   LLR p-value:                 2.803e-61\n",
       "==============================================================================\n",
       "                 coef    std err          z      P>|z|      [0.025      0.975]\n",
       "------------------------------------------------------------------------------\n",
       "Intercept     -7.5734      0.429    -17.670      0.000      -8.413      -6.733\n",
       "age            0.0793      0.006     12.711      0.000       0.067       0.092\n",
       "==============================================================================\n",
       "\"\"\""
      ]
     },
     "execution_count": 7,
     "metadata": {},
     "output_type": "execute_result"
    }
   ],
   "source": [
    "logit_model.summary()"
   ]
  },
  {
   "cell_type": "code",
   "execution_count": 8,
   "id": "045c6878",
   "metadata": {},
   "outputs": [
    {
     "data": {
      "text/plain": [
       "8.25290320710006"
      ]
     },
     "execution_count": 8,
     "metadata": {},
     "output_type": "execute_result"
    }
   ],
   "source": [
    "(np.exp(0.0793)-1)*100"
   ]
  },
  {
   "cell_type": "markdown",
   "id": "b88d57c3",
   "metadata": {},
   "source": [
    "The coefficient of age is 0.0793, which means for a unit increase in age, the log odds of stroke likeliness increase by 0.0793, or the odds increases by 8.25%.\n",
    "\n",
    "Assuming a significance level of $\\alpha = 0.05$, age seems to be a staistically variable as its p-value and the model's overall LLR p-value are less than our $\\alpha$ level.\n",
    "\n",
    "Print out the correlations for each of the continuous variables to check for possible interactions."
   ]
  },
  {
   "cell_type": "code",
   "execution_count": 9,
   "id": "71a101ca",
   "metadata": {},
   "outputs": [
    {
     "data": {
      "text/html": [
       "<div>\n",
       "<style scoped>\n",
       "    .dataframe tbody tr th:only-of-type {\n",
       "        vertical-align: middle;\n",
       "    }\n",
       "\n",
       "    .dataframe tbody tr th {\n",
       "        vertical-align: top;\n",
       "    }\n",
       "\n",
       "    .dataframe thead th {\n",
       "        text-align: right;\n",
       "    }\n",
       "</style>\n",
       "<table border=\"1\" class=\"dataframe\">\n",
       "  <thead>\n",
       "    <tr style=\"text-align: right;\">\n",
       "      <th></th>\n",
       "      <th>id</th>\n",
       "      <th>age</th>\n",
       "      <th>hypertension</th>\n",
       "      <th>heart_disease</th>\n",
       "      <th>avg_glucose_level</th>\n",
       "      <th>bmi</th>\n",
       "      <th>stroke</th>\n",
       "    </tr>\n",
       "  </thead>\n",
       "  <tbody>\n",
       "    <tr>\n",
       "      <th>id</th>\n",
       "      <td>1.000000</td>\n",
       "      <td>-0.014804</td>\n",
       "      <td>0.001437</td>\n",
       "      <td>0.005596</td>\n",
       "      <td>-0.029385</td>\n",
       "      <td>-0.003362</td>\n",
       "      <td>-0.004766</td>\n",
       "    </tr>\n",
       "    <tr>\n",
       "      <th>age</th>\n",
       "      <td>-0.014804</td>\n",
       "      <td>1.000000</td>\n",
       "      <td>0.272511</td>\n",
       "      <td>0.266071</td>\n",
       "      <td>0.226338</td>\n",
       "      <td>0.340309</td>\n",
       "      <td>0.248097</td>\n",
       "    </tr>\n",
       "    <tr>\n",
       "      <th>hypertension</th>\n",
       "      <td>0.001437</td>\n",
       "      <td>0.272511</td>\n",
       "      <td>1.000000</td>\n",
       "      <td>0.108822</td>\n",
       "      <td>0.169636</td>\n",
       "      <td>0.171667</td>\n",
       "      <td>0.117325</td>\n",
       "    </tr>\n",
       "    <tr>\n",
       "      <th>heart_disease</th>\n",
       "      <td>0.005596</td>\n",
       "      <td>0.266071</td>\n",
       "      <td>0.108822</td>\n",
       "      <td>1.000000</td>\n",
       "      <td>0.150224</td>\n",
       "      <td>0.049623</td>\n",
       "      <td>0.137965</td>\n",
       "    </tr>\n",
       "    <tr>\n",
       "      <th>avg_glucose_level</th>\n",
       "      <td>-0.029385</td>\n",
       "      <td>0.226338</td>\n",
       "      <td>0.169636</td>\n",
       "      <td>0.150224</td>\n",
       "      <td>1.000000</td>\n",
       "      <td>0.178433</td>\n",
       "      <td>0.116067</td>\n",
       "    </tr>\n",
       "    <tr>\n",
       "      <th>bmi</th>\n",
       "      <td>-0.003362</td>\n",
       "      <td>0.340309</td>\n",
       "      <td>0.171667</td>\n",
       "      <td>0.049623</td>\n",
       "      <td>0.178433</td>\n",
       "      <td>1.000000</td>\n",
       "      <td>0.046985</td>\n",
       "    </tr>\n",
       "    <tr>\n",
       "      <th>stroke</th>\n",
       "      <td>-0.004766</td>\n",
       "      <td>0.248097</td>\n",
       "      <td>0.117325</td>\n",
       "      <td>0.137965</td>\n",
       "      <td>0.116067</td>\n",
       "      <td>0.046985</td>\n",
       "      <td>1.000000</td>\n",
       "    </tr>\n",
       "  </tbody>\n",
       "</table>\n",
       "</div>"
      ],
      "text/plain": [
       "                         id       age  hypertension  heart_disease  \\\n",
       "id                 1.000000 -0.014804      0.001437       0.005596   \n",
       "age               -0.014804  1.000000      0.272511       0.266071   \n",
       "hypertension       0.001437  0.272511      1.000000       0.108822   \n",
       "heart_disease      0.005596  0.266071      0.108822       1.000000   \n",
       "avg_glucose_level -0.029385  0.226338      0.169636       0.150224   \n",
       "bmi               -0.003362  0.340309      0.171667       0.049623   \n",
       "stroke            -0.004766  0.248097      0.117325       0.137965   \n",
       "\n",
       "                   avg_glucose_level       bmi    stroke  \n",
       "id                         -0.029385 -0.003362 -0.004766  \n",
       "age                         0.226338  0.340309  0.248097  \n",
       "hypertension                0.169636  0.171667  0.117325  \n",
       "heart_disease               0.150224  0.049623  0.137965  \n",
       "avg_glucose_level           1.000000  0.178433  0.116067  \n",
       "bmi                         0.178433  1.000000  0.046985  \n",
       "stroke                      0.116067  0.046985  1.000000  "
      ]
     },
     "execution_count": 9,
     "metadata": {},
     "output_type": "execute_result"
    }
   ],
   "source": [
    "corr_table = train.corr()\n",
    "corr_table"
   ]
  },
  {
   "cell_type": "markdown",
   "id": "c5ed3c5a",
   "metadata": {},
   "source": [
    "BMI and age have a correlations of 0.340309 that might be worth looking into as an interaction term. To test this, train a basic model using all of the continuous variables and then add in the interaction term."
   ]
  },
  {
   "cell_type": "code",
   "execution_count": 10,
   "id": "35f8d857",
   "metadata": {},
   "outputs": [
    {
     "name": "stdout",
     "output_type": "stream",
     "text": [
      "Optimization terminated successfully.\n",
      "         Current function value: 0.140173\n",
      "         Iterations 9\n"
     ]
    },
    {
     "data": {
      "text/html": [
       "<table class=\"simpletable\">\n",
       "<caption>Logit Regression Results</caption>\n",
       "<tr>\n",
       "  <th>Dep. Variable:</th>        <td>stroke</td>      <th>  No. Observations:  </th>  <td>  3441</td>  \n",
       "</tr>\n",
       "<tr>\n",
       "  <th>Model:</th>                 <td>Logit</td>      <th>  Df Residuals:      </th>  <td>  3437</td>  \n",
       "</tr>\n",
       "<tr>\n",
       "  <th>Method:</th>                 <td>MLE</td>       <th>  Df Model:          </th>  <td>     3</td>  \n",
       "</tr>\n",
       "<tr>\n",
       "  <th>Date:</th>            <td>Sun, 26 Feb 2023</td> <th>  Pseudo R-squ.:     </th>  <td>0.2017</td>  \n",
       "</tr>\n",
       "<tr>\n",
       "  <th>Time:</th>                <td>15:54:21</td>     <th>  Log-Likelihood:    </th> <td> -482.33</td> \n",
       "</tr>\n",
       "<tr>\n",
       "  <th>converged:</th>             <td>True</td>       <th>  LL-Null:           </th> <td> -604.20</td> \n",
       "</tr>\n",
       "<tr>\n",
       "  <th>Covariance Type:</th>     <td>nonrobust</td>    <th>  LLR p-value:       </th> <td>1.478e-52</td>\n",
       "</tr>\n",
       "</table>\n",
       "<table class=\"simpletable\">\n",
       "<tr>\n",
       "          <td></td>             <th>coef</th>     <th>std err</th>      <th>z</th>      <th>P>|z|</th>  <th>[0.025</th>    <th>0.975]</th>  \n",
       "</tr>\n",
       "<tr>\n",
       "  <th>Intercept</th>         <td>   -8.3364</td> <td>    0.663</td> <td>  -12.579</td> <td> 0.000</td> <td>   -9.635</td> <td>   -7.037</td>\n",
       "</tr>\n",
       "<tr>\n",
       "  <th>bmi</th>               <td>    0.0099</td> <td>    0.014</td> <td>    0.711</td> <td> 0.477</td> <td>   -0.017</td> <td>    0.037</td>\n",
       "</tr>\n",
       "<tr>\n",
       "  <th>avg_glucose_level</th> <td>    0.0047</td> <td>    0.002</td> <td>    3.061</td> <td> 0.002</td> <td>    0.002</td> <td>    0.008</td>\n",
       "</tr>\n",
       "<tr>\n",
       "  <th>age</th>               <td>    0.0761</td> <td>    0.007</td> <td>   11.156</td> <td> 0.000</td> <td>    0.063</td> <td>    0.089</td>\n",
       "</tr>\n",
       "</table>"
      ],
      "text/plain": [
       "<class 'statsmodels.iolib.summary.Summary'>\n",
       "\"\"\"\n",
       "                           Logit Regression Results                           \n",
       "==============================================================================\n",
       "Dep. Variable:                 stroke   No. Observations:                 3441\n",
       "Model:                          Logit   Df Residuals:                     3437\n",
       "Method:                           MLE   Df Model:                            3\n",
       "Date:                Sun, 26 Feb 2023   Pseudo R-squ.:                  0.2017\n",
       "Time:                        15:54:21   Log-Likelihood:                -482.33\n",
       "converged:                       True   LL-Null:                       -604.20\n",
       "Covariance Type:            nonrobust   LLR p-value:                 1.478e-52\n",
       "=====================================================================================\n",
       "                        coef    std err          z      P>|z|      [0.025      0.975]\n",
       "-------------------------------------------------------------------------------------\n",
       "Intercept            -8.3364      0.663    -12.579      0.000      -9.635      -7.037\n",
       "bmi                   0.0099      0.014      0.711      0.477      -0.017       0.037\n",
       "avg_glucose_level     0.0047      0.002      3.061      0.002       0.002       0.008\n",
       "age                   0.0761      0.007     11.156      0.000       0.063       0.089\n",
       "=====================================================================================\n",
       "\"\"\""
      ]
     },
     "execution_count": 10,
     "metadata": {},
     "output_type": "execute_result"
    }
   ],
   "source": [
    "# basic model with all the continuous vars\n",
    "logit_model = sm.logit(formula = 'stroke~bmi+avg_glucose_level+age', data = train).fit()\n",
    "logit_model.summary()"
   ]
  },
  {
   "cell_type": "markdown",
   "id": "b125d1c4",
   "metadata": {},
   "source": [
    "BMI does not appear to be statistically significant in this model, to test for the interaction, add an interaction term between BMI and age."
   ]
  },
  {
   "cell_type": "code",
   "execution_count": 11,
   "id": "f4cb673e",
   "metadata": {},
   "outputs": [
    {
     "name": "stdout",
     "output_type": "stream",
     "text": [
      "Optimization terminated successfully.\n",
      "         Current function value: 0.139646\n",
      "         Iterations 9\n"
     ]
    },
    {
     "data": {
      "text/html": [
       "<table class=\"simpletable\">\n",
       "<caption>Logit Regression Results</caption>\n",
       "<tr>\n",
       "  <th>Dep. Variable:</th>        <td>stroke</td>      <th>  No. Observations:  </th>  <td>  3441</td>  \n",
       "</tr>\n",
       "<tr>\n",
       "  <th>Model:</th>                 <td>Logit</td>      <th>  Df Residuals:      </th>  <td>  3436</td>  \n",
       "</tr>\n",
       "<tr>\n",
       "  <th>Method:</th>                 <td>MLE</td>       <th>  Df Model:          </th>  <td>     4</td>  \n",
       "</tr>\n",
       "<tr>\n",
       "  <th>Date:</th>            <td>Sun, 26 Feb 2023</td> <th>  Pseudo R-squ.:     </th>  <td>0.2047</td>  \n",
       "</tr>\n",
       "<tr>\n",
       "  <th>Time:</th>                <td>15:54:21</td>     <th>  Log-Likelihood:    </th> <td> -480.52</td> \n",
       "</tr>\n",
       "<tr>\n",
       "  <th>converged:</th>             <td>True</td>       <th>  LL-Null:           </th> <td> -604.20</td> \n",
       "</tr>\n",
       "<tr>\n",
       "  <th>Covariance Type:</th>     <td>nonrobust</td>    <th>  LLR p-value:       </th> <td>2.402e-52</td>\n",
       "</tr>\n",
       "</table>\n",
       "<table class=\"simpletable\">\n",
       "<tr>\n",
       "          <td></td>             <th>coef</th>     <th>std err</th>      <th>z</th>      <th>P>|z|</th>  <th>[0.025</th>    <th>0.975]</th>  \n",
       "</tr>\n",
       "<tr>\n",
       "  <th>Intercept</th>         <td>  -11.0251</td> <td>    1.364</td> <td>   -8.082</td> <td> 0.000</td> <td>  -13.699</td> <td>   -8.351</td>\n",
       "</tr>\n",
       "<tr>\n",
       "  <th>bmi</th>               <td>    0.0970</td> <td>    0.039</td> <td>    2.501</td> <td> 0.012</td> <td>    0.021</td> <td>    0.173</td>\n",
       "</tr>\n",
       "<tr>\n",
       "  <th>I(bmi * age)</th>      <td>   -0.0014</td> <td>    0.001</td> <td>   -2.238</td> <td> 0.025</td> <td>   -0.003</td> <td>   -0.000</td>\n",
       "</tr>\n",
       "<tr>\n",
       "  <th>avg_glucose_level</th> <td>    0.0049</td> <td>    0.002</td> <td>    3.237</td> <td> 0.001</td> <td>    0.002</td> <td>    0.008</td>\n",
       "</tr>\n",
       "<tr>\n",
       "  <th>age</th>               <td>    0.1192</td> <td>    0.021</td> <td>    5.704</td> <td> 0.000</td> <td>    0.078</td> <td>    0.160</td>\n",
       "</tr>\n",
       "</table>"
      ],
      "text/plain": [
       "<class 'statsmodels.iolib.summary.Summary'>\n",
       "\"\"\"\n",
       "                           Logit Regression Results                           \n",
       "==============================================================================\n",
       "Dep. Variable:                 stroke   No. Observations:                 3441\n",
       "Model:                          Logit   Df Residuals:                     3436\n",
       "Method:                           MLE   Df Model:                            4\n",
       "Date:                Sun, 26 Feb 2023   Pseudo R-squ.:                  0.2047\n",
       "Time:                        15:54:21   Log-Likelihood:                -480.52\n",
       "converged:                       True   LL-Null:                       -604.20\n",
       "Covariance Type:            nonrobust   LLR p-value:                 2.402e-52\n",
       "=====================================================================================\n",
       "                        coef    std err          z      P>|z|      [0.025      0.975]\n",
       "-------------------------------------------------------------------------------------\n",
       "Intercept           -11.0251      1.364     -8.082      0.000     -13.699      -8.351\n",
       "bmi                   0.0970      0.039      2.501      0.012       0.021       0.173\n",
       "I(bmi * age)         -0.0014      0.001     -2.238      0.025      -0.003      -0.000\n",
       "avg_glucose_level     0.0049      0.002      3.237      0.001       0.002       0.008\n",
       "age                   0.1192      0.021      5.704      0.000       0.078       0.160\n",
       "=====================================================================================\n",
       "\"\"\""
      ]
     },
     "execution_count": 11,
     "metadata": {},
     "output_type": "execute_result"
    }
   ],
   "source": [
    "logit_model2 = sm.logit(formula = 'stroke~bmi+I(bmi*age)+avg_glucose_level+age', data = train).fit()\n",
    "logit_model2.summary()"
   ]
  },
  {
   "cell_type": "markdown",
   "id": "24c8e60c",
   "metadata": {},
   "source": [
    "# Confusion matrices for Model #2"
   ]
  },
  {
   "cell_type": "code",
   "execution_count": 20,
   "id": "a9a314be",
   "metadata": {},
   "outputs": [
    {
     "name": "stdout",
     "output_type": "stream",
     "text": [
      "Classification accuracy = 95.2%\n",
      "Precision = 29.5%\n",
      "TPR or Recall = 8.9%\n",
      "FNR = 91.1%\n",
      "FPR = 0.9%\n",
      "ROC-AUC = 84.9%\n"
     ]
    },
    {
     "data": {
      "image/png": "[encoded data removed]",
      "text/plain": [
       "<Figure size 432x288 with 2 Axes>"
      ]
     },
     "metadata": {
      "needs_background": "light"
     },
     "output_type": "display_data"
    }
   ],
   "source": [
    "confusion_matrix_data(train.dropna(),train.dropna().stroke,logit_model2,cutoff=0.25)"
   ]
  },
  {
   "cell_type": "code",
   "execution_count": 21,
   "id": "625ce6c1",
   "metadata": {
    "scrolled": true
   },
   "outputs": [
    {
     "name": "stdout",
     "output_type": "stream",
     "text": [
      "Classification accuracy = 94.6%\n",
      "Precision = 18.5%\n",
      "TPR or Recall = 7.9%\n",
      "FNR = 92.1%\n",
      "FPR = 1.6%\n",
      "ROC-AUC = 83.3%\n"
     ]
    },
    {
     "data": {
      "image/png": "[encoded data removed]",
      "text/plain": [
       "<Figure size 432x288 with 2 Axes>"
      ]
     },
     "metadata": {
      "needs_background": "light"
     },
     "output_type": "display_data"
    }
   ],
   "source": [
    "confusion_matrix_data(test.dropna(),test.dropna().stroke,logit_model2,cutoff=0.25)"
   ]
  },
  {
   "cell_type": "code",
   "execution_count": 22,
   "id": "583ca729",
   "metadata": {},
   "outputs": [
    {
     "name": "stdout",
     "output_type": "stream",
     "text": [
      "Classification accuracy = 76.3%\n",
      "Precision = 12.5%\n",
      "TPR or Recall = 76.0%\n",
      "FNR = 24.0%\n",
      "FPR = 23.6%\n",
      "ROC-AUC = 84.9%\n"
     ]
    },
    {
     "data": {
      "image/png": "[encoded data removed]",
      "text/plain": [
       "<Figure size 432x288 with 2 Axes>"
      ]
     },
     "metadata": {
      "needs_background": "light"
     },
     "output_type": "display_data"
    }
   ],
   "source": [
    "confusion_matrix_data(train.dropna(),train.dropna().stroke,logit_model2,cutoff=0.05)"
   ]
  },
  {
   "cell_type": "code",
   "execution_count": 23,
   "id": "72c1f95d",
   "metadata": {},
   "outputs": [
    {
     "name": "stdout",
     "output_type": "stream",
     "text": [
      "Classification accuracy = 75.7%\n",
      "Precision = 12.1%\n",
      "TPR or Recall = 74.6%\n",
      "FNR = 25.4%\n",
      "FPR = 24.2%\n",
      "ROC-AUC = 83.3%\n"
     ]
    },
    {
     "data": {
      "image/png": "[encoded data removed]",
      "text/plain": [
       "<Figure size 432x288 with 2 Axes>"
      ]
     },
     "metadata": {
      "needs_background": "light"
     },
     "output_type": "display_data"
    }
   ],
   "source": [
    "confusion_matrix_data(test.dropna(),test.dropna().stroke,logit_model2,cutoff=0.05)"
   ]
  },
  {
   "cell_type": "markdown",
   "id": "cb907971",
   "metadata": {},
   "source": [
    "By making the cutoff so low, we were able to increase our recall value in exchange for our precision. Because there are so few positive cases in our train data, even with a much higher cutoff, the precision was still low. The classification accuracy also fell a bit. "
   ]
  },
  {
   "cell_type": "code",
   "execution_count": 16,
   "id": "254c4cb2",
   "metadata": {
    "scrolled": true
   },
   "outputs": [
    {
     "data": {
      "text/plain": [
       "0    161\n",
       "1     40\n",
       "Name: stroke, dtype: int64"
      ]
     },
     "execution_count": 16,
     "metadata": {},
     "output_type": "execute_result"
    }
   ],
   "source": [
    "strokedata.loc[strokedata['bmi'].isnull()].stroke.value_counts()"
   ]
  }
 ],
 "metadata": {
  "kernelspec": {
   "display_name": "Python 3 (ipykernel)",
   "language": "python",
   "name": "python3"
  },
  "language_info": {
   "codemirror_mode": {
    "name": "ipython",
    "version": 3
   },
   "file_extension": ".py",
   "mimetype": "text/x-python",
   "name": "python",
   "nbconvert_exporter": "python",
   "pygments_lexer": "ipython3",
   "version": "3.9.12"
  }
 },
 "nbformat": 4,
 "nbformat_minor": 5
}
