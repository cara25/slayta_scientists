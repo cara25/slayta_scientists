{
 "cells": [
  {
   "cell_type": "code",
   "execution_count": 1,
   "id": "7cd2fe61",
   "metadata": {
    "scrolled": true
   },
   "outputs": [
    {
     "name": "stdout",
     "output_type": "stream",
     "text": [
      "Requirement already satisfied: group-lasso in /Users/ballen/opt/anaconda3/lib/python3.9/site-packages (1.5.0)\n",
      "Requirement already satisfied: scikit-learn in /Users/ballen/opt/anaconda3/lib/python3.9/site-packages (from group-lasso) (1.0.2)\n",
      "Requirement already satisfied: numpy in /Users/ballen/opt/anaconda3/lib/python3.9/site-packages (from group-lasso) (1.21.5)\n",
      "Requirement already satisfied: joblib>=0.11 in /Users/ballen/opt/anaconda3/lib/python3.9/site-packages (from scikit-learn->group-lasso) (1.1.0)\n",
      "Requirement already satisfied: threadpoolctl>=2.0.0 in /Users/ballen/opt/anaconda3/lib/python3.9/site-packages (from scikit-learn->group-lasso) (2.2.0)\n",
      "Requirement already satisfied: scipy>=1.1.0 in /Users/ballen/opt/anaconda3/lib/python3.9/site-packages (from scikit-learn->group-lasso) (1.7.3)\n",
      "Note: you may need to restart the kernel to use updated packages.\n"
     ]
    }
   ],
   "source": [
    "pip install group-lasso"
   ]
  },
  {
   "cell_type": "code",
   "execution_count": 1,
   "id": "16c6a6a6",
   "metadata": {},
   "outputs": [],
   "source": [
    "from group_lasso import LogisticGroupLasso"
   ]
  },
  {
   "cell_type": "code",
   "execution_count": 2,
   "id": "135cfb01",
   "metadata": {
    "scrolled": true
   },
   "outputs": [
    {
     "data": {
      "text/html": [
       "<div>\n",
       "<style scoped>\n",
       "    .dataframe tbody tr th:only-of-type {\n",
       "        vertical-align: middle;\n",
       "    }\n",
       "\n",
       "    .dataframe tbody tr th {\n",
       "        vertical-align: top;\n",
       "    }\n",
       "\n",
       "    .dataframe thead th {\n",
       "        text-align: right;\n",
       "    }\n",
       "</style>\n",
       "<table border=\"1\" class=\"dataframe\">\n",
       "  <thead>\n",
       "    <tr style=\"text-align: right;\">\n",
       "      <th></th>\n",
       "      <th>id</th>\n",
       "      <th>gender</th>\n",
       "      <th>age</th>\n",
       "      <th>hypertension</th>\n",
       "      <th>heart_disease</th>\n",
       "      <th>ever_married</th>\n",
       "      <th>work_type</th>\n",
       "      <th>Residence_type</th>\n",
       "      <th>avg_glucose_level</th>\n",
       "      <th>bmi</th>\n",
       "      <th>smoking_status</th>\n",
       "      <th>stroke</th>\n",
       "    </tr>\n",
       "  </thead>\n",
       "  <tbody>\n",
       "    <tr>\n",
       "      <th>0</th>\n",
       "      <td>9046</td>\n",
       "      <td>Male</td>\n",
       "      <td>67.0</td>\n",
       "      <td>0</td>\n",
       "      <td>1</td>\n",
       "      <td>Yes</td>\n",
       "      <td>Private</td>\n",
       "      <td>Urban</td>\n",
       "      <td>228.69</td>\n",
       "      <td>36.6</td>\n",
       "      <td>formerly smoked</td>\n",
       "      <td>1</td>\n",
       "    </tr>\n",
       "    <tr>\n",
       "      <th>1</th>\n",
       "      <td>51676</td>\n",
       "      <td>Female</td>\n",
       "      <td>61.0</td>\n",
       "      <td>0</td>\n",
       "      <td>0</td>\n",
       "      <td>Yes</td>\n",
       "      <td>Self-employed</td>\n",
       "      <td>Rural</td>\n",
       "      <td>202.21</td>\n",
       "      <td>NaN</td>\n",
       "      <td>never smoked</td>\n",
       "      <td>1</td>\n",
       "    </tr>\n",
       "    <tr>\n",
       "      <th>2</th>\n",
       "      <td>31112</td>\n",
       "      <td>Male</td>\n",
       "      <td>80.0</td>\n",
       "      <td>0</td>\n",
       "      <td>1</td>\n",
       "      <td>Yes</td>\n",
       "      <td>Private</td>\n",
       "      <td>Rural</td>\n",
       "      <td>105.92</td>\n",
       "      <td>32.5</td>\n",
       "      <td>never smoked</td>\n",
       "      <td>1</td>\n",
       "    </tr>\n",
       "    <tr>\n",
       "      <th>3</th>\n",
       "      <td>60182</td>\n",
       "      <td>Female</td>\n",
       "      <td>49.0</td>\n",
       "      <td>0</td>\n",
       "      <td>0</td>\n",
       "      <td>Yes</td>\n",
       "      <td>Private</td>\n",
       "      <td>Urban</td>\n",
       "      <td>171.23</td>\n",
       "      <td>34.4</td>\n",
       "      <td>smokes</td>\n",
       "      <td>1</td>\n",
       "    </tr>\n",
       "    <tr>\n",
       "      <th>4</th>\n",
       "      <td>1665</td>\n",
       "      <td>Female</td>\n",
       "      <td>79.0</td>\n",
       "      <td>1</td>\n",
       "      <td>0</td>\n",
       "      <td>Yes</td>\n",
       "      <td>Self-employed</td>\n",
       "      <td>Rural</td>\n",
       "      <td>174.12</td>\n",
       "      <td>24.0</td>\n",
       "      <td>never smoked</td>\n",
       "      <td>1</td>\n",
       "    </tr>\n",
       "  </tbody>\n",
       "</table>\n",
       "</div>"
      ],
      "text/plain": [
       "      id  gender   age  hypertension  heart_disease ever_married  \\\n",
       "0   9046    Male  67.0             0              1          Yes   \n",
       "1  51676  Female  61.0             0              0          Yes   \n",
       "2  31112    Male  80.0             0              1          Yes   \n",
       "3  60182  Female  49.0             0              0          Yes   \n",
       "4   1665  Female  79.0             1              0          Yes   \n",
       "\n",
       "       work_type Residence_type  avg_glucose_level   bmi   smoking_status  \\\n",
       "0        Private          Urban             228.69  36.6  formerly smoked   \n",
       "1  Self-employed          Rural             202.21   NaN     never smoked   \n",
       "2        Private          Rural             105.92  32.5     never smoked   \n",
       "3        Private          Urban             171.23  34.4           smokes   \n",
       "4  Self-employed          Rural             174.12  24.0     never smoked   \n",
       "\n",
       "   stroke  \n",
       "0       1  \n",
       "1       1  \n",
       "2       1  \n",
       "3       1  \n",
       "4       1  "
      ]
     },
     "execution_count": 2,
     "metadata": {},
     "output_type": "execute_result"
    }
   ],
   "source": [
    "import pandas as pd\n",
    "import numpy as np\n",
    "import seaborn as sns\n",
    "import matplotlib.pyplot as plt\n",
    "import statsmodels.formula.api as sm\n",
    "import sklearn as sk\n",
    "from sklearn.metrics import roc_curve, auc\n",
    "from sklearn import metrics\n",
    "from sklearn import impute\n",
    "\n",
    "strokedata = pd.read_csv('healthcare-dataset-stroke-data.csv')\n",
    "strokedata.head()"
   ]
  },
  {
   "cell_type": "markdown",
   "id": "ecb4ad4c",
   "metadata": {},
   "source": [
    "# EDA and Imputation"
   ]
  },
  {
   "cell_type": "code",
   "execution_count": 3,
   "id": "0c856ca1",
   "metadata": {},
   "outputs": [
    {
     "data": {
      "text/plain": [
       "5110"
      ]
     },
     "execution_count": 3,
     "metadata": {},
     "output_type": "execute_result"
    }
   ],
   "source": [
    "strokedata.shape[0]"
   ]
  },
  {
   "cell_type": "code",
   "execution_count": 4,
   "id": "1a2f290c",
   "metadata": {},
   "outputs": [
    {
     "name": "stdout",
     "output_type": "stream",
     "text": [
      "<class 'pandas.core.frame.DataFrame'>\n",
      "RangeIndex: 5110 entries, 0 to 5109\n",
      "Data columns (total 12 columns):\n",
      " #   Column             Non-Null Count  Dtype  \n",
      "---  ------             --------------  -----  \n",
      " 0   id                 5110 non-null   int64  \n",
      " 1   gender             5110 non-null   object \n",
      " 2   age                5110 non-null   float64\n",
      " 3   hypertension       5110 non-null   int64  \n",
      " 4   heart_disease      5110 non-null   int64  \n",
      " 5   ever_married       5110 non-null   object \n",
      " 6   work_type          5110 non-null   object \n",
      " 7   Residence_type     5110 non-null   object \n",
      " 8   avg_glucose_level  5110 non-null   float64\n",
      " 9   bmi                4909 non-null   float64\n",
      " 10  smoking_status     5110 non-null   object \n",
      " 11  stroke             5110 non-null   int64  \n",
      "dtypes: float64(3), int64(4), object(5)\n",
      "memory usage: 479.2+ KB\n"
     ]
    }
   ],
   "source": [
    "strokedata.info()"
   ]
  },
  {
   "cell_type": "markdown",
   "id": "5010ce6f",
   "metadata": {},
   "source": [
    "Since the BMI non-null count is 4909, which is less than the number of observations, this column has null values, and the other columns do not have null values."
   ]
  },
  {
   "cell_type": "code",
   "execution_count": 5,
   "id": "6db3e5d7",
   "metadata": {},
   "outputs": [
    {
     "data": {
      "text/plain": [
       "0    161\n",
       "1     40\n",
       "Name: stroke, dtype: int64"
      ]
     },
     "execution_count": 5,
     "metadata": {},
     "output_type": "execute_result"
    }
   ],
   "source": [
    "strokedata.loc[strokedata['bmi'].isnull()].stroke.value_counts()"
   ]
  },
  {
   "cell_type": "code",
   "execution_count": 6,
   "id": "e68f5115",
   "metadata": {},
   "outputs": [],
   "source": [
    "# Create a copy of the bmi column for imputation\n",
    "strokedata['imputed_bmi'] = strokedata['bmi']\n",
    "# Create a column that will say if bmi has been imputed or not\n",
    "strokedata['bmi_original'] = 'no'"
   ]
  },
  {
   "cell_type": "code",
   "execution_count": 7,
   "id": "65a1b31c",
   "metadata": {},
   "outputs": [],
   "source": [
    "strokedata.loc[strokedata['bmi'].isnull(), 'bmi_original'] = 'yes'"
   ]
  },
  {
   "cell_type": "code",
   "execution_count": 8,
   "id": "44e4066a",
   "metadata": {},
   "outputs": [
    {
     "data": {
      "text/html": [
       "<div>\n",
       "<style scoped>\n",
       "    .dataframe tbody tr th:only-of-type {\n",
       "        vertical-align: middle;\n",
       "    }\n",
       "\n",
       "    .dataframe tbody tr th {\n",
       "        vertical-align: top;\n",
       "    }\n",
       "\n",
       "    .dataframe thead th {\n",
       "        text-align: right;\n",
       "    }\n",
       "</style>\n",
       "<table border=\"1\" class=\"dataframe\">\n",
       "  <thead>\n",
       "    <tr style=\"text-align: right;\">\n",
       "      <th></th>\n",
       "      <th>id</th>\n",
       "      <th>gender</th>\n",
       "      <th>age</th>\n",
       "      <th>hypertension</th>\n",
       "      <th>heart_disease</th>\n",
       "      <th>ever_married</th>\n",
       "      <th>work_type</th>\n",
       "      <th>Residence_type</th>\n",
       "      <th>avg_glucose_level</th>\n",
       "      <th>bmi</th>\n",
       "      <th>smoking_status</th>\n",
       "      <th>stroke</th>\n",
       "      <th>imputed_bmi</th>\n",
       "      <th>bmi_original</th>\n",
       "    </tr>\n",
       "  </thead>\n",
       "  <tbody>\n",
       "    <tr>\n",
       "      <th>0</th>\n",
       "      <td>9046</td>\n",
       "      <td>Male</td>\n",
       "      <td>67.0</td>\n",
       "      <td>0</td>\n",
       "      <td>1</td>\n",
       "      <td>Yes</td>\n",
       "      <td>Private</td>\n",
       "      <td>Urban</td>\n",
       "      <td>228.69</td>\n",
       "      <td>36.6</td>\n",
       "      <td>formerly smoked</td>\n",
       "      <td>1</td>\n",
       "      <td>36.6</td>\n",
       "      <td>no</td>\n",
       "    </tr>\n",
       "    <tr>\n",
       "      <th>1</th>\n",
       "      <td>51676</td>\n",
       "      <td>Female</td>\n",
       "      <td>61.0</td>\n",
       "      <td>0</td>\n",
       "      <td>0</td>\n",
       "      <td>Yes</td>\n",
       "      <td>Self-employed</td>\n",
       "      <td>Rural</td>\n",
       "      <td>202.21</td>\n",
       "      <td>NaN</td>\n",
       "      <td>never smoked</td>\n",
       "      <td>1</td>\n",
       "      <td>NaN</td>\n",
       "      <td>yes</td>\n",
       "    </tr>\n",
       "    <tr>\n",
       "      <th>2</th>\n",
       "      <td>31112</td>\n",
       "      <td>Male</td>\n",
       "      <td>80.0</td>\n",
       "      <td>0</td>\n",
       "      <td>1</td>\n",
       "      <td>Yes</td>\n",
       "      <td>Private</td>\n",
       "      <td>Rural</td>\n",
       "      <td>105.92</td>\n",
       "      <td>32.5</td>\n",
       "      <td>never smoked</td>\n",
       "      <td>1</td>\n",
       "      <td>32.5</td>\n",
       "      <td>no</td>\n",
       "    </tr>\n",
       "    <tr>\n",
       "      <th>3</th>\n",
       "      <td>60182</td>\n",
       "      <td>Female</td>\n",
       "      <td>49.0</td>\n",
       "      <td>0</td>\n",
       "      <td>0</td>\n",
       "      <td>Yes</td>\n",
       "      <td>Private</td>\n",
       "      <td>Urban</td>\n",
       "      <td>171.23</td>\n",
       "      <td>34.4</td>\n",
       "      <td>smokes</td>\n",
       "      <td>1</td>\n",
       "      <td>34.4</td>\n",
       "      <td>no</td>\n",
       "    </tr>\n",
       "    <tr>\n",
       "      <th>4</th>\n",
       "      <td>1665</td>\n",
       "      <td>Female</td>\n",
       "      <td>79.0</td>\n",
       "      <td>1</td>\n",
       "      <td>0</td>\n",
       "      <td>Yes</td>\n",
       "      <td>Self-employed</td>\n",
       "      <td>Rural</td>\n",
       "      <td>174.12</td>\n",
       "      <td>24.0</td>\n",
       "      <td>never smoked</td>\n",
       "      <td>1</td>\n",
       "      <td>24.0</td>\n",
       "      <td>no</td>\n",
       "    </tr>\n",
       "  </tbody>\n",
       "</table>\n",
       "</div>"
      ],
      "text/plain": [
       "      id  gender   age  hypertension  heart_disease ever_married  \\\n",
       "0   9046    Male  67.0             0              1          Yes   \n",
       "1  51676  Female  61.0             0              0          Yes   \n",
       "2  31112    Male  80.0             0              1          Yes   \n",
       "3  60182  Female  49.0             0              0          Yes   \n",
       "4   1665  Female  79.0             1              0          Yes   \n",
       "\n",
       "       work_type Residence_type  avg_glucose_level   bmi   smoking_status  \\\n",
       "0        Private          Urban             228.69  36.6  formerly smoked   \n",
       "1  Self-employed          Rural             202.21   NaN     never smoked   \n",
       "2        Private          Rural             105.92  32.5     never smoked   \n",
       "3        Private          Urban             171.23  34.4           smokes   \n",
       "4  Self-employed          Rural             174.12  24.0     never smoked   \n",
       "\n",
       "   stroke  imputed_bmi bmi_original  \n",
       "0       1         36.6           no  \n",
       "1       1          NaN          yes  \n",
       "2       1         32.5           no  \n",
       "3       1         34.4           no  \n",
       "4       1         24.0           no  "
      ]
     },
     "execution_count": 8,
     "metadata": {},
     "output_type": "execute_result"
    }
   ],
   "source": [
    "strokedata.head()"
   ]
  },
  {
   "cell_type": "code",
   "execution_count": 9,
   "id": "4b5a5a82",
   "metadata": {},
   "outputs": [
    {
     "data": {
      "text/plain": [
       "0    4861\n",
       "1     249\n",
       "Name: stroke, dtype: int64"
      ]
     },
     "execution_count": 9,
     "metadata": {},
     "output_type": "execute_result"
    }
   ],
   "source": [
    "strokedata['stroke'].value_counts()"
   ]
  },
  {
   "cell_type": "markdown",
   "id": "15e3da1f",
   "metadata": {},
   "source": [
    "If we remove our BMI data, we lose about 1/6 of our overall data, so we will proceed to impute the data through KNN. First, we need to create a subset of the numeric columns and scale the data."
   ]
  },
  {
   "cell_type": "code",
   "execution_count": 10,
   "id": "329da3c5",
   "metadata": {},
   "outputs": [],
   "source": [
    "import sklearn as sk\n",
    "from sklearn import preprocessing\n",
    "\n",
    "#Considering numeric columns in the data to use KNN\n",
    "num_cols = [2, 8, 12] # age and avg_glucose_level and imputed_bmi\n",
    "\n",
    "#Create an object of type MinMaxScaler\n",
    "scaler = sk.preprocessing.MinMaxScaler()\n",
    "\n",
    "#Use the object method 'fit_transform' to scale the values to a standard uniform distribution\n",
    "scaled_data = pd.DataFrame(scaler.fit_transform(strokedata.iloc[:,num_cols]))"
   ]
  },
  {
   "cell_type": "code",
   "execution_count": 11,
   "id": "498dc7f4",
   "metadata": {},
   "outputs": [
    {
     "data": {
      "text/html": [
       "<div>\n",
       "<style scoped>\n",
       "    .dataframe tbody tr th:only-of-type {\n",
       "        vertical-align: middle;\n",
       "    }\n",
       "\n",
       "    .dataframe tbody tr th {\n",
       "        vertical-align: top;\n",
       "    }\n",
       "\n",
       "    .dataframe thead th {\n",
       "        text-align: right;\n",
       "    }\n",
       "</style>\n",
       "<table border=\"1\" class=\"dataframe\">\n",
       "  <thead>\n",
       "    <tr style=\"text-align: right;\">\n",
       "      <th></th>\n",
       "      <th>0</th>\n",
       "      <th>1</th>\n",
       "      <th>2</th>\n",
       "    </tr>\n",
       "  </thead>\n",
       "  <tbody>\n",
       "    <tr>\n",
       "      <th>0</th>\n",
       "      <td>0.816895</td>\n",
       "      <td>0.801265</td>\n",
       "      <td>0.301260</td>\n",
       "    </tr>\n",
       "    <tr>\n",
       "      <th>1</th>\n",
       "      <td>0.743652</td>\n",
       "      <td>0.679023</td>\n",
       "      <td>NaN</td>\n",
       "    </tr>\n",
       "    <tr>\n",
       "      <th>2</th>\n",
       "      <td>0.975586</td>\n",
       "      <td>0.234512</td>\n",
       "      <td>0.254296</td>\n",
       "    </tr>\n",
       "    <tr>\n",
       "      <th>3</th>\n",
       "      <td>0.597168</td>\n",
       "      <td>0.536008</td>\n",
       "      <td>0.276060</td>\n",
       "    </tr>\n",
       "    <tr>\n",
       "      <th>4</th>\n",
       "      <td>0.963379</td>\n",
       "      <td>0.549349</td>\n",
       "      <td>0.156930</td>\n",
       "    </tr>\n",
       "  </tbody>\n",
       "</table>\n",
       "</div>"
      ],
      "text/plain": [
       "          0         1         2\n",
       "0  0.816895  0.801265  0.301260\n",
       "1  0.743652  0.679023       NaN\n",
       "2  0.975586  0.234512  0.254296\n",
       "3  0.597168  0.536008  0.276060\n",
       "4  0.963379  0.549349  0.156930"
      ]
     },
     "execution_count": 11,
     "metadata": {},
     "output_type": "execute_result"
    }
   ],
   "source": [
    "scaled_data.head()"
   ]
  },
  {
   "cell_type": "code",
   "execution_count": 12,
   "id": "5b5089a3",
   "metadata": {},
   "outputs": [],
   "source": [
    "#Imputing missing values with KNNImputer\n",
    "\n",
    "#Define an object of type KNNImputer\n",
    "imputer = impute.KNNImputer(n_neighbors=3, weights=\"uniform\")\n",
    "\n",
    "#Use the object method 'fit_transform' to impute missing values\n",
    "imputed_arr = imputer.fit_transform(scaled_data)\n",
    "\n",
    "#Scaling back the scaled array to obtain the data at the original scale\n",
    "\n",
    "#Use the object method 'inverse_transform' to scale back the values to the original scale of the data\n",
    "unscaled_data = scaler.inverse_transform(imputed_arr)"
   ]
  },
  {
   "cell_type": "code",
   "execution_count": 13,
   "id": "1aeaf433",
   "metadata": {},
   "outputs": [],
   "source": [
    "#Note the method imputes the missing value of all the columns\n",
    "#However, we are interested in imputing the missing values of only the 'imputed_bmi' column\n",
    "\n",
    "strokedata.loc[:,'imputed_bmi'] = unscaled_data[:,2]"
   ]
  },
  {
   "cell_type": "code",
   "execution_count": 14,
   "id": "0e7cdbb6",
   "metadata": {},
   "outputs": [
    {
     "data": {
      "text/plain": [
       "0"
      ]
     },
     "execution_count": 14,
     "metadata": {},
     "output_type": "execute_result"
    }
   ],
   "source": [
    "# Check that we imputed the values\n",
    "\n",
    "strokedata['imputed_bmi'].isnull().sum()"
   ]
  },
  {
   "cell_type": "markdown",
   "id": "3072b309",
   "metadata": {},
   "source": [
    "We successfully imputed the values of `bmi` using `age` and `avg_glucose_level` using KNN."
   ]
  },
  {
   "cell_type": "markdown",
   "id": "12fdde1b",
   "metadata": {},
   "source": [
    "# Creating test and training data frame"
   ]
  },
  {
   "cell_type": "code",
   "execution_count": 15,
   "id": "4cab18da",
   "metadata": {},
   "outputs": [],
   "source": [
    "np.random.seed(2)\n",
    "train = strokedata.sample(round(strokedata.shape[0]*0.7))\n",
    "test = strokedata.drop(train.index)"
   ]
  },
  {
   "cell_type": "markdown",
   "id": "badd82f7",
   "metadata": {},
   "source": [
    "Train data consists of [3577 rows x 12 columns]  and test data consists of [1533 rows x 12 columns]"
   ]
  },
  {
   "cell_type": "markdown",
   "id": "3d5addbd",
   "metadata": {},
   "source": [
    "# Dummy Variables"
   ]
  },
  {
   "cell_type": "code",
   "execution_count": 16,
   "id": "779c4ade",
   "metadata": {},
   "outputs": [
    {
     "name": "stdout",
     "output_type": "stream",
     "text": [
      "(1533, 25)\n",
      "(3577, 26)\n"
     ]
    },
    {
     "data": {
      "text/plain": [
       "array(['Female', 'Male', 'Other'], dtype=object)"
      ]
     },
     "execution_count": 16,
     "metadata": {},
     "output_type": "execute_result"
    }
   ],
   "source": [
    "traind = pd.get_dummies(train)\n",
    "traind.head()\n",
    "testd = strokedata.drop(traind.index)\n",
    "testd = pd.get_dummies(testd)\n",
    "print(testd.shape)\n",
    "print(traind.shape)\n",
    "testd.head()\n",
    "train['gender'].unique()"
   ]
  },
  {
   "cell_type": "markdown",
   "id": "44532045",
   "metadata": {},
   "source": [
    "# Helper Function Creation "
   ]
  },
  {
   "cell_type": "code",
   "execution_count": 17,
   "id": "71181924",
   "metadata": {},
   "outputs": [],
   "source": [
    "#helper functions\n",
    "\n",
    "#variable transformations\n",
    "def var_transform(data):\n",
    "    duration_binned = pd.qcut(train['duration'], 8, retbins = True)\n",
    "    bins = duration_binned[1]\n",
    "    data['duration_binned'] = pd.cut(data['duration'], bins = bins)\n",
    "    return data\n",
    "\n",
    "#jitter the values\n",
    "def jitter(values,j):\n",
    "    return values + np.random.normal(j,0.02,values.shape)\n",
    "\n",
    "#Function to compute confusion matrix and prediction accuracy on training data\n",
    "def confusion_matrix_train(model,cutoff=0.5):\n",
    "    # Confusion matrix\n",
    "    cm_df = pd.DataFrame(model.pred_table(threshold = cutoff))\n",
    "    #Formatting the confusion matrix\n",
    "    cm_df.columns = ['Predicted 0', 'Predicted 1'] \n",
    "    cm_df = cm_df.rename(index={0: 'Actual 0',1: 'Actual 1'})\n",
    "    cm = np.array(cm_df)\n",
    "    # Calculate the accuracy\n",
    "    accuracy = (cm[0,0]+cm[1,1])/cm.sum()\n",
    "    sns.heatmap(cm_df, annot=True, cmap='Blues', fmt='g')\n",
    "    plt.ylabel(\"Actual Values\")\n",
    "    plt.xlabel(\"Predicted Values\")\n",
    "    print(\"Classification accuracy = {:.1%}\".format(accuracy))\n",
    "\n",
    "#Function to compute confusion matrix and prediction accuracy on test data\n",
    "#Function to compute confusion matrix and prediction accuracy on test data\n",
    "def confusion_matrix_test(data,actual_values,model,cutoff=0.5):\n",
    "#Predict the values using the Logit model\n",
    "    pred_values = model.predict(data)\n",
    "# Specify the bins\n",
    "    bins=np.array([0,cutoff,1])\n",
    "#Confusion matrix\n",
    "    cm = np.histogram2d(actual_values, pred_values, bins=bins)[0]\n",
    "    cm_df = pd.DataFrame(cm)\n",
    "    cm_df.columns = ['Predicted 0','Predicted 1']\n",
    "    cm_df = cm_df.rename(index={0: 'Actual 0',1:'Actual 1'})\n",
    "    accuracy = (cm[0,0]+cm[1,1])/cm.sum()\n",
    "    sns.heatmap(cm_df, annot=True, cmap='Blues', fmt='g')\n",
    "    plt.ylabel(\"Actual Values\")\n",
    "    plt.xlabel(\"Predicted Values\")\n",
    "    print(\"Classification accuracy = {:.1%}\".format(accuracy))\n",
    "    \n",
    "#Function to compute confusion matrix and prediction accuracy on test/train data\n",
    "def confusion_matrix_data(data,actual_values,model,cutoff=0.5):\n",
    "#Predict the values using the Logit model\n",
    "    pred_values = model.predict(data)\n",
    "# Specify the bins\n",
    "    bins=np.array([0,cutoff,1])\n",
    "#Confusion matrix\n",
    "    cm = np.histogram2d(actual_values, pred_values, bins=bins)[0]\n",
    "    cm_df = pd.DataFrame(cm)\n",
    "    cm_df.columns = ['Predicted 0','Predicted 1']\n",
    "    cm_df = cm_df.rename(index={0: 'Actual 0',1:'Actual 1'})\n",
    "# Calculate the accuracy\n",
    "    accuracy = (cm[0,0]+cm[1,1])/cm.sum()\n",
    "    fnr = (cm[1,0])/(cm[1,0]+cm[1,1])\n",
    "    precision = (cm[1,1])/(cm[0,1]+cm[1,1])\n",
    "    fpr = (cm[0,1])/(cm[0,0]+cm[0,1])\n",
    "    tpr = (cm[1,1])/(cm[1,0]+cm[1,1])\n",
    "    f1 = 2*(precision*tpr) / (precision + tpr)\n",
    "    fpr_roc, tpr_roc, auc_thresholds = roc_curve(actual_values, pred_values)\n",
    "    auc_value = (auc(fpr_roc, tpr_roc))# AUC of ROC\n",
    "    sns.heatmap(cm_df, annot=True, cmap='Blues', fmt='g')\n",
    "    plt.ylabel(\"Actual Values\")\n",
    "    plt.xlabel(\"Predicted Values\")\n",
    "    print(\"Classification accuracy = {:.1%}\".format(accuracy))\n",
    "    print(\"Precision = {:.1%}\".format(precision))\n",
    "    print(\"TPR or Recall = {:.1%}\".format(tpr))\n",
    "    print(\"FNR = {:.1%}\".format(fnr))\n",
    "    print(\"FPR = {:.1%}\".format(fpr))\n",
    "    print(\"ROC-AUC = {:.1%}\".format(auc_value))\n",
    "    print(\"F1 = \" + str(f1))\n",
    "    \n",
    "#plotting roc\n",
    "def plot_roc_curve(fpr, tpr, label=None):\n",
    "    plt.figure(figsize=(8,8))\n",
    "    plt.title('ROC Curve')\n",
    "    plt.plot(fpr, tpr, linewidth=2, label=label)\n",
    "    plt.plot([0, 1], [0, 1], 'k--')\n",
    "    plt.axis([-0.005, 1, 0, 1.005])\n",
    "    plt.xticks(np.arange(0,1, 0.05), rotation=90)\n",
    "    plt.xlabel(\"False Positive Rate\")\n",
    "    plt.ylabel(\"True Positive Rate (Recall)\")\n",
    "    "
   ]
  },
  {
   "cell_type": "code",
   "execution_count": 18,
   "id": "b9e7fd81",
   "metadata": {},
   "outputs": [
    {
     "ename": "NameError",
     "evalue": "name 'logit_model' is not defined",
     "output_type": "error",
     "traceback": [
      "\u001b[0;31m---------------------------------------------------------------------------\u001b[0m",
      "\u001b[0;31mNameError\u001b[0m                                 Traceback (most recent call last)",
      "\u001b[0;32m/var/folders/m0/rcdv_8ps465cx5r429yq5n6w0000gn/T/ipykernel_45650/362072967.py\u001b[0m in \u001b[0;36m<module>\u001b[0;34m\u001b[0m\n\u001b[1;32m      1\u001b[0m \u001b[0;32mfrom\u001b[0m \u001b[0msklearn\u001b[0m\u001b[0;34m.\u001b[0m\u001b[0mmetrics\u001b[0m \u001b[0;32mimport\u001b[0m \u001b[0mprecision_recall_curve\u001b[0m\u001b[0;34m\u001b[0m\u001b[0;34m\u001b[0m\u001b[0m\n\u001b[1;32m      2\u001b[0m \u001b[0my\u001b[0m \u001b[0;34m=\u001b[0m \u001b[0mtrain\u001b[0m\u001b[0;34m.\u001b[0m\u001b[0mstroke\u001b[0m \u001b[0;31m# True response values\u001b[0m\u001b[0;34m\u001b[0m\u001b[0;34m\u001b[0m\u001b[0m\n\u001b[0;32m----> 3\u001b[0;31m \u001b[0mypred\u001b[0m \u001b[0;34m=\u001b[0m \u001b[0mlogit_model\u001b[0m\u001b[0;34m.\u001b[0m\u001b[0mpredict\u001b[0m\u001b[0;34m(\u001b[0m\u001b[0mtrain\u001b[0m\u001b[0;34m)\u001b[0m \u001b[0;31m# predicted response values\u001b[0m\u001b[0;34m\u001b[0m\u001b[0;34m\u001b[0m\u001b[0m\n\u001b[0m\u001b[1;32m      4\u001b[0m \u001b[0;34m\u001b[0m\u001b[0m\n\u001b[1;32m      5\u001b[0m \u001b[0;31m#to call:\u001b[0m\u001b[0;34m\u001b[0m\u001b[0;34m\u001b[0m\u001b[0m\n",
      "\u001b[0;31mNameError\u001b[0m: name 'logit_model' is not defined"
     ]
    }
   ],
   "source": [
    "from sklearn.metrics import precision_recall_curve\n",
    "y = train.stroke # True response values\n",
    "ypred = logit_model.predict(train) # predicted response values\n",
    "\n",
    "#to call:\n",
    "#p, r, thresholds = precision_recall_curve(y, ypred)\n",
    "\n",
    "def plot_precision_recall_vs_threshold(precisions, recalls, thresholds):\n",
    "    plt.figure(figsize=(8, 8))\n",
    "    plt.title(\"Precision and Recall Scores as a function of the decision threshold\")\n",
    "    plt.plot(thresholds, precisions[:-1], \"b--\", label=\"Precision\")\n",
    "    plt.plot(thresholds, recalls[:-1], \"g-\", label=\"Recall\")\n",
    "    plt.ylabel(\"Score\")\n",
    "    plt.xlabel(\"Decision Threshold\")\n",
    "    plt.legend(loc='best')\n",
    "    plt.legend()\n",
    "# to call:\n",
    "# plot_precision_recall_vs_threshold(p, r, thresholds)"
   ]
  },
  {
   "cell_type": "markdown",
   "id": "0d856ab6",
   "metadata": {},
   "source": [
    "# VIF Test"
   ]
  },
  {
   "cell_type": "code",
   "execution_count": null,
   "id": "dafeb2c0",
   "metadata": {},
   "outputs": [],
   "source": [
    "traind.columns"
   ]
  },
  {
   "cell_type": "code",
   "execution_count": 19,
   "id": "8038e8ea",
   "metadata": {
    "scrolled": false
   },
   "outputs": [
    {
     "name": "stdout",
     "output_type": "stream",
     "text": [
      "                           feature       VIF\n",
      "0                            const  0.000000\n",
      "1                              age  2.834028\n",
      "2                     hypertension  1.117608\n",
      "3                    heart_disease  1.114110\n",
      "4                avg_glucose_level  1.105810\n",
      "5                      imputed_bmi  1.326531\n",
      "6                    gender_Female       inf\n",
      "7                      gender_Male       inf\n",
      "8                     gender_Other       inf\n",
      "9                  ever_married_No       inf\n",
      "10                ever_married_Yes       inf\n",
      "11              work_type_Govt_job       inf\n",
      "12          work_type_Never_worked       inf\n",
      "13               work_type_Private       inf\n",
      "14         work_type_Self-employed       inf\n",
      "15              work_type_children       inf\n",
      "16            Residence_type_Rural       inf\n",
      "17            Residence_type_Urban       inf\n",
      "18          smoking_status_Unknown       inf\n",
      "19  smoking_status_formerly smoked       inf\n",
      "20     smoking_status_never smoked       inf\n",
      "21           smoking_status_smokes       inf\n"
     ]
    },
    {
     "name": "stderr",
     "output_type": "stream",
     "text": [
      "/Users/caraannechang/opt/anaconda3/lib/python3.9/site-packages/statsmodels/tsa/tsatools.py:142: FutureWarning: In a future version of pandas all arguments of concat except for the argument 'objs' will be keyword-only\n",
      "  x = pd.concat(x[::order], 1)\n",
      "/Users/caraannechang/opt/anaconda3/lib/python3.9/site-packages/statsmodels/regression/linear_model.py:1715: RuntimeWarning: divide by zero encountered in double_scalars\n",
      "  return 1 - self.ssr/self.centered_tss\n",
      "/Users/caraannechang/opt/anaconda3/lib/python3.9/site-packages/statsmodels/stats/outliers_influence.py:193: RuntimeWarning: divide by zero encountered in double_scalars\n",
      "  vif = 1. / (1. - r_squared_i)\n"
     ]
    }
   ],
   "source": [
    "predictors = ['age', 'hypertension', 'heart_disease', 'avg_glucose_level',\n",
    "           'imputed_bmi', 'gender_Female', 'gender_Male',\n",
    "       'gender_Other', 'ever_married_No', 'ever_married_Yes',\n",
    "       'work_type_Govt_job', 'work_type_Never_worked', 'work_type_Private',\n",
    "       'work_type_Self-employed', 'work_type_children', 'Residence_type_Rural',\n",
    "       'Residence_type_Urban', 'smoking_status_Unknown',\n",
    "       'smoking_status_formerly smoked', 'smoking_status_never smoked',\n",
    "       'smoking_status_smokes']\n",
    "X = traind[predictors] \n",
    "\n",
    "from statsmodels.stats.outliers_influence import variance_inflation_factor\n",
    "from statsmodels.tools.tools import add_constant\n",
    "\n",
    "X = add_constant(X)\n",
    "vif_data = pd.DataFrame()\n",
    "vif_data[\"feature\"] = X.columns\n",
    "\n",
    "for i in range(len(X.columns)):\n",
    "    vif_data.loc[i,'VIF'] = variance_inflation_factor(X.values, i)\n",
    "\n",
    "print(vif_data)"
   ]
  },
  {
   "cell_type": "markdown",
   "id": "7eeea9fc",
   "metadata": {},
   "source": [
    "All of the collinear variables are due to associations between dummy categories."
   ]
  },
  {
   "cell_type": "markdown",
   "id": "b36cf4b8",
   "metadata": {},
   "source": [
    "# Examining the Distribution of the Target Column"
   ]
  },
  {
   "cell_type": "code",
   "execution_count": 20,
   "id": "2287e2fa",
   "metadata": {
    "scrolled": true
   },
   "outputs": [
    {
     "data": {
      "text/plain": [
       "0    3407\n",
       "1     170\n",
       "Name: stroke, dtype: int64"
      ]
     },
     "execution_count": 20,
     "metadata": {},
     "output_type": "execute_result"
    }
   ],
   "source": [
    "train.stroke.value_counts()"
   ]
  },
  {
   "cell_type": "code",
   "execution_count": 21,
   "id": "cea16855",
   "metadata": {},
   "outputs": [
    {
     "data": {
      "image/png": "[encoded data removed]",
      "text/plain": [
       "<Figure size 432x288 with 1 Axes>"
      ]
     },
     "metadata": {
      "needs_background": "light"
     },
     "output_type": "display_data"
    }
   ],
   "source": [
    "sns.countplot(x = 'stroke',data = train);"
   ]
  },
  {
   "cell_type": "markdown",
   "id": "e0c90484",
   "metadata": {},
   "source": [
    "# Lasso Selection"
   ]
  },
  {
   "cell_type": "code",
   "execution_count": 22,
   "id": "b3d73143",
   "metadata": {},
   "outputs": [],
   "source": [
    "y=traind.stroke"
   ]
  },
  {
   "cell_type": "code",
   "execution_count": 23,
   "id": "8157c820",
   "metadata": {},
   "outputs": [],
   "source": [
    "from sklearn.linear_model import Ridge, RidgeCV, Lasso, LassoCV\n",
    "from sklearn.preprocessing import StandardScaler \n",
    "from sklearn.metrics import r2_score\n",
    "\n",
    "#Standardizing predictors so that each of them have zero mean and unit variance\n",
    "\n",
    "#Defining a scaler object\n",
    "scalerr = StandardScaler()\n",
    "\n",
    "#The scaler object will contain the mean and variance of each column (predictor) of X. \n",
    "#These values will be useful to scale test data based on the same mean and variance as obtained on train data\n",
    "scalerr.fit(X)\n",
    "\n",
    "#Using the scaler object (or the values of mean and variance stored in it) to standardize X (or train data)\n",
    "Xstd = scalerr.transform(X)"
   ]
  },
  {
   "cell_type": "code",
   "execution_count": 24,
   "id": "2dea1eea",
   "metadata": {},
   "outputs": [],
   "source": [
    "#Creating a range of values of the tuning parameter to visualize the lasso coefficients\n",
    "#for different values of the tuning parameter\n",
    "alphas = 10**np.linspace(10,-2,100)*0.1"
   ]
  },
  {
   "cell_type": "code",
   "execution_count": 25,
   "id": "36d46e3c",
   "metadata": {},
   "outputs": [],
   "source": [
    "#Finding the ridge regression coefficients for increasing values of the tuning parameter\n",
    "#Finding the lasso coefficients for increasing values of the tuning parameter\n",
    "lasso = Lasso(max_iter = 10000)\n",
    "coefs = []\n",
    "\n",
    "for a in alphas:\n",
    "    lasso.set_params(alpha=a)\n",
    "    lasso.fit(Xstd, y)\n",
    "    coefs.append(lasso.coef_)"
   ]
  },
  {
   "cell_type": "code",
   "execution_count": 26,
   "id": "ff89acbf",
   "metadata": {},
   "outputs": [
    {
     "data": {
      "text/plain": [
       "Text(0, 0.5, 'Standardized coefficient')"
      ]
     },
     "execution_count": 26,
     "metadata": {},
     "output_type": "execute_result"
    },
    {
     "data": {
      "image/png": "[encoded data removed]",
      "text/plain": [
       "<Figure size 432x288 with 1 Axes>"
      ]
     },
     "metadata": {
      "needs_background": "light"
     },
     "output_type": "display_data"
    }
   ],
   "source": [
    "#Visualizing the shrinkage in lasso coefficients with increasing values of the tuning parameter lambda\n",
    "plt.xlabel('xlabel', fontsize=18)\n",
    "plt.ylabel('ylabel', fontsize=18)\n",
    "plt.plot(alphas, coefs)\n",
    "plt.xscale('log')\n",
    "plt.xlabel('$\\lambda$')\n",
    "plt.ylabel('Standardized coefficient')"
   ]
  },
  {
   "cell_type": "code",
   "execution_count": 27,
   "id": "ed5d5d04",
   "metadata": {},
   "outputs": [
    {
     "data": {
      "text/plain": [
       "0.0013524798652315671"
      ]
     },
     "execution_count": 27,
     "metadata": {},
     "output_type": "execute_result"
    }
   ],
   "source": [
    "#Let us use cross validation to find the optimal value of the tuning parameter - lambda\n",
    "#For the optimal lambda, the cross validation error will be the least\n",
    "\n",
    "#Note that we are reducing the range of alpha so as to better visualize the minimum\n",
    "alphas = 10**np.linspace(-1,-5,200)*0.5\n",
    "lassocv = LassoCV(alphas = alphas, cv = 10, max_iter = 100000)\n",
    "lassocv.fit(Xstd, y)\n",
    "\n",
    "#Optimal value of the tuning parameter - lamda\n",
    "lassocv.alpha_"
   ]
  },
  {
   "cell_type": "markdown",
   "id": "c517bf43",
   "metadata": {},
   "source": [
    "The 10-fold cross validation error minimizes at lambda = 0.001."
   ]
  },
  {
   "cell_type": "code",
   "execution_count": 28,
   "id": "dfabb749",
   "metadata": {},
   "outputs": [
    {
     "name": "stdout",
     "output_type": "stream",
     "text": [
      "age 0.0\n",
      "hypertension 0.0646092410352565\n",
      "heart_disease 0.008508993748070284\n",
      "avg_glucose_level 0.011912393576721565\n",
      "imputed_bmi 0.00988292751959109\n",
      "gender_Female -0.003701162547613484\n",
      "gender_Male 0.0\n",
      "gender_Other -0.0\n",
      "ever_married_No -0.0\n",
      "ever_married_Yes 0.010974166165247464\n",
      "work_type_Govt_job -6.331716439014032e-18\n",
      "work_type_Never_worked -0.003758956414867484\n",
      "work_type_Private 0.0005058317560568087\n",
      "work_type_Self-employed 0.0\n",
      "work_type_children -0.0047898425585102995\n",
      "Residence_type_Rural 0.015140352243811547\n",
      "Residence_type_Urban -0.0006642707692392041\n",
      "smoking_status_Unknown 0.0\n",
      "smoking_status_formerly smoked 0.0\n",
      "smoking_status_never smoked 3.421898296650788e-05\n",
      "smoking_status_smokes -0.0013247454159403711\n"
     ]
    }
   ],
   "source": [
    "#Checking the coefficients of the lasso model\n",
    "lasso.coef_\n",
    "\n",
    "for i in range(21):\n",
    "    print(predictors[i], lasso.coef_[i])"
   ]
  },
  {
   "cell_type": "markdown",
   "id": "d78f029f",
   "metadata": {},
   "source": [
    "[All of the zeroed variables would be removed according to LASSO]\n",
    "Going forward, we would have to implement a group lasso technique to account for the dummy variables. We cannot feasibly remove specific categories within dummies. However, this is beyond the scope of the class, so we will proceed with all of the variables. (We will not eliminate age due to academic research suggesting that age is a target indicator for stroke)."
   ]
  },
  {
   "cell_type": "markdown",
   "id": "a99aa472",
   "metadata": {},
   "source": [
    "# Fitting the initial logistic regression model"
   ]
  },
  {
   "cell_type": "code",
   "execution_count": 29,
   "id": "7ccb73a3",
   "metadata": {},
   "outputs": [
    {
     "name": "stdout",
     "output_type": "stream",
     "text": [
      "Optimization terminated successfully.\n",
      "         Current function value: 0.153034\n",
      "         Iterations 9\n"
     ]
    },
    {
     "data": {
      "text/plain": [
       "<AxesSubplot:xlabel='age', ylabel='stroke'>"
      ]
     },
     "execution_count": 29,
     "metadata": {},
     "output_type": "execute_result"
    },
    {
     "data": {
      "image/png": "[encoded data removed]",
      "text/plain": [
       "<Figure size 432x288 with 1 Axes>"
      ]
     },
     "metadata": {
      "needs_background": "light"
     },
     "output_type": "display_data"
    }
   ],
   "source": [
    "# Include jitter for better visualization of the distribution of 1s and 0s\n",
    "def jitter(values,j=0):\n",
    "    return values + np.random.normal(j,0.02,values.shape)\n",
    "\n",
    "sns.scatterplot(x = jitter(train.age), y = jitter(train.stroke), data = train, color = 'orange')\n",
    "logit_model = sm.logit(formula = 'stroke~age', data = train).fit()\n",
    "sns.lineplot(x = 'age', y= logit_model.predict(train), data = train, color = 'blue')"
   ]
  },
  {
   "cell_type": "code",
   "execution_count": 30,
   "id": "c3c723c6",
   "metadata": {},
   "outputs": [
    {
     "data": {
      "text/html": [
       "<table class=\"simpletable\">\n",
       "<caption>Logit Regression Results</caption>\n",
       "<tr>\n",
       "  <th>Dep. Variable:</th>        <td>stroke</td>      <th>  No. Observations:  </th>  <td>  3577</td>  \n",
       "</tr>\n",
       "<tr>\n",
       "  <th>Model:</th>                 <td>Logit</td>      <th>  Df Residuals:      </th>  <td>  3575</td>  \n",
       "</tr>\n",
       "<tr>\n",
       "  <th>Method:</th>                 <td>MLE</td>       <th>  Df Model:          </th>  <td>     1</td>  \n",
       "</tr>\n",
       "<tr>\n",
       "  <th>Date:</th>            <td>Sun, 12 Mar 2023</td> <th>  Pseudo R-squ.:     </th>  <td>0.1995</td>  \n",
       "</tr>\n",
       "<tr>\n",
       "  <th>Time:</th>                <td>19:35:04</td>     <th>  Log-Likelihood:    </th> <td> -547.40</td> \n",
       "</tr>\n",
       "<tr>\n",
       "  <th>converged:</th>             <td>True</td>       <th>  LL-Null:           </th> <td> -683.80</td> \n",
       "</tr>\n",
       "<tr>\n",
       "  <th>Covariance Type:</th>     <td>nonrobust</td>    <th>  LLR p-value:       </th> <td>2.803e-61</td>\n",
       "</tr>\n",
       "</table>\n",
       "<table class=\"simpletable\">\n",
       "<tr>\n",
       "      <td></td>         <th>coef</th>     <th>std err</th>      <th>z</th>      <th>P>|z|</th>  <th>[0.025</th>    <th>0.975]</th>  \n",
       "</tr>\n",
       "<tr>\n",
       "  <th>Intercept</th> <td>   -7.5734</td> <td>    0.429</td> <td>  -17.670</td> <td> 0.000</td> <td>   -8.413</td> <td>   -6.733</td>\n",
       "</tr>\n",
       "<tr>\n",
       "  <th>age</th>       <td>    0.0793</td> <td>    0.006</td> <td>   12.711</td> <td> 0.000</td> <td>    0.067</td> <td>    0.092</td>\n",
       "</tr>\n",
       "</table>"
      ],
      "text/plain": [
       "<class 'statsmodels.iolib.summary.Summary'>\n",
       "\"\"\"\n",
       "                           Logit Regression Results                           \n",
       "==============================================================================\n",
       "Dep. Variable:                 stroke   No. Observations:                 3577\n",
       "Model:                          Logit   Df Residuals:                     3575\n",
       "Method:                           MLE   Df Model:                            1\n",
       "Date:                Sun, 12 Mar 2023   Pseudo R-squ.:                  0.1995\n",
       "Time:                        19:35:04   Log-Likelihood:                -547.40\n",
       "converged:                       True   LL-Null:                       -683.80\n",
       "Covariance Type:            nonrobust   LLR p-value:                 2.803e-61\n",
       "==============================================================================\n",
       "                 coef    std err          z      P>|z|      [0.025      0.975]\n",
       "------------------------------------------------------------------------------\n",
       "Intercept     -7.5734      0.429    -17.670      0.000      -8.413      -6.733\n",
       "age            0.0793      0.006     12.711      0.000       0.067       0.092\n",
       "==============================================================================\n",
       "\"\"\""
      ]
     },
     "execution_count": 30,
     "metadata": {},
     "output_type": "execute_result"
    }
   ],
   "source": [
    "logit_model.summary()"
   ]
  },
  {
   "cell_type": "code",
   "execution_count": 31,
   "id": "045c6878",
   "metadata": {},
   "outputs": [
    {
     "data": {
      "text/plain": [
       "8.25290320710006"
      ]
     },
     "execution_count": 31,
     "metadata": {},
     "output_type": "execute_result"
    }
   ],
   "source": [
    "(np.exp(0.0793)-1)*100"
   ]
  },
  {
   "cell_type": "markdown",
   "id": "b88d57c3",
   "metadata": {},
   "source": [
    "The coefficient of age is 0.0793, which means for a unit increase in age, the log odds of stroke likeliness increase by 0.0793, or the odds increases by 8.25%.\n",
    "\n",
    "Assuming a significance level of $\\alpha = 0.05$, age seems to be a staistically variable as its p-value and the model's overall LLR p-value are less than our $\\alpha$ level.\n",
    "\n",
    "Print out the correlations for each of the continuous variables to check for possible interactions."
   ]
  },
  {
   "cell_type": "code",
   "execution_count": 32,
   "id": "71a101ca",
   "metadata": {},
   "outputs": [
    {
     "data": {
      "text/html": [
       "<div>\n",
       "<style scoped>\n",
       "    .dataframe tbody tr th:only-of-type {\n",
       "        vertical-align: middle;\n",
       "    }\n",
       "\n",
       "    .dataframe tbody tr th {\n",
       "        vertical-align: top;\n",
       "    }\n",
       "\n",
       "    .dataframe thead th {\n",
       "        text-align: right;\n",
       "    }\n",
       "</style>\n",
       "<table border=\"1\" class=\"dataframe\">\n",
       "  <thead>\n",
       "    <tr style=\"text-align: right;\">\n",
       "      <th></th>\n",
       "      <th>id</th>\n",
       "      <th>age</th>\n",
       "      <th>hypertension</th>\n",
       "      <th>heart_disease</th>\n",
       "      <th>avg_glucose_level</th>\n",
       "      <th>bmi</th>\n",
       "      <th>stroke</th>\n",
       "      <th>imputed_bmi</th>\n",
       "    </tr>\n",
       "  </thead>\n",
       "  <tbody>\n",
       "    <tr>\n",
       "      <th>id</th>\n",
       "      <td>1.000000</td>\n",
       "      <td>-0.014804</td>\n",
       "      <td>0.001437</td>\n",
       "      <td>0.005596</td>\n",
       "      <td>-0.029385</td>\n",
       "      <td>-0.003362</td>\n",
       "      <td>-0.004766</td>\n",
       "      <td>-0.007601</td>\n",
       "    </tr>\n",
       "    <tr>\n",
       "      <th>age</th>\n",
       "      <td>-0.014804</td>\n",
       "      <td>1.000000</td>\n",
       "      <td>0.272511</td>\n",
       "      <td>0.266071</td>\n",
       "      <td>0.226338</td>\n",
       "      <td>0.340309</td>\n",
       "      <td>0.248097</td>\n",
       "      <td>0.338419</td>\n",
       "    </tr>\n",
       "    <tr>\n",
       "      <th>hypertension</th>\n",
       "      <td>0.001437</td>\n",
       "      <td>0.272511</td>\n",
       "      <td>1.000000</td>\n",
       "      <td>0.108822</td>\n",
       "      <td>0.169636</td>\n",
       "      <td>0.171667</td>\n",
       "      <td>0.117325</td>\n",
       "      <td>0.166541</td>\n",
       "    </tr>\n",
       "    <tr>\n",
       "      <th>heart_disease</th>\n",
       "      <td>0.005596</td>\n",
       "      <td>0.266071</td>\n",
       "      <td>0.108822</td>\n",
       "      <td>1.000000</td>\n",
       "      <td>0.150224</td>\n",
       "      <td>0.049623</td>\n",
       "      <td>0.137965</td>\n",
       "      <td>0.049233</td>\n",
       "    </tr>\n",
       "    <tr>\n",
       "      <th>avg_glucose_level</th>\n",
       "      <td>-0.029385</td>\n",
       "      <td>0.226338</td>\n",
       "      <td>0.169636</td>\n",
       "      <td>0.150224</td>\n",
       "      <td>1.000000</td>\n",
       "      <td>0.178433</td>\n",
       "      <td>0.116067</td>\n",
       "      <td>0.182748</td>\n",
       "    </tr>\n",
       "    <tr>\n",
       "      <th>bmi</th>\n",
       "      <td>-0.003362</td>\n",
       "      <td>0.340309</td>\n",
       "      <td>0.171667</td>\n",
       "      <td>0.049623</td>\n",
       "      <td>0.178433</td>\n",
       "      <td>1.000000</td>\n",
       "      <td>0.046985</td>\n",
       "      <td>1.000000</td>\n",
       "    </tr>\n",
       "    <tr>\n",
       "      <th>stroke</th>\n",
       "      <td>-0.004766</td>\n",
       "      <td>0.248097</td>\n",
       "      <td>0.117325</td>\n",
       "      <td>0.137965</td>\n",
       "      <td>0.116067</td>\n",
       "      <td>0.046985</td>\n",
       "      <td>1.000000</td>\n",
       "      <td>0.044624</td>\n",
       "    </tr>\n",
       "    <tr>\n",
       "      <th>imputed_bmi</th>\n",
       "      <td>-0.007601</td>\n",
       "      <td>0.338419</td>\n",
       "      <td>0.166541</td>\n",
       "      <td>0.049233</td>\n",
       "      <td>0.182748</td>\n",
       "      <td>1.000000</td>\n",
       "      <td>0.044624</td>\n",
       "      <td>1.000000</td>\n",
       "    </tr>\n",
       "  </tbody>\n",
       "</table>\n",
       "</div>"
      ],
      "text/plain": [
       "                         id       age  hypertension  heart_disease  \\\n",
       "id                 1.000000 -0.014804      0.001437       0.005596   \n",
       "age               -0.014804  1.000000      0.272511       0.266071   \n",
       "hypertension       0.001437  0.272511      1.000000       0.108822   \n",
       "heart_disease      0.005596  0.266071      0.108822       1.000000   \n",
       "avg_glucose_level -0.029385  0.226338      0.169636       0.150224   \n",
       "bmi               -0.003362  0.340309      0.171667       0.049623   \n",
       "stroke            -0.004766  0.248097      0.117325       0.137965   \n",
       "imputed_bmi       -0.007601  0.338419      0.166541       0.049233   \n",
       "\n",
       "                   avg_glucose_level       bmi    stroke  imputed_bmi  \n",
       "id                         -0.029385 -0.003362 -0.004766    -0.007601  \n",
       "age                         0.226338  0.340309  0.248097     0.338419  \n",
       "hypertension                0.169636  0.171667  0.117325     0.166541  \n",
       "heart_disease               0.150224  0.049623  0.137965     0.049233  \n",
       "avg_glucose_level           1.000000  0.178433  0.116067     0.182748  \n",
       "bmi                         0.178433  1.000000  0.046985     1.000000  \n",
       "stroke                      0.116067  0.046985  1.000000     0.044624  \n",
       "imputed_bmi                 0.182748  1.000000  0.044624     1.000000  "
      ]
     },
     "execution_count": 32,
     "metadata": {},
     "output_type": "execute_result"
    }
   ],
   "source": [
    "corr_table = train.corr()\n",
    "corr_table"
   ]
  },
  {
   "cell_type": "markdown",
   "id": "c5ed3c5a",
   "metadata": {},
   "source": [
    "BMI and age have a correlations of 0.340309 that might be worth looking into as an interaction term. To test this, train a basic model using all of the continuous variables and then add in the interaction term."
   ]
  },
  {
   "cell_type": "code",
   "execution_count": 33,
   "id": "35f8d857",
   "metadata": {},
   "outputs": [
    {
     "name": "stdout",
     "output_type": "stream",
     "text": [
      "Optimization terminated successfully.\n",
      "         Current function value: 0.139458\n",
      "         Iterations 9\n"
     ]
    },
    {
     "data": {
      "text/html": [
       "<table class=\"simpletable\">\n",
       "<caption>Logit Regression Results</caption>\n",
       "<tr>\n",
       "  <th>Dep. Variable:</th>        <td>stroke</td>      <th>  No. Observations:  </th>  <td>  3441</td>  \n",
       "</tr>\n",
       "<tr>\n",
       "  <th>Model:</th>                 <td>Logit</td>      <th>  Df Residuals:      </th>  <td>  3436</td>  \n",
       "</tr>\n",
       "<tr>\n",
       "  <th>Method:</th>                 <td>MLE</td>       <th>  Df Model:          </th>  <td>     4</td>  \n",
       "</tr>\n",
       "<tr>\n",
       "  <th>Date:</th>            <td>Sun, 12 Mar 2023</td> <th>  Pseudo R-squ.:     </th>  <td>0.2058</td>  \n",
       "</tr>\n",
       "<tr>\n",
       "  <th>Time:</th>                <td>19:35:05</td>     <th>  Log-Likelihood:    </th> <td> -479.88</td> \n",
       "</tr>\n",
       "<tr>\n",
       "  <th>converged:</th>             <td>True</td>       <th>  LL-Null:           </th> <td> -604.20</td> \n",
       "</tr>\n",
       "<tr>\n",
       "  <th>Covariance Type:</th>     <td>nonrobust</td>    <th>  LLR p-value:       </th> <td>1.267e-52</td>\n",
       "</tr>\n",
       "</table>\n",
       "<table class=\"simpletable\">\n",
       "<tr>\n",
       "          <td></td>             <th>coef</th>     <th>std err</th>      <th>z</th>      <th>P>|z|</th>  <th>[0.025</th>    <th>0.975]</th>  \n",
       "</tr>\n",
       "<tr>\n",
       "  <th>Intercept</th>         <td>   -8.1837</td> <td>    0.666</td> <td>  -12.294</td> <td> 0.000</td> <td>   -9.488</td> <td>   -6.879</td>\n",
       "</tr>\n",
       "<tr>\n",
       "  <th>bmi</th>               <td>    0.0074</td> <td>    0.014</td> <td>    0.530</td> <td> 0.596</td> <td>   -0.020</td> <td>    0.035</td>\n",
       "</tr>\n",
       "<tr>\n",
       "  <th>avg_glucose_level</th> <td>    0.0043</td> <td>    0.002</td> <td>    2.769</td> <td> 0.006</td> <td>    0.001</td> <td>    0.007</td>\n",
       "</tr>\n",
       "<tr>\n",
       "  <th>age</th>               <td>    0.0742</td> <td>    0.007</td> <td>   10.761</td> <td> 0.000</td> <td>    0.061</td> <td>    0.088</td>\n",
       "</tr>\n",
       "<tr>\n",
       "  <th>hypertension</th>      <td>    0.4752</td> <td>    0.209</td> <td>    2.275</td> <td> 0.023</td> <td>    0.066</td> <td>    0.885</td>\n",
       "</tr>\n",
       "</table>"
      ],
      "text/plain": [
       "<class 'statsmodels.iolib.summary.Summary'>\n",
       "\"\"\"\n",
       "                           Logit Regression Results                           \n",
       "==============================================================================\n",
       "Dep. Variable:                 stroke   No. Observations:                 3441\n",
       "Model:                          Logit   Df Residuals:                     3436\n",
       "Method:                           MLE   Df Model:                            4\n",
       "Date:                Sun, 12 Mar 2023   Pseudo R-squ.:                  0.2058\n",
       "Time:                        19:35:05   Log-Likelihood:                -479.88\n",
       "converged:                       True   LL-Null:                       -604.20\n",
       "Covariance Type:            nonrobust   LLR p-value:                 1.267e-52\n",
       "=====================================================================================\n",
       "                        coef    std err          z      P>|z|      [0.025      0.975]\n",
       "-------------------------------------------------------------------------------------\n",
       "Intercept            -8.1837      0.666    -12.294      0.000      -9.488      -6.879\n",
       "bmi                   0.0074      0.014      0.530      0.596      -0.020       0.035\n",
       "avg_glucose_level     0.0043      0.002      2.769      0.006       0.001       0.007\n",
       "age                   0.0742      0.007     10.761      0.000       0.061       0.088\n",
       "hypertension          0.4752      0.209      2.275      0.023       0.066       0.885\n",
       "=====================================================================================\n",
       "\"\"\""
      ]
     },
     "execution_count": 33,
     "metadata": {},
     "output_type": "execute_result"
    }
   ],
   "source": [
    "# basic model with all the continuous vars\n",
    "logit_model = sm.logit(formula = 'stroke~bmi+avg_glucose_level+age+hypertension', data = train).fit()\n",
    "logit_model.summary()"
   ]
  },
  {
   "cell_type": "markdown",
   "id": "b125d1c4",
   "metadata": {},
   "source": [
    "BMI does not appear to be statistically significant in this model, to test for the interaction, add an interaction term between BMI and age."
   ]
  },
  {
   "cell_type": "code",
   "execution_count": 34,
   "id": "f4cb673e",
   "metadata": {},
   "outputs": [
    {
     "name": "stdout",
     "output_type": "stream",
     "text": [
      "Optimization terminated successfully.\n",
      "         Current function value: 0.139646\n",
      "         Iterations 9\n"
     ]
    },
    {
     "data": {
      "text/html": [
       "<table class=\"simpletable\">\n",
       "<caption>Logit Regression Results</caption>\n",
       "<tr>\n",
       "  <th>Dep. Variable:</th>        <td>stroke</td>      <th>  No. Observations:  </th>  <td>  3441</td>  \n",
       "</tr>\n",
       "<tr>\n",
       "  <th>Model:</th>                 <td>Logit</td>      <th>  Df Residuals:      </th>  <td>  3436</td>  \n",
       "</tr>\n",
       "<tr>\n",
       "  <th>Method:</th>                 <td>MLE</td>       <th>  Df Model:          </th>  <td>     4</td>  \n",
       "</tr>\n",
       "<tr>\n",
       "  <th>Date:</th>            <td>Sun, 12 Mar 2023</td> <th>  Pseudo R-squ.:     </th>  <td>0.2047</td>  \n",
       "</tr>\n",
       "<tr>\n",
       "  <th>Time:</th>                <td>19:35:05</td>     <th>  Log-Likelihood:    </th> <td> -480.52</td> \n",
       "</tr>\n",
       "<tr>\n",
       "  <th>converged:</th>             <td>True</td>       <th>  LL-Null:           </th> <td> -604.20</td> \n",
       "</tr>\n",
       "<tr>\n",
       "  <th>Covariance Type:</th>     <td>nonrobust</td>    <th>  LLR p-value:       </th> <td>2.402e-52</td>\n",
       "</tr>\n",
       "</table>\n",
       "<table class=\"simpletable\">\n",
       "<tr>\n",
       "          <td></td>             <th>coef</th>     <th>std err</th>      <th>z</th>      <th>P>|z|</th>  <th>[0.025</th>    <th>0.975]</th>  \n",
       "</tr>\n",
       "<tr>\n",
       "  <th>Intercept</th>         <td>  -11.0251</td> <td>    1.364</td> <td>   -8.082</td> <td> 0.000</td> <td>  -13.699</td> <td>   -8.351</td>\n",
       "</tr>\n",
       "<tr>\n",
       "  <th>bmi</th>               <td>    0.0970</td> <td>    0.039</td> <td>    2.501</td> <td> 0.012</td> <td>    0.021</td> <td>    0.173</td>\n",
       "</tr>\n",
       "<tr>\n",
       "  <th>I(bmi * age)</th>      <td>   -0.0014</td> <td>    0.001</td> <td>   -2.238</td> <td> 0.025</td> <td>   -0.003</td> <td>   -0.000</td>\n",
       "</tr>\n",
       "<tr>\n",
       "  <th>avg_glucose_level</th> <td>    0.0049</td> <td>    0.002</td> <td>    3.237</td> <td> 0.001</td> <td>    0.002</td> <td>    0.008</td>\n",
       "</tr>\n",
       "<tr>\n",
       "  <th>age</th>               <td>    0.1192</td> <td>    0.021</td> <td>    5.704</td> <td> 0.000</td> <td>    0.078</td> <td>    0.160</td>\n",
       "</tr>\n",
       "</table>"
      ],
      "text/plain": [
       "<class 'statsmodels.iolib.summary.Summary'>\n",
       "\"\"\"\n",
       "                           Logit Regression Results                           \n",
       "==============================================================================\n",
       "Dep. Variable:                 stroke   No. Observations:                 3441\n",
       "Model:                          Logit   Df Residuals:                     3436\n",
       "Method:                           MLE   Df Model:                            4\n",
       "Date:                Sun, 12 Mar 2023   Pseudo R-squ.:                  0.2047\n",
       "Time:                        19:35:05   Log-Likelihood:                -480.52\n",
       "converged:                       True   LL-Null:                       -604.20\n",
       "Covariance Type:            nonrobust   LLR p-value:                 2.402e-52\n",
       "=====================================================================================\n",
       "                        coef    std err          z      P>|z|      [0.025      0.975]\n",
       "-------------------------------------------------------------------------------------\n",
       "Intercept           -11.0251      1.364     -8.082      0.000     -13.699      -8.351\n",
       "bmi                   0.0970      0.039      2.501      0.012       0.021       0.173\n",
       "I(bmi * age)         -0.0014      0.001     -2.238      0.025      -0.003      -0.000\n",
       "avg_glucose_level     0.0049      0.002      3.237      0.001       0.002       0.008\n",
       "age                   0.1192      0.021      5.704      0.000       0.078       0.160\n",
       "=====================================================================================\n",
       "\"\"\""
      ]
     },
     "execution_count": 34,
     "metadata": {},
     "output_type": "execute_result"
    }
   ],
   "source": [
    "logit_model2 = sm.logit(formula = 'stroke~bmi+I(bmi*age)+avg_glucose_level+age', data = train).fit()\n",
    "logit_model2.summary()"
   ]
  },
  {
   "cell_type": "code",
   "execution_count": 35,
   "id": "462cec20",
   "metadata": {},
   "outputs": [
    {
     "name": "stdout",
     "output_type": "stream",
     "text": [
      "Classification accuracy = 76.4%\n",
      "Precision = 12.4%\n",
      "TPR or Recall = 75.3%\n",
      "FNR = 24.7%\n",
      "FPR = 23.5%\n",
      "ROC-AUC = 85.2%\n",
      "F1 = 0.21338506304558683\n"
     ]
    },
    {
     "data": {
      "image/png": "[encoded data removed]",
      "text/plain": [
       "<Figure size 432x288 with 2 Axes>"
      ]
     },
     "metadata": {
      "needs_background": "light"
     },
     "output_type": "display_data"
    }
   ],
   "source": [
    "confusion_matrix_data(train.dropna(),train.dropna().stroke,logit_model,cutoff=0.05)"
   ]
  },
  {
   "cell_type": "markdown",
   "id": "24c8e60c",
   "metadata": {},
   "source": [
    "# Confusion matrices for Model #2"
   ]
  },
  {
   "cell_type": "code",
   "execution_count": 36,
   "id": "a9a314be",
   "metadata": {},
   "outputs": [
    {
     "name": "stdout",
     "output_type": "stream",
     "text": [
      "Classification accuracy = 95.2%\n",
      "Precision = 29.5%\n",
      "TPR or Recall = 8.9%\n",
      "FNR = 91.1%\n",
      "FPR = 0.9%\n",
      "ROC-AUC = 84.9%\n",
      "F1 = 0.1368421052631579\n"
     ]
    },
    {
     "data": {
      "image/png": "[encoded data removed]",
      "text/plain": [
       "<Figure size 432x288 with 2 Axes>"
      ]
     },
     "metadata": {
      "needs_background": "light"
     },
     "output_type": "display_data"
    }
   ],
   "source": [
    "confusion_matrix_data(train.dropna(),train.dropna().stroke,logit_model2,cutoff=0.25)"
   ]
  },
  {
   "cell_type": "code",
   "execution_count": 37,
   "id": "625ce6c1",
   "metadata": {
    "scrolled": true
   },
   "outputs": [
    {
     "name": "stdout",
     "output_type": "stream",
     "text": [
      "Classification accuracy = 94.6%\n",
      "Precision = 18.5%\n",
      "TPR or Recall = 7.9%\n",
      "FNR = 92.1%\n",
      "FPR = 1.6%\n",
      "ROC-AUC = 83.3%\n",
      "F1 = 0.1111111111111111\n"
     ]
    },
    {
     "data": {
      "image/png": "[encoded data removed]",
      "text/plain": [
       "<Figure size 432x288 with 2 Axes>"
      ]
     },
     "metadata": {
      "needs_background": "light"
     },
     "output_type": "display_data"
    }
   ],
   "source": [
    "confusion_matrix_data(test.dropna(),test.dropna().stroke,logit_model2,cutoff=0.25)"
   ]
  },
  {
   "cell_type": "code",
   "execution_count": 38,
   "id": "583ca729",
   "metadata": {},
   "outputs": [
    {
     "name": "stdout",
     "output_type": "stream",
     "text": [
      "Classification accuracy = 76.3%\n",
      "Precision = 12.5%\n",
      "TPR or Recall = 76.0%\n",
      "FNR = 24.0%\n",
      "FPR = 23.6%\n",
      "ROC-AUC = 84.9%\n",
      "F1 = 0.21428571428571427\n"
     ]
    },
    {
     "data": {
      "image/png": "[encoded data removed]",
      "text/plain": [
       "<Figure size 432x288 with 2 Axes>"
      ]
     },
     "metadata": {
      "needs_background": "light"
     },
     "output_type": "display_data"
    }
   ],
   "source": [
    "confusion_matrix_data(train.dropna(),train.dropna().stroke,logit_model2,cutoff=0.05)"
   ]
  },
  {
   "cell_type": "code",
   "execution_count": 39,
   "id": "72c1f95d",
   "metadata": {},
   "outputs": [
    {
     "name": "stdout",
     "output_type": "stream",
     "text": [
      "Classification accuracy = 75.7%\n",
      "Precision = 12.1%\n",
      "TPR or Recall = 74.6%\n",
      "FNR = 25.4%\n",
      "FPR = 24.2%\n",
      "ROC-AUC = 83.3%\n",
      "F1 = 0.2088888888888889\n"
     ]
    },
    {
     "data": {
      "image/png": "[encoded data removed]",
      "text/plain": [
       "<Figure size 432x288 with 2 Axes>"
      ]
     },
     "metadata": {
      "needs_background": "light"
     },
     "output_type": "display_data"
    }
   ],
   "source": [
    "confusion_matrix_data(test.dropna(),test.dropna().stroke,logit_model2,cutoff=0.05)"
   ]
  },
  {
   "cell_type": "markdown",
   "id": "cb907971",
   "metadata": {},
   "source": [
    "By making the cutoff so low, we were able to increase our recall value in exchange for our precision. Because there are so few positive cases in our train data, even with a much higher cutoff, the precision was still low. The classification accuracy also fell a bit. "
   ]
  },
  {
   "cell_type": "markdown",
   "id": "74373905",
   "metadata": {},
   "source": [
    "# Since this model will be used for diagnosis, we must minimize FNR. "
   ]
  },
  {
   "cell_type": "code",
   "execution_count": 40,
   "id": "389fc9eb",
   "metadata": {},
   "outputs": [
    {
     "name": "stdout",
     "output_type": "stream",
     "text": [
      "Optimization terminated successfully.\n",
      "         Current function value: 0.138956\n",
      "         Iterations 9\n"
     ]
    },
    {
     "data": {
      "text/html": [
       "<table class=\"simpletable\">\n",
       "<caption>Logit Regression Results</caption>\n",
       "<tr>\n",
       "  <th>Dep. Variable:</th>        <td>stroke</td>      <th>  No. Observations:  </th>  <td>  3441</td>  \n",
       "</tr>\n",
       "<tr>\n",
       "  <th>Model:</th>                 <td>Logit</td>      <th>  Df Residuals:      </th>  <td>  3435</td>  \n",
       "</tr>\n",
       "<tr>\n",
       "  <th>Method:</th>                 <td>MLE</td>       <th>  Df Model:          </th>  <td>     5</td>  \n",
       "</tr>\n",
       "<tr>\n",
       "  <th>Date:</th>            <td>Sun, 12 Mar 2023</td> <th>  Pseudo R-squ.:     </th>  <td>0.2086</td>  \n",
       "</tr>\n",
       "<tr>\n",
       "  <th>Time:</th>                <td>19:35:05</td>     <th>  Log-Likelihood:    </th> <td> -478.15</td> \n",
       "</tr>\n",
       "<tr>\n",
       "  <th>converged:</th>             <td>True</td>       <th>  LL-Null:           </th> <td> -604.20</td> \n",
       "</tr>\n",
       "<tr>\n",
       "  <th>Covariance Type:</th>     <td>nonrobust</td>    <th>  LLR p-value:       </th> <td>1.936e-52</td>\n",
       "</tr>\n",
       "</table>\n",
       "<table class=\"simpletable\">\n",
       "<tr>\n",
       "          <td></td>             <th>coef</th>     <th>std err</th>      <th>z</th>      <th>P>|z|</th>  <th>[0.025</th>    <th>0.975]</th>  \n",
       "</tr>\n",
       "<tr>\n",
       "  <th>Intercept</th>         <td>  -10.7424</td> <td>    1.344</td> <td>   -7.995</td> <td> 0.000</td> <td>  -13.376</td> <td>   -8.109</td>\n",
       "</tr>\n",
       "<tr>\n",
       "  <th>bmi</th>               <td>    0.0904</td> <td>    0.038</td> <td>    2.374</td> <td> 0.018</td> <td>    0.016</td> <td>    0.165</td>\n",
       "</tr>\n",
       "<tr>\n",
       "  <th>I(bmi * age)</th>      <td>   -0.0014</td> <td>    0.001</td> <td>   -2.177</td> <td> 0.029</td> <td>   -0.003</td> <td>   -0.000</td>\n",
       "</tr>\n",
       "<tr>\n",
       "  <th>avg_glucose_level</th> <td>    0.0045</td> <td>    0.002</td> <td>    2.947</td> <td> 0.003</td> <td>    0.002</td> <td>    0.008</td>\n",
       "</tr>\n",
       "<tr>\n",
       "  <th>age</th>               <td>    0.1153</td> <td>    0.021</td> <td>    5.597</td> <td> 0.000</td> <td>    0.075</td> <td>    0.156</td>\n",
       "</tr>\n",
       "<tr>\n",
       "  <th>hypertension</th>      <td>    0.4667</td> <td>    0.209</td> <td>    2.233</td> <td> 0.026</td> <td>    0.057</td> <td>    0.876</td>\n",
       "</tr>\n",
       "</table>"
      ],
      "text/plain": [
       "<class 'statsmodels.iolib.summary.Summary'>\n",
       "\"\"\"\n",
       "                           Logit Regression Results                           \n",
       "==============================================================================\n",
       "Dep. Variable:                 stroke   No. Observations:                 3441\n",
       "Model:                          Logit   Df Residuals:                     3435\n",
       "Method:                           MLE   Df Model:                            5\n",
       "Date:                Sun, 12 Mar 2023   Pseudo R-squ.:                  0.2086\n",
       "Time:                        19:35:05   Log-Likelihood:                -478.15\n",
       "converged:                       True   LL-Null:                       -604.20\n",
       "Covariance Type:            nonrobust   LLR p-value:                 1.936e-52\n",
       "=====================================================================================\n",
       "                        coef    std err          z      P>|z|      [0.025      0.975]\n",
       "-------------------------------------------------------------------------------------\n",
       "Intercept           -10.7424      1.344     -7.995      0.000     -13.376      -8.109\n",
       "bmi                   0.0904      0.038      2.374      0.018       0.016       0.165\n",
       "I(bmi * age)         -0.0014      0.001     -2.177      0.029      -0.003      -0.000\n",
       "avg_glucose_level     0.0045      0.002      2.947      0.003       0.002       0.008\n",
       "age                   0.1153      0.021      5.597      0.000       0.075       0.156\n",
       "hypertension          0.4667      0.209      2.233      0.026       0.057       0.876\n",
       "=====================================================================================\n",
       "\"\"\""
      ]
     },
     "execution_count": 40,
     "metadata": {},
     "output_type": "execute_result"
    }
   ],
   "source": [
    "logit_model3 = sm.logit(formula = 'stroke~bmi+I(bmi*age)+avg_glucose_level+age+hypertension', data = train).fit()\n",
    "logit_model3.summary()"
   ]
  },
  {
   "cell_type": "code",
   "execution_count": 41,
   "id": "2e4549e3",
   "metadata": {
    "scrolled": true
   },
   "outputs": [
    {
     "name": "stdout",
     "output_type": "stream",
     "text": [
      "Classification accuracy = 94.1%\n",
      "Precision = 18.9%\n",
      "TPR or Recall = 11.1%\n",
      "FNR = 88.9%\n",
      "FPR = 2.1%\n",
      "ROC-AUC = 83.9%\n",
      "F1 = 0.14\n"
     ]
    },
    {
     "data": {
      "image/png": "[encoded data removed]",
      "text/plain": [
       "<Figure size 432x288 with 2 Axes>"
      ]
     },
     "metadata": {
      "needs_background": "light"
     },
     "output_type": "display_data"
    }
   ],
   "source": [
    "confusion_matrix_data(test.dropna(),test.dropna().stroke,logit_model3,cutoff=0.25)"
   ]
  },
  {
   "cell_type": "code",
   "execution_count": 42,
   "id": "950a7c86",
   "metadata": {
    "scrolled": true
   },
   "outputs": [
    {
     "name": "stdout",
     "output_type": "stream",
     "text": [
      "Classification accuracy = 77.2%\n",
      "Precision = 13.0%\n",
      "TPR or Recall = 76.2%\n",
      "FNR = 23.8%\n",
      "FPR = 22.8%\n",
      "ROC-AUC = 83.9%\n",
      "F1 = 0.22273781902552203\n"
     ]
    },
    {
     "data": {
      "image/png": "[encoded data removed]",
      "text/plain": [
       "<Figure size 432x288 with 2 Axes>"
      ]
     },
     "metadata": {
      "needs_background": "light"
     },
     "output_type": "display_data"
    }
   ],
   "source": [
    "confusion_matrix_data(test.dropna(),test.dropna().stroke,logit_model3,cutoff=0.05)"
   ]
  },
  {
   "cell_type": "code",
   "execution_count": 43,
   "id": "7a68fab4",
   "metadata": {},
   "outputs": [
    {
     "data": {
      "text/html": [
       "<div>\n",
       "<style scoped>\n",
       "    .dataframe tbody tr th:only-of-type {\n",
       "        vertical-align: middle;\n",
       "    }\n",
       "\n",
       "    .dataframe tbody tr th {\n",
       "        vertical-align: top;\n",
       "    }\n",
       "\n",
       "    .dataframe thead th {\n",
       "        text-align: right;\n",
       "    }\n",
       "</style>\n",
       "<table border=\"1\" class=\"dataframe\">\n",
       "  <thead>\n",
       "    <tr style=\"text-align: right;\">\n",
       "      <th></th>\n",
       "      <th>id</th>\n",
       "      <th>gender</th>\n",
       "      <th>age</th>\n",
       "      <th>hypertension</th>\n",
       "      <th>heart_disease</th>\n",
       "      <th>ever_married</th>\n",
       "      <th>work_type</th>\n",
       "      <th>Residence_type</th>\n",
       "      <th>avg_glucose_level</th>\n",
       "      <th>bmi</th>\n",
       "      <th>smoking_status</th>\n",
       "      <th>stroke</th>\n",
       "      <th>imputed_bmi</th>\n",
       "      <th>bmi_original</th>\n",
       "    </tr>\n",
       "  </thead>\n",
       "  <tbody>\n",
       "    <tr>\n",
       "      <th>4091</th>\n",
       "      <td>43698</td>\n",
       "      <td>Female</td>\n",
       "      <td>27.0</td>\n",
       "      <td>0</td>\n",
       "      <td>0</td>\n",
       "      <td>No</td>\n",
       "      <td>Govt_job</td>\n",
       "      <td>Rural</td>\n",
       "      <td>65.43</td>\n",
       "      <td>27.2</td>\n",
       "      <td>Unknown</td>\n",
       "      <td>0</td>\n",
       "      <td>27.2</td>\n",
       "      <td>no</td>\n",
       "    </tr>\n",
       "    <tr>\n",
       "      <th>3150</th>\n",
       "      <td>69979</td>\n",
       "      <td>Male</td>\n",
       "      <td>73.0</td>\n",
       "      <td>0</td>\n",
       "      <td>0</td>\n",
       "      <td>Yes</td>\n",
       "      <td>Self-employed</td>\n",
       "      <td>Rural</td>\n",
       "      <td>231.43</td>\n",
       "      <td>23.0</td>\n",
       "      <td>smokes</td>\n",
       "      <td>0</td>\n",
       "      <td>23.0</td>\n",
       "      <td>no</td>\n",
       "    </tr>\n",
       "    <tr>\n",
       "      <th>2668</th>\n",
       "      <td>43039</td>\n",
       "      <td>Female</td>\n",
       "      <td>63.0</td>\n",
       "      <td>0</td>\n",
       "      <td>0</td>\n",
       "      <td>Yes</td>\n",
       "      <td>Private</td>\n",
       "      <td>Rural</td>\n",
       "      <td>153.60</td>\n",
       "      <td>28.0</td>\n",
       "      <td>formerly smoked</td>\n",
       "      <td>0</td>\n",
       "      <td>28.0</td>\n",
       "      <td>no</td>\n",
       "    </tr>\n",
       "    <tr>\n",
       "      <th>793</th>\n",
       "      <td>69427</td>\n",
       "      <td>Female</td>\n",
       "      <td>29.0</td>\n",
       "      <td>0</td>\n",
       "      <td>0</td>\n",
       "      <td>No</td>\n",
       "      <td>Private</td>\n",
       "      <td>Urban</td>\n",
       "      <td>101.28</td>\n",
       "      <td>22.7</td>\n",
       "      <td>never smoked</td>\n",
       "      <td>0</td>\n",
       "      <td>22.7</td>\n",
       "      <td>no</td>\n",
       "    </tr>\n",
       "    <tr>\n",
       "      <th>798</th>\n",
       "      <td>46683</td>\n",
       "      <td>Female</td>\n",
       "      <td>25.0</td>\n",
       "      <td>0</td>\n",
       "      <td>0</td>\n",
       "      <td>No</td>\n",
       "      <td>Private</td>\n",
       "      <td>Urban</td>\n",
       "      <td>122.01</td>\n",
       "      <td>27.0</td>\n",
       "      <td>smokes</td>\n",
       "      <td>0</td>\n",
       "      <td>27.0</td>\n",
       "      <td>no</td>\n",
       "    </tr>\n",
       "  </tbody>\n",
       "</table>\n",
       "</div>"
      ],
      "text/plain": [
       "         id  gender   age  hypertension  heart_disease ever_married  \\\n",
       "4091  43698  Female  27.0             0              0           No   \n",
       "3150  69979    Male  73.0             0              0          Yes   \n",
       "2668  43039  Female  63.0             0              0          Yes   \n",
       "793   69427  Female  29.0             0              0           No   \n",
       "798   46683  Female  25.0             0              0           No   \n",
       "\n",
       "          work_type Residence_type  avg_glucose_level   bmi   smoking_status  \\\n",
       "4091       Govt_job          Rural              65.43  27.2          Unknown   \n",
       "3150  Self-employed          Rural             231.43  23.0           smokes   \n",
       "2668        Private          Rural             153.60  28.0  formerly smoked   \n",
       "793         Private          Urban             101.28  22.7     never smoked   \n",
       "798         Private          Urban             122.01  27.0           smokes   \n",
       "\n",
       "      stroke  imputed_bmi bmi_original  \n",
       "4091       0         27.2           no  \n",
       "3150       0         23.0           no  \n",
       "2668       0         28.0           no  \n",
       "793        0         22.7           no  \n",
       "798        0         27.0           no  "
      ]
     },
     "execution_count": 43,
     "metadata": {},
     "output_type": "execute_result"
    }
   ],
   "source": [
    "train.head()"
   ]
  },
  {
   "cell_type": "code",
   "execution_count": 44,
   "id": "d25ab456",
   "metadata": {},
   "outputs": [
    {
     "data": {
      "text/plain": [
       "Private          2039\n",
       "Self-employed     567\n",
       "children          486\n",
       "Govt_job          470\n",
       "Never_worked       15\n",
       "Name: work_type, dtype: int64"
      ]
     },
     "execution_count": 44,
     "metadata": {},
     "output_type": "execute_result"
    }
   ],
   "source": [
    "train.work_type.value_counts()"
   ]
  },
  {
   "cell_type": "code",
   "execution_count": 45,
   "id": "06ae2264",
   "metadata": {},
   "outputs": [
    {
     "name": "stdout",
     "output_type": "stream",
     "text": [
      "Optimization terminated successfully.\n",
      "         Current function value: 0.139646\n",
      "         Iterations 9\n"
     ]
    },
    {
     "data": {
      "text/html": [
       "<table class=\"simpletable\">\n",
       "<caption>Logit Regression Results</caption>\n",
       "<tr>\n",
       "  <th>Dep. Variable:</th>        <td>stroke</td>      <th>  No. Observations:  </th>  <td>  3441</td>  \n",
       "</tr>\n",
       "<tr>\n",
       "  <th>Model:</th>                 <td>Logit</td>      <th>  Df Residuals:      </th>  <td>  3436</td>  \n",
       "</tr>\n",
       "<tr>\n",
       "  <th>Method:</th>                 <td>MLE</td>       <th>  Df Model:          </th>  <td>     4</td>  \n",
       "</tr>\n",
       "<tr>\n",
       "  <th>Date:</th>            <td>Sun, 12 Mar 2023</td> <th>  Pseudo R-squ.:     </th>  <td>0.2047</td>  \n",
       "</tr>\n",
       "<tr>\n",
       "  <th>Time:</th>                <td>19:35:05</td>     <th>  Log-Likelihood:    </th> <td> -480.52</td> \n",
       "</tr>\n",
       "<tr>\n",
       "  <th>converged:</th>             <td>True</td>       <th>  LL-Null:           </th> <td> -604.20</td> \n",
       "</tr>\n",
       "<tr>\n",
       "  <th>Covariance Type:</th>     <td>nonrobust</td>    <th>  LLR p-value:       </th> <td>2.402e-52</td>\n",
       "</tr>\n",
       "</table>\n",
       "<table class=\"simpletable\">\n",
       "<tr>\n",
       "          <td></td>             <th>coef</th>     <th>std err</th>      <th>z</th>      <th>P>|z|</th>  <th>[0.025</th>    <th>0.975]</th>  \n",
       "</tr>\n",
       "<tr>\n",
       "  <th>Intercept</th>         <td>  -11.0251</td> <td>    1.364</td> <td>   -8.082</td> <td> 0.000</td> <td>  -13.699</td> <td>   -8.351</td>\n",
       "</tr>\n",
       "<tr>\n",
       "  <th>bmi</th>               <td>    0.0970</td> <td>    0.039</td> <td>    2.501</td> <td> 0.012</td> <td>    0.021</td> <td>    0.173</td>\n",
       "</tr>\n",
       "<tr>\n",
       "  <th>I(bmi * age)</th>      <td>   -0.0014</td> <td>    0.001</td> <td>   -2.238</td> <td> 0.025</td> <td>   -0.003</td> <td>   -0.000</td>\n",
       "</tr>\n",
       "<tr>\n",
       "  <th>avg_glucose_level</th> <td>    0.0049</td> <td>    0.002</td> <td>    3.237</td> <td> 0.001</td> <td>    0.002</td> <td>    0.008</td>\n",
       "</tr>\n",
       "<tr>\n",
       "  <th>age</th>               <td>    0.1192</td> <td>    0.021</td> <td>    5.704</td> <td> 0.000</td> <td>    0.078</td> <td>    0.160</td>\n",
       "</tr>\n",
       "</table>"
      ],
      "text/plain": [
       "<class 'statsmodels.iolib.summary.Summary'>\n",
       "\"\"\"\n",
       "                           Logit Regression Results                           \n",
       "==============================================================================\n",
       "Dep. Variable:                 stroke   No. Observations:                 3441\n",
       "Model:                          Logit   Df Residuals:                     3436\n",
       "Method:                           MLE   Df Model:                            4\n",
       "Date:                Sun, 12 Mar 2023   Pseudo R-squ.:                  0.2047\n",
       "Time:                        19:35:05   Log-Likelihood:                -480.52\n",
       "converged:                       True   LL-Null:                       -604.20\n",
       "Covariance Type:            nonrobust   LLR p-value:                 2.402e-52\n",
       "=====================================================================================\n",
       "                        coef    std err          z      P>|z|      [0.025      0.975]\n",
       "-------------------------------------------------------------------------------------\n",
       "Intercept           -11.0251      1.364     -8.082      0.000     -13.699      -8.351\n",
       "bmi                   0.0970      0.039      2.501      0.012       0.021       0.173\n",
       "I(bmi * age)         -0.0014      0.001     -2.238      0.025      -0.003      -0.000\n",
       "avg_glucose_level     0.0049      0.002      3.237      0.001       0.002       0.008\n",
       "age                   0.1192      0.021      5.704      0.000       0.078       0.160\n",
       "=====================================================================================\n",
       "\"\"\""
      ]
     },
     "execution_count": 45,
     "metadata": {},
     "output_type": "execute_result"
    }
   ],
   "source": [
    "logit_model4 = sm.logit(formula = 'stroke~bmi+I(bmi*age)+avg_glucose_level+age', data = traind).fit()\n",
    "logit_model4.summary()"
   ]
  },
  {
   "cell_type": "code",
   "execution_count": 46,
   "id": "4119bb80",
   "metadata": {},
   "outputs": [
    {
     "data": {
      "text/plain": [
       "<AxesSubplot:xlabel='stroke', ylabel='age'>"
      ]
     },
     "execution_count": 46,
     "metadata": {},
     "output_type": "execute_result"
    },
    {
     "data": {
      "image/png": "[encoded data removed]",
      "text/plain": [
       "<Figure size 432x288 with 1 Axes>"
      ]
     },
     "metadata": {
      "needs_background": "light"
     },
     "output_type": "display_data"
    }
   ],
   "source": [
    "# More EDA for transformations\n",
    "# Try visualizing stroke incidence by age\n",
    "sns.boxplot(x = 'stroke', y = 'age', data = traind)"
   ]
  },
  {
   "cell_type": "code",
   "execution_count": 47,
   "id": "4b26b8eb",
   "metadata": {},
   "outputs": [],
   "source": [
    "binned_age = pd.qcut(traind['age'], 10, retbins = True) # 9 bins, 10 limits\n",
    "traind['age_binned'] = binned_age[0]"
   ]
  },
  {
   "cell_type": "code",
   "execution_count": 48,
   "id": "a5311163",
   "metadata": {},
   "outputs": [
    {
     "data": {
      "text/html": [
       "<div>\n",
       "<style scoped>\n",
       "    .dataframe tbody tr th:only-of-type {\n",
       "        vertical-align: middle;\n",
       "    }\n",
       "\n",
       "    .dataframe tbody tr th {\n",
       "        vertical-align: top;\n",
       "    }\n",
       "\n",
       "    .dataframe thead th {\n",
       "        text-align: right;\n",
       "    }\n",
       "</style>\n",
       "<table border=\"1\" class=\"dataframe\">\n",
       "  <thead>\n",
       "    <tr style=\"text-align: right;\">\n",
       "      <th></th>\n",
       "      <th>age_binned</th>\n",
       "      <th>stroke_percent</th>\n",
       "      <th>nobs</th>\n",
       "    </tr>\n",
       "  </thead>\n",
       "  <tbody>\n",
       "    <tr>\n",
       "      <th>0</th>\n",
       "      <td>(0.079, 11.0]</td>\n",
       "      <td>0.000000</td>\n",
       "      <td>379</td>\n",
       "    </tr>\n",
       "    <tr>\n",
       "      <th>1</th>\n",
       "      <td>(11.0, 21.0]</td>\n",
       "      <td>0.000000</td>\n",
       "      <td>367</td>\n",
       "    </tr>\n",
       "    <tr>\n",
       "      <th>2</th>\n",
       "      <td>(21.0, 30.0]</td>\n",
       "      <td>0.000000</td>\n",
       "      <td>343</td>\n",
       "    </tr>\n",
       "    <tr>\n",
       "      <th>3</th>\n",
       "      <td>(30.0, 38.0]</td>\n",
       "      <td>0.005291</td>\n",
       "      <td>378</td>\n",
       "    </tr>\n",
       "    <tr>\n",
       "      <th>4</th>\n",
       "      <td>(38.0, 45.0]</td>\n",
       "      <td>0.011019</td>\n",
       "      <td>363</td>\n",
       "    </tr>\n",
       "    <tr>\n",
       "      <th>5</th>\n",
       "      <td>(45.0, 52.0]</td>\n",
       "      <td>0.029891</td>\n",
       "      <td>368</td>\n",
       "    </tr>\n",
       "    <tr>\n",
       "      <th>6</th>\n",
       "      <td>(52.0, 58.0]</td>\n",
       "      <td>0.062678</td>\n",
       "      <td>351</td>\n",
       "    </tr>\n",
       "    <tr>\n",
       "      <th>7</th>\n",
       "      <td>(58.0, 65.0]</td>\n",
       "      <td>0.066474</td>\n",
       "      <td>346</td>\n",
       "    </tr>\n",
       "    <tr>\n",
       "      <th>8</th>\n",
       "      <td>(65.0, 75.0]</td>\n",
       "      <td>0.114846</td>\n",
       "      <td>357</td>\n",
       "    </tr>\n",
       "    <tr>\n",
       "      <th>9</th>\n",
       "      <td>(75.0, 82.0]</td>\n",
       "      <td>0.206154</td>\n",
       "      <td>325</td>\n",
       "    </tr>\n",
       "  </tbody>\n",
       "</table>\n",
       "</div>"
      ],
      "text/plain": [
       "      age_binned  stroke_percent  nobs\n",
       "0  (0.079, 11.0]        0.000000   379\n",
       "1   (11.0, 21.0]        0.000000   367\n",
       "2   (21.0, 30.0]        0.000000   343\n",
       "3   (30.0, 38.0]        0.005291   378\n",
       "4   (38.0, 45.0]        0.011019   363\n",
       "5   (45.0, 52.0]        0.029891   368\n",
       "6   (52.0, 58.0]        0.062678   351\n",
       "7   (58.0, 65.0]        0.066474   346\n",
       "8   (65.0, 75.0]        0.114846   357\n",
       "9   (75.0, 82.0]        0.206154   325"
      ]
     },
     "execution_count": 48,
     "metadata": {},
     "output_type": "execute_result"
    }
   ],
   "source": [
    "#Finding percentage of people having diabetes in each Age bin\n",
    "age_data = traind.groupby('age_binned')['stroke'].agg([('stroke_percent','mean'),('nobs','count')]).reset_index(drop=False)\n",
    "age_data"
   ]
  },
  {
   "cell_type": "code",
   "execution_count": 49,
   "id": "457ec4eb",
   "metadata": {},
   "outputs": [
    {
     "data": {
      "text/plain": [
       "Text(0.5, 0, 'Age_bin')"
      ]
     },
     "execution_count": 49,
     "metadata": {},
     "output_type": "execute_result"
    },
    {
     "data": {
      "image/png": "[encoded data removed]",
      "text/plain": [
       "<Figure size 432x288 with 1 Axes>"
      ]
     },
     "metadata": {
      "needs_background": "light"
     },
     "output_type": "display_data"
    }
   ],
   "source": [
    "# Visualize percentages\n",
    "\n",
    "sns.lineplot(x = age_data.index, y= age_data['stroke_percent'])\n",
    "plt.xlabel('Age_bin')"
   ]
  },
  {
   "cell_type": "code",
   "execution_count": 50,
   "id": "9f7bb3ce",
   "metadata": {},
   "outputs": [
    {
     "name": "stdout",
     "output_type": "stream",
     "text": [
      "Optimization terminated successfully.\n",
      "         Current function value: 0.138902\n",
      "         Iterations 11\n",
      "-477.9626714868034\n"
     ]
    },
    {
     "data": {
      "image/png": "[encoded data removed]",
      "text/plain": [
       "<Figure size 432x288 with 1 Axes>"
      ]
     },
     "metadata": {
      "needs_background": "light"
     },
     "output_type": "display_data"
    }
   ],
   "source": [
    "# Odds are not linear with age - problem, looks exponential\n",
    "# maybe add a quadratic term\n",
    "\n",
    "# Trying a quadratic transformation term\n",
    "sns.scatterplot(x = jitter(traind.age,0), y = jitter(traind.stroke,0), data = traind, color = 'orange')\n",
    "logit_model4 = sm.logit(formula = 'stroke~bmi+I(bmi*age)+avg_glucose_level+age+I(age**2)', data = traind).fit()\n",
    "sns.lineplot(x = 'age', y= logit_model.predict(traind), data = traind, color = 'blue') \n",
    "print(logit_model4.llf) #Printing the log likelihood to compare it with the next model we build\n",
    "plt.show()"
   ]
  },
  {
   "cell_type": "code",
   "execution_count": 51,
   "id": "36009f6a",
   "metadata": {},
   "outputs": [
    {
     "data": {
      "text/html": [
       "<table class=\"simpletable\">\n",
       "<caption>Logit Regression Results</caption>\n",
       "<tr>\n",
       "  <th>Dep. Variable:</th>        <td>stroke</td>      <th>  No. Observations:  </th>  <td>  3441</td>  \n",
       "</tr>\n",
       "<tr>\n",
       "  <th>Model:</th>                 <td>Logit</td>      <th>  Df Residuals:      </th>  <td>  3435</td>  \n",
       "</tr>\n",
       "<tr>\n",
       "  <th>Method:</th>                 <td>MLE</td>       <th>  Df Model:          </th>  <td>     5</td>  \n",
       "</tr>\n",
       "<tr>\n",
       "  <th>Date:</th>            <td>Sun, 12 Mar 2023</td> <th>  Pseudo R-squ.:     </th>  <td>0.2089</td>  \n",
       "</tr>\n",
       "<tr>\n",
       "  <th>Time:</th>                <td>19:35:07</td>     <th>  Log-Likelihood:    </th> <td> -477.96</td> \n",
       "</tr>\n",
       "<tr>\n",
       "  <th>converged:</th>             <td>True</td>       <th>  LL-Null:           </th> <td> -604.20</td> \n",
       "</tr>\n",
       "<tr>\n",
       "  <th>Covariance Type:</th>     <td>nonrobust</td>    <th>  LLR p-value:       </th> <td>1.611e-52</td>\n",
       "</tr>\n",
       "</table>\n",
       "<table class=\"simpletable\">\n",
       "<tr>\n",
       "          <td></td>             <th>coef</th>     <th>std err</th>      <th>z</th>      <th>P>|z|</th>  <th>[0.025</th>    <th>0.975]</th>  \n",
       "</tr>\n",
       "<tr>\n",
       "  <th>Intercept</th>         <td>  -16.0592</td> <td>    3.143</td> <td>   -5.110</td> <td> 0.000</td> <td>  -22.218</td> <td>   -9.900</td>\n",
       "</tr>\n",
       "<tr>\n",
       "  <th>bmi</th>               <td>    0.1310</td> <td>    0.049</td> <td>    2.672</td> <td> 0.008</td> <td>    0.035</td> <td>    0.227</td>\n",
       "</tr>\n",
       "<tr>\n",
       "  <th>I(bmi * age)</th>      <td>   -0.0020</td> <td>    0.001</td> <td>   -2.534</td> <td> 0.011</td> <td>   -0.004</td> <td>   -0.000</td>\n",
       "</tr>\n",
       "<tr>\n",
       "  <th>avg_glucose_level</th> <td>    0.0048</td> <td>    0.002</td> <td>    3.157</td> <td> 0.002</td> <td>    0.002</td> <td>    0.008</td>\n",
       "</tr>\n",
       "<tr>\n",
       "  <th>age</th>               <td>    0.2739</td> <td>    0.083</td> <td>    3.293</td> <td> 0.001</td> <td>    0.111</td> <td>    0.437</td>\n",
       "</tr>\n",
       "<tr>\n",
       "  <th>I(age ** 2)</th>       <td>   -0.0011</td> <td>    0.001</td> <td>   -2.011</td> <td> 0.044</td> <td>   -0.002</td> <td>-2.85e-05</td>\n",
       "</tr>\n",
       "</table><br/><br/>Possibly complete quasi-separation: A fraction 0.14 of observations can be<br/>perfectly predicted. This might indicate that there is complete<br/>quasi-separation. In this case some parameters will not be identified."
      ],
      "text/plain": [
       "<class 'statsmodels.iolib.summary.Summary'>\n",
       "\"\"\"\n",
       "                           Logit Regression Results                           \n",
       "==============================================================================\n",
       "Dep. Variable:                 stroke   No. Observations:                 3441\n",
       "Model:                          Logit   Df Residuals:                     3435\n",
       "Method:                           MLE   Df Model:                            5\n",
       "Date:                Sun, 12 Mar 2023   Pseudo R-squ.:                  0.2089\n",
       "Time:                        19:35:07   Log-Likelihood:                -477.96\n",
       "converged:                       True   LL-Null:                       -604.20\n",
       "Covariance Type:            nonrobust   LLR p-value:                 1.611e-52\n",
       "=====================================================================================\n",
       "                        coef    std err          z      P>|z|      [0.025      0.975]\n",
       "-------------------------------------------------------------------------------------\n",
       "Intercept           -16.0592      3.143     -5.110      0.000     -22.218      -9.900\n",
       "bmi                   0.1310      0.049      2.672      0.008       0.035       0.227\n",
       "I(bmi * age)         -0.0020      0.001     -2.534      0.011      -0.004      -0.000\n",
       "avg_glucose_level     0.0048      0.002      3.157      0.002       0.002       0.008\n",
       "age                   0.2739      0.083      3.293      0.001       0.111       0.437\n",
       "I(age ** 2)          -0.0011      0.001     -2.011      0.044      -0.002   -2.85e-05\n",
       "=====================================================================================\n",
       "\n",
       "Possibly complete quasi-separation: A fraction 0.14 of observations can be\n",
       "perfectly predicted. This might indicate that there is complete\n",
       "quasi-separation. In this case some parameters will not be identified.\n",
       "\"\"\""
      ]
     },
     "execution_count": 51,
     "metadata": {},
     "output_type": "execute_result"
    }
   ],
   "source": [
    "logit_model4.summary()"
   ]
  },
  {
   "cell_type": "code",
   "execution_count": 52,
   "id": "6da588e6",
   "metadata": {},
   "outputs": [
    {
     "name": "stdout",
     "output_type": "stream",
     "text": [
      "Classification accuracy = 62.3%\n",
      "Precision = 9.2%\n",
      "TPR or Recall = 87.3%\n",
      "FNR = 12.7%\n",
      "FPR = 38.8%\n",
      "ROC-AUC = 83.6%\n",
      "F1 = 0.1659125188536953\n"
     ]
    },
    {
     "data": {
      "image/png": "[encoded data removed]",
      "text/plain": [
       "<Figure size 432x288 with 2 Axes>"
      ]
     },
     "metadata": {
      "needs_background": "light"
     },
     "output_type": "display_data"
    }
   ],
   "source": [
    "confusion_matrix_data(test.dropna(),test.dropna().stroke,logit_model4,cutoff=0.025)"
   ]
  },
  {
   "cell_type": "code",
   "execution_count": 53,
   "id": "7f442e02",
   "metadata": {},
   "outputs": [
    {
     "data": {
      "text/plain": [
       "<AxesSubplot:xlabel='stroke', ylabel='bmi'>"
      ]
     },
     "execution_count": 53,
     "metadata": {},
     "output_type": "execute_result"
    },
    {
     "data": {
      "image/png": "[encoded data removed]",
      "text/plain": [
       "<Figure size 432x288 with 1 Axes>"
      ]
     },
     "metadata": {
      "needs_background": "light"
     },
     "output_type": "display_data"
    }
   ],
   "source": [
    "# visualize stroke instances by bmi\n",
    "sns.boxplot(x = 'stroke', y = 'bmi', data = traind)"
   ]
  },
  {
   "cell_type": "markdown",
   "id": "b79e85eb",
   "metadata": {},
   "source": [
    "Besides the outliers, it doesn't look like there is much of a difference for stroke instances by bmi."
   ]
  },
  {
   "cell_type": "code",
   "execution_count": 54,
   "id": "31509d14",
   "metadata": {},
   "outputs": [
    {
     "data": {
      "text/plain": [
       "<AxesSubplot:xlabel='stroke', ylabel='avg_glucose_level'>"
      ]
     },
     "execution_count": 54,
     "metadata": {},
     "output_type": "execute_result"
    },
    {
     "data": {
      "image/png": "[encoded data removed]",
      "text/plain": [
       "<Figure size 432x288 with 1 Axes>"
      ]
     },
     "metadata": {
      "needs_background": "light"
     },
     "output_type": "display_data"
    }
   ],
   "source": [
    "# visualize stroke instances by glucose level\n",
    "sns.boxplot(x = 'stroke', y = 'avg_glucose_level', data = traind)"
   ]
  },
  {
   "cell_type": "code",
   "execution_count": 55,
   "id": "f0bbef00",
   "metadata": {},
   "outputs": [],
   "source": [
    "binned_glucose = pd.qcut(traind['avg_glucose_level'], 7, retbins = True) # 9 bins, 10 limits\n",
    "traind['glucose_level_binned'] = binned_glucose[0]"
   ]
  },
  {
   "cell_type": "code",
   "execution_count": 56,
   "id": "d60f1391",
   "metadata": {},
   "outputs": [
    {
     "data": {
      "text/html": [
       "<div>\n",
       "<style scoped>\n",
       "    .dataframe tbody tr th:only-of-type {\n",
       "        vertical-align: middle;\n",
       "    }\n",
       "\n",
       "    .dataframe tbody tr th {\n",
       "        vertical-align: top;\n",
       "    }\n",
       "\n",
       "    .dataframe thead th {\n",
       "        text-align: right;\n",
       "    }\n",
       "</style>\n",
       "<table border=\"1\" class=\"dataframe\">\n",
       "  <thead>\n",
       "    <tr style=\"text-align: right;\">\n",
       "      <th></th>\n",
       "      <th>glucose_level_binned</th>\n",
       "      <th>stroke_percent</th>\n",
       "      <th>nobs</th>\n",
       "    </tr>\n",
       "  </thead>\n",
       "  <tbody>\n",
       "    <tr>\n",
       "      <th>0</th>\n",
       "      <td>(55.229, 69.159]</td>\n",
       "      <td>0.035225</td>\n",
       "      <td>511</td>\n",
       "    </tr>\n",
       "    <tr>\n",
       "      <th>1</th>\n",
       "      <td>(69.159, 79.044]</td>\n",
       "      <td>0.052838</td>\n",
       "      <td>511</td>\n",
       "    </tr>\n",
       "    <tr>\n",
       "      <th>2</th>\n",
       "      <td>(79.044, 87.106]</td>\n",
       "      <td>0.029354</td>\n",
       "      <td>511</td>\n",
       "    </tr>\n",
       "    <tr>\n",
       "      <th>3</th>\n",
       "      <td>(87.106, 96.86]</td>\n",
       "      <td>0.031250</td>\n",
       "      <td>512</td>\n",
       "    </tr>\n",
       "    <tr>\n",
       "      <th>4</th>\n",
       "      <td>(96.86, 110.963]</td>\n",
       "      <td>0.031373</td>\n",
       "      <td>510</td>\n",
       "    </tr>\n",
       "    <tr>\n",
       "      <th>5</th>\n",
       "      <td>(110.963, 149.957]</td>\n",
       "      <td>0.037182</td>\n",
       "      <td>511</td>\n",
       "    </tr>\n",
       "    <tr>\n",
       "      <th>6</th>\n",
       "      <td>(149.957, 271.74]</td>\n",
       "      <td>0.115460</td>\n",
       "      <td>511</td>\n",
       "    </tr>\n",
       "  </tbody>\n",
       "</table>\n",
       "</div>"
      ],
      "text/plain": [
       "  glucose_level_binned  stroke_percent  nobs\n",
       "0     (55.229, 69.159]        0.035225   511\n",
       "1     (69.159, 79.044]        0.052838   511\n",
       "2     (79.044, 87.106]        0.029354   511\n",
       "3      (87.106, 96.86]        0.031250   512\n",
       "4     (96.86, 110.963]        0.031373   510\n",
       "5   (110.963, 149.957]        0.037182   511\n",
       "6    (149.957, 271.74]        0.115460   511"
      ]
     },
     "execution_count": 56,
     "metadata": {},
     "output_type": "execute_result"
    }
   ],
   "source": [
    "#Finding percentage of people having diabetes in each Age bin\n",
    "avg_glucose_data = traind.groupby('glucose_level_binned')['stroke'].agg([('stroke_percent','mean'),('nobs','count')]).reset_index(drop=False)\n",
    "avg_glucose_data"
   ]
  },
  {
   "cell_type": "code",
   "execution_count": 57,
   "id": "9d16a308",
   "metadata": {},
   "outputs": [
    {
     "data": {
      "text/plain": [
       "Text(0.5, 0, 'glucose_level_bin')"
      ]
     },
     "execution_count": 57,
     "metadata": {},
     "output_type": "execute_result"
    },
    {
     "data": {
      "image/png": "[encoded data removed]",
      "text/plain": [
       "<Figure size 432x288 with 1 Axes>"
      ]
     },
     "metadata": {
      "needs_background": "light"
     },
     "output_type": "display_data"
    }
   ],
   "source": [
    "sns.lineplot(x = avg_glucose_data.index, y= avg_glucose_data['stroke_percent'])\n",
    "plt.xlabel('glucose_level_bin')"
   ]
  },
  {
   "cell_type": "code",
   "execution_count": 58,
   "id": "b60ed9ae",
   "metadata": {},
   "outputs": [
    {
     "name": "stdout",
     "output_type": "stream",
     "text": [
      "Optimization terminated successfully.\n",
      "         Current function value: 0.138897\n",
      "         Iterations 11\n",
      "-477.94337054024544\n"
     ]
    },
    {
     "data": {
      "image/png": "[encoded data removed]",
      "text/plain": [
       "<Figure size 432x288 with 1 Axes>"
      ]
     },
     "metadata": {
      "needs_background": "light"
     },
     "output_type": "display_data"
    }
   ],
   "source": [
    "sns.scatterplot(x = jitter(traind.age,0), y = jitter(traind.stroke,0), data = traind, color = 'orange')\n",
    "logit_model5 = sm.logit(formula = 'stroke~bmi+I(bmi*age)+avg_glucose_level+age+I(age**2)+I(avg_glucose_level**3)', data = traind).fit()\n",
    "sns.lineplot(x = 'age', y= logit_model.predict(traind), data = traind, color = 'blue') \n",
    "print(logit_model5.llf) #Printing the log likelihood to compare it with the next model we build\n",
    "plt.show()"
   ]
  },
  {
   "cell_type": "code",
   "execution_count": 59,
   "id": "76db512f",
   "metadata": {},
   "outputs": [
    {
     "data": {
      "text/html": [
       "<table class=\"simpletable\">\n",
       "<caption>Logit Regression Results</caption>\n",
       "<tr>\n",
       "  <th>Dep. Variable:</th>        <td>stroke</td>      <th>  No. Observations:  </th>  <td>  3441</td>  \n",
       "</tr>\n",
       "<tr>\n",
       "  <th>Model:</th>                 <td>Logit</td>      <th>  Df Residuals:      </th>  <td>  3434</td>  \n",
       "</tr>\n",
       "<tr>\n",
       "  <th>Method:</th>                 <td>MLE</td>       <th>  Df Model:          </th>  <td>     6</td>  \n",
       "</tr>\n",
       "<tr>\n",
       "  <th>Date:</th>            <td>Sun, 12 Mar 2023</td> <th>  Pseudo R-squ.:     </th>  <td>0.2090</td>  \n",
       "</tr>\n",
       "<tr>\n",
       "  <th>Time:</th>                <td>19:35:10</td>     <th>  Log-Likelihood:    </th> <td> -477.94</td> \n",
       "</tr>\n",
       "<tr>\n",
       "  <th>converged:</th>             <td>True</td>       <th>  LL-Null:           </th> <td> -604.20</td> \n",
       "</tr>\n",
       "<tr>\n",
       "  <th>Covariance Type:</th>     <td>nonrobust</td>    <th>  LLR p-value:       </th> <td>1.185e-51</td>\n",
       "</tr>\n",
       "</table>\n",
       "<table class=\"simpletable\">\n",
       "<tr>\n",
       "              <td></td>                 <th>coef</th>     <th>std err</th>      <th>z</th>      <th>P>|z|</th>  <th>[0.025</th>    <th>0.975]</th>  \n",
       "</tr>\n",
       "<tr>\n",
       "  <th>Intercept</th>                 <td>  -16.1644</td> <td>    3.191</td> <td>   -5.066</td> <td> 0.000</td> <td>  -22.419</td> <td>   -9.910</td>\n",
       "</tr>\n",
       "<tr>\n",
       "  <th>bmi</th>                       <td>    0.1313</td> <td>    0.049</td> <td>    2.672</td> <td> 0.008</td> <td>    0.035</td> <td>    0.228</td>\n",
       "</tr>\n",
       "<tr>\n",
       "  <th>I(bmi * age)</th>              <td>   -0.0020</td> <td>    0.001</td> <td>   -2.534</td> <td> 0.011</td> <td>   -0.004</td> <td>   -0.000</td>\n",
       "</tr>\n",
       "<tr>\n",
       "  <th>avg_glucose_level</th>         <td>    0.0059</td> <td>    0.006</td> <td>    1.015</td> <td> 0.310</td> <td>   -0.005</td> <td>    0.017</td>\n",
       "</tr>\n",
       "<tr>\n",
       "  <th>age</th>                       <td>    0.2742</td> <td>    0.083</td> <td>    3.294</td> <td> 0.001</td> <td>    0.111</td> <td>    0.437</td>\n",
       "</tr>\n",
       "<tr>\n",
       "  <th>I(age ** 2)</th>               <td>   -0.0011</td> <td>    0.001</td> <td>   -2.012</td> <td> 0.044</td> <td>   -0.002</td> <td>-2.89e-05</td>\n",
       "</tr>\n",
       "<tr>\n",
       "  <th>I(avg_glucose_level ** 3)</th> <td>-1.504e-08</td> <td> 7.67e-08</td> <td>   -0.196</td> <td> 0.845</td> <td>-1.65e-07</td> <td> 1.35e-07</td>\n",
       "</tr>\n",
       "</table><br/><br/>Possibly complete quasi-separation: A fraction 0.14 of observations can be<br/>perfectly predicted. This might indicate that there is complete<br/>quasi-separation. In this case some parameters will not be identified."
      ],
      "text/plain": [
       "<class 'statsmodels.iolib.summary.Summary'>\n",
       "\"\"\"\n",
       "                           Logit Regression Results                           \n",
       "==============================================================================\n",
       "Dep. Variable:                 stroke   No. Observations:                 3441\n",
       "Model:                          Logit   Df Residuals:                     3434\n",
       "Method:                           MLE   Df Model:                            6\n",
       "Date:                Sun, 12 Mar 2023   Pseudo R-squ.:                  0.2090\n",
       "Time:                        19:35:10   Log-Likelihood:                -477.94\n",
       "converged:                       True   LL-Null:                       -604.20\n",
       "Covariance Type:            nonrobust   LLR p-value:                 1.185e-51\n",
       "=============================================================================================\n",
       "                                coef    std err          z      P>|z|      [0.025      0.975]\n",
       "---------------------------------------------------------------------------------------------\n",
       "Intercept                   -16.1644      3.191     -5.066      0.000     -22.419      -9.910\n",
       "bmi                           0.1313      0.049      2.672      0.008       0.035       0.228\n",
       "I(bmi * age)                 -0.0020      0.001     -2.534      0.011      -0.004      -0.000\n",
       "avg_glucose_level             0.0059      0.006      1.015      0.310      -0.005       0.017\n",
       "age                           0.2742      0.083      3.294      0.001       0.111       0.437\n",
       "I(age ** 2)                  -0.0011      0.001     -2.012      0.044      -0.002   -2.89e-05\n",
       "I(avg_glucose_level ** 3) -1.504e-08   7.67e-08     -0.196      0.845   -1.65e-07    1.35e-07\n",
       "=============================================================================================\n",
       "\n",
       "Possibly complete quasi-separation: A fraction 0.14 of observations can be\n",
       "perfectly predicted. This might indicate that there is complete\n",
       "quasi-separation. In this case some parameters will not be identified.\n",
       "\"\"\""
      ]
     },
     "execution_count": 59,
     "metadata": {},
     "output_type": "execute_result"
    }
   ],
   "source": [
    "logit_model5.summary()"
   ]
  },
  {
   "cell_type": "code",
   "execution_count": 60,
   "id": "8ba95a68",
   "metadata": {},
   "outputs": [
    {
     "name": "stdout",
     "output_type": "stream",
     "text": [
      "Classification accuracy = 72.9%\n",
      "Precision = 11.1%\n",
      "TPR or Recall = 76.2%\n",
      "FNR = 23.8%\n",
      "FPR = 27.3%\n",
      "ROC-AUC = 83.6%\n",
      "F1 = 0.19433198380566802\n"
     ]
    },
    {
     "data": {
      "image/png": "[encoded data removed]",
      "text/plain": [
       "<Figure size 432x288 with 2 Axes>"
      ]
     },
     "metadata": {
      "needs_background": "light"
     },
     "output_type": "display_data"
    }
   ],
   "source": [
    "confusion_matrix_data(test.dropna(),test.dropna().stroke,logit_model5,cutoff=0.05)"
   ]
  },
  {
   "cell_type": "code",
   "execution_count": 61,
   "id": "1159eddd",
   "metadata": {},
   "outputs": [
    {
     "data": {
      "text/plain": [
       "count    3577.000000\n",
       "mean      106.119944\n",
       "std        45.475054\n",
       "min        55.230000\n",
       "25%        76.640000\n",
       "50%        91.680000\n",
       "75%       114.820000\n",
       "max       271.740000\n",
       "Name: avg_glucose_level, dtype: float64"
      ]
     },
     "execution_count": 61,
     "metadata": {},
     "output_type": "execute_result"
    }
   ],
   "source": [
    "train.avg_glucose_level.describe()"
   ]
  },
  {
   "cell_type": "code",
   "execution_count": 62,
   "id": "04020d24",
   "metadata": {},
   "outputs": [],
   "source": [
    "binned_glucose = pd.cut(traind['avg_glucose_level'], bins=[50,140,160,180,200,220,240,260,280],retbins = True) # 9 bins, 10 limits\n",
    "traind['glucose_level_binned'] = binned_glucose[0]\n",
    "binned_glucose = pd.cut(train['avg_glucose_level'], bins=[50,140,160,180,200,220,240,260,280],retbins = True) # 9 bins, 10 limits\n",
    "train['glucose_level_binned'] = binned_glucose[0]\n",
    "binned_glucose = pd.cut(test['avg_glucose_level'], bins=[50,140,160,180,200,220,240,260,280],retbins = True) # 9 bins, 10 limits\n",
    "test['glucose_level_binned'] = binned_glucose[0]"
   ]
  },
  {
   "cell_type": "code",
   "execution_count": 63,
   "id": "780f9cbf",
   "metadata": {},
   "outputs": [
    {
     "data": {
      "text/html": [
       "<div>\n",
       "<style scoped>\n",
       "    .dataframe tbody tr th:only-of-type {\n",
       "        vertical-align: middle;\n",
       "    }\n",
       "\n",
       "    .dataframe tbody tr th {\n",
       "        vertical-align: top;\n",
       "    }\n",
       "\n",
       "    .dataframe thead th {\n",
       "        text-align: right;\n",
       "    }\n",
       "</style>\n",
       "<table border=\"1\" class=\"dataframe\">\n",
       "  <thead>\n",
       "    <tr style=\"text-align: right;\">\n",
       "      <th></th>\n",
       "      <th>glucose_level_binned</th>\n",
       "      <th>stroke_percent</th>\n",
       "      <th>nobs</th>\n",
       "    </tr>\n",
       "  </thead>\n",
       "  <tbody>\n",
       "    <tr>\n",
       "      <th>0</th>\n",
       "      <td>(50, 140]</td>\n",
       "      <td>0.036642</td>\n",
       "      <td>3002</td>\n",
       "    </tr>\n",
       "    <tr>\n",
       "      <th>1</th>\n",
       "      <td>(140, 160]</td>\n",
       "      <td>0.019048</td>\n",
       "      <td>105</td>\n",
       "    </tr>\n",
       "    <tr>\n",
       "      <th>2</th>\n",
       "      <td>(160, 180]</td>\n",
       "      <td>0.160714</td>\n",
       "      <td>56</td>\n",
       "    </tr>\n",
       "    <tr>\n",
       "      <th>3</th>\n",
       "      <td>(180, 200]</td>\n",
       "      <td>0.155963</td>\n",
       "      <td>109</td>\n",
       "    </tr>\n",
       "    <tr>\n",
       "      <th>4</th>\n",
       "      <td>(200, 220]</td>\n",
       "      <td>0.083333</td>\n",
       "      <td>168</td>\n",
       "    </tr>\n",
       "    <tr>\n",
       "      <th>5</th>\n",
       "      <td>(220, 240]</td>\n",
       "      <td>0.101010</td>\n",
       "      <td>99</td>\n",
       "    </tr>\n",
       "    <tr>\n",
       "      <th>6</th>\n",
       "      <td>(240, 260]</td>\n",
       "      <td>0.225806</td>\n",
       "      <td>31</td>\n",
       "    </tr>\n",
       "    <tr>\n",
       "      <th>7</th>\n",
       "      <td>(260, 280]</td>\n",
       "      <td>0.142857</td>\n",
       "      <td>7</td>\n",
       "    </tr>\n",
       "  </tbody>\n",
       "</table>\n",
       "</div>"
      ],
      "text/plain": [
       "  glucose_level_binned  stroke_percent  nobs\n",
       "0            (50, 140]        0.036642  3002\n",
       "1           (140, 160]        0.019048   105\n",
       "2           (160, 180]        0.160714    56\n",
       "3           (180, 200]        0.155963   109\n",
       "4           (200, 220]        0.083333   168\n",
       "5           (220, 240]        0.101010    99\n",
       "6           (240, 260]        0.225806    31\n",
       "7           (260, 280]        0.142857     7"
      ]
     },
     "execution_count": 63,
     "metadata": {},
     "output_type": "execute_result"
    }
   ],
   "source": [
    "avg_glucose_data = traind.groupby('glucose_level_binned')['stroke'].agg([('stroke_percent','mean'),('nobs','count')]).reset_index(drop=False)\n",
    "avg_glucose_data"
   ]
  },
  {
   "cell_type": "code",
   "execution_count": 64,
   "id": "7c8a870d",
   "metadata": {
    "scrolled": true
   },
   "outputs": [
    {
     "data": {
      "text/plain": [
       "Text(0.5, 0, 'glucose_level_bin')"
      ]
     },
     "execution_count": 64,
     "metadata": {},
     "output_type": "execute_result"
    },
    {
     "data": {
      "image/png": "[encoded data removed]",
      "text/plain": [
       "<Figure size 432x288 with 1 Axes>"
      ]
     },
     "metadata": {
      "needs_background": "light"
     },
     "output_type": "display_data"
    }
   ],
   "source": [
    "sns.lineplot(x = avg_glucose_data.index, y= avg_glucose_data['stroke_percent'])\n",
    "plt.xlabel('glucose_level_bin')"
   ]
  },
  {
   "cell_type": "code",
   "execution_count": 65,
   "id": "53f30a69",
   "metadata": {
    "scrolled": true
   },
   "outputs": [
    {
     "name": "stdout",
     "output_type": "stream",
     "text": [
      "Optimization terminated successfully.\n",
      "         Current function value: 0.137529\n",
      "         Iterations 9\n"
     ]
    },
    {
     "data": {
      "text/html": [
       "<table class=\"simpletable\">\n",
       "<caption>Logit Regression Results</caption>\n",
       "<tr>\n",
       "  <th>Dep. Variable:</th>        <td>stroke</td>      <th>  No. Observations:  </th>  <td>  3441</td>  \n",
       "</tr>\n",
       "<tr>\n",
       "  <th>Model:</th>                 <td>Logit</td>      <th>  Df Residuals:      </th>  <td>  3429</td>  \n",
       "</tr>\n",
       "<tr>\n",
       "  <th>Method:</th>                 <td>MLE</td>       <th>  Df Model:          </th>  <td>    11</td>  \n",
       "</tr>\n",
       "<tr>\n",
       "  <th>Date:</th>            <td>Sun, 12 Mar 2023</td> <th>  Pseudo R-squ.:     </th>  <td>0.2168</td>  \n",
       "</tr>\n",
       "<tr>\n",
       "  <th>Time:</th>                <td>19:35:11</td>     <th>  Log-Likelihood:    </th> <td> -473.24</td> \n",
       "</tr>\n",
       "<tr>\n",
       "  <th>converged:</th>             <td>True</td>       <th>  LL-Null:           </th> <td> -604.20</td> \n",
       "</tr>\n",
       "<tr>\n",
       "  <th>Covariance Type:</th>     <td>nonrobust</td>    <th>  LLR p-value:       </th> <td>8.812e-50</td>\n",
       "</tr>\n",
       "</table>\n",
       "<table class=\"simpletable\">\n",
       "<tr>\n",
       "                               <td></td>                                 <th>coef</th>     <th>std err</th>      <th>z</th>      <th>P>|z|</th>  <th>[0.025</th>    <th>0.975]</th>  \n",
       "</tr>\n",
       "<tr>\n",
       "  <th>Intercept</th>                                                  <td>  -10.3441</td> <td>    1.318</td> <td>   -7.849</td> <td> 0.000</td> <td>  -12.927</td> <td>   -7.761</td>\n",
       "</tr>\n",
       "<tr>\n",
       "  <th>glucose_level_binned[T.Interval(140, 160, closed='right')]</th> <td>   -0.4878</td> <td>    0.737</td> <td>   -0.662</td> <td> 0.508</td> <td>   -1.932</td> <td>    0.957</td>\n",
       "</tr>\n",
       "<tr>\n",
       "  <th>glucose_level_binned[T.Interval(160, 180, closed='right')]</th> <td>    1.2771</td> <td>    0.466</td> <td>    2.741</td> <td> 0.006</td> <td>    0.364</td> <td>    2.190</td>\n",
       "</tr>\n",
       "<tr>\n",
       "  <th>glucose_level_binned[T.Interval(180, 200, closed='right')]</th> <td>    0.8976</td> <td>    0.330</td> <td>    2.724</td> <td> 0.006</td> <td>    0.252</td> <td>    1.543</td>\n",
       "</tr>\n",
       "<tr>\n",
       "  <th>glucose_level_binned[T.Interval(200, 220, closed='right')]</th> <td>    0.1829</td> <td>    0.324</td> <td>    0.564</td> <td> 0.573</td> <td>   -0.453</td> <td>    0.819</td>\n",
       "</tr>\n",
       "<tr>\n",
       "  <th>glucose_level_binned[T.Interval(220, 240, closed='right')]</th> <td>    0.2866</td> <td>    0.385</td> <td>    0.745</td> <td> 0.456</td> <td>   -0.467</td> <td>    1.040</td>\n",
       "</tr>\n",
       "<tr>\n",
       "  <th>glucose_level_binned[T.Interval(240, 260, closed='right')]</th> <td>    1.3112</td> <td>    0.478</td> <td>    2.742</td> <td> 0.006</td> <td>    0.374</td> <td>    2.248</td>\n",
       "</tr>\n",
       "<tr>\n",
       "  <th>glucose_level_binned[T.Interval(260, 280, closed='right')]</th> <td>    0.7937</td> <td>    1.144</td> <td>    0.694</td> <td> 0.488</td> <td>   -1.448</td> <td>    3.035</td>\n",
       "</tr>\n",
       "<tr>\n",
       "  <th>bmi</th>                                                        <td>    0.0897</td> <td>    0.038</td> <td>    2.391</td> <td> 0.017</td> <td>    0.016</td> <td>    0.163</td>\n",
       "</tr>\n",
       "<tr>\n",
       "  <th>I(bmi * age)</th>                                               <td>   -0.0013</td> <td>    0.001</td> <td>   -2.122</td> <td> 0.034</td> <td>   -0.003</td> <td>   -0.000</td>\n",
       "</tr>\n",
       "<tr>\n",
       "  <th>age</th>                                                        <td>    0.1143</td> <td>    0.020</td> <td>    5.596</td> <td> 0.000</td> <td>    0.074</td> <td>    0.154</td>\n",
       "</tr>\n",
       "<tr>\n",
       "  <th>hypertension</th>                                               <td>    0.4253</td> <td>    0.213</td> <td>    2.001</td> <td> 0.045</td> <td>    0.009</td> <td>    0.842</td>\n",
       "</tr>\n",
       "</table>"
      ],
      "text/plain": [
       "<class 'statsmodels.iolib.summary.Summary'>\n",
       "\"\"\"\n",
       "                           Logit Regression Results                           \n",
       "==============================================================================\n",
       "Dep. Variable:                 stroke   No. Observations:                 3441\n",
       "Model:                          Logit   Df Residuals:                     3429\n",
       "Method:                           MLE   Df Model:                           11\n",
       "Date:                Sun, 12 Mar 2023   Pseudo R-squ.:                  0.2168\n",
       "Time:                        19:35:11   Log-Likelihood:                -473.24\n",
       "converged:                       True   LL-Null:                       -604.20\n",
       "Covariance Type:            nonrobust   LLR p-value:                 8.812e-50\n",
       "==============================================================================================================================\n",
       "                                                                 coef    std err          z      P>|z|      [0.025      0.975]\n",
       "------------------------------------------------------------------------------------------------------------------------------\n",
       "Intercept                                                    -10.3441      1.318     -7.849      0.000     -12.927      -7.761\n",
       "glucose_level_binned[T.Interval(140, 160, closed='right')]    -0.4878      0.737     -0.662      0.508      -1.932       0.957\n",
       "glucose_level_binned[T.Interval(160, 180, closed='right')]     1.2771      0.466      2.741      0.006       0.364       2.190\n",
       "glucose_level_binned[T.Interval(180, 200, closed='right')]     0.8976      0.330      2.724      0.006       0.252       1.543\n",
       "glucose_level_binned[T.Interval(200, 220, closed='right')]     0.1829      0.324      0.564      0.573      -0.453       0.819\n",
       "glucose_level_binned[T.Interval(220, 240, closed='right')]     0.2866      0.385      0.745      0.456      -0.467       1.040\n",
       "glucose_level_binned[T.Interval(240, 260, closed='right')]     1.3112      0.478      2.742      0.006       0.374       2.248\n",
       "glucose_level_binned[T.Interval(260, 280, closed='right')]     0.7937      1.144      0.694      0.488      -1.448       3.035\n",
       "bmi                                                            0.0897      0.038      2.391      0.017       0.016       0.163\n",
       "I(bmi * age)                                                  -0.0013      0.001     -2.122      0.034      -0.003      -0.000\n",
       "age                                                            0.1143      0.020      5.596      0.000       0.074       0.154\n",
       "hypertension                                                   0.4253      0.213      2.001      0.045       0.009       0.842\n",
       "==============================================================================================================================\n",
       "\"\"\""
      ]
     },
     "execution_count": 65,
     "metadata": {},
     "output_type": "execute_result"
    }
   ],
   "source": [
    "logit_model6 = sm.logit(formula = 'stroke~bmi+I(bmi*age)+age+hypertension+glucose_level_binned', data = train).fit()\n",
    "logit_model6.summary()"
   ]
  },
  {
   "cell_type": "code",
   "execution_count": 66,
   "id": "e9090cdd",
   "metadata": {
    "scrolled": true
   },
   "outputs": [
    {
     "name": "stdout",
     "output_type": "stream",
     "text": [
      "Classification accuracy = 77.2%\n",
      "Precision = 13.0%\n",
      "TPR or Recall = 76.2%\n",
      "FNR = 23.8%\n",
      "FPR = 22.8%\n",
      "ROC-AUC = 83.9%\n",
      "F1 = 0.22273781902552203\n"
     ]
    },
    {
     "data": {
      "image/png": "[encoded data removed]",
      "text/plain": [
       "<Figure size 432x288 with 2 Axes>"
      ]
     },
     "metadata": {
      "needs_background": "light"
     },
     "output_type": "display_data"
    }
   ],
   "source": [
    "confusion_matrix_data(test.dropna(),test.dropna().stroke,logit_model3,cutoff=0.05)"
   ]
  },
  {
   "cell_type": "code",
   "execution_count": 67,
   "id": "1e4b2cbf",
   "metadata": {
    "scrolled": true
   },
   "outputs": [
    {
     "name": "stdout",
     "output_type": "stream",
     "text": [
      "Classification accuracy = 78.1%\n",
      "Precision = 13.4%\n",
      "TPR or Recall = 74.6%\n",
      "FNR = 25.4%\n",
      "FPR = 21.7%\n",
      "ROC-AUC = 83.5%\n",
      "F1 = 0.22650602409638554\n"
     ]
    },
    {
     "data": {
      "image/png": "[encoded data removed]",
      "text/plain": [
       "<Figure size 432x288 with 2 Axes>"
      ]
     },
     "metadata": {
      "needs_background": "light"
     },
     "output_type": "display_data"
    }
   ],
   "source": [
    "confusion_matrix_data(test.dropna(),test.dropna().stroke,logit_model6,cutoff=0.05)"
   ]
  },
  {
   "cell_type": "markdown",
   "id": "0c48bde9",
   "metadata": {},
   "source": [
    "# Search for potential categorical interaction terms"
   ]
  },
  {
   "cell_type": "code",
   "execution_count": 68,
   "id": "cf53b2a7",
   "metadata": {},
   "outputs": [
    {
     "data": {
      "text/html": [
       "<div>\n",
       "<style scoped>\n",
       "    .dataframe tbody tr th:only-of-type {\n",
       "        vertical-align: middle;\n",
       "    }\n",
       "\n",
       "    .dataframe tbody tr th {\n",
       "        vertical-align: top;\n",
       "    }\n",
       "\n",
       "    .dataframe thead th {\n",
       "        text-align: right;\n",
       "    }\n",
       "</style>\n",
       "<table border=\"1\" class=\"dataframe\">\n",
       "  <thead>\n",
       "    <tr style=\"text-align: right;\">\n",
       "      <th></th>\n",
       "      <th>id</th>\n",
       "      <th>gender</th>\n",
       "      <th>age</th>\n",
       "      <th>hypertension</th>\n",
       "      <th>heart_disease</th>\n",
       "      <th>ever_married</th>\n",
       "      <th>work_type</th>\n",
       "      <th>Residence_type</th>\n",
       "      <th>avg_glucose_level</th>\n",
       "      <th>bmi</th>\n",
       "      <th>smoking_status</th>\n",
       "      <th>stroke</th>\n",
       "      <th>imputed_bmi</th>\n",
       "      <th>bmi_original</th>\n",
       "      <th>glucose_level_binned</th>\n",
       "    </tr>\n",
       "  </thead>\n",
       "  <tbody>\n",
       "    <tr>\n",
       "      <th>4091</th>\n",
       "      <td>43698</td>\n",
       "      <td>Female</td>\n",
       "      <td>27.0</td>\n",
       "      <td>0</td>\n",
       "      <td>0</td>\n",
       "      <td>No</td>\n",
       "      <td>Govt_job</td>\n",
       "      <td>Rural</td>\n",
       "      <td>65.43</td>\n",
       "      <td>27.2</td>\n",
       "      <td>Unknown</td>\n",
       "      <td>0</td>\n",
       "      <td>27.2</td>\n",
       "      <td>no</td>\n",
       "      <td>(50, 140]</td>\n",
       "    </tr>\n",
       "    <tr>\n",
       "      <th>3150</th>\n",
       "      <td>69979</td>\n",
       "      <td>Male</td>\n",
       "      <td>73.0</td>\n",
       "      <td>0</td>\n",
       "      <td>0</td>\n",
       "      <td>Yes</td>\n",
       "      <td>Self-employed</td>\n",
       "      <td>Rural</td>\n",
       "      <td>231.43</td>\n",
       "      <td>23.0</td>\n",
       "      <td>smokes</td>\n",
       "      <td>0</td>\n",
       "      <td>23.0</td>\n",
       "      <td>no</td>\n",
       "      <td>(220, 240]</td>\n",
       "    </tr>\n",
       "    <tr>\n",
       "      <th>2668</th>\n",
       "      <td>43039</td>\n",
       "      <td>Female</td>\n",
       "      <td>63.0</td>\n",
       "      <td>0</td>\n",
       "      <td>0</td>\n",
       "      <td>Yes</td>\n",
       "      <td>Private</td>\n",
       "      <td>Rural</td>\n",
       "      <td>153.60</td>\n",
       "      <td>28.0</td>\n",
       "      <td>formerly smoked</td>\n",
       "      <td>0</td>\n",
       "      <td>28.0</td>\n",
       "      <td>no</td>\n",
       "      <td>(140, 160]</td>\n",
       "    </tr>\n",
       "    <tr>\n",
       "      <th>793</th>\n",
       "      <td>69427</td>\n",
       "      <td>Female</td>\n",
       "      <td>29.0</td>\n",
       "      <td>0</td>\n",
       "      <td>0</td>\n",
       "      <td>No</td>\n",
       "      <td>Private</td>\n",
       "      <td>Urban</td>\n",
       "      <td>101.28</td>\n",
       "      <td>22.7</td>\n",
       "      <td>never smoked</td>\n",
       "      <td>0</td>\n",
       "      <td>22.7</td>\n",
       "      <td>no</td>\n",
       "      <td>(50, 140]</td>\n",
       "    </tr>\n",
       "    <tr>\n",
       "      <th>798</th>\n",
       "      <td>46683</td>\n",
       "      <td>Female</td>\n",
       "      <td>25.0</td>\n",
       "      <td>0</td>\n",
       "      <td>0</td>\n",
       "      <td>No</td>\n",
       "      <td>Private</td>\n",
       "      <td>Urban</td>\n",
       "      <td>122.01</td>\n",
       "      <td>27.0</td>\n",
       "      <td>smokes</td>\n",
       "      <td>0</td>\n",
       "      <td>27.0</td>\n",
       "      <td>no</td>\n",
       "      <td>(50, 140]</td>\n",
       "    </tr>\n",
       "  </tbody>\n",
       "</table>\n",
       "</div>"
      ],
      "text/plain": [
       "         id  gender   age  hypertension  heart_disease ever_married  \\\n",
       "4091  43698  Female  27.0             0              0           No   \n",
       "3150  69979    Male  73.0             0              0          Yes   \n",
       "2668  43039  Female  63.0             0              0          Yes   \n",
       "793   69427  Female  29.0             0              0           No   \n",
       "798   46683  Female  25.0             0              0           No   \n",
       "\n",
       "          work_type Residence_type  avg_glucose_level   bmi   smoking_status  \\\n",
       "4091       Govt_job          Rural              65.43  27.2          Unknown   \n",
       "3150  Self-employed          Rural             231.43  23.0           smokes   \n",
       "2668        Private          Rural             153.60  28.0  formerly smoked   \n",
       "793         Private          Urban             101.28  22.7     never smoked   \n",
       "798         Private          Urban             122.01  27.0           smokes   \n",
       "\n",
       "      stroke  imputed_bmi bmi_original glucose_level_binned  \n",
       "4091       0         27.2           no            (50, 140]  \n",
       "3150       0         23.0           no           (220, 240]  \n",
       "2668       0         28.0           no           (140, 160]  \n",
       "793        0         22.7           no            (50, 140]  \n",
       "798        0         27.0           no            (50, 140]  "
      ]
     },
     "execution_count": 68,
     "metadata": {},
     "output_type": "execute_result"
    }
   ],
   "source": [
    "train.head()"
   ]
  },
  {
   "cell_type": "code",
   "execution_count": 155,
   "id": "64e30fec",
   "metadata": {},
   "outputs": [
    {
     "name": "stdout",
     "output_type": "stream",
     "text": [
      "model number 0\n",
      "                            OLS Regression Results                            \n",
      "==============================================================================\n",
      "Dep. Variable:                 stroke   R-squared:                       0.075\n",
      "Model:                            OLS   Adj. R-squared:                  0.072\n",
      "Method:                 Least Squares   F-statistic:                     23.15\n",
      "Date:                Sun, 12 Mar 2023   Prob (F-statistic):           3.08e-50\n",
      "Time:                        20:06:17   Log-Likelihood:                 762.70\n",
      "No. Observations:                3441   AIC:                            -1499.\n",
      "Df Residuals:                    3428   BIC:                            -1420.\n",
      "Df Model:                          12                                         \n",
      "Covariance Type:            nonrobust                                         \n",
      "==============================================================================================================================\n",
      "                                                                 coef    std err          t      P>|t|      [0.025      0.975]\n",
      "------------------------------------------------------------------------------------------------------------------------------\n",
      "Intercept                                                      0.0140      0.025      0.572      0.568      -0.034       0.062\n",
      "glucose_level_binned[T.Interval(140, 160, closed='right')]    -0.0138      0.019     -0.712      0.476      -0.052       0.024\n",
      "glucose_level_binned[T.Interval(160, 180, closed='right')]     0.0802      0.027      2.938      0.003       0.027       0.134\n",
      "glucose_level_binned[T.Interval(180, 200, closed='right')]     0.0733      0.020      3.599      0.000       0.033       0.113\n",
      "glucose_level_binned[T.Interval(200, 220, closed='right')]     0.0135      0.017      0.803      0.422      -0.019       0.046\n",
      "glucose_level_binned[T.Interval(220, 240, closed='right')]     0.0217      0.021      1.034      0.301      -0.019       0.063\n",
      "glucose_level_binned[T.Interval(240, 260, closed='right')]     0.1587      0.036      4.348      0.000       0.087       0.230\n",
      "glucose_level_binned[T.Interval(260, 280, closed='right')]     0.0665      0.080      0.835      0.404      -0.090       0.223\n",
      "bmi                                                           -0.0012      0.000     -2.398      0.017      -0.002      -0.000\n",
      "I(imputed_bmi * age)                                        3.776e-05   2.23e-05      1.696      0.090    -5.9e-06    8.14e-05\n",
      "age                                                            0.0009      0.001      1.422      0.155      -0.000       0.002\n",
      "hypertension                                                   0.1357      0.046      2.930      0.003       0.045       0.226\n",
      "imputed_bmi                                                   -0.0012      0.000     -2.398      0.017      -0.002      -0.000\n",
      "hypertension:imputed_bmi                                      -0.0028      0.001     -2.067      0.039      -0.005      -0.000\n",
      "==============================================================================\n",
      "Omnibus:                     2815.118   Durbin-Watson:                   1.998\n",
      "Prob(Omnibus):                  0.000   Jarque-Bera (JB):            46138.110\n",
      "Skew:                           4.034   Prob(JB):                         0.00\n",
      "Kurtosis:                      19.022   Cond. No.                     1.14e+18\n",
      "==============================================================================\n",
      "\n",
      "Notes:\n",
      "[1] Standard Errors assume that the covariance matrix of the errors is correctly specified.\n",
      "[2] The smallest eigenvalue is  6e-27. This might indicate that there are\n",
      "strong multicollinearity problems or that the design matrix is singular.\n",
      "Classification accuracy = 50.6%\n",
      "Precision = 9.5%\n",
      "TPR or Recall = 88.7%\n",
      "FNR = 11.3%\n",
      "FPR = 51.7%\n",
      "ROC-AUC = 82.9%\n",
      "F1 = 0.17160686427457097\n",
      "model number 1\n",
      "                            OLS Regression Results                            \n",
      "==============================================================================\n",
      "Dep. Variable:                 stroke   R-squared:                       0.076\n",
      "Model:                            OLS   Adj. R-squared:                  0.073\n",
      "Method:                 Least Squares   F-statistic:                     23.54\n",
      "Date:                Sun, 12 Mar 2023   Prob (F-statistic):           3.77e-51\n",
      "Time:                        20:06:17   Log-Likelihood:                 764.89\n",
      "No. Observations:                3441   AIC:                            -1504.\n",
      "Df Residuals:                    3428   BIC:                            -1424.\n",
      "Df Model:                          12                                         \n",
      "Covariance Type:            nonrobust                                         \n",
      "==============================================================================================================================\n",
      "                                                                 coef    std err          t      P>|t|      [0.025      0.975]\n",
      "------------------------------------------------------------------------------------------------------------------------------\n",
      "Intercept                                                      0.0059      0.025      0.240      0.810      -0.043       0.054\n",
      "glucose_level_binned[T.Interval(140, 160, closed='right')]    -0.0128      0.019     -0.662      0.508      -0.051       0.025\n",
      "glucose_level_binned[T.Interval(160, 180, closed='right')]     0.0825      0.027      3.026      0.002       0.029       0.136\n",
      "glucose_level_binned[T.Interval(180, 200, closed='right')]     0.0728      0.020      3.573      0.000       0.033       0.113\n",
      "glucose_level_binned[T.Interval(200, 220, closed='right')]     0.0131      0.017      0.779      0.436      -0.020       0.046\n",
      "glucose_level_binned[T.Interval(220, 240, closed='right')]     0.0210      0.021      1.002      0.317      -0.020       0.062\n",
      "glucose_level_binned[T.Interval(240, 260, closed='right')]     0.1561      0.036      4.277      0.000       0.085       0.228\n",
      "glucose_level_binned[T.Interval(260, 280, closed='right')]     0.0574      0.080      0.720      0.471      -0.099       0.214\n",
      "bmi                                                           -0.0019      0.001     -1.912      0.056      -0.004    4.76e-05\n",
      "I(imputed_bmi * age)                                        2.337e-05   2.22e-05      1.051      0.293   -2.02e-05     6.7e-05\n",
      "age                                                            0.0012      0.001      1.993      0.046    1.92e-05       0.002\n",
      "hypertension                                                  -0.1067      0.052     -2.036      0.042      -0.209      -0.004\n",
      "hypertension:age                                               0.0024      0.001      2.939      0.003       0.001       0.004\n",
      "==============================================================================\n",
      "Omnibus:                     2815.815   Durbin-Watson:                   1.999\n",
      "Prob(Omnibus):                  0.000   Jarque-Bera (JB):            46394.529\n",
      "Skew:                           4.033   Prob(JB):                         0.00\n",
      "Kurtosis:                      19.079   Cond. No.                     3.64e+04\n",
      "==============================================================================\n",
      "\n",
      "Notes:\n",
      "[1] Standard Errors assume that the covariance matrix of the errors is correctly specified.\n",
      "[2] The condition number is large, 3.64e+04. This might indicate that there are\n",
      "strong multicollinearity or other numerical problems.\n",
      "Classification accuracy = 52.3%\n",
      "Precision = 9.7%\n",
      "TPR or Recall = 88.7%\n",
      "FNR = 11.3%\n",
      "FPR = 50.0%\n",
      "ROC-AUC = 82.6%\n",
      "F1 = 0.17543859649122806\n",
      "model number 2\n",
      "                            OLS Regression Results                            \n",
      "==============================================================================\n",
      "Dep. Variable:                 stroke   R-squared:                       0.080\n",
      "Model:                            OLS   Adj. R-squared:                  0.076\n",
      "Method:                 Least Squares   F-statistic:                     21.28\n",
      "Date:                Sun, 12 Mar 2023   Prob (F-statistic):           9.13e-53\n",
      "Time:                        20:06:17   Log-Likelihood:                 772.10\n",
      "No. Observations:                3441   AIC:                            -1514.\n",
      "Df Residuals:                    3426   BIC:                            -1422.\n",
      "Df Model:                          14                                         \n",
      "Covariance Type:            nonrobust                                         \n",
      "==============================================================================================================================\n",
      "                                                                 coef    std err          t      P>|t|      [0.025      0.975]\n",
      "------------------------------------------------------------------------------------------------------------------------------\n",
      "Intercept                                                      0.0354      0.026      1.360      0.174      -0.016       0.086\n",
      "glucose_level_binned[T.Interval(140, 160, closed='right')]    -0.0143      0.019     -0.738      0.461      -0.052       0.024\n",
      "glucose_level_binned[T.Interval(160, 180, closed='right')]     0.0835      0.027      3.068      0.002       0.030       0.137\n",
      "glucose_level_binned[T.Interval(180, 200, closed='right')]     0.0736      0.020      3.619      0.000       0.034       0.113\n",
      "glucose_level_binned[T.Interval(200, 220, closed='right')]     0.0132      0.017      0.790      0.430      -0.020       0.046\n",
      "glucose_level_binned[T.Interval(220, 240, closed='right')]     0.0202      0.021      0.963      0.336      -0.021       0.061\n",
      "glucose_level_binned[T.Interval(240, 260, closed='right')]     0.1539      0.036      4.226      0.000       0.083       0.225\n",
      "glucose_level_binned[T.Interval(260, 280, closed='right')]     0.0618      0.080      0.777      0.437      -0.094       0.218\n",
      "bmi                                                           -0.0031      0.001     -2.974      0.003      -0.005      -0.001\n",
      "I(imputed_bmi * age)                                        3.022e-05   1.21e-05      2.487      0.013     6.4e-06     5.4e-05\n",
      "age                                                            0.0002      0.001      0.301      0.764      -0.001       0.001\n",
      "hypertension                                                  -0.4090      0.134     -3.053      0.002      -0.672      -0.146\n",
      "hypertension:bmi                                               0.0096      0.003      2.807      0.005       0.003       0.016\n",
      "hypertension:age                                               0.0097      0.002      4.263      0.000       0.005       0.014\n",
      "bmi:age                                                     3.022e-05   1.21e-05      2.487      0.013     6.4e-06     5.4e-05\n",
      "hypertension:bmi:age                                          -0.0002   6.42e-05     -3.623      0.000      -0.000      -0.000\n",
      "==============================================================================\n",
      "Omnibus:                     2806.429   Durbin-Watson:                   2.000\n",
      "Prob(Omnibus):                  0.000   Jarque-Bera (JB):            46139.692\n",
      "Skew:                           4.013   Prob(JB):                         0.00\n",
      "Kurtosis:                      19.043   Cond. No.                     1.49e+16\n",
      "==============================================================================\n",
      "\n",
      "Notes:\n",
      "[1] Standard Errors assume that the covariance matrix of the errors is correctly specified.\n",
      "[2] The smallest eigenvalue is 7.15e-23. This might indicate that there are\n",
      "strong multicollinearity problems or that the design matrix is singular.\n"
     ]
    },
    {
     "name": "stdout",
     "output_type": "stream",
     "text": [
      "Classification accuracy = 53.3%\n",
      "Precision = 9.8%\n",
      "TPR or Recall = 87.1%\n",
      "FNR = 12.9%\n",
      "FPR = 48.7%\n",
      "ROC-AUC = 82.1%\n",
      "F1 = 0.176759410801964\n",
      "model number 3\n",
      "                            OLS Regression Results                            \n",
      "==============================================================================\n",
      "Dep. Variable:                 stroke   R-squared:                       0.090\n",
      "Model:                            OLS   Adj. R-squared:                  0.086\n",
      "Method:                 Least Squares   F-statistic:                     18.89\n",
      "Date:                Sun, 12 Mar 2023   Prob (F-statistic):           3.40e-58\n",
      "Time:                        20:06:17   Log-Likelihood:                 791.67\n",
      "No. Observations:                3441   AIC:                            -1545.\n",
      "Df Residuals:                    3422   BIC:                            -1429.\n",
      "Df Model:                          18                                         \n",
      "Covariance Type:            nonrobust                                         \n",
      "===========================================================================================================================================\n",
      "                                                                              coef    std err          t      P>|t|      [0.025      0.975]\n",
      "-------------------------------------------------------------------------------------------------------------------------------------------\n",
      "Intercept                                                                   0.0171      0.024      0.703      0.482      -0.031       0.065\n",
      "glucose_level_binned[T.Interval(140, 160, closed='right')]                 -0.0057      0.020     -0.283      0.778      -0.045       0.034\n",
      "glucose_level_binned[T.Interval(160, 180, closed='right')]                  0.0438      0.032      1.390      0.165      -0.018       0.106\n",
      "glucose_level_binned[T.Interval(180, 200, closed='right')]                  0.0814      0.023      3.524      0.000       0.036       0.127\n",
      "glucose_level_binned[T.Interval(200, 220, closed='right')]                  0.0265      0.019      1.412      0.158      -0.010       0.063\n",
      "glucose_level_binned[T.Interval(220, 240, closed='right')]                  0.0511      0.024      2.160      0.031       0.005       0.098\n",
      "glucose_level_binned[T.Interval(240, 260, closed='right')]                  0.0245      0.041      0.591      0.555      -0.057       0.106\n",
      "glucose_level_binned[T.Interval(260, 280, closed='right')]                 -0.0546      0.136     -0.400      0.689      -0.322       0.213\n",
      "bmi                                                                        -0.0025      0.001     -2.588      0.010      -0.004      -0.001\n",
      "I(imputed_bmi * age)                                                      3.12e-05   2.19e-05      1.423      0.155   -1.18e-05    7.42e-05\n",
      "age                                                                         0.0011      0.001      1.841      0.066   -7.06e-05       0.002\n",
      "hypertension                                                                0.0442      0.014      3.076      0.002       0.016       0.072\n",
      "hypertension:glucose_level_binned[T.Interval(140, 160, closed='right')]    -0.0974      0.072     -1.347      0.178      -0.239       0.044\n",
      "hypertension:glucose_level_binned[T.Interval(160, 180, closed='right')]     0.1366      0.062      2.208      0.027       0.015       0.258\n",
      "hypertension:glucose_level_binned[T.Interval(180, 200, closed='right')]    -0.0313      0.047     -0.658      0.511      -0.124       0.062\n",
      "hypertension:glucose_level_binned[T.Interval(200, 220, closed='right')]    -0.0553      0.040     -1.389      0.165      -0.133       0.023\n",
      "hypertension:glucose_level_binned[T.Interval(220, 240, closed='right')]    -0.1221      0.049     -2.486      0.013      -0.218      -0.026\n",
      "hypertension:glucose_level_binned[T.Interval(240, 260, closed='right')]     0.5602      0.085      6.603      0.000       0.394       0.727\n",
      "hypertension:glucose_level_binned[T.Interval(260, 280, closed='right')]     0.1812      0.168      1.082      0.280      -0.147       0.510\n",
      "==============================================================================\n",
      "Omnibus:                     2832.920   Durbin-Watson:                   2.000\n",
      "Prob(Omnibus):                  0.000   Jarque-Bera (JB):            48613.102\n",
      "Skew:                           4.050   Prob(JB):                         0.00\n",
      "Kurtosis:                      19.537   Cond. No.                     9.47e+04\n",
      "==============================================================================\n",
      "\n",
      "Notes:\n",
      "[1] Standard Errors assume that the covariance matrix of the errors is correctly specified.\n",
      "[2] The condition number is large, 9.47e+04. This might indicate that there are\n",
      "strong multicollinearity or other numerical problems.\n",
      "Classification accuracy = 51.0%\n",
      "Precision = 9.7%\n",
      "TPR or Recall = 90.3%\n",
      "FNR = 9.7%\n",
      "FPR = 51.4%\n",
      "ROC-AUC = 82.7%\n",
      "F1 = 0.1752738654147105\n",
      "model number 4\n",
      "                            OLS Regression Results                            \n",
      "==============================================================================\n",
      "Dep. Variable:                 stroke   R-squared:                       0.080\n",
      "Model:                            OLS   Adj. R-squared:                  0.076\n",
      "Method:                 Least Squares   F-statistic:                     22.84\n",
      "Date:                Sun, 12 Mar 2023   Prob (F-statistic):           2.89e-53\n",
      "Time:                        20:06:17   Log-Likelihood:                 771.64\n",
      "No. Observations:                3441   AIC:                            -1515.\n",
      "Df Residuals:                    3427   BIC:                            -1429.\n",
      "Df Model:                          13                                         \n",
      "Covariance Type:            nonrobust                                         \n",
      "==============================================================================================================================\n",
      "                                                                 coef    std err          t      P>|t|      [0.025      0.975]\n",
      "------------------------------------------------------------------------------------------------------------------------------\n",
      "Intercept                                                      0.0142      0.025      0.578      0.563      -0.034       0.062\n",
      "glucose_level_binned[T.Interval(140, 160, closed='right')]    -0.0149      0.019     -0.768      0.443      -0.053       0.023\n",
      "glucose_level_binned[T.Interval(160, 180, closed='right')]     0.0823      0.027      3.023      0.003       0.029       0.136\n",
      "glucose_level_binned[T.Interval(180, 200, closed='right')]     0.0725      0.020      3.566      0.000       0.033       0.112\n",
      "glucose_level_binned[T.Interval(200, 220, closed='right')]     0.0074      0.017      0.440      0.660      -0.026       0.040\n",
      "glucose_level_binned[T.Interval(220, 240, closed='right')]     0.0162      0.021      0.772      0.440      -0.025       0.057\n",
      "glucose_level_binned[T.Interval(240, 260, closed='right')]     0.1512      0.036      4.148      0.000       0.080       0.223\n",
      "glucose_level_binned[T.Interval(260, 280, closed='right')]     0.0620      0.080      0.779      0.436      -0.094       0.218\n",
      "bmi                                                           -0.0011      0.000     -2.296      0.022      -0.002      -0.000\n",
      "I(imputed_bmi * age)                                        2.718e-05   2.24e-05      1.211      0.226   -1.68e-05    7.12e-05\n",
      "age                                                            0.0010      0.001      1.709      0.087      -0.000       0.002\n",
      "hypertension                                                   0.0407      0.012      3.384      0.001       0.017       0.064\n",
      "heart_disease                                                  0.0516      0.087      0.594      0.553      -0.119       0.222\n",
      "imputed_bmi                                                   -0.0011      0.000     -2.296      0.022      -0.002      -0.000\n",
      "heart_disease:imputed_bmi                                      0.0008      0.003      0.272      0.786      -0.005       0.006\n",
      "==============================================================================\n",
      "Omnibus:                     2802.076   Durbin-Watson:                   2.001\n",
      "Prob(Omnibus):                  0.000   Jarque-Bera (JB):            45736.249\n",
      "Skew:                           4.007   Prob(JB):                         0.00\n",
      "Kurtosis:                      18.961   Cond. No.                     1.14e+18\n",
      "==============================================================================\n",
      "\n",
      "Notes:\n",
      "[1] Standard Errors assume that the covariance matrix of the errors is correctly specified.\n",
      "[2] The smallest eigenvalue is  6e-27. This might indicate that there are\n",
      "strong multicollinearity problems or that the design matrix is singular.\n",
      "Classification accuracy = 54.6%\n",
      "Precision = 10.0%\n",
      "TPR or Recall = 85.5%\n",
      "FNR = 14.5%\n",
      "FPR = 47.3%\n",
      "ROC-AUC = 83.1%\n",
      "F1 = 0.1793570219966159\n",
      "model number 5\n",
      "                            OLS Regression Results                            \n",
      "==============================================================================\n",
      "Dep. Variable:                 stroke   R-squared:                       0.083\n",
      "Model:                            OLS   Adj. R-squared:                  0.079\n",
      "Method:                 Least Squares   F-statistic:                     23.78\n",
      "Date:                Sun, 12 Mar 2023   Prob (F-statistic):           1.33e-55\n",
      "Time:                        20:06:17   Log-Likelihood:                 777.25\n",
      "No. Observations:                3441   AIC:                            -1526.\n",
      "Df Residuals:                    3427   BIC:                            -1440.\n",
      "Df Model:                          13                                         \n",
      "Covariance Type:            nonrobust                                         \n",
      "==============================================================================================================================\n",
      "                                                                 coef    std err          t      P>|t|      [0.025      0.975]\n",
      "------------------------------------------------------------------------------------------------------------------------------\n",
      "Intercept                                                      0.0140      0.024      0.573      0.567      -0.034       0.062\n",
      "glucose_level_binned[T.Interval(140, 160, closed='right')]    -0.0144      0.019     -0.746      0.456      -0.052       0.023\n",
      "glucose_level_binned[T.Interval(160, 180, closed='right')]     0.0807      0.027      2.970      0.003       0.027       0.134\n",
      "glucose_level_binned[T.Interval(180, 200, closed='right')]     0.0751      0.020      3.698      0.000       0.035       0.115\n",
      "glucose_level_binned[T.Interval(200, 220, closed='right')]     0.0040      0.017      0.241      0.810      -0.029       0.037\n",
      "glucose_level_binned[T.Interval(220, 240, closed='right')]     0.0168      0.021      0.801      0.423      -0.024       0.058\n",
      "glucose_level_binned[T.Interval(240, 260, closed='right')]     0.1473      0.036      4.047      0.000       0.076       0.219\n",
      "glucose_level_binned[T.Interval(260, 280, closed='right')]     0.0633      0.079      0.797      0.426      -0.092       0.219\n",
      "bmi                                                           -0.0021      0.001     -2.183      0.029      -0.004      -0.000\n",
      "I(imputed_bmi * age)                                        2.874e-05    2.2e-05      1.306      0.192   -1.44e-05    7.19e-05\n",
      "age                                                            0.0009      0.001      1.545      0.122      -0.000       0.002\n",
      "hypertension                                                   0.0406      0.012      3.385      0.001       0.017       0.064\n",
      "heart_disease                                                 -0.2194      0.089     -2.463      0.014      -0.394      -0.045\n",
      "heart_disease:age                                              0.0043      0.001      3.356      0.001       0.002       0.007\n",
      "==============================================================================\n",
      "Omnibus:                     2798.867   Durbin-Watson:                   2.004\n",
      "Prob(Omnibus):                  0.000   Jarque-Bera (JB):            45885.157\n",
      "Skew:                           3.998   Prob(JB):                         0.00\n",
      "Kurtosis:                      19.003   Cond. No.                     4.08e+04\n",
      "==============================================================================\n",
      "\n",
      "Notes:\n",
      "[1] Standard Errors assume that the covariance matrix of the errors is correctly specified.\n",
      "[2] The condition number is large, 4.08e+04. This might indicate that there are\n",
      "strong multicollinearity or other numerical problems.\n"
     ]
    },
    {
     "name": "stdout",
     "output_type": "stream",
     "text": [
      "Classification accuracy = 56.5%\n",
      "Precision = 10.5%\n",
      "TPR or Recall = 87.1%\n",
      "FNR = 12.9%\n",
      "FPR = 45.3%\n",
      "ROC-AUC = 83.2%\n",
      "F1 = 0.18685121107266436\n",
      "model number 6\n",
      "                            OLS Regression Results                            \n",
      "==============================================================================\n",
      "Dep. Variable:                 stroke   R-squared:                       0.084\n",
      "Model:                            OLS   Adj. R-squared:                  0.080\n",
      "Method:                 Least Squares   F-statistic:                     20.84\n",
      "Date:                Sun, 12 Mar 2023   Prob (F-statistic):           6.23e-55\n",
      "Time:                        20:06:17   Log-Likelihood:                 778.96\n",
      "No. Observations:                3441   AIC:                            -1526.\n",
      "Df Residuals:                    3425   BIC:                            -1428.\n",
      "Df Model:                          15                                         \n",
      "Covariance Type:            nonrobust                                         \n",
      "==============================================================================================================================\n",
      "                                                                 coef    std err          t      P>|t|      [0.025      0.975]\n",
      "------------------------------------------------------------------------------------------------------------------------------\n",
      "Intercept                                                      0.0127      0.025      0.519      0.604      -0.035       0.061\n",
      "glucose_level_binned[T.Interval(140, 160, closed='right')]    -0.0152      0.019     -0.785      0.433      -0.053       0.023\n",
      "glucose_level_binned[T.Interval(160, 180, closed='right')]     0.0809      0.027      2.978      0.003       0.028       0.134\n",
      "glucose_level_binned[T.Interval(180, 200, closed='right')]     0.0755      0.020      3.716      0.000       0.036       0.115\n",
      "glucose_level_binned[T.Interval(200, 220, closed='right')]     0.0049      0.017      0.292      0.771      -0.028       0.038\n",
      "glucose_level_binned[T.Interval(220, 240, closed='right')]     0.0164      0.021      0.783      0.433      -0.025       0.058\n",
      "glucose_level_binned[T.Interval(240, 260, closed='right')]     0.1484      0.036      4.078      0.000       0.077       0.220\n",
      "glucose_level_binned[T.Interval(260, 280, closed='right')]     0.0646      0.079      0.814      0.416      -0.091       0.220\n",
      "bmi                                                           -0.0021      0.001     -2.117      0.034      -0.004      -0.000\n",
      "I(imputed_bmi * age)                                        1.243e-05   1.13e-05      1.105      0.269   -9.64e-06    3.45e-05\n",
      "age                                                            0.0010      0.001      1.695      0.090      -0.000       0.002\n",
      "hypertension                                                   0.0400      0.012      3.332      0.001       0.016       0.064\n",
      "heart_disease                                                 -1.0185      0.536     -1.900      0.058      -2.070       0.033\n",
      "heart_disease:bmi                                              0.0251      0.017      1.452      0.147      -0.009       0.059\n",
      "heart_disease:age                                              0.0146      0.008      1.838      0.066      -0.001       0.030\n",
      "bmi:age                                                     1.243e-05   1.13e-05      1.105      0.269   -9.64e-06    3.45e-05\n",
      "heart_disease:bmi:age                                         -0.0003      0.000     -1.238      0.216      -0.001       0.000\n",
      "==============================================================================\n",
      "Omnibus:                     2796.714   Durbin-Watson:                   2.005\n",
      "Prob(Omnibus):                  0.000   Jarque-Bera (JB):            45776.344\n",
      "Skew:                           3.994   Prob(JB):                         0.00\n",
      "Kurtosis:                      18.984   Cond. No.                     1.48e+16\n",
      "==============================================================================\n",
      "\n",
      "Notes:\n",
      "[1] Standard Errors assume that the covariance matrix of the errors is correctly specified.\n",
      "[2] The smallest eigenvalue is 7.15e-23. This might indicate that there are\n",
      "strong multicollinearity problems or that the design matrix is singular.\n",
      "Classification accuracy = 56.4%\n",
      "Precision = 10.5%\n",
      "TPR or Recall = 87.1%\n",
      "FNR = 12.9%\n",
      "FPR = 45.4%\n",
      "ROC-AUC = 83.2%\n",
      "F1 = 0.18685121107266436\n",
      "model number 7\n",
      "                            OLS Regression Results                            \n",
      "==============================================================================\n",
      "Dep. Variable:                 stroke   R-squared:                       0.089\n",
      "Model:                            OLS   Adj. R-squared:                  0.084\n",
      "Method:                 Least Squares   F-statistic:                     17.58\n",
      "Date:                Sun, 12 Mar 2023   Prob (F-statistic):           1.92e-56\n",
      "Time:                        20:06:17   Log-Likelihood:                 788.98\n",
      "No. Observations:                3441   AIC:                            -1538.\n",
      "Df Residuals:                    3421   BIC:                            -1415.\n",
      "Df Model:                          19                                         \n",
      "Covariance Type:            nonrobust                                         \n",
      "============================================================================================================================================\n",
      "                                                                               coef    std err          t      P>|t|      [0.025      0.975]\n",
      "--------------------------------------------------------------------------------------------------------------------------------------------\n",
      "Intercept                                                                    0.0157      0.024      0.645      0.519      -0.032       0.063\n",
      "glucose_level_binned[T.Interval(140, 160, closed='right')]                  -0.0063      0.020     -0.319      0.750      -0.045       0.033\n",
      "glucose_level_binned[T.Interval(160, 180, closed='right')]                   0.0732      0.028      2.648      0.008       0.019       0.127\n",
      "glucose_level_binned[T.Interval(180, 200, closed='right')]                   0.0825      0.021      3.883      0.000       0.041       0.124\n",
      "glucose_level_binned[T.Interval(200, 220, closed='right')]                   0.0012      0.018      0.067      0.947      -0.034       0.037\n",
      "glucose_level_binned[T.Interval(220, 240, closed='right')]                   0.0244      0.023      1.076      0.282      -0.020       0.069\n",
      "glucose_level_binned[T.Interval(240, 260, closed='right')]                   0.1060      0.041      2.610      0.009       0.026       0.186\n",
      "glucose_level_binned[T.Interval(260, 280, closed='right')]                  -0.0873      0.087     -1.007      0.314      -0.257       0.083\n",
      "bmi                                                                         -0.0023      0.001     -2.376      0.018      -0.004      -0.000\n",
      "I(imputed_bmi * age)                                                      3.103e-05    2.2e-05      1.413      0.158    -1.2e-05    7.41e-05\n",
      "age                                                                          0.0009      0.001      1.583      0.114      -0.000       0.002\n",
      "hypertension                                                                 0.0386      0.012      3.210      0.001       0.015       0.062\n",
      "heart_disease                                                                0.0701      0.020      3.574      0.000       0.032       0.109\n",
      "heart_disease:glucose_level_binned[T.Interval(140, 160, closed='right')]    -0.1453      0.083     -1.742      0.082      -0.309       0.018\n",
      "heart_disease:glucose_level_binned[T.Interval(160, 180, closed='right')]     0.2431      0.140      1.731      0.084      -0.032       0.518\n",
      "heart_disease:glucose_level_binned[T.Interval(180, 200, closed='right')]    -0.1059      0.070     -1.504      0.133      -0.244       0.032\n",
      "heart_disease:glucose_level_binned[T.Interval(200, 220, closed='right')]     0.0377      0.047      0.810      0.418      -0.054       0.129\n",
      "heart_disease:glucose_level_binned[T.Interval(220, 240, closed='right')]    -0.0494      0.058     -0.856      0.392      -0.163       0.064\n",
      "heart_disease:glucose_level_binned[T.Interval(240, 260, closed='right')]     0.2207      0.091      2.437      0.015       0.043       0.398\n",
      "heart_disease:glucose_level_binned[T.Interval(260, 280, closed='right')]     0.9046      0.212      4.261      0.000       0.488       1.321\n",
      "==============================================================================\n",
      "Omnibus:                     2816.886   Durbin-Watson:                   1.996\n",
      "Prob(Omnibus):                  0.000   Jarque-Bera (JB):            47172.387\n",
      "Skew:                           4.027   Prob(JB):                         0.00\n",
      "Kurtosis:                      19.253   Cond. No.                     9.90e+04\n",
      "==============================================================================\n",
      "\n",
      "Notes:\n",
      "[1] Standard Errors assume that the covariance matrix of the errors is correctly specified.\n",
      "[2] The condition number is large, 9.9e+04. This might indicate that there are\n",
      "strong multicollinearity or other numerical problems.\n",
      "Classification accuracy = 54.1%\n",
      "Precision = 9.6%\n",
      "TPR or Recall = 83.6%\n",
      "FNR = 16.4%\n",
      "FPR = 47.7%\n",
      "ROC-AUC = 81.1%\n",
      "F1 = 0.17142857142857143\n",
      "model number 8\n",
      "                            OLS Regression Results                            \n",
      "==============================================================================\n",
      "Dep. Variable:                 stroke   R-squared:                       0.074\n",
      "Model:                            OLS   Adj. R-squared:                  0.070\n",
      "Method:                 Least Squares   F-statistic:                     21.07\n",
      "Date:                Sun, 12 Mar 2023   Prob (F-statistic):           8.24e-49\n",
      "Time:                        20:06:17   Log-Likelihood:                 760.93\n",
      "No. Observations:                3441   AIC:                            -1494.\n",
      "Df Residuals:                    3427   BIC:                            -1408.\n",
      "Df Model:                          13                                         \n",
      "Covariance Type:            nonrobust                                         \n",
      "==============================================================================================================================\n",
      "                                                                 coef    std err          t      P>|t|      [0.025      0.975]\n",
      "------------------------------------------------------------------------------------------------------------------------------\n",
      "Intercept                                                      0.0274      0.027      0.996      0.319      -0.027       0.081\n",
      "glucose_level_binned[T.Interval(140, 160, closed='right')]    -0.0134      0.019     -0.688      0.491      -0.051       0.025\n",
      "glucose_level_binned[T.Interval(160, 180, closed='right')]     0.0809      0.027      2.961      0.003       0.027       0.134\n",
      "glucose_level_binned[T.Interval(180, 200, closed='right')]     0.0738      0.020      3.617      0.000       0.034       0.114\n",
      "glucose_level_binned[T.Interval(200, 220, closed='right')]     0.0135      0.017      0.802      0.423      -0.019       0.046\n",
      "glucose_level_binned[T.Interval(220, 240, closed='right')]     0.0224      0.021      1.066      0.286      -0.019       0.064\n",
      "glucose_level_binned[T.Interval(240, 260, closed='right')]     0.1593      0.037      4.363      0.000       0.088       0.231\n",
      "glucose_level_binned[T.Interval(260, 280, closed='right')]     0.0673      0.080      0.844      0.399      -0.089       0.224\n",
      "Residence_type[T.Urban]                                       -0.0212      0.026     -0.823      0.411      -0.072       0.029\n",
      "bmi                                                           -0.0014      0.001     -2.721      0.007      -0.002      -0.000\n",
      "I(imputed_bmi * age)                                        3.132e-05   2.21e-05      1.418      0.156    -1.2e-05    7.46e-05\n",
      "age                                                            0.0011      0.001      1.843      0.065   -6.98e-05       0.002\n",
      "hypertension                                                   0.0433      0.012      3.595      0.000       0.020       0.067\n",
      "imputed_bmi                                                   -0.0014      0.001     -2.721      0.007      -0.002      -0.000\n",
      "Residence_type[T.Urban]:imputed_bmi                            0.0007      0.001      0.865      0.387      -0.001       0.002\n",
      "==============================================================================\n",
      "Omnibus:                     2816.930   Durbin-Watson:                   2.001\n",
      "Prob(Omnibus):                  0.000   Jarque-Bera (JB):            46191.901\n",
      "Skew:                           4.038   Prob(JB):                         0.00\n",
      "Kurtosis:                      19.030   Cond. No.                     1.12e+18\n",
      "==============================================================================\n",
      "\n",
      "Notes:\n",
      "[1] Standard Errors assume that the covariance matrix of the errors is correctly specified.\n",
      "[2] The smallest eigenvalue is 6.26e-27. This might indicate that there are\n",
      "strong multicollinearity problems or that the design matrix is singular.\n"
     ]
    },
    {
     "name": "stdout",
     "output_type": "stream",
     "text": [
      "Classification accuracy = 50.5%\n",
      "Precision = 9.7%\n",
      "TPR or Recall = 90.3%\n",
      "FNR = 9.7%\n",
      "FPR = 51.9%\n",
      "ROC-AUC = 83.3%\n",
      "F1 = 0.17445482866043616\n",
      "model number 9\n",
      "                            OLS Regression Results                            \n",
      "==============================================================================\n",
      "Dep. Variable:                 stroke   R-squared:                       0.074\n",
      "Model:                            OLS   Adj. R-squared:                  0.070\n",
      "Method:                 Least Squares   F-statistic:                     21.05\n",
      "Date:                Sun, 12 Mar 2023   Prob (F-statistic):           9.14e-49\n",
      "Time:                        20:06:17   Log-Likelihood:                 760.82\n",
      "No. Observations:                3441   AIC:                            -1494.\n",
      "Df Residuals:                    3427   BIC:                            -1408.\n",
      "Df Model:                          13                                         \n",
      "Covariance Type:            nonrobust                                         \n",
      "==============================================================================================================================\n",
      "                                                                 coef    std err          t      P>|t|      [0.025      0.975]\n",
      "------------------------------------------------------------------------------------------------------------------------------\n",
      "Intercept                                                      0.0126      0.025      0.496      0.620      -0.037       0.062\n",
      "glucose_level_binned[T.Interval(140, 160, closed='right')]    -0.0128      0.019     -0.658      0.510      -0.051       0.025\n",
      "glucose_level_binned[T.Interval(160, 180, closed='right')]     0.0809      0.027      2.963      0.003       0.027       0.134\n",
      "glucose_level_binned[T.Interval(180, 200, closed='right')]     0.0737      0.020      3.613      0.000       0.034       0.114\n",
      "glucose_level_binned[T.Interval(200, 220, closed='right')]     0.0135      0.017      0.801      0.423      -0.019       0.046\n",
      "glucose_level_binned[T.Interval(220, 240, closed='right')]     0.0216      0.021      1.027      0.305      -0.020       0.063\n",
      "glucose_level_binned[T.Interval(240, 260, closed='right')]     0.1596      0.037      4.371      0.000       0.088       0.231\n",
      "glucose_level_binned[T.Interval(260, 280, closed='right')]     0.0646      0.080      0.809      0.419      -0.092       0.221\n",
      "Residence_type[T.Urban]                                        0.0096      0.014      0.672      0.502      -0.018       0.038\n",
      "bmi                                                           -0.0025      0.001     -2.602      0.009      -0.004      -0.001\n",
      "I(imputed_bmi * age)                                        3.205e-05   2.21e-05      1.451      0.147   -1.13e-05    7.54e-05\n",
      "age                                                            0.0012      0.001      1.945      0.052   -9.81e-06       0.002\n",
      "Residence_type[T.Urban]:age                                   -0.0002      0.000     -0.731      0.465      -0.001       0.000\n",
      "hypertension                                                   0.0431      0.012      3.576      0.000       0.019       0.067\n",
      "==============================================================================\n",
      "Omnibus:                     2817.334   Durbin-Watson:                   2.000\n",
      "Prob(Omnibus):                  0.000   Jarque-Bera (JB):            46217.639\n",
      "Skew:                           4.039   Prob(JB):                         0.00\n",
      "Kurtosis:                      19.035   Cond. No.                     3.64e+04\n",
      "==============================================================================\n",
      "\n",
      "Notes:\n",
      "[1] Standard Errors assume that the covariance matrix of the errors is correctly specified.\n",
      "[2] The condition number is large, 3.64e+04. This might indicate that there are\n",
      "strong multicollinearity or other numerical problems.\n",
      "Classification accuracy = 50.0%\n",
      "Precision = 9.7%\n",
      "TPR or Recall = 91.9%\n",
      "FNR = 8.1%\n",
      "FPR = 52.6%\n",
      "ROC-AUC = 83.0%\n",
      "F1 = 0.17565485362095531\n",
      "model number 10\n",
      "                            OLS Regression Results                            \n",
      "==============================================================================\n",
      "Dep. Variable:                 stroke   R-squared:                       0.074\n",
      "Model:                            OLS   Adj. R-squared:                  0.070\n",
      "Method:                 Least Squares   F-statistic:                     18.37\n",
      "Date:                Sun, 12 Mar 2023   Prob (F-statistic):           7.91e-48\n",
      "Time:                        20:06:18   Log-Likelihood:                 761.77\n",
      "No. Observations:                3441   AIC:                            -1492.\n",
      "Df Residuals:                    3425   BIC:                            -1393.\n",
      "Df Model:                          15                                         \n",
      "Covariance Type:            nonrobust                                         \n",
      "==============================================================================================================================\n",
      "                                                                 coef    std err          t      P>|t|      [0.025      0.975]\n",
      "------------------------------------------------------------------------------------------------------------------------------\n",
      "Intercept                                                      0.0107      0.035      0.307      0.759      -0.057       0.079\n",
      "glucose_level_binned[T.Interval(140, 160, closed='right')]    -0.0128      0.019     -0.661      0.509      -0.051       0.025\n",
      "glucose_level_binned[T.Interval(160, 180, closed='right')]     0.0819      0.027      2.996      0.003       0.028       0.135\n",
      "glucose_level_binned[T.Interval(180, 200, closed='right')]     0.0742      0.020      3.638      0.000       0.034       0.114\n",
      "glucose_level_binned[T.Interval(200, 220, closed='right')]     0.0136      0.017      0.807      0.420      -0.019       0.047\n",
      "glucose_level_binned[T.Interval(220, 240, closed='right')]     0.0225      0.021      1.068      0.285      -0.019       0.064\n",
      "glucose_level_binned[T.Interval(240, 260, closed='right')]     0.1592      0.037      4.360      0.000       0.088       0.231\n",
      "glucose_level_binned[T.Interval(260, 280, closed='right')]     0.0655      0.080      0.820      0.412      -0.091       0.222\n",
      "Residence_type[T.Urban]                                        0.0123      0.049      0.251      0.802      -0.083       0.108\n",
      "bmi                                                           -0.0024      0.001     -1.780      0.075      -0.005       0.000\n",
      "Residence_type[T.Urban]:bmi                                -8.332e-05      0.002     -0.043      0.965      -0.004       0.004\n",
      "I(imputed_bmi * age)                                        8.081e-06   1.58e-05      0.513      0.608   -2.28e-05     3.9e-05\n",
      "age                                                            0.0017      0.001      1.962      0.050    8.32e-07       0.003\n",
      "Residence_type[T.Urban]:age                                   -0.0011      0.001     -0.957      0.339      -0.003       0.001\n",
      "hypertension                                                   0.0432      0.012      3.589      0.000       0.020       0.067\n",
      "bmi:age                                                     8.081e-06   1.58e-05      0.513      0.608   -2.28e-05     3.9e-05\n",
      "Residence_type[T.Urban]:bmi:age                             2.996e-05   4.33e-05      0.692      0.489   -5.49e-05       0.000\n",
      "==============================================================================\n",
      "Omnibus:                     2815.379   Durbin-Watson:                   2.001\n",
      "Prob(Omnibus):                  0.000   Jarque-Bera (JB):            46123.701\n",
      "Skew:                           4.035   Prob(JB):                         0.00\n",
      "Kurtosis:                      19.018   Cond. No.                     1.17e+16\n",
      "==============================================================================\n",
      "\n",
      "Notes:\n",
      "[1] Standard Errors assume that the covariance matrix of the errors is correctly specified.\n",
      "[2] The smallest eigenvalue is 1.3e-22. This might indicate that there are\n",
      "strong multicollinearity problems or that the design matrix is singular.\n",
      "Classification accuracy = 50.7%\n",
      "Precision = 9.7%\n",
      "TPR or Recall = 90.3%\n",
      "FNR = 9.7%\n",
      "FPR = 51.7%\n",
      "ROC-AUC = 83.1%\n",
      "F1 = 0.1755485893416928\n",
      "model number 11\n",
      "                            OLS Regression Results                            \n",
      "==============================================================================\n",
      "Dep. Variable:                 stroke   R-squared:                       0.076\n",
      "Model:                            OLS   Adj. R-squared:                  0.071\n",
      "Method:                 Least Squares   F-statistic:                     14.86\n",
      "Date:                Sun, 12 Mar 2023   Prob (F-statistic):           1.10e-46\n",
      "Time:                        20:06:18   Log-Likelihood:                 765.07\n",
      "No. Observations:                3441   AIC:                            -1490.\n",
      "Df Residuals:                    3421   BIC:                            -1367.\n",
      "Df Model:                          19                                         \n",
      "Covariance Type:            nonrobust                                         \n",
      "======================================================================================================================================================\n",
      "                                                                                         coef    std err          t      P>|t|      [0.025      0.975]\n",
      "------------------------------------------------------------------------------------------------------------------------------------------------------\n",
      "Intercept                                                                              0.0170      0.025      0.684      0.494      -0.032       0.066\n",
      "glucose_level_binned[T.Interval(140, 160, closed='right')]                            -0.0245      0.028     -0.886      0.376      -0.079       0.030\n",
      "glucose_level_binned[T.Interval(160, 180, closed='right')]                             0.1166      0.036      3.246      0.001       0.046       0.187\n",
      "glucose_level_binned[T.Interval(180, 200, closed='right')]                             0.0957      0.028      3.364      0.001       0.040       0.152\n",
      "glucose_level_binned[T.Interval(200, 220, closed='right')]                            -0.0193      0.023     -0.838      0.402      -0.065       0.026\n",
      "glucose_level_binned[T.Interval(220, 240, closed='right')]                             0.0188      0.028      0.672      0.502      -0.036       0.073\n",
      "glucose_level_binned[T.Interval(240, 260, closed='right')]                             0.1632      0.056      2.889      0.004       0.052       0.274\n",
      "glucose_level_binned[T.Interval(260, 280, closed='right')]                             0.0887      0.087      1.014      0.311      -0.083       0.260\n",
      "Residence_type[T.Urban]                                                               -0.0008      0.007     -0.115      0.908      -0.015       0.013\n",
      "Residence_type[T.Urban]:glucose_level_binned[T.Interval(140, 160, closed='right')]     0.0224      0.039      0.578      0.564      -0.054       0.099\n",
      "Residence_type[T.Urban]:glucose_level_binned[T.Interval(160, 180, closed='right')]    -0.0847      0.055     -1.538      0.124      -0.193       0.023\n",
      "Residence_type[T.Urban]:glucose_level_binned[T.Interval(180, 200, closed='right')]    -0.0442      0.040     -1.103      0.270      -0.123       0.034\n",
      "Residence_type[T.Urban]:glucose_level_binned[T.Interval(200, 220, closed='right')]     0.0680      0.033      2.089      0.037       0.004       0.132\n",
      "Residence_type[T.Urban]:glucose_level_binned[T.Interval(220, 240, closed='right')]     0.0082      0.041      0.198      0.843      -0.073       0.089\n",
      "Residence_type[T.Urban]:glucose_level_binned[T.Interval(240, 260, closed='right')]    -0.0057      0.074     -0.078      0.938      -0.150       0.139\n",
      "Residence_type[T.Urban]:glucose_level_binned[T.Interval(260, 280, closed='right')]    -0.1311      0.213     -0.615      0.539      -0.549       0.287\n",
      "bmi                                                                                   -0.0025      0.001     -2.568      0.010      -0.004      -0.001\n",
      "I(imputed_bmi * age)                                                                3.062e-05   2.21e-05      1.385      0.166   -1.27e-05     7.4e-05\n",
      "age                                                                                    0.0011      0.001      1.885      0.059   -4.47e-05       0.002\n",
      "hypertension                                                                           0.0420      0.012      3.486      0.000       0.018       0.066\n",
      "==============================================================================\n",
      "Omnibus:                     2810.558   Durbin-Watson:                   1.997\n",
      "Prob(Omnibus):                  0.000   Jarque-Bera (JB):            45943.693\n",
      "Skew:                           4.026   Prob(JB):                         0.00\n",
      "Kurtosis:                      18.988   Cond. No.                     9.87e+04\n",
      "==============================================================================\n",
      "\n",
      "Notes:\n",
      "[1] Standard Errors assume that the covariance matrix of the errors is correctly specified.\n",
      "[2] The condition number is large, 9.87e+04. This might indicate that there are\n",
      "strong multicollinearity or other numerical problems.\n"
     ]
    },
    {
     "name": "stdout",
     "output_type": "stream",
     "text": [
      "Classification accuracy = 50.8%\n",
      "Precision = 9.7%\n",
      "TPR or Recall = 90.3%\n",
      "FNR = 9.7%\n",
      "FPR = 51.6%\n",
      "ROC-AUC = 83.2%\n",
      "F1 = 0.1752738654147105\n",
      "model number 12\n",
      "                            OLS Regression Results                            \n",
      "==============================================================================\n",
      "Dep. Variable:                 stroke   R-squared:                       0.075\n",
      "Model:                            OLS   Adj. R-squared:                  0.070\n",
      "Method:                 Least Squares   F-statistic:                     16.29\n",
      "Date:                Sun, 12 Mar 2023   Prob (F-statistic):           7.40e-47\n",
      "Time:                        20:06:18   Log-Likelihood:                 762.49\n",
      "No. Observations:                3441   AIC:                            -1489.\n",
      "Df Residuals:                    3423   BIC:                            -1378.\n",
      "Df Model:                          17                                         \n",
      "Covariance Type:            nonrobust                                         \n",
      "==============================================================================================================================\n",
      "                                                                 coef    std err          t      P>|t|      [0.025      0.975]\n",
      "------------------------------------------------------------------------------------------------------------------------------\n",
      "Intercept                                                      0.0317      0.026      1.207      0.227      -0.020       0.083\n",
      "glucose_level_binned[T.Interval(140, 160, closed='right')]    -0.0133      0.019     -0.685      0.493      -0.051       0.025\n",
      "glucose_level_binned[T.Interval(160, 180, closed='right')]     0.0806      0.027      2.950      0.003       0.027       0.134\n",
      "glucose_level_binned[T.Interval(180, 200, closed='right')]     0.0743      0.020      3.637      0.000       0.034       0.114\n",
      "glucose_level_binned[T.Interval(200, 220, closed='right')]     0.0132      0.017      0.785      0.432      -0.020       0.046\n",
      "glucose_level_binned[T.Interval(220, 240, closed='right')]     0.0217      0.021      1.029      0.304      -0.020       0.063\n",
      "glucose_level_binned[T.Interval(240, 260, closed='right')]     0.1597      0.037      4.371      0.000       0.088       0.231\n",
      "glucose_level_binned[T.Interval(260, 280, closed='right')]     0.0676      0.080      0.847      0.397      -0.089       0.224\n",
      "smoking_status[T.formerly smoked]                             -0.0438      0.046     -0.950      0.342      -0.134       0.047\n",
      "smoking_status[T.never smoked]                                -0.0603      0.034     -1.772      0.076      -0.127       0.006\n",
      "smoking_status[T.smokes]                                      -0.0592      0.044     -1.355      0.176      -0.145       0.026\n",
      "bmi                                                           -0.0015      0.001     -2.838      0.005      -0.003      -0.000\n",
      "I(imputed_bmi * age)                                        1.515e-05   2.44e-05      0.621      0.535   -3.27e-05     6.3e-05\n",
      "age                                                            0.0016      0.001      2.390      0.017       0.000       0.003\n",
      "hypertension                                                   0.0425      0.012      3.518      0.000       0.019       0.066\n",
      "imputed_bmi                                                   -0.0015      0.001     -2.838      0.005      -0.003      -0.000\n",
      "smoking_status[T.formerly smoked]:imputed_bmi                  0.0014      0.001      0.954      0.340      -0.002       0.004\n",
      "smoking_status[T.never smoked]:imputed_bmi                     0.0019      0.001      1.650      0.099      -0.000       0.004\n",
      "smoking_status[T.smokes]:imputed_bmi                           0.0020      0.001      1.396      0.163      -0.001       0.005\n",
      "==============================================================================\n",
      "Omnibus:                     2814.218   Durbin-Watson:                   1.997\n",
      "Prob(Omnibus):                  0.000   Jarque-Bera (JB):            46064.662\n",
      "Skew:                           4.033   Prob(JB):                         0.00\n",
      "Kurtosis:                      19.007   Cond. No.                     5.51e+17\n",
      "==============================================================================\n",
      "\n",
      "Notes:\n",
      "[1] Standard Errors assume that the covariance matrix of the errors is correctly specified.\n",
      "[2] The smallest eigenvalue is 2.58e-26. This might indicate that there are\n",
      "strong multicollinearity problems or that the design matrix is singular.\n",
      "Classification accuracy = 50.1%\n",
      "Precision = 9.7%\n",
      "TPR or Recall = 90.3%\n",
      "FNR = 9.7%\n",
      "FPR = 52.3%\n",
      "ROC-AUC = 83.4%\n",
      "F1 = 0.17445482866043616\n",
      "model number 13\n",
      "                            OLS Regression Results                            \n",
      "==============================================================================\n",
      "Dep. Variable:                 stroke   R-squared:                       0.078\n",
      "Model:                            OLS   Adj. R-squared:                  0.074\n",
      "Method:                 Least Squares   F-statistic:                     17.11\n",
      "Date:                Sun, 12 Mar 2023   Prob (F-statistic):           1.63e-49\n",
      "Time:                        20:06:18   Log-Likelihood:                 768.98\n",
      "No. Observations:                3441   AIC:                            -1502.\n",
      "Df Residuals:                    3423   BIC:                            -1391.\n",
      "Df Model:                          17                                         \n",
      "Covariance Type:            nonrobust                                         \n",
      "==============================================================================================================================\n",
      "                                                                 coef    std err          t      P>|t|      [0.025      0.975]\n",
      "------------------------------------------------------------------------------------------------------------------------------\n",
      "Intercept                                                      0.0024      0.025      0.095      0.925      -0.046       0.051\n",
      "glucose_level_binned[T.Interval(140, 160, closed='right')]    -0.0121      0.019     -0.623      0.533      -0.050       0.026\n",
      "glucose_level_binned[T.Interval(160, 180, closed='right')]     0.0830      0.027      3.043      0.002       0.030       0.137\n",
      "glucose_level_binned[T.Interval(180, 200, closed='right')]     0.0733      0.020      3.596      0.000       0.033       0.113\n",
      "glucose_level_binned[T.Interval(200, 220, closed='right')]     0.0130      0.017      0.773      0.439      -0.020       0.046\n",
      "glucose_level_binned[T.Interval(220, 240, closed='right')]     0.0205      0.021      0.977      0.329      -0.021       0.062\n",
      "glucose_level_binned[T.Interval(240, 260, closed='right')]     0.1566      0.036      4.292      0.000       0.085       0.228\n",
      "glucose_level_binned[T.Interval(260, 280, closed='right')]     0.0619      0.080      0.777      0.437      -0.094       0.218\n",
      "smoking_status[T.formerly smoked]                             -0.0466      0.029     -1.617      0.106      -0.103       0.010\n",
      "smoking_status[T.never smoked]                                -0.0581      0.018     -3.223      0.001      -0.093      -0.023\n",
      "smoking_status[T.smokes]                                      -0.0770      0.028     -2.743      0.006      -0.132      -0.022\n",
      "bmi                                                           -0.0008      0.001     -0.768      0.443      -0.003       0.001\n",
      "I(imputed_bmi * age)                                        9.343e-07   2.37e-05      0.039      0.969   -4.56e-05    4.74e-05\n",
      "age                                                            0.0011      0.001      1.815      0.070   -9.05e-05       0.002\n",
      "smoking_status[T.formerly smoked]:age                          0.0011      0.001      2.055      0.040    5.08e-05       0.002\n",
      "smoking_status[T.never smoked]:age                             0.0013      0.000      3.429      0.001       0.001       0.002\n",
      "smoking_status[T.smokes]:age                                   0.0018      0.001      3.124      0.002       0.001       0.003\n",
      "hypertension                                                   0.0385      0.012      3.177      0.002       0.015       0.062\n",
      "==============================================================================\n",
      "Omnibus:                     2802.875   Durbin-Watson:                   2.002\n",
      "Prob(Omnibus):                  0.000   Jarque-Bera (JB):            45556.677\n",
      "Skew:                           4.011   Prob(JB):                         0.00\n",
      "Kurtosis:                      18.918   Cond. No.                     3.64e+04\n",
      "==============================================================================\n",
      "\n",
      "Notes:\n",
      "[1] Standard Errors assume that the covariance matrix of the errors is correctly specified.\n",
      "[2] The condition number is large, 3.64e+04. This might indicate that there are\n",
      "strong multicollinearity or other numerical problems.\n"
     ]
    },
    {
     "name": "stdout",
     "output_type": "stream",
     "text": [
      "Classification accuracy = 52.6%\n",
      "Precision = 9.9%\n",
      "TPR or Recall = 90.2%\n",
      "FNR = 9.8%\n",
      "FPR = 49.7%\n",
      "ROC-AUC = 83.1%\n",
      "F1 = 0.17886178861788618\n",
      "model number 14\n",
      "                            OLS Regression Results                            \n",
      "==============================================================================\n",
      "Dep. Variable:                 stroke   R-squared:                       0.079\n",
      "Model:                            OLS   Adj. R-squared:                  0.072\n",
      "Method:                 Least Squares   F-statistic:                     12.66\n",
      "Date:                Sun, 12 Mar 2023   Prob (F-statistic):           4.46e-46\n",
      "Time:                        20:06:18   Log-Likelihood:                 769.31\n",
      "No. Observations:                3441   AIC:                            -1491.\n",
      "Df Residuals:                    3417   BIC:                            -1343.\n",
      "Df Model:                          23                                         \n",
      "Covariance Type:            nonrobust                                         \n",
      "==============================================================================================================================\n",
      "                                                                 coef    std err          t      P>|t|      [0.025      0.975]\n",
      "------------------------------------------------------------------------------------------------------------------------------\n",
      "Intercept                                                      0.0024      0.034      0.071      0.943      -0.064       0.069\n",
      "glucose_level_binned[T.Interval(140, 160, closed='right')]    -0.0122      0.019     -0.627      0.531      -0.050       0.026\n",
      "glucose_level_binned[T.Interval(160, 180, closed='right')]     0.0833      0.027      3.047      0.002       0.030       0.137\n",
      "glucose_level_binned[T.Interval(180, 200, closed='right')]     0.0732      0.020      3.584      0.000       0.033       0.113\n",
      "glucose_level_binned[T.Interval(200, 220, closed='right')]     0.0128      0.017      0.761      0.447      -0.020       0.046\n",
      "glucose_level_binned[T.Interval(220, 240, closed='right')]     0.0198      0.021      0.938      0.348      -0.022       0.061\n",
      "glucose_level_binned[T.Interval(240, 260, closed='right')]     0.1571      0.037      4.299      0.000       0.085       0.229\n",
      "glucose_level_binned[T.Interval(260, 280, closed='right')]     0.0621      0.080      0.779      0.436      -0.094       0.219\n",
      "smoking_status[T.formerly smoked]                             -0.0187      0.111     -0.169      0.866      -0.236       0.199\n",
      "smoking_status[T.never smoked]                                -0.0558      0.066     -0.848      0.396      -0.185       0.073\n",
      "smoking_status[T.smokes]                                      -0.1141      0.105     -1.088      0.277      -0.320       0.092\n",
      "bmi                                                           -0.0009      0.002     -0.567      0.571      -0.004       0.002\n",
      "smoking_status[T.formerly smoked]:bmi                         -0.0010      0.004     -0.245      0.807      -0.009       0.007\n",
      "smoking_status[T.never smoked]:bmi                         -5.231e-05      0.002     -0.021      0.983      -0.005       0.005\n",
      "smoking_status[T.smokes]:bmi                                   0.0013      0.004      0.356      0.722      -0.006       0.008\n",
      "I(imputed_bmi * age)                                       -5.476e-06   1.89e-05     -0.290      0.772   -4.25e-05    3.15e-05\n",
      "age                                                            0.0015      0.001      1.501      0.133      -0.000       0.003\n",
      "smoking_status[T.formerly smoked]:age                          0.0002      0.002      0.089      0.929      -0.004       0.005\n",
      "smoking_status[T.never smoked]:age                             0.0008      0.002      0.494      0.622      -0.002       0.004\n",
      "smoking_status[T.smokes]:age                                   0.0021      0.002      0.851      0.395      -0.003       0.007\n",
      "hypertension                                                   0.0381      0.012      3.144      0.002       0.014       0.062\n",
      "bmi:age                                                    -5.476e-06   1.89e-05     -0.290      0.772   -4.25e-05    3.15e-05\n",
      "smoking_status[T.formerly smoked]:bmi:age                    3.07e-05   7.79e-05      0.394      0.694      -0.000       0.000\n",
      "smoking_status[T.never smoked]:bmi:age                      1.778e-05   5.66e-05      0.314      0.753   -9.31e-05       0.000\n",
      "smoking_status[T.smokes]:bmi:age                           -9.289e-06   8.29e-05     -0.112      0.911      -0.000       0.000\n",
      "==============================================================================\n",
      "Omnibus:                     2802.313   Durbin-Watson:                   2.002\n",
      "Prob(Omnibus):                  0.000   Jarque-Bera (JB):            45526.193\n",
      "Skew:                           4.010   Prob(JB):                         0.00\n",
      "Kurtosis:                      18.912   Cond. No.                     6.02e+15\n",
      "==============================================================================\n",
      "\n",
      "Notes:\n",
      "[1] Standard Errors assume that the covariance matrix of the errors is correctly specified.\n",
      "[2] The smallest eigenvalue is 4.89e-22. This might indicate that there are\n",
      "strong multicollinearity problems or that the design matrix is singular.\n",
      "Classification accuracy = 53.0%\n",
      "Precision = 10.1%\n",
      "TPR or Recall = 91.8%\n",
      "FNR = 8.2%\n",
      "FPR = 49.3%\n",
      "ROC-AUC = 83.1%\n",
      "F1 = 0.18241042345276873\n",
      "model number 15\n",
      "                            OLS Regression Results                            \n",
      "==============================================================================\n",
      "Dep. Variable:                 stroke   R-squared:                       0.091\n",
      "Model:                            OLS   Adj. R-squared:                  0.082\n",
      "Method:                 Least Squares   F-statistic:                     10.06\n",
      "Date:                Sun, 12 Mar 2023   Prob (F-statistic):           1.08e-49\n",
      "Time:                        20:06:18   Log-Likelihood:                 793.32\n",
      "No. Observations:                3441   AIC:                            -1517.\n",
      "Df Residuals:                    3406   BIC:                            -1302.\n",
      "Df Model:                          34                                         \n",
      "Covariance Type:            nonrobust                                         \n",
      "================================================================================================================================================================\n",
      "                                                                                                   coef    std err          t      P>|t|      [0.025      0.975]\n",
      "----------------------------------------------------------------------------------------------------------------------------------------------------------------\n",
      "Intercept                                                                                        0.0132      0.025      0.537      0.591      -0.035       0.062\n",
      "glucose_level_binned[T.Interval(140, 160, closed='right')]                                       0.0046      0.033      0.139      0.889      -0.061       0.070\n",
      "glucose_level_binned[T.Interval(160, 180, closed='right')]                                       0.0614      0.061      0.999      0.318      -0.059       0.182\n",
      "glucose_level_binned[T.Interval(180, 200, closed='right')]                                      -0.0014      0.047     -0.029      0.977      -0.094       0.092\n",
      "glucose_level_binned[T.Interval(200, 220, closed='right')]                                       0.0250      0.044      0.566      0.571      -0.061       0.111\n",
      "glucose_level_binned[T.Interval(220, 240, closed='right')]                                      -0.0821      0.065     -1.262      0.207      -0.210       0.045\n",
      "glucose_level_binned[T.Interval(240, 260, closed='right')]                                      -0.0846      0.097     -0.872      0.383      -0.275       0.106\n",
      "glucose_level_binned[T.Interval(260, 280, closed='right')]                                       0.1743      0.066      2.653      0.008       0.045       0.303\n",
      "smoking_status[T.formerly smoked]                                                               -0.0081      0.012     -0.676      0.499      -0.032       0.015\n",
      "smoking_status[T.never smoked]                                                                  -0.0085      0.009     -0.905      0.365      -0.027       0.010\n",
      "smoking_status[T.smokes]                                                                        -0.0120      0.012     -1.023      0.306      -0.035       0.011\n",
      "smoking_status[T.formerly smoked]:glucose_level_binned[T.Interval(140, 160, closed='right')]    -0.0126      0.055     -0.229      0.819      -0.121       0.096\n",
      "smoking_status[T.never smoked]:glucose_level_binned[T.Interval(140, 160, closed='right')]       -0.0280      0.047     -0.596      0.552      -0.120       0.064\n",
      "smoking_status[T.smokes]:glucose_level_binned[T.Interval(140, 160, closed='right')]             -0.0453      0.062     -0.730      0.465      -0.167       0.076\n",
      "smoking_status[T.formerly smoked]:glucose_level_binned[T.Interval(160, 180, closed='right')]     0.1437      0.087      1.649      0.099      -0.027       0.314\n",
      "smoking_status[T.never smoked]:glucose_level_binned[T.Interval(160, 180, closed='right')]       -0.0116      0.075     -0.154      0.878      -0.159       0.136\n",
      "smoking_status[T.smokes]:glucose_level_binned[T.Interval(160, 180, closed='right')]             -0.0141      0.083     -0.169      0.866      -0.178       0.150\n",
      "smoking_status[T.formerly smoked]:glucose_level_binned[T.Interval(180, 200, closed='right')]     0.1442      0.066      2.173      0.030       0.014       0.274\n",
      "smoking_status[T.never smoked]:glucose_level_binned[T.Interval(180, 200, closed='right')]        0.0456      0.055      0.828      0.408      -0.062       0.154\n",
      "smoking_status[T.smokes]:glucose_level_binned[T.Interval(180, 200, closed='right')]              0.1912      0.072      2.652      0.008       0.050       0.333\n",
      "smoking_status[T.formerly smoked]:glucose_level_binned[T.Interval(200, 220, closed='right')]    -0.0224      0.053     -0.425      0.671      -0.126       0.081\n",
      "smoking_status[T.never smoked]:glucose_level_binned[T.Interval(200, 220, closed='right')]       -0.0456      0.051     -0.893      0.372      -0.146       0.055\n",
      "smoking_status[T.smokes]:glucose_level_binned[T.Interval(200, 220, closed='right')]              0.0840      0.059      1.421      0.155      -0.032       0.200\n",
      "smoking_status[T.formerly smoked]:glucose_level_binned[T.Interval(220, 240, closed='right')]     0.0372      0.076      0.489      0.625      -0.112       0.186\n",
      "smoking_status[T.never smoked]:glucose_level_binned[T.Interval(220, 240, closed='right')]        0.1759      0.072      2.459      0.014       0.036       0.316\n",
      "smoking_status[T.smokes]:glucose_level_binned[T.Interval(220, 240, closed='right')]              0.0891      0.081      1.107      0.269      -0.069       0.247\n",
      "smoking_status[T.formerly smoked]:glucose_level_binned[T.Interval(240, 260, closed='right')]     0.3540      0.125      2.825      0.005       0.108       0.600\n",
      "smoking_status[T.never smoked]:glucose_level_binned[T.Interval(240, 260, closed='right')]        0.2614      0.113      2.307      0.021       0.039       0.483\n",
      "smoking_status[T.smokes]:glucose_level_binned[T.Interval(240, 260, closed='right')]              0.2639      0.119      2.220      0.026       0.031       0.497\n",
      "smoking_status[T.formerly smoked]:glucose_level_binned[T.Interval(260, 280, closed='right')]    -0.2464      0.117     -2.107      0.035      -0.476      -0.017\n",
      "smoking_status[T.never smoked]:glucose_level_binned[T.Interval(260, 280, closed='right')]       -0.2849      0.103     -2.776      0.006      -0.486      -0.084\n",
      "smoking_status[T.smokes]:glucose_level_binned[T.Interval(260, 280, closed='right')]              0.7056      0.152      4.652      0.000       0.408       1.003\n",
      "bmi                                                                                             -0.0022      0.001     -2.185      0.029      -0.004      -0.000\n",
      "I(imputed_bmi * age)                                                                          2.312e-05   2.26e-05      1.021      0.307   -2.13e-05    6.75e-05\n",
      "age                                                                                              0.0014      0.001      2.205      0.028       0.000       0.003\n",
      "hypertension                                                                                     0.0448      0.012      3.707      0.000       0.021       0.068\n",
      "==============================================================================\n",
      "Omnibus:                     2800.355   Durbin-Watson:                   2.008\n",
      "Prob(Omnibus):                  0.000   Jarque-Bera (JB):            46146.867\n",
      "Skew:                           3.998   Prob(JB):                         0.00\n",
      "Kurtosis:                      19.060   Cond. No.                     1.16e+16\n",
      "==============================================================================\n",
      "\n",
      "Notes:\n",
      "[1] Standard Errors assume that the covariance matrix of the errors is correctly specified.\n",
      "[2] The smallest eigenvalue is 5.82e-23. This might indicate that there are\n",
      "strong multicollinearity problems or that the design matrix is singular.\n"
     ]
    },
    {
     "name": "stdout",
     "output_type": "stream",
     "text": [
      "Classification accuracy = 51.3%\n",
      "Precision = 9.4%\n",
      "TPR or Recall = 85.2%\n",
      "FNR = 14.8%\n",
      "FPR = 50.8%\n",
      "ROC-AUC = 81.3%\n",
      "F1 = 0.1691056910569106\n"
     ]
    },
    {
     "data": {
      "image/png": "[encoded data removed]",
      "text/plain": [
       "<Figure size 432x288 with 17 Axes>"
      ]
     },
     "metadata": {
      "needs_background": "light"
     },
     "output_type": "display_data"
    }
   ],
   "source": [
    "potential_interaction_cat = ['hypertension', 'heart_disease', 'Residence_type', 'smoking_status']\n",
    "quantitative_interaction = ['imputed_bmi', 'age', 'bmi*age', 'glucose_level_binned']\n",
    "formula_list = []\n",
    "i = 0\n",
    "# look for possible interactions with categorical variables\n",
    "for categorical_var in potential_interaction_cat:\n",
    "    for quantitative_var in quantitative_interaction:\n",
    "        var0 = categorical_var\n",
    "        var1 = quantitative_var\n",
    "        model_formula = 'stroke~bmi+I(imputed_bmi*age)+age+hypertension+glucose_level_binned+' + '+'.join([var0+\"*\"+var1])\n",
    "        formula_list.append(model_formula)\n",
    "        print(\"model number \" + str(i))\n",
    "        model = sm.ols(formula = model_formula, data=train).fit()\n",
    "        print(model.summary())\n",
    "        confusion_matrix_data(test.dropna(),test.dropna().stroke,model,cutoff=0.05)\n",
    "        i = i + 1"
   ]
  },
  {
   "cell_type": "code",
   "execution_count": 157,
   "id": "c6437276",
   "metadata": {},
   "outputs": [
    {
     "name": "stdout",
     "output_type": "stream",
     "text": [
      "stroke~bmi+I(imputed_bmi*age)+age+hypertension+glucose_level_binned+heart_disease*age\n",
      "stroke~bmi+I(imputed_bmi*age)+age+hypertension+glucose_level_binned+heart_disease*bmi*age\n",
      "stroke~bmi+I(imputed_bmi*age)+age+hypertension+glucose_level_binned+smoking_status*bmi*age\n"
     ]
    }
   ],
   "source": [
    "# Looking closer at models that gave an F1 greater than 0.18\n",
    "print(formula_list[5])\n",
    "print(formula_list[6])\n",
    "print(formula_list[14])"
   ]
  },
  {
   "cell_type": "markdown",
   "id": "6f099353",
   "metadata": {},
   "source": [
    "Only the 5th formula worked, as the other formulas had too many iterations to retrieve."
   ]
  },
  {
   "cell_type": "code",
   "execution_count": 158,
   "id": "54dbfa1d",
   "metadata": {
    "scrolled": true
   },
   "outputs": [
    {
     "name": "stdout",
     "output_type": "stream",
     "text": [
      "Optimization terminated successfully.\n",
      "         Current function value: 0.136899\n",
      "         Iterations 10\n"
     ]
    },
    {
     "data": {
      "text/html": [
       "<table class=\"simpletable\">\n",
       "<caption>Logit Regression Results</caption>\n",
       "<tr>\n",
       "  <th>Dep. Variable:</th>        <td>stroke</td>      <th>  No. Observations:  </th>  <td>  3441</td>  \n",
       "</tr>\n",
       "<tr>\n",
       "  <th>Model:</th>                 <td>Logit</td>      <th>  Df Residuals:      </th>  <td>  3427</td>  \n",
       "</tr>\n",
       "<tr>\n",
       "  <th>Method:</th>                 <td>MLE</td>       <th>  Df Model:          </th>  <td>    13</td>  \n",
       "</tr>\n",
       "<tr>\n",
       "  <th>Date:</th>            <td>Sun, 12 Mar 2023</td> <th>  Pseudo R-squ.:     </th>  <td>0.2203</td>  \n",
       "</tr>\n",
       "<tr>\n",
       "  <th>Time:</th>                <td>20:06:27</td>     <th>  Log-Likelihood:    </th> <td> -471.07</td> \n",
       "</tr>\n",
       "<tr>\n",
       "  <th>converged:</th>             <td>True</td>       <th>  LL-Null:           </th> <td> -604.20</td> \n",
       "</tr>\n",
       "<tr>\n",
       "  <th>Covariance Type:</th>     <td>nonrobust</td>    <th>  LLR p-value:       </th> <td>2.647e-49</td>\n",
       "</tr>\n",
       "</table>\n",
       "<table class=\"simpletable\">\n",
       "<tr>\n",
       "                               <td></td>                                 <th>coef</th>     <th>std err</th>      <th>z</th>      <th>P>|z|</th>  <th>[0.025</th>    <th>0.975]</th>  \n",
       "</tr>\n",
       "<tr>\n",
       "  <th>Intercept</th>                                                  <td>  -10.2653</td> <td>    1.340</td> <td>   -7.662</td> <td> 0.000</td> <td>  -12.891</td> <td>   -7.639</td>\n",
       "</tr>\n",
       "<tr>\n",
       "  <th>glucose_level_binned[T.Interval(140, 160, closed='right')]</th> <td>   -0.5320</td> <td>    0.738</td> <td>   -0.721</td> <td> 0.471</td> <td>   -1.979</td> <td>    0.915</td>\n",
       "</tr>\n",
       "<tr>\n",
       "  <th>glucose_level_binned[T.Interval(160, 180, closed='right')]</th> <td>    1.2979</td> <td>    0.469</td> <td>    2.767</td> <td> 0.006</td> <td>    0.379</td> <td>    2.217</td>\n",
       "</tr>\n",
       "<tr>\n",
       "  <th>glucose_level_binned[T.Interval(180, 200, closed='right')]</th> <td>    0.9011</td> <td>    0.329</td> <td>    2.738</td> <td> 0.006</td> <td>    0.256</td> <td>    1.546</td>\n",
       "</tr>\n",
       "<tr>\n",
       "  <th>glucose_level_binned[T.Interval(200, 220, closed='right')]</th> <td>    0.1119</td> <td>    0.328</td> <td>    0.341</td> <td> 0.733</td> <td>   -0.531</td> <td>    0.755</td>\n",
       "</tr>\n",
       "<tr>\n",
       "  <th>glucose_level_binned[T.Interval(220, 240, closed='right')]</th> <td>    0.2305</td> <td>    0.387</td> <td>    0.596</td> <td> 0.551</td> <td>   -0.528</td> <td>    0.989</td>\n",
       "</tr>\n",
       "<tr>\n",
       "  <th>glucose_level_binned[T.Interval(240, 260, closed='right')]</th> <td>    1.2368</td> <td>    0.484</td> <td>    2.558</td> <td> 0.011</td> <td>    0.289</td> <td>    2.184</td>\n",
       "</tr>\n",
       "<tr>\n",
       "  <th>glucose_level_binned[T.Interval(260, 280, closed='right')]</th> <td>    0.7335</td> <td>    1.149</td> <td>    0.638</td> <td> 0.523</td> <td>   -1.518</td> <td>    2.985</td>\n",
       "</tr>\n",
       "<tr>\n",
       "  <th>bmi</th>                                                        <td>    0.0888</td> <td>    0.038</td> <td>    2.349</td> <td> 0.019</td> <td>    0.015</td> <td>    0.163</td>\n",
       "</tr>\n",
       "<tr>\n",
       "  <th>I(imputed_bmi * age)</th>                                       <td>   -0.0013</td> <td>    0.001</td> <td>   -2.064</td> <td> 0.039</td> <td>   -0.003</td> <td>-6.51e-05</td>\n",
       "</tr>\n",
       "<tr>\n",
       "  <th>age</th>                                                        <td>    0.1119</td> <td>    0.021</td> <td>    5.354</td> <td> 0.000</td> <td>    0.071</td> <td>    0.153</td>\n",
       "</tr>\n",
       "<tr>\n",
       "  <th>hypertension</th>                                               <td>    0.4128</td> <td>    0.213</td> <td>    1.938</td> <td> 0.053</td> <td>   -0.005</td> <td>    0.830</td>\n",
       "</tr>\n",
       "<tr>\n",
       "  <th>heart_disease</th>                                              <td>    1.3987</td> <td>    1.855</td> <td>    0.754</td> <td> 0.451</td> <td>   -2.237</td> <td>    5.034</td>\n",
       "</tr>\n",
       "<tr>\n",
       "  <th>heart_disease:age</th>                                          <td>   -0.0123</td> <td>    0.026</td> <td>   -0.481</td> <td> 0.630</td> <td>   -0.062</td> <td>    0.038</td>\n",
       "</tr>\n",
       "</table>"
      ],
      "text/plain": [
       "<class 'statsmodels.iolib.summary.Summary'>\n",
       "\"\"\"\n",
       "                           Logit Regression Results                           \n",
       "==============================================================================\n",
       "Dep. Variable:                 stroke   No. Observations:                 3441\n",
       "Model:                          Logit   Df Residuals:                     3427\n",
       "Method:                           MLE   Df Model:                           13\n",
       "Date:                Sun, 12 Mar 2023   Pseudo R-squ.:                  0.2203\n",
       "Time:                        20:06:27   Log-Likelihood:                -471.07\n",
       "converged:                       True   LL-Null:                       -604.20\n",
       "Covariance Type:            nonrobust   LLR p-value:                 2.647e-49\n",
       "==============================================================================================================================\n",
       "                                                                 coef    std err          z      P>|z|      [0.025      0.975]\n",
       "------------------------------------------------------------------------------------------------------------------------------\n",
       "Intercept                                                    -10.2653      1.340     -7.662      0.000     -12.891      -7.639\n",
       "glucose_level_binned[T.Interval(140, 160, closed='right')]    -0.5320      0.738     -0.721      0.471      -1.979       0.915\n",
       "glucose_level_binned[T.Interval(160, 180, closed='right')]     1.2979      0.469      2.767      0.006       0.379       2.217\n",
       "glucose_level_binned[T.Interval(180, 200, closed='right')]     0.9011      0.329      2.738      0.006       0.256       1.546\n",
       "glucose_level_binned[T.Interval(200, 220, closed='right')]     0.1119      0.328      0.341      0.733      -0.531       0.755\n",
       "glucose_level_binned[T.Interval(220, 240, closed='right')]     0.2305      0.387      0.596      0.551      -0.528       0.989\n",
       "glucose_level_binned[T.Interval(240, 260, closed='right')]     1.2368      0.484      2.558      0.011       0.289       2.184\n",
       "glucose_level_binned[T.Interval(260, 280, closed='right')]     0.7335      1.149      0.638      0.523      -1.518       2.985\n",
       "bmi                                                            0.0888      0.038      2.349      0.019       0.015       0.163\n",
       "I(imputed_bmi * age)                                          -0.0013      0.001     -2.064      0.039      -0.003   -6.51e-05\n",
       "age                                                            0.1119      0.021      5.354      0.000       0.071       0.153\n",
       "hypertension                                                   0.4128      0.213      1.938      0.053      -0.005       0.830\n",
       "heart_disease                                                  1.3987      1.855      0.754      0.451      -2.237       5.034\n",
       "heart_disease:age                                             -0.0123      0.026     -0.481      0.630      -0.062       0.038\n",
       "==============================================================================================================================\n",
       "\"\"\""
      ]
     },
     "execution_count": 158,
     "metadata": {},
     "output_type": "execute_result"
    }
   ],
   "source": [
    "logit_model7 = sm.logit(formula = formula_list[5], data = train).fit()\n",
    "logit_model7.summary()"
   ]
  },
  {
   "cell_type": "code",
   "execution_count": 159,
   "id": "645d215f",
   "metadata": {},
   "outputs": [
    {
     "name": "stdout",
     "output_type": "stream",
     "text": [
      "Classification accuracy = 81.3%\n",
      "Precision = 15.4%\n",
      "TPR or Recall = 74.6%\n",
      "FNR = 25.4%\n",
      "FPR = 18.4%\n",
      "ROC-AUC = 83.8%\n",
      "F1 = 0.25474254742547425\n"
     ]
    },
    {
     "data": {
      "image/png": "[encoded data removed]",
      "text/plain": [
       "<Figure size 432x288 with 2 Axes>"
      ]
     },
     "metadata": {
      "needs_background": "light"
     },
     "output_type": "display_data"
    }
   ],
   "source": [
    "confusion_matrix_data(test.dropna(),test.dropna().stroke,logit_model7,cutoff=0.06)"
   ]
  },
  {
   "cell_type": "code",
   "execution_count": 160,
   "id": "98d063f9",
   "metadata": {},
   "outputs": [
    {
     "name": "stdout",
     "output_type": "stream",
     "text": [
      "Classification accuracy = 86.6%\n",
      "Precision = 18.1%\n",
      "TPR or Recall = 60.3%\n",
      "FNR = 39.7%\n",
      "FPR = 12.2%\n",
      "ROC-AUC = 83.8%\n",
      "F1 = 0.2783882783882784\n"
     ]
    },
    {
     "data": {
      "image/png": "[encoded data removed]",
      "text/plain": [
       "<Figure size 432x288 with 2 Axes>"
      ]
     },
     "metadata": {
      "needs_background": "light"
     },
     "output_type": "display_data"
    }
   ],
   "source": [
    "confusion_matrix_data(test.dropna(),test.dropna().stroke,logit_model7,cutoff=0.1)"
   ]
  },
  {
   "cell_type": "code",
   "execution_count": 74,
   "id": "5a2a626e",
   "metadata": {},
   "outputs": [
    {
     "name": "stdout",
     "output_type": "stream",
     "text": [
      "Classification accuracy = 86.4%\n",
      "Precision = 17.8%\n",
      "TPR or Recall = 60.3%\n",
      "FNR = 39.7%\n",
      "FPR = 12.5%\n",
      "ROC-AUC = 84.0%\n",
      "F1 = 0.27536231884057966\n"
     ]
    },
    {
     "data": {
      "image/png": "[encoded data removed]",
      "text/plain": [
       "<Figure size 432x288 with 2 Axes>"
      ]
     },
     "metadata": {
      "needs_background": "light"
     },
     "output_type": "display_data"
    }
   ],
   "source": [
    "# Versus original\n",
    "confusion_matrix_data(test.dropna(),test.dropna().stroke,logit_model,cutoff=0.1)"
   ]
  },
  {
   "cell_type": "code",
   "execution_count": 104,
   "id": "0883b7f5",
   "metadata": {},
   "outputs": [
    {
     "name": "stdout",
     "output_type": "stream",
     "text": [
      "Classification accuracy = 73.0%\n",
      "Precision = 11.5%\n",
      "TPR or Recall = 79.4%\n",
      "FNR = 20.6%\n",
      "FPR = 27.3%\n",
      "ROC-AUC = 84.0%\n",
      "F1 = 0.2016129032258064\n"
     ]
    },
    {
     "data": {
      "image/png": "[encoded data removed]",
      "text/plain": [
       "<Figure size 432x288 with 2 Axes>"
      ]
     },
     "metadata": {
      "needs_background": "light"
     },
     "output_type": "display_data"
    }
   ],
   "source": [
    "# versus original\n",
    "confusion_matrix_data(test.dropna(),test.dropna().stroke,logit_model,cutoff=0.04)"
   ]
  },
  {
   "cell_type": "code",
   "execution_count": 176,
   "id": "0ebba8ea",
   "metadata": {},
   "outputs": [
    {
     "name": "stdout",
     "output_type": "stream",
     "text": [
      "Optimization terminated successfully.\n",
      "         Current function value: 0.147017\n",
      "         Iterations 13\n"
     ]
    },
    {
     "data": {
      "text/html": [
       "<table class=\"simpletable\">\n",
       "<caption>Logit Regression Results</caption>\n",
       "<tr>\n",
       "  <th>Dep. Variable:</th>        <td>stroke</td>      <th>  No. Observations:  </th>  <td>  3577</td>  \n",
       "</tr>\n",
       "<tr>\n",
       "  <th>Model:</th>                 <td>Logit</td>      <th>  Df Residuals:      </th>  <td>  3561</td>  \n",
       "</tr>\n",
       "<tr>\n",
       "  <th>Method:</th>                 <td>MLE</td>       <th>  Df Model:          </th>  <td>    15</td>  \n",
       "</tr>\n",
       "<tr>\n",
       "  <th>Date:</th>            <td>Sun, 12 Mar 2023</td> <th>  Pseudo R-squ.:     </th>  <td>0.2309</td>  \n",
       "</tr>\n",
       "<tr>\n",
       "  <th>Time:</th>                <td>20:09:12</td>     <th>  Log-Likelihood:    </th> <td> -525.88</td> \n",
       "</tr>\n",
       "<tr>\n",
       "  <th>converged:</th>             <td>True</td>       <th>  LL-Null:           </th> <td> -683.80</td> \n",
       "</tr>\n",
       "<tr>\n",
       "  <th>Covariance Type:</th>     <td>nonrobust</td>    <th>  LLR p-value:       </th> <td>2.841e-58</td>\n",
       "</tr>\n",
       "</table>\n",
       "<table class=\"simpletable\">\n",
       "<tr>\n",
       "                               <td></td>                                 <th>coef</th>     <th>std err</th>      <th>z</th>      <th>P>|z|</th>  <th>[0.025</th>    <th>0.975]</th>  \n",
       "</tr>\n",
       "<tr>\n",
       "  <th>Intercept</th>                                                  <td>  -32.4198</td> <td>   10.562</td> <td>   -3.069</td> <td> 0.002</td> <td>  -53.122</td> <td>  -11.718</td>\n",
       "</tr>\n",
       "<tr>\n",
       "  <th>glucose_level_binned[T.Interval(140, 160, closed='right')]</th> <td>   -0.6494</td> <td>    0.737</td> <td>   -0.882</td> <td> 0.378</td> <td>   -2.093</td> <td>    0.794</td>\n",
       "</tr>\n",
       "<tr>\n",
       "  <th>glucose_level_binned[T.Interval(160, 180, closed='right')]</th> <td>    1.3146</td> <td>    0.421</td> <td>    3.124</td> <td> 0.002</td> <td>    0.490</td> <td>    2.139</td>\n",
       "</tr>\n",
       "<tr>\n",
       "  <th>glucose_level_binned[T.Interval(180, 200, closed='right')]</th> <td>    0.9122</td> <td>    0.301</td> <td>    3.033</td> <td> 0.002</td> <td>    0.323</td> <td>    1.502</td>\n",
       "</tr>\n",
       "<tr>\n",
       "  <th>glucose_level_binned[T.Interval(200, 220, closed='right')]</th> <td>   -0.0654</td> <td>    0.312</td> <td>   -0.209</td> <td> 0.834</td> <td>   -0.678</td> <td>    0.547</td>\n",
       "</tr>\n",
       "<tr>\n",
       "  <th>glucose_level_binned[T.Interval(220, 240, closed='right')]</th> <td>    0.1676</td> <td>    0.365</td> <td>    0.459</td> <td> 0.646</td> <td>   -0.548</td> <td>    0.883</td>\n",
       "</tr>\n",
       "<tr>\n",
       "  <th>glucose_level_binned[T.Interval(240, 260, closed='right')]</th> <td>    1.0471</td> <td>    0.472</td> <td>    2.218</td> <td> 0.027</td> <td>    0.122</td> <td>    1.972</td>\n",
       "</tr>\n",
       "<tr>\n",
       "  <th>glucose_level_binned[T.Interval(260, 280, closed='right')]</th> <td>    0.5765</td> <td>    1.114</td> <td>    0.518</td> <td> 0.605</td> <td>   -1.606</td> <td>    2.759</td>\n",
       "</tr>\n",
       "<tr>\n",
       "  <th>imputed_bmi</th>                                                <td>    0.1199</td> <td>    0.070</td> <td>    1.712</td> <td> 0.087</td> <td>   -0.017</td> <td>    0.257</td>\n",
       "</tr>\n",
       "<tr>\n",
       "  <th>I(imputed_bmi * age)</th>                                       <td>   -0.0017</td> <td>    0.001</td> <td>   -1.536</td> <td> 0.124</td> <td>   -0.004</td> <td>    0.000</td>\n",
       "</tr>\n",
       "<tr>\n",
       "  <th>age</th>                                                        <td>    1.1896</td> <td>    0.525</td> <td>    2.268</td> <td> 0.023</td> <td>    0.161</td> <td>    2.218</td>\n",
       "</tr>\n",
       "<tr>\n",
       "  <th>hypertension</th>                                               <td>    1.2594</td> <td>    0.939</td> <td>    1.341</td> <td> 0.180</td> <td>   -0.582</td> <td>    3.100</td>\n",
       "</tr>\n",
       "<tr>\n",
       "  <th>I(age ** 2)</th>                                                <td>   -0.0171</td> <td>    0.009</td> <td>   -1.964</td> <td> 0.050</td> <td>   -0.034</td> <td>-3.55e-05</td>\n",
       "</tr>\n",
       "<tr>\n",
       "  <th>I(age ** 3)</th>                                                <td> 8.896e-05</td> <td> 4.73e-05</td> <td>    1.881</td> <td> 0.060</td> <td>-3.75e-06</td> <td>    0.000</td>\n",
       "</tr>\n",
       "<tr>\n",
       "  <th>I(age * heart_disease * imputed_bmi)</th>                       <td>    0.0002</td> <td>    0.000</td> <td>    2.098</td> <td> 0.036</td> <td> 1.43e-05</td> <td>    0.000</td>\n",
       "</tr>\n",
       "<tr>\n",
       "  <th>I(imputed_bmi * hypertension)</th>                              <td>   -0.0324</td> <td>    0.030</td> <td>   -1.085</td> <td> 0.278</td> <td>   -0.091</td> <td>    0.026</td>\n",
       "</tr>\n",
       "</table><br/><br/>Possibly complete quasi-separation: A fraction 0.26 of observations can be<br/>perfectly predicted. This might indicate that there is complete<br/>quasi-separation. In this case some parameters will not be identified."
      ],
      "text/plain": [
       "<class 'statsmodels.iolib.summary.Summary'>\n",
       "\"\"\"\n",
       "                           Logit Regression Results                           \n",
       "==============================================================================\n",
       "Dep. Variable:                 stroke   No. Observations:                 3577\n",
       "Model:                          Logit   Df Residuals:                     3561\n",
       "Method:                           MLE   Df Model:                           15\n",
       "Date:                Sun, 12 Mar 2023   Pseudo R-squ.:                  0.2309\n",
       "Time:                        20:09:12   Log-Likelihood:                -525.88\n",
       "converged:                       True   LL-Null:                       -683.80\n",
       "Covariance Type:            nonrobust   LLR p-value:                 2.841e-58\n",
       "==============================================================================================================================\n",
       "                                                                 coef    std err          z      P>|z|      [0.025      0.975]\n",
       "------------------------------------------------------------------------------------------------------------------------------\n",
       "Intercept                                                    -32.4198     10.562     -3.069      0.002     -53.122     -11.718\n",
       "glucose_level_binned[T.Interval(140, 160, closed='right')]    -0.6494      0.737     -0.882      0.378      -2.093       0.794\n",
       "glucose_level_binned[T.Interval(160, 180, closed='right')]     1.3146      0.421      3.124      0.002       0.490       2.139\n",
       "glucose_level_binned[T.Interval(180, 200, closed='right')]     0.9122      0.301      3.033      0.002       0.323       1.502\n",
       "glucose_level_binned[T.Interval(200, 220, closed='right')]    -0.0654      0.312     -0.209      0.834      -0.678       0.547\n",
       "glucose_level_binned[T.Interval(220, 240, closed='right')]     0.1676      0.365      0.459      0.646      -0.548       0.883\n",
       "glucose_level_binned[T.Interval(240, 260, closed='right')]     1.0471      0.472      2.218      0.027       0.122       1.972\n",
       "glucose_level_binned[T.Interval(260, 280, closed='right')]     0.5765      1.114      0.518      0.605      -1.606       2.759\n",
       "imputed_bmi                                                    0.1199      0.070      1.712      0.087      -0.017       0.257\n",
       "I(imputed_bmi * age)                                          -0.0017      0.001     -1.536      0.124      -0.004       0.000\n",
       "age                                                            1.1896      0.525      2.268      0.023       0.161       2.218\n",
       "hypertension                                                   1.2594      0.939      1.341      0.180      -0.582       3.100\n",
       "I(age ** 2)                                                   -0.0171      0.009     -1.964      0.050      -0.034   -3.55e-05\n",
       "I(age ** 3)                                                 8.896e-05   4.73e-05      1.881      0.060   -3.75e-06       0.000\n",
       "I(age * heart_disease * imputed_bmi)                           0.0002      0.000      2.098      0.036    1.43e-05       0.000\n",
       "I(imputed_bmi * hypertension)                                 -0.0324      0.030     -1.085      0.278      -0.091       0.026\n",
       "==============================================================================================================================\n",
       "\n",
       "Possibly complete quasi-separation: A fraction 0.26 of observations can be\n",
       "perfectly predicted. This might indicate that there is complete\n",
       "quasi-separation. In this case some parameters will not be identified.\n",
       "\"\"\""
      ]
     },
     "execution_count": 176,
     "metadata": {},
     "output_type": "execute_result"
    }
   ],
   "source": [
    "logit_model8 = sm.logit(formula = \"stroke~imputed_bmi+I(imputed_bmi*age)+age+hypertension+glucose_level_binned+I(age**2)+I(age**3)+I(age*heart_disease*imputed_bmi)+I(imputed_bmi*hypertension)\", data = train).fit()\n",
    "logit_model8.summary()"
   ]
  },
  {
   "cell_type": "code",
   "execution_count": 177,
   "id": "00e521d5",
   "metadata": {},
   "outputs": [
    {
     "name": "stdout",
     "output_type": "stream",
     "text": [
      "Classification accuracy = 77.0%\n",
      "Precision = 12.9%\n",
      "TPR or Recall = 76.2%\n",
      "FNR = 23.8%\n",
      "FPR = 23.0%\n",
      "ROC-AUC = 83.0%\n",
      "F1 = 0.22119815668202764\n"
     ]
    },
    {
     "data": {
      "image/png": "[encoded data removed]",
      "text/plain": [
       "<Figure size 432x288 with 2 Axes>"
      ]
     },
     "metadata": {
      "needs_background": "light"
     },
     "output_type": "display_data"
    }
   ],
   "source": [
    "confusion_matrix_data(test.dropna(),test.dropna().stroke,logit_model8,cutoff=0.06)"
   ]
  },
  {
   "cell_type": "code",
   "execution_count": null,
   "id": "4e795afa",
   "metadata": {},
   "outputs": [],
   "source": []
  }
 ],
 "metadata": {
  "kernelspec": {
   "display_name": "Python 3 (ipykernel)",
   "language": "python",
   "name": "python3"
  },
  "language_info": {
   "codemirror_mode": {
    "name": "ipython",
    "version": 3
   },
   "file_extension": ".py",
   "mimetype": "text/x-python",
   "name": "python",
   "nbconvert_exporter": "python",
   "pygments_lexer": "ipython3",
   "version": "3.9.12"
  }
 },
 "nbformat": 4,
 "nbformat_minor": 5
}
