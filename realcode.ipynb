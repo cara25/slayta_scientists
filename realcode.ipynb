{
 "cells": [
  {
   "cell_type": "code",
   "execution_count": 1,
   "id": "7cd2fe61",
   "metadata": {
    "scrolled": true
   },
   "outputs": [
    {
     "name": "stdout",
     "output_type": "stream",
     "text": [
      "Collecting group-lasso\n",
      "  Downloading group_lasso-1.5.0-py3-none-any.whl (33 kB)\n",
      "Requirement already satisfied: scikit-learn in /Users/caraannechang/opt/anaconda3/lib/python3.9/site-packages (from group-lasso) (0.24.2)\n",
      "Requirement already satisfied: numpy in /Users/caraannechang/opt/anaconda3/lib/python3.9/site-packages (from group-lasso) (1.20.3)\n",
      "Requirement already satisfied: joblib>=0.11 in /Users/caraannechang/opt/anaconda3/lib/python3.9/site-packages (from scikit-learn->group-lasso) (1.1.0)\n",
      "Requirement already satisfied: threadpoolctl>=2.0.0 in /Users/caraannechang/opt/anaconda3/lib/python3.9/site-packages (from scikit-learn->group-lasso) (2.2.0)\n",
      "Requirement already satisfied: scipy>=0.19.1 in /Users/caraannechang/opt/anaconda3/lib/python3.9/site-packages (from scikit-learn->group-lasso) (1.7.1)\n",
      "Installing collected packages: group-lasso\n",
      "Successfully installed group-lasso-1.5.0\n",
      "Note: you may need to restart the kernel to use updated packages.\n"
     ]
    }
   ],
   "source": [
    "pip install group-lasso"
   ]
  },
  {
   "cell_type": "code",
   "execution_count": 157,
   "id": "16c6a6a6",
   "metadata": {},
   "outputs": [],
   "source": [
    "from group_lasso import LogisticGroupLasso"
   ]
  },
  {
   "cell_type": "code",
   "execution_count": 158,
   "id": "135cfb01",
   "metadata": {
    "scrolled": true
   },
   "outputs": [
    {
     "data": {
      "text/html": [
       "<div>\n",
       "<style scoped>\n",
       "    .dataframe tbody tr th:only-of-type {\n",
       "        vertical-align: middle;\n",
       "    }\n",
       "\n",
       "    .dataframe tbody tr th {\n",
       "        vertical-align: top;\n",
       "    }\n",
       "\n",
       "    .dataframe thead th {\n",
       "        text-align: right;\n",
       "    }\n",
       "</style>\n",
       "<table border=\"1\" class=\"dataframe\">\n",
       "  <thead>\n",
       "    <tr style=\"text-align: right;\">\n",
       "      <th></th>\n",
       "      <th>id</th>\n",
       "      <th>gender</th>\n",
       "      <th>age</th>\n",
       "      <th>hypertension</th>\n",
       "      <th>heart_disease</th>\n",
       "      <th>ever_married</th>\n",
       "      <th>work_type</th>\n",
       "      <th>Residence_type</th>\n",
       "      <th>avg_glucose_level</th>\n",
       "      <th>bmi</th>\n",
       "      <th>smoking_status</th>\n",
       "      <th>stroke</th>\n",
       "    </tr>\n",
       "  </thead>\n",
       "  <tbody>\n",
       "    <tr>\n",
       "      <th>0</th>\n",
       "      <td>9046</td>\n",
       "      <td>Male</td>\n",
       "      <td>67.0</td>\n",
       "      <td>0</td>\n",
       "      <td>1</td>\n",
       "      <td>Yes</td>\n",
       "      <td>Private</td>\n",
       "      <td>Urban</td>\n",
       "      <td>228.69</td>\n",
       "      <td>36.6</td>\n",
       "      <td>formerly smoked</td>\n",
       "      <td>1</td>\n",
       "    </tr>\n",
       "    <tr>\n",
       "      <th>1</th>\n",
       "      <td>51676</td>\n",
       "      <td>Female</td>\n",
       "      <td>61.0</td>\n",
       "      <td>0</td>\n",
       "      <td>0</td>\n",
       "      <td>Yes</td>\n",
       "      <td>Self-employed</td>\n",
       "      <td>Rural</td>\n",
       "      <td>202.21</td>\n",
       "      <td>NaN</td>\n",
       "      <td>never smoked</td>\n",
       "      <td>1</td>\n",
       "    </tr>\n",
       "    <tr>\n",
       "      <th>2</th>\n",
       "      <td>31112</td>\n",
       "      <td>Male</td>\n",
       "      <td>80.0</td>\n",
       "      <td>0</td>\n",
       "      <td>1</td>\n",
       "      <td>Yes</td>\n",
       "      <td>Private</td>\n",
       "      <td>Rural</td>\n",
       "      <td>105.92</td>\n",
       "      <td>32.5</td>\n",
       "      <td>never smoked</td>\n",
       "      <td>1</td>\n",
       "    </tr>\n",
       "    <tr>\n",
       "      <th>3</th>\n",
       "      <td>60182</td>\n",
       "      <td>Female</td>\n",
       "      <td>49.0</td>\n",
       "      <td>0</td>\n",
       "      <td>0</td>\n",
       "      <td>Yes</td>\n",
       "      <td>Private</td>\n",
       "      <td>Urban</td>\n",
       "      <td>171.23</td>\n",
       "      <td>34.4</td>\n",
       "      <td>smokes</td>\n",
       "      <td>1</td>\n",
       "    </tr>\n",
       "    <tr>\n",
       "      <th>4</th>\n",
       "      <td>1665</td>\n",
       "      <td>Female</td>\n",
       "      <td>79.0</td>\n",
       "      <td>1</td>\n",
       "      <td>0</td>\n",
       "      <td>Yes</td>\n",
       "      <td>Self-employed</td>\n",
       "      <td>Rural</td>\n",
       "      <td>174.12</td>\n",
       "      <td>24.0</td>\n",
       "      <td>never smoked</td>\n",
       "      <td>1</td>\n",
       "    </tr>\n",
       "  </tbody>\n",
       "</table>\n",
       "</div>"
      ],
      "text/plain": [
       "      id  gender   age  hypertension  heart_disease ever_married  \\\n",
       "0   9046    Male  67.0             0              1          Yes   \n",
       "1  51676  Female  61.0             0              0          Yes   \n",
       "2  31112    Male  80.0             0              1          Yes   \n",
       "3  60182  Female  49.0             0              0          Yes   \n",
       "4   1665  Female  79.0             1              0          Yes   \n",
       "\n",
       "       work_type Residence_type  avg_glucose_level   bmi   smoking_status  \\\n",
       "0        Private          Urban             228.69  36.6  formerly smoked   \n",
       "1  Self-employed          Rural             202.21   NaN     never smoked   \n",
       "2        Private          Rural             105.92  32.5     never smoked   \n",
       "3        Private          Urban             171.23  34.4           smokes   \n",
       "4  Self-employed          Rural             174.12  24.0     never smoked   \n",
       "\n",
       "   stroke  \n",
       "0       1  \n",
       "1       1  \n",
       "2       1  \n",
       "3       1  \n",
       "4       1  "
      ]
     },
     "execution_count": 158,
     "metadata": {},
     "output_type": "execute_result"
    }
   ],
   "source": [
    "import pandas as pd\n",
    "import numpy as np\n",
    "import seaborn as sns\n",
    "import matplotlib.pyplot as plt\n",
    "import statsmodels.formula.api as sm\n",
    "import sklearn as sk\n",
    "from sklearn.metrics import roc_curve, auc\n",
    "from sklearn import metrics\n",
    "from sklearn import impute\n",
    "\n",
    "strokedata = pd.read_csv('healthcare-dataset-stroke-data.csv')\n",
    "strokedata.head()"
   ]
  },
  {
   "cell_type": "markdown",
   "id": "ecb4ad4c",
   "metadata": {},
   "source": [
    "# EDA and Imputation"
   ]
  },
  {
   "cell_type": "code",
   "execution_count": 159,
   "id": "0c856ca1",
   "metadata": {},
   "outputs": [
    {
     "data": {
      "text/plain": [
       "5110"
      ]
     },
     "execution_count": 159,
     "metadata": {},
     "output_type": "execute_result"
    }
   ],
   "source": [
    "strokedata.shape[0]"
   ]
  },
  {
   "cell_type": "code",
   "execution_count": 160,
   "id": "1a2f290c",
   "metadata": {},
   "outputs": [
    {
     "name": "stdout",
     "output_type": "stream",
     "text": [
      "<class 'pandas.core.frame.DataFrame'>\n",
      "RangeIndex: 5110 entries, 0 to 5109\n",
      "Data columns (total 12 columns):\n",
      " #   Column             Non-Null Count  Dtype  \n",
      "---  ------             --------------  -----  \n",
      " 0   id                 5110 non-null   int64  \n",
      " 1   gender             5110 non-null   object \n",
      " 2   age                5110 non-null   float64\n",
      " 3   hypertension       5110 non-null   int64  \n",
      " 4   heart_disease      5110 non-null   int64  \n",
      " 5   ever_married       5110 non-null   object \n",
      " 6   work_type          5110 non-null   object \n",
      " 7   Residence_type     5110 non-null   object \n",
      " 8   avg_glucose_level  5110 non-null   float64\n",
      " 9   bmi                4909 non-null   float64\n",
      " 10  smoking_status     5110 non-null   object \n",
      " 11  stroke             5110 non-null   int64  \n",
      "dtypes: float64(3), int64(4), object(5)\n",
      "memory usage: 479.2+ KB\n"
     ]
    }
   ],
   "source": [
    "strokedata.info()"
   ]
  },
  {
   "cell_type": "markdown",
   "id": "5010ce6f",
   "metadata": {},
   "source": [
    "Since the BMI non-null count is 4909, which is less than the number of observations, this column has null values, and the other columns do not have null values."
   ]
  },
  {
   "cell_type": "code",
   "execution_count": 161,
   "id": "6db3e5d7",
   "metadata": {},
   "outputs": [
    {
     "data": {
      "text/plain": [
       "0    161\n",
       "1     40\n",
       "Name: stroke, dtype: int64"
      ]
     },
     "execution_count": 161,
     "metadata": {},
     "output_type": "execute_result"
    }
   ],
   "source": [
    "strokedata.loc[strokedata['bmi'].isnull()].stroke.value_counts()"
   ]
  },
  {
   "cell_type": "code",
   "execution_count": 162,
   "id": "e68f5115",
   "metadata": {},
   "outputs": [],
   "source": [
    "# Create a copy of the bmi column for imputation\n",
    "strokedata['imputed_bmi'] = strokedata['bmi']\n",
    "# Create a column that will say if bmi has been imputed or not\n",
    "strokedata['bmi_original'] = 'no'"
   ]
  },
  {
   "cell_type": "code",
   "execution_count": 163,
   "id": "65a1b31c",
   "metadata": {},
   "outputs": [],
   "source": [
    "strokedata.loc[strokedata['bmi'].isnull(), 'bmi_original'] = 'yes'"
   ]
  },
  {
   "cell_type": "code",
   "execution_count": 164,
   "id": "44e4066a",
   "metadata": {},
   "outputs": [
    {
     "data": {
      "text/html": [
       "<div>\n",
       "<style scoped>\n",
       "    .dataframe tbody tr th:only-of-type {\n",
       "        vertical-align: middle;\n",
       "    }\n",
       "\n",
       "    .dataframe tbody tr th {\n",
       "        vertical-align: top;\n",
       "    }\n",
       "\n",
       "    .dataframe thead th {\n",
       "        text-align: right;\n",
       "    }\n",
       "</style>\n",
       "<table border=\"1\" class=\"dataframe\">\n",
       "  <thead>\n",
       "    <tr style=\"text-align: right;\">\n",
       "      <th></th>\n",
       "      <th>id</th>\n",
       "      <th>gender</th>\n",
       "      <th>age</th>\n",
       "      <th>hypertension</th>\n",
       "      <th>heart_disease</th>\n",
       "      <th>ever_married</th>\n",
       "      <th>work_type</th>\n",
       "      <th>Residence_type</th>\n",
       "      <th>avg_glucose_level</th>\n",
       "      <th>bmi</th>\n",
       "      <th>smoking_status</th>\n",
       "      <th>stroke</th>\n",
       "      <th>imputed_bmi</th>\n",
       "      <th>bmi_original</th>\n",
       "    </tr>\n",
       "  </thead>\n",
       "  <tbody>\n",
       "    <tr>\n",
       "      <th>0</th>\n",
       "      <td>9046</td>\n",
       "      <td>Male</td>\n",
       "      <td>67.0</td>\n",
       "      <td>0</td>\n",
       "      <td>1</td>\n",
       "      <td>Yes</td>\n",
       "      <td>Private</td>\n",
       "      <td>Urban</td>\n",
       "      <td>228.69</td>\n",
       "      <td>36.6</td>\n",
       "      <td>formerly smoked</td>\n",
       "      <td>1</td>\n",
       "      <td>36.6</td>\n",
       "      <td>no</td>\n",
       "    </tr>\n",
       "    <tr>\n",
       "      <th>1</th>\n",
       "      <td>51676</td>\n",
       "      <td>Female</td>\n",
       "      <td>61.0</td>\n",
       "      <td>0</td>\n",
       "      <td>0</td>\n",
       "      <td>Yes</td>\n",
       "      <td>Self-employed</td>\n",
       "      <td>Rural</td>\n",
       "      <td>202.21</td>\n",
       "      <td>NaN</td>\n",
       "      <td>never smoked</td>\n",
       "      <td>1</td>\n",
       "      <td>NaN</td>\n",
       "      <td>yes</td>\n",
       "    </tr>\n",
       "    <tr>\n",
       "      <th>2</th>\n",
       "      <td>31112</td>\n",
       "      <td>Male</td>\n",
       "      <td>80.0</td>\n",
       "      <td>0</td>\n",
       "      <td>1</td>\n",
       "      <td>Yes</td>\n",
       "      <td>Private</td>\n",
       "      <td>Rural</td>\n",
       "      <td>105.92</td>\n",
       "      <td>32.5</td>\n",
       "      <td>never smoked</td>\n",
       "      <td>1</td>\n",
       "      <td>32.5</td>\n",
       "      <td>no</td>\n",
       "    </tr>\n",
       "    <tr>\n",
       "      <th>3</th>\n",
       "      <td>60182</td>\n",
       "      <td>Female</td>\n",
       "      <td>49.0</td>\n",
       "      <td>0</td>\n",
       "      <td>0</td>\n",
       "      <td>Yes</td>\n",
       "      <td>Private</td>\n",
       "      <td>Urban</td>\n",
       "      <td>171.23</td>\n",
       "      <td>34.4</td>\n",
       "      <td>smokes</td>\n",
       "      <td>1</td>\n",
       "      <td>34.4</td>\n",
       "      <td>no</td>\n",
       "    </tr>\n",
       "    <tr>\n",
       "      <th>4</th>\n",
       "      <td>1665</td>\n",
       "      <td>Female</td>\n",
       "      <td>79.0</td>\n",
       "      <td>1</td>\n",
       "      <td>0</td>\n",
       "      <td>Yes</td>\n",
       "      <td>Self-employed</td>\n",
       "      <td>Rural</td>\n",
       "      <td>174.12</td>\n",
       "      <td>24.0</td>\n",
       "      <td>never smoked</td>\n",
       "      <td>1</td>\n",
       "      <td>24.0</td>\n",
       "      <td>no</td>\n",
       "    </tr>\n",
       "  </tbody>\n",
       "</table>\n",
       "</div>"
      ],
      "text/plain": [
       "      id  gender   age  hypertension  heart_disease ever_married  \\\n",
       "0   9046    Male  67.0             0              1          Yes   \n",
       "1  51676  Female  61.0             0              0          Yes   \n",
       "2  31112    Male  80.0             0              1          Yes   \n",
       "3  60182  Female  49.0             0              0          Yes   \n",
       "4   1665  Female  79.0             1              0          Yes   \n",
       "\n",
       "       work_type Residence_type  avg_glucose_level   bmi   smoking_status  \\\n",
       "0        Private          Urban             228.69  36.6  formerly smoked   \n",
       "1  Self-employed          Rural             202.21   NaN     never smoked   \n",
       "2        Private          Rural             105.92  32.5     never smoked   \n",
       "3        Private          Urban             171.23  34.4           smokes   \n",
       "4  Self-employed          Rural             174.12  24.0     never smoked   \n",
       "\n",
       "   stroke  imputed_bmi bmi_original  \n",
       "0       1         36.6           no  \n",
       "1       1          NaN          yes  \n",
       "2       1         32.5           no  \n",
       "3       1         34.4           no  \n",
       "4       1         24.0           no  "
      ]
     },
     "execution_count": 164,
     "metadata": {},
     "output_type": "execute_result"
    }
   ],
   "source": [
    "strokedata.head()"
   ]
  },
  {
   "cell_type": "code",
   "execution_count": 165,
   "id": "4b5a5a82",
   "metadata": {},
   "outputs": [
    {
     "data": {
      "text/plain": [
       "0    4861\n",
       "1     249\n",
       "Name: stroke, dtype: int64"
      ]
     },
     "execution_count": 165,
     "metadata": {},
     "output_type": "execute_result"
    }
   ],
   "source": [
    "strokedata['stroke'].value_counts()"
   ]
  },
  {
   "cell_type": "markdown",
   "id": "15e3da1f",
   "metadata": {},
   "source": [
    "If we remove our BMI data, we lose about 1/6 of our overall data, so we will proceed to impute the data through KNN. First, we need to create a subset of the numeric columns and scale the data."
   ]
  },
  {
   "cell_type": "code",
   "execution_count": 166,
   "id": "329da3c5",
   "metadata": {},
   "outputs": [],
   "source": [
    "import sklearn as sk\n",
    "from sklearn import preprocessing\n",
    "\n",
    "#Considering numeric columns in the data to use KNN\n",
    "num_cols = [2, 8, 12] # age and avg_glucose_level and imputed_bmi\n",
    "\n",
    "#Create an object of type MinMaxScaler\n",
    "scaler = sk.preprocessing.MinMaxScaler()\n",
    "\n",
    "#Use the object method 'fit_transform' to scale the values to a standard uniform distribution\n",
    "scaled_data = pd.DataFrame(scaler.fit_transform(strokedata.iloc[:,num_cols]))"
   ]
  },
  {
   "cell_type": "code",
   "execution_count": 167,
   "id": "498dc7f4",
   "metadata": {},
   "outputs": [
    {
     "data": {
      "text/html": [
       "<div>\n",
       "<style scoped>\n",
       "    .dataframe tbody tr th:only-of-type {\n",
       "        vertical-align: middle;\n",
       "    }\n",
       "\n",
       "    .dataframe tbody tr th {\n",
       "        vertical-align: top;\n",
       "    }\n",
       "\n",
       "    .dataframe thead th {\n",
       "        text-align: right;\n",
       "    }\n",
       "</style>\n",
       "<table border=\"1\" class=\"dataframe\">\n",
       "  <thead>\n",
       "    <tr style=\"text-align: right;\">\n",
       "      <th></th>\n",
       "      <th>0</th>\n",
       "      <th>1</th>\n",
       "      <th>2</th>\n",
       "    </tr>\n",
       "  </thead>\n",
       "  <tbody>\n",
       "    <tr>\n",
       "      <th>0</th>\n",
       "      <td>0.816895</td>\n",
       "      <td>0.801265</td>\n",
       "      <td>0.301260</td>\n",
       "    </tr>\n",
       "    <tr>\n",
       "      <th>1</th>\n",
       "      <td>0.743652</td>\n",
       "      <td>0.679023</td>\n",
       "      <td>NaN</td>\n",
       "    </tr>\n",
       "    <tr>\n",
       "      <th>2</th>\n",
       "      <td>0.975586</td>\n",
       "      <td>0.234512</td>\n",
       "      <td>0.254296</td>\n",
       "    </tr>\n",
       "    <tr>\n",
       "      <th>3</th>\n",
       "      <td>0.597168</td>\n",
       "      <td>0.536008</td>\n",
       "      <td>0.276060</td>\n",
       "    </tr>\n",
       "    <tr>\n",
       "      <th>4</th>\n",
       "      <td>0.963379</td>\n",
       "      <td>0.549349</td>\n",
       "      <td>0.156930</td>\n",
       "    </tr>\n",
       "  </tbody>\n",
       "</table>\n",
       "</div>"
      ],
      "text/plain": [
       "          0         1         2\n",
       "0  0.816895  0.801265  0.301260\n",
       "1  0.743652  0.679023       NaN\n",
       "2  0.975586  0.234512  0.254296\n",
       "3  0.597168  0.536008  0.276060\n",
       "4  0.963379  0.549349  0.156930"
      ]
     },
     "execution_count": 167,
     "metadata": {},
     "output_type": "execute_result"
    }
   ],
   "source": [
    "scaled_data.head()"
   ]
  },
  {
   "cell_type": "code",
   "execution_count": 168,
   "id": "5b5089a3",
   "metadata": {},
   "outputs": [],
   "source": [
    "#Imputing missing values with KNNImputer\n",
    "\n",
    "#Define an object of type KNNImputer\n",
    "imputer = impute.KNNImputer(n_neighbors=3, weights=\"uniform\")\n",
    "\n",
    "#Use the object method 'fit_transform' to impute missing values\n",
    "imputed_arr = imputer.fit_transform(scaled_data)\n",
    "\n",
    "#Scaling back the scaled array to obtain the data at the original scale\n",
    "\n",
    "#Use the object method 'inverse_transform' to scale back the values to the original scale of the data\n",
    "unscaled_data = scaler.inverse_transform(imputed_arr)"
   ]
  },
  {
   "cell_type": "code",
   "execution_count": 169,
   "id": "1aeaf433",
   "metadata": {},
   "outputs": [],
   "source": [
    "#Note the method imputes the missing value of all the columns\n",
    "#However, we are interested in imputing the missing values of only the 'imputed_bmi' column\n",
    "\n",
    "strokedata.loc[:,'imputed_bmi'] = unscaled_data[:,2]"
   ]
  },
  {
   "cell_type": "code",
   "execution_count": 176,
   "id": "0e7cdbb6",
   "metadata": {},
   "outputs": [
    {
     "data": {
      "text/plain": [
       "0"
      ]
     },
     "execution_count": 176,
     "metadata": {},
     "output_type": "execute_result"
    }
   ],
   "source": [
    "# Check that we imputed the values\n",
    "\n",
    "strokedata['imputed_bmi'].isnull().sum()"
   ]
  },
  {
   "cell_type": "markdown",
   "id": "3072b309",
   "metadata": {},
   "source": [
    "We successfully imputed the values of `bmi` using `age` and `avg_glucose_level` using KNN."
   ]
  },
  {
   "cell_type": "markdown",
   "id": "12fdde1b",
   "metadata": {},
   "source": [
    "# Creating test and training data frame"
   ]
  },
  {
   "cell_type": "code",
   "execution_count": 171,
   "id": "4cab18da",
   "metadata": {},
   "outputs": [],
   "source": [
    "np.random.seed(2)\n",
    "train = strokedata.sample(round(strokedata.shape[0]*0.7))\n",
    "test = strokedata.drop(train.index)"
   ]
  },
  {
   "cell_type": "markdown",
   "id": "badd82f7",
   "metadata": {},
   "source": [
    "Train data consists of [3577 rows x 12 columns]  and test data consists of [1533 rows x 12 columns]"
   ]
  },
  {
   "cell_type": "markdown",
   "id": "3d5addbd",
   "metadata": {},
   "source": [
    "# Dummy Variables"
   ]
  },
  {
   "cell_type": "code",
   "execution_count": 172,
   "id": "779c4ade",
   "metadata": {},
   "outputs": [
    {
     "name": "stdout",
     "output_type": "stream",
     "text": [
      "(1533, 25)\n",
      "(3577, 26)\n"
     ]
    },
    {
     "data": {
      "text/plain": [
       "array(['Female', 'Male', 'Other'], dtype=object)"
      ]
     },
     "execution_count": 172,
     "metadata": {},
     "output_type": "execute_result"
    }
   ],
   "source": [
    "traind = pd.get_dummies(train)\n",
    "traind.head()\n",
    "testd = strokedata.drop(traind.index)\n",
    "testd = pd.get_dummies(testd)\n",
    "print(testd.shape)\n",
    "print(traind.shape)\n",
    "testd.head()\n",
    "train['gender'].unique()"
   ]
  },
  {
   "cell_type": "markdown",
   "id": "44532045",
   "metadata": {},
   "source": [
    "# Helper Function Creation "
   ]
  },
  {
   "cell_type": "code",
   "execution_count": 183,
   "id": "71181924",
   "metadata": {},
   "outputs": [],
   "source": [
    "#helper functions\n",
    "\n",
    "#variable transformations\n",
    "def var_transform(data):\n",
    "    duration_binned = pd.qcut(train['duration'], 8, retbins = True)\n",
    "    bins = duration_binned[1]\n",
    "    data['duration_binned'] = pd.cut(data['duration'], bins = bins)\n",
    "    return data\n",
    "\n",
    "#jitter the values\n",
    "def jitter(values,j):\n",
    "    return values + np.random.normal(j,0.02,values.shape)\n",
    "\n",
    "#Function to compute confusion matrix and prediction accuracy on training data\n",
    "def confusion_matrix_train(model,cutoff=0.5):\n",
    "    # Confusion matrix\n",
    "    cm_df = pd.DataFrame(model.pred_table(threshold = cutoff))\n",
    "    #Formatting the confusion matrix\n",
    "    cm_df.columns = ['Predicted 0', 'Predicted 1'] \n",
    "    cm_df = cm_df.rename(index={0: 'Actual 0',1: 'Actual 1'})\n",
    "    cm = np.array(cm_df)\n",
    "    # Calculate the accuracy\n",
    "    accuracy = (cm[0,0]+cm[1,1])/cm.sum()\n",
    "    sns.heatmap(cm_df, annot=True, cmap='Blues', fmt='g')\n",
    "    plt.ylabel(\"Actual Values\")\n",
    "    plt.xlabel(\"Predicted Values\")\n",
    "    print(\"Classification accuracy = {:.1%}\".format(accuracy))\n",
    "\n",
    "#Function to compute confusion matrix and prediction accuracy on test data\n",
    "#Function to compute confusion matrix and prediction accuracy on test data\n",
    "def confusion_matrix_test(data,actual_values,model,cutoff=0.5):\n",
    "#Predict the values using the Logit model\n",
    "    pred_values = model.predict(data)\n",
    "# Specify the bins\n",
    "    bins=np.array([0,cutoff,1])\n",
    "#Confusion matrix\n",
    "    cm = np.histogram2d(actual_values, pred_values, bins=bins)[0]\n",
    "    cm_df = pd.DataFrame(cm)\n",
    "    cm_df.columns = ['Predicted 0','Predicted 1']\n",
    "    cm_df = cm_df.rename(index={0: 'Actual 0',1:'Actual 1'})\n",
    "    accuracy = (cm[0,0]+cm[1,1])/cm.sum()\n",
    "    sns.heatmap(cm_df, annot=True, cmap='Blues', fmt='g')\n",
    "    plt.ylabel(\"Actual Values\")\n",
    "    plt.xlabel(\"Predicted Values\")\n",
    "    print(\"Classification accuracy = {:.1%}\".format(accuracy))\n",
    "    \n",
    "#Function to compute confusion matrix and prediction accuracy on test/train data\n",
    "def confusion_matrix_data(data,actual_values,model,cutoff=0.5):\n",
    "#Predict the values using the Logit model\n",
    "    pred_values = model.predict(data)\n",
    "# Specify the bins\n",
    "    bins=np.array([0,cutoff,1])\n",
    "#Confusion matrix\n",
    "    cm = np.histogram2d(actual_values, pred_values, bins=bins)[0]\n",
    "    cm_df = pd.DataFrame(cm)\n",
    "    cm_df.columns = ['Predicted 0','Predicted 1']\n",
    "    cm_df = cm_df.rename(index={0: 'Actual 0',1:'Actual 1'})\n",
    "# Calculate the accuracy\n",
    "    accuracy = (cm[0,0]+cm[1,1])/cm.sum()\n",
    "    fnr = (cm[1,0])/(cm[1,0]+cm[1,1])\n",
    "    precision = (cm[1,1])/(cm[0,1]+cm[1,1])\n",
    "    fpr = (cm[0,1])/(cm[0,0]+cm[0,1])\n",
    "    tpr = (cm[1,1])/(cm[1,0]+cm[1,1])\n",
    "    f1 = 2*(precision*tpr) / (precision + tpr)\n",
    "    fpr_roc, tpr_roc, auc_thresholds = roc_curve(actual_values, pred_values)\n",
    "    auc_value = (auc(fpr_roc, tpr_roc))# AUC of ROC\n",
    "    sns.heatmap(cm_df, annot=True, cmap='Blues', fmt='g')\n",
    "    plt.ylabel(\"Actual Values\")\n",
    "    plt.xlabel(\"Predicted Values\")\n",
    "    print(\"Classification accuracy = {:.1%}\".format(accuracy))\n",
    "    print(\"Precision = {:.1%}\".format(precision))\n",
    "    print(\"TPR or Recall = {:.1%}\".format(tpr))\n",
    "    print(\"FNR = {:.1%}\".format(fnr))\n",
    "    print(\"FPR = {:.1%}\".format(fpr))\n",
    "    print(\"ROC-AUC = {:.1%}\".format(auc_value))\n",
    "    print(\"F1 = \" + str(f1))\n",
    "    \n",
    "#plotting roc\n",
    "def plot_roc_curve(fpr, tpr, label=None):\n",
    "    plt.figure(figsize=(8,8))\n",
    "    plt.title('ROC Curve')\n",
    "    plt.plot(fpr, tpr, linewidth=2, label=label)\n",
    "    plt.plot([0, 1], [0, 1], 'k--')\n",
    "    plt.axis([-0.005, 1, 0, 1.005])\n",
    "    plt.xticks(np.arange(0,1, 0.05), rotation=90)\n",
    "    plt.xlabel(\"False Positive Rate\")\n",
    "    plt.ylabel(\"True Positive Rate (Recall)\")\n",
    "    "
   ]
  },
  {
   "cell_type": "code",
   "execution_count": 178,
   "id": "b9e7fd81",
   "metadata": {},
   "outputs": [],
   "source": [
    "from sklearn.metrics import precision_recall_curve\n",
    "y = train.stroke # True response values\n",
    "ypred = logit_model.predict(train) # predicted response values\n",
    "\n",
    "#to call:\n",
    "#p, r, thresholds = precision_recall_curve(y, ypred)\n",
    "\n",
    "def plot_precision_recall_vs_threshold(precisions, recalls, thresholds):\n",
    "    plt.figure(figsize=(8, 8))\n",
    "    plt.title(\"Precision and Recall Scores as a function of the decision threshold\")\n",
    "    plt.plot(thresholds, precisions[:-1], \"b--\", label=\"Precision\")\n",
    "    plt.plot(thresholds, recalls[:-1], \"g-\", label=\"Recall\")\n",
    "    plt.ylabel(\"Score\")\n",
    "    plt.xlabel(\"Decision Threshold\")\n",
    "    plt.legend(loc='best')\n",
    "    plt.legend()\n",
    "# to call:\n",
    "# plot_precision_recall_vs_threshold(p, r, thresholds)"
   ]
  },
  {
   "cell_type": "markdown",
   "id": "0d856ab6",
   "metadata": {},
   "source": [
    "# VIF Test"
   ]
  },
  {
   "cell_type": "code",
   "execution_count": 175,
   "id": "dafeb2c0",
   "metadata": {},
   "outputs": [
    {
     "data": {
      "text/plain": [
       "Index(['id', 'age', 'hypertension', 'heart_disease', 'avg_glucose_level',\n",
       "       'bmi', 'stroke', 'imputed_bmi', 'gender_Female', 'gender_Male',\n",
       "       'gender_Other', 'ever_married_No', 'ever_married_Yes',\n",
       "       'work_type_Govt_job', 'work_type_Never_worked', 'work_type_Private',\n",
       "       'work_type_Self-employed', 'work_type_children', 'Residence_type_Rural',\n",
       "       'Residence_type_Urban', 'smoking_status_Unknown',\n",
       "       'smoking_status_formerly smoked', 'smoking_status_never smoked',\n",
       "       'smoking_status_smokes', 'bmi_original_no', 'bmi_original_yes'],\n",
       "      dtype='object')"
      ]
     },
     "execution_count": 175,
     "metadata": {},
     "output_type": "execute_result"
    }
   ],
   "source": [
    "traind.columns"
   ]
  },
  {
   "cell_type": "code",
   "execution_count": 20,
   "id": "8038e8ea",
   "metadata": {
    "scrolled": false
   },
   "outputs": [
    {
     "name": "stdout",
     "output_type": "stream",
     "text": [
      "                           feature       VIF\n",
      "0                            const  0.000000\n",
      "1                              age  2.834028\n",
      "2                     hypertension  1.117608\n",
      "3                    heart_disease  1.114110\n",
      "4                avg_glucose_level  1.105810\n",
      "5                      imputed_bmi  1.326531\n",
      "6                    gender_Female       inf\n",
      "7                      gender_Male       inf\n",
      "8                     gender_Other       inf\n",
      "9                  ever_married_No       inf\n",
      "10                ever_married_Yes       inf\n",
      "11              work_type_Govt_job       inf\n",
      "12          work_type_Never_worked       inf\n",
      "13               work_type_Private       inf\n",
      "14         work_type_Self-employed       inf\n",
      "15              work_type_children       inf\n",
      "16            Residence_type_Rural       inf\n",
      "17            Residence_type_Urban       inf\n",
      "18          smoking_status_Unknown       inf\n",
      "19  smoking_status_formerly smoked       inf\n",
      "20     smoking_status_never smoked       inf\n",
      "21           smoking_status_smokes       inf\n"
     ]
    },
    {
     "name": "stderr",
     "output_type": "stream",
     "text": [
      "/Users/caraannechang/opt/anaconda3/lib/python3.9/site-packages/statsmodels/tsa/tsatools.py:142: FutureWarning: In a future version of pandas all arguments of concat except for the argument 'objs' will be keyword-only\n",
      "  x = pd.concat(x[::order], 1)\n",
      "/Users/caraannechang/opt/anaconda3/lib/python3.9/site-packages/statsmodels/regression/linear_model.py:1715: RuntimeWarning: divide by zero encountered in double_scalars\n",
      "  return 1 - self.ssr/self.centered_tss\n",
      "/Users/caraannechang/opt/anaconda3/lib/python3.9/site-packages/statsmodels/stats/outliers_influence.py:193: RuntimeWarning: divide by zero encountered in double_scalars\n",
      "  vif = 1. / (1. - r_squared_i)\n"
     ]
    }
   ],
   "source": [
    "predictors = ['age', 'hypertension', 'heart_disease', 'avg_glucose_level',\n",
    "           'imputed_bmi', 'gender_Female', 'gender_Male',\n",
    "       'gender_Other', 'ever_married_No', 'ever_married_Yes',\n",
    "       'work_type_Govt_job', 'work_type_Never_worked', 'work_type_Private',\n",
    "       'work_type_Self-employed', 'work_type_children', 'Residence_type_Rural',\n",
    "       'Residence_type_Urban', 'smoking_status_Unknown',\n",
    "       'smoking_status_formerly smoked', 'smoking_status_never smoked',\n",
    "       'smoking_status_smokes']\n",
    "X = traind[predictors] \n",
    "\n",
    "from statsmodels.stats.outliers_influence import variance_inflation_factor\n",
    "from statsmodels.tools.tools import add_constant\n",
    "\n",
    "X = add_constant(X)\n",
    "vif_data = pd.DataFrame()\n",
    "vif_data[\"feature\"] = X.columns\n",
    "\n",
    "for i in range(len(X.columns)):\n",
    "    vif_data.loc[i,'VIF'] = variance_inflation_factor(X.values, i)\n",
    "\n",
    "print(vif_data)"
   ]
  },
  {
   "cell_type": "markdown",
   "id": "7eeea9fc",
   "metadata": {},
   "source": [
    "All of the collinear variables are due to associations between dummy categories."
   ]
  },
  {
   "cell_type": "markdown",
   "id": "b36cf4b8",
   "metadata": {},
   "source": [
    "# Examining the Distribution of the Target Column"
   ]
  },
  {
   "cell_type": "code",
   "execution_count": 21,
   "id": "2287e2fa",
   "metadata": {
    "scrolled": true
   },
   "outputs": [
    {
     "data": {
      "text/plain": [
       "0    3407\n",
       "1     170\n",
       "Name: stroke, dtype: int64"
      ]
     },
     "execution_count": 21,
     "metadata": {},
     "output_type": "execute_result"
    }
   ],
   "source": [
    "train.stroke.value_counts()"
   ]
  },
  {
   "cell_type": "code",
   "execution_count": 22,
   "id": "cea16855",
   "metadata": {},
   "outputs": [
    {
     "data": {
      "image/png": "[encoded data removed]",
      "text/plain": [
       "<Figure size 432x288 with 1 Axes>"
      ]
     },
     "metadata": {
      "needs_background": "light"
     },
     "output_type": "display_data"
    }
   ],
   "source": [
    "sns.countplot(x = 'stroke',data = train);"
   ]
  },
  {
   "cell_type": "markdown",
   "id": "e0c90484",
   "metadata": {},
   "source": [
    "# Lasso Selection"
   ]
  },
  {
   "cell_type": "code",
   "execution_count": 23,
   "id": "b3d73143",
   "metadata": {},
   "outputs": [],
   "source": [
    "y=traind.stroke"
   ]
  },
  {
   "cell_type": "code",
   "execution_count": 24,
   "id": "8157c820",
   "metadata": {},
   "outputs": [],
   "source": [
    "from sklearn.linear_model import Ridge, RidgeCV, Lasso, LassoCV\n",
    "from sklearn.preprocessing import StandardScaler \n",
    "from sklearn.metrics import r2_score\n",
    "\n",
    "#Standardizing predictors so that each of them have zero mean and unit variance\n",
    "\n",
    "#Defining a scaler object\n",
    "scalerr = StandardScaler()\n",
    "\n",
    "#The scaler object will contain the mean and variance of each column (predictor) of X. \n",
    "#These values will be useful to scale test data based on the same mean and variance as obtained on train data\n",
    "scalerr.fit(X)\n",
    "\n",
    "#Using the scaler object (or the values of mean and variance stored in it) to standardize X (or train data)\n",
    "Xstd = scalerr.transform(X)"
   ]
  },
  {
   "cell_type": "code",
   "execution_count": 25,
   "id": "2dea1eea",
   "metadata": {},
   "outputs": [],
   "source": [
    "#Creating a range of values of the tuning parameter to visualize the lasso coefficients\n",
    "#for different values of the tuning parameter\n",
    "alphas = 10**np.linspace(10,-2,100)*0.1"
   ]
  },
  {
   "cell_type": "code",
   "execution_count": 26,
   "id": "36d46e3c",
   "metadata": {},
   "outputs": [],
   "source": [
    "#Finding the ridge regression coefficients for increasing values of the tuning parameter\n",
    "#Finding the lasso coefficients for increasing values of the tuning parameter\n",
    "lasso = Lasso(max_iter = 10000)\n",
    "coefs = []\n",
    "\n",
    "for a in alphas:\n",
    "    lasso.set_params(alpha=a)\n",
    "    lasso.fit(Xstd, y)\n",
    "    coefs.append(lasso.coef_)"
   ]
  },
  {
   "cell_type": "code",
   "execution_count": 27,
   "id": "ff89acbf",
   "metadata": {},
   "outputs": [
    {
     "data": {
      "text/plain": [
       "Text(0, 0.5, 'Standardized coefficient')"
      ]
     },
     "execution_count": 27,
     "metadata": {},
     "output_type": "execute_result"
    },
    {
     "data": {
      "image/png": "[encoded data removed]",
      "text/plain": [
       "<Figure size 432x288 with 1 Axes>"
      ]
     },
     "metadata": {
      "needs_background": "light"
     },
     "output_type": "display_data"
    }
   ],
   "source": [
    "#Visualizing the shrinkage in lasso coefficients with increasing values of the tuning parameter lambda\n",
    "plt.xlabel('xlabel', fontsize=18)\n",
    "plt.ylabel('ylabel', fontsize=18)\n",
    "plt.plot(alphas, coefs)\n",
    "plt.xscale('log')\n",
    "plt.xlabel('$\\lambda$')\n",
    "plt.ylabel('Standardized coefficient')"
   ]
  },
  {
   "cell_type": "code",
   "execution_count": 28,
   "id": "ed5d5d04",
   "metadata": {},
   "outputs": [
    {
     "data": {
      "text/plain": [
       "0.0013524798652315671"
      ]
     },
     "execution_count": 28,
     "metadata": {},
     "output_type": "execute_result"
    }
   ],
   "source": [
    "#Let us use cross validation to find the optimal value of the tuning parameter - lambda\n",
    "#For the optimal lambda, the cross validation error will be the least\n",
    "\n",
    "#Note that we are reducing the range of alpha so as to better visualize the minimum\n",
    "alphas = 10**np.linspace(-1,-5,200)*0.5\n",
    "lassocv = LassoCV(alphas = alphas, cv = 10, max_iter = 100000)\n",
    "lassocv.fit(Xstd, y)\n",
    "\n",
    "#Optimal value of the tuning parameter - lamda\n",
    "lassocv.alpha_"
   ]
  },
  {
   "cell_type": "markdown",
   "id": "c517bf43",
   "metadata": {},
   "source": [
    "The 10-fold cross validation error minimizes at lambda = 0.001."
   ]
  },
  {
   "cell_type": "code",
   "execution_count": 29,
   "id": "dfabb749",
   "metadata": {},
   "outputs": [
    {
     "name": "stdout",
     "output_type": "stream",
     "text": [
      "age 0.0\n",
      "hypertension 0.0646092410352565\n",
      "heart_disease 0.008508993748070284\n",
      "avg_glucose_level 0.011912393576721565\n",
      "imputed_bmi 0.00988292751959109\n",
      "gender_Female -0.003701162547613484\n",
      "gender_Male 0.0\n",
      "gender_Other -0.0\n",
      "ever_married_No -0.0\n",
      "ever_married_Yes 0.010974166165247464\n",
      "work_type_Govt_job -6.331716439014032e-18\n",
      "work_type_Never_worked -0.003758956414867484\n",
      "work_type_Private 0.0005058317560568087\n",
      "work_type_Self-employed 0.0\n",
      "work_type_children -0.0047898425585102995\n",
      "Residence_type_Rural 0.015140352243811547\n",
      "Residence_type_Urban -0.0006642707692392041\n",
      "smoking_status_Unknown 0.0\n",
      "smoking_status_formerly smoked 0.0\n",
      "smoking_status_never smoked 3.421898296650788e-05\n",
      "smoking_status_smokes -0.0013247454159403711\n"
     ]
    }
   ],
   "source": [
    "#Checking the coefficients of the lasso model\n",
    "lasso.coef_\n",
    "\n",
    "for i in range(21):\n",
    "    print(predictors[i], lasso.coef_[i])"
   ]
  },
  {
   "cell_type": "markdown",
   "id": "d78f029f",
   "metadata": {},
   "source": [
    "[All of the zeroed variables would be removed according to LASSO]\n",
    "Going forward, we would have to implement a group lasso technique to account for the dummy variables. We cannot feasibly remove specific categories within dummies. However, this is beyond the scope of the class, so we will proceed with all of the variables. (We will not eliminate age due to academic research suggesting that age is a target indicator for stroke)."
   ]
  },
  {
   "cell_type": "markdown",
   "id": "a99aa472",
   "metadata": {},
   "source": [
    "# Fitting the initial logistic regression model"
   ]
  },
  {
   "cell_type": "code",
   "execution_count": 30,
   "id": "7ccb73a3",
   "metadata": {},
   "outputs": [
    {
     "name": "stdout",
     "output_type": "stream",
     "text": [
      "Optimization terminated successfully.\n",
      "         Current function value: 0.153034\n",
      "         Iterations 9\n"
     ]
    },
    {
     "data": {
      "text/plain": [
       "<AxesSubplot:xlabel='age', ylabel='stroke'>"
      ]
     },
     "execution_count": 30,
     "metadata": {},
     "output_type": "execute_result"
    },
    {
     "data": {
      "image/png": "[encoded data removed]",
      "text/plain": [
       "<Figure size 432x288 with 1 Axes>"
      ]
     },
     "metadata": {
      "needs_background": "light"
     },
     "output_type": "display_data"
    }
   ],
   "source": [
    "# Include jitter for better visualization of the distribution of 1s and 0s\n",
    "def jitter(values,j=0):\n",
    "    return values + np.random.normal(j,0.02,values.shape)\n",
    "\n",
    "sns.scatterplot(x = jitter(train.age), y = jitter(train.stroke), data = train, color = 'orange')\n",
    "logit_model = sm.logit(formula = 'stroke~age', data = train).fit()\n",
    "sns.lineplot(x = 'age', y= logit_model.predict(train), data = train, color = 'blue')"
   ]
  },
  {
   "cell_type": "code",
   "execution_count": 31,
   "id": "c3c723c6",
   "metadata": {},
   "outputs": [
    {
     "data": {
      "text/html": [
       "<table class=\"simpletable\">\n",
       "<caption>Logit Regression Results</caption>\n",
       "<tr>\n",
       "  <th>Dep. Variable:</th>        <td>stroke</td>      <th>  No. Observations:  </th>  <td>  3577</td>  \n",
       "</tr>\n",
       "<tr>\n",
       "  <th>Model:</th>                 <td>Logit</td>      <th>  Df Residuals:      </th>  <td>  3575</td>  \n",
       "</tr>\n",
       "<tr>\n",
       "  <th>Method:</th>                 <td>MLE</td>       <th>  Df Model:          </th>  <td>     1</td>  \n",
       "</tr>\n",
       "<tr>\n",
       "  <th>Date:</th>            <td>Sun, 05 Mar 2023</td> <th>  Pseudo R-squ.:     </th>  <td>0.1995</td>  \n",
       "</tr>\n",
       "<tr>\n",
       "  <th>Time:</th>                <td>13:30:56</td>     <th>  Log-Likelihood:    </th> <td> -547.40</td> \n",
       "</tr>\n",
       "<tr>\n",
       "  <th>converged:</th>             <td>True</td>       <th>  LL-Null:           </th> <td> -683.80</td> \n",
       "</tr>\n",
       "<tr>\n",
       "  <th>Covariance Type:</th>     <td>nonrobust</td>    <th>  LLR p-value:       </th> <td>2.803e-61</td>\n",
       "</tr>\n",
       "</table>\n",
       "<table class=\"simpletable\">\n",
       "<tr>\n",
       "      <td></td>         <th>coef</th>     <th>std err</th>      <th>z</th>      <th>P>|z|</th>  <th>[0.025</th>    <th>0.975]</th>  \n",
       "</tr>\n",
       "<tr>\n",
       "  <th>Intercept</th> <td>   -7.5734</td> <td>    0.429</td> <td>  -17.670</td> <td> 0.000</td> <td>   -8.413</td> <td>   -6.733</td>\n",
       "</tr>\n",
       "<tr>\n",
       "  <th>age</th>       <td>    0.0793</td> <td>    0.006</td> <td>   12.711</td> <td> 0.000</td> <td>    0.067</td> <td>    0.092</td>\n",
       "</tr>\n",
       "</table>"
      ],
      "text/plain": [
       "<class 'statsmodels.iolib.summary.Summary'>\n",
       "\"\"\"\n",
       "                           Logit Regression Results                           \n",
       "==============================================================================\n",
       "Dep. Variable:                 stroke   No. Observations:                 3577\n",
       "Model:                          Logit   Df Residuals:                     3575\n",
       "Method:                           MLE   Df Model:                            1\n",
       "Date:                Sun, 05 Mar 2023   Pseudo R-squ.:                  0.1995\n",
       "Time:                        13:30:56   Log-Likelihood:                -547.40\n",
       "converged:                       True   LL-Null:                       -683.80\n",
       "Covariance Type:            nonrobust   LLR p-value:                 2.803e-61\n",
       "==============================================================================\n",
       "                 coef    std err          z      P>|z|      [0.025      0.975]\n",
       "------------------------------------------------------------------------------\n",
       "Intercept     -7.5734      0.429    -17.670      0.000      -8.413      -6.733\n",
       "age            0.0793      0.006     12.711      0.000       0.067       0.092\n",
       "==============================================================================\n",
       "\"\"\""
      ]
     },
     "execution_count": 31,
     "metadata": {},
     "output_type": "execute_result"
    }
   ],
   "source": [
    "logit_model.summary()"
   ]
  },
  {
   "cell_type": "code",
   "execution_count": 32,
   "id": "045c6878",
   "metadata": {},
   "outputs": [
    {
     "data": {
      "text/plain": [
       "8.25290320710006"
      ]
     },
     "execution_count": 32,
     "metadata": {},
     "output_type": "execute_result"
    }
   ],
   "source": [
    "(np.exp(0.0793)-1)*100"
   ]
  },
  {
   "cell_type": "markdown",
   "id": "b88d57c3",
   "metadata": {},
   "source": [
    "The coefficient of age is 0.0793, which means for a unit increase in age, the log odds of stroke likeliness increase by 0.0793, or the odds increases by 8.25%.\n",
    "\n",
    "Assuming a significance level of $\\alpha = 0.05$, age seems to be a staistically variable as its p-value and the model's overall LLR p-value are less than our $\\alpha$ level.\n",
    "\n",
    "Print out the correlations for each of the continuous variables to check for possible interactions."
   ]
  },
  {
   "cell_type": "code",
   "execution_count": 33,
   "id": "71a101ca",
   "metadata": {},
   "outputs": [
    {
     "data": {
      "text/html": [
       "<div>\n",
       "<style scoped>\n",
       "    .dataframe tbody tr th:only-of-type {\n",
       "        vertical-align: middle;\n",
       "    }\n",
       "\n",
       "    .dataframe tbody tr th {\n",
       "        vertical-align: top;\n",
       "    }\n",
       "\n",
       "    .dataframe thead th {\n",
       "        text-align: right;\n",
       "    }\n",
       "</style>\n",
       "<table border=\"1\" class=\"dataframe\">\n",
       "  <thead>\n",
       "    <tr style=\"text-align: right;\">\n",
       "      <th></th>\n",
       "      <th>id</th>\n",
       "      <th>age</th>\n",
       "      <th>hypertension</th>\n",
       "      <th>heart_disease</th>\n",
       "      <th>avg_glucose_level</th>\n",
       "      <th>bmi</th>\n",
       "      <th>stroke</th>\n",
       "      <th>imputed_bmi</th>\n",
       "    </tr>\n",
       "  </thead>\n",
       "  <tbody>\n",
       "    <tr>\n",
       "      <th>id</th>\n",
       "      <td>1.000000</td>\n",
       "      <td>-0.014804</td>\n",
       "      <td>0.001437</td>\n",
       "      <td>0.005596</td>\n",
       "      <td>-0.029385</td>\n",
       "      <td>-0.003362</td>\n",
       "      <td>-0.004766</td>\n",
       "      <td>-0.007601</td>\n",
       "    </tr>\n",
       "    <tr>\n",
       "      <th>age</th>\n",
       "      <td>-0.014804</td>\n",
       "      <td>1.000000</td>\n",
       "      <td>0.272511</td>\n",
       "      <td>0.266071</td>\n",
       "      <td>0.226338</td>\n",
       "      <td>0.340309</td>\n",
       "      <td>0.248097</td>\n",
       "      <td>0.338419</td>\n",
       "    </tr>\n",
       "    <tr>\n",
       "      <th>hypertension</th>\n",
       "      <td>0.001437</td>\n",
       "      <td>0.272511</td>\n",
       "      <td>1.000000</td>\n",
       "      <td>0.108822</td>\n",
       "      <td>0.169636</td>\n",
       "      <td>0.171667</td>\n",
       "      <td>0.117325</td>\n",
       "      <td>0.166541</td>\n",
       "    </tr>\n",
       "    <tr>\n",
       "      <th>heart_disease</th>\n",
       "      <td>0.005596</td>\n",
       "      <td>0.266071</td>\n",
       "      <td>0.108822</td>\n",
       "      <td>1.000000</td>\n",
       "      <td>0.150224</td>\n",
       "      <td>0.049623</td>\n",
       "      <td>0.137965</td>\n",
       "      <td>0.049233</td>\n",
       "    </tr>\n",
       "    <tr>\n",
       "      <th>avg_glucose_level</th>\n",
       "      <td>-0.029385</td>\n",
       "      <td>0.226338</td>\n",
       "      <td>0.169636</td>\n",
       "      <td>0.150224</td>\n",
       "      <td>1.000000</td>\n",
       "      <td>0.178433</td>\n",
       "      <td>0.116067</td>\n",
       "      <td>0.182748</td>\n",
       "    </tr>\n",
       "    <tr>\n",
       "      <th>bmi</th>\n",
       "      <td>-0.003362</td>\n",
       "      <td>0.340309</td>\n",
       "      <td>0.171667</td>\n",
       "      <td>0.049623</td>\n",
       "      <td>0.178433</td>\n",
       "      <td>1.000000</td>\n",
       "      <td>0.046985</td>\n",
       "      <td>1.000000</td>\n",
       "    </tr>\n",
       "    <tr>\n",
       "      <th>stroke</th>\n",
       "      <td>-0.004766</td>\n",
       "      <td>0.248097</td>\n",
       "      <td>0.117325</td>\n",
       "      <td>0.137965</td>\n",
       "      <td>0.116067</td>\n",
       "      <td>0.046985</td>\n",
       "      <td>1.000000</td>\n",
       "      <td>0.044624</td>\n",
       "    </tr>\n",
       "    <tr>\n",
       "      <th>imputed_bmi</th>\n",
       "      <td>-0.007601</td>\n",
       "      <td>0.338419</td>\n",
       "      <td>0.166541</td>\n",
       "      <td>0.049233</td>\n",
       "      <td>0.182748</td>\n",
       "      <td>1.000000</td>\n",
       "      <td>0.044624</td>\n",
       "      <td>1.000000</td>\n",
       "    </tr>\n",
       "  </tbody>\n",
       "</table>\n",
       "</div>"
      ],
      "text/plain": [
       "                         id       age  hypertension  heart_disease  \\\n",
       "id                 1.000000 -0.014804      0.001437       0.005596   \n",
       "age               -0.014804  1.000000      0.272511       0.266071   \n",
       "hypertension       0.001437  0.272511      1.000000       0.108822   \n",
       "heart_disease      0.005596  0.266071      0.108822       1.000000   \n",
       "avg_glucose_level -0.029385  0.226338      0.169636       0.150224   \n",
       "bmi               -0.003362  0.340309      0.171667       0.049623   \n",
       "stroke            -0.004766  0.248097      0.117325       0.137965   \n",
       "imputed_bmi       -0.007601  0.338419      0.166541       0.049233   \n",
       "\n",
       "                   avg_glucose_level       bmi    stroke  imputed_bmi  \n",
       "id                         -0.029385 -0.003362 -0.004766    -0.007601  \n",
       "age                         0.226338  0.340309  0.248097     0.338419  \n",
       "hypertension                0.169636  0.171667  0.117325     0.166541  \n",
       "heart_disease               0.150224  0.049623  0.137965     0.049233  \n",
       "avg_glucose_level           1.000000  0.178433  0.116067     0.182748  \n",
       "bmi                         0.178433  1.000000  0.046985     1.000000  \n",
       "stroke                      0.116067  0.046985  1.000000     0.044624  \n",
       "imputed_bmi                 0.182748  1.000000  0.044624     1.000000  "
      ]
     },
     "execution_count": 33,
     "metadata": {},
     "output_type": "execute_result"
    }
   ],
   "source": [
    "corr_table = train.corr()\n",
    "corr_table"
   ]
  },
  {
   "cell_type": "markdown",
   "id": "c5ed3c5a",
   "metadata": {},
   "source": [
    "BMI and age have a correlations of 0.340309 that might be worth looking into as an interaction term. To test this, train a basic model using all of the continuous variables and then add in the interaction term."
   ]
  },
  {
   "cell_type": "code",
   "execution_count": 208,
   "id": "35f8d857",
   "metadata": {},
   "outputs": [
    {
     "name": "stdout",
     "output_type": "stream",
     "text": [
      "Optimization terminated successfully.\n",
      "         Current function value: 0.139458\n",
      "         Iterations 9\n"
     ]
    },
    {
     "data": {
      "text/html": [
       "<table class=\"simpletable\">\n",
       "<caption>Logit Regression Results</caption>\n",
       "<tr>\n",
       "  <th>Dep. Variable:</th>        <td>stroke</td>      <th>  No. Observations:  </th>  <td>  3441</td>  \n",
       "</tr>\n",
       "<tr>\n",
       "  <th>Model:</th>                 <td>Logit</td>      <th>  Df Residuals:      </th>  <td>  3436</td>  \n",
       "</tr>\n",
       "<tr>\n",
       "  <th>Method:</th>                 <td>MLE</td>       <th>  Df Model:          </th>  <td>     4</td>  \n",
       "</tr>\n",
       "<tr>\n",
       "  <th>Date:</th>            <td>Sun, 05 Mar 2023</td> <th>  Pseudo R-squ.:     </th>  <td>0.2058</td>  \n",
       "</tr>\n",
       "<tr>\n",
       "  <th>Time:</th>                <td>21:40:15</td>     <th>  Log-Likelihood:    </th> <td> -479.88</td> \n",
       "</tr>\n",
       "<tr>\n",
       "  <th>converged:</th>             <td>True</td>       <th>  LL-Null:           </th> <td> -604.20</td> \n",
       "</tr>\n",
       "<tr>\n",
       "  <th>Covariance Type:</th>     <td>nonrobust</td>    <th>  LLR p-value:       </th> <td>1.267e-52</td>\n",
       "</tr>\n",
       "</table>\n",
       "<table class=\"simpletable\">\n",
       "<tr>\n",
       "          <td></td>             <th>coef</th>     <th>std err</th>      <th>z</th>      <th>P>|z|</th>  <th>[0.025</th>    <th>0.975]</th>  \n",
       "</tr>\n",
       "<tr>\n",
       "  <th>Intercept</th>         <td>   -8.1837</td> <td>    0.666</td> <td>  -12.294</td> <td> 0.000</td> <td>   -9.488</td> <td>   -6.879</td>\n",
       "</tr>\n",
       "<tr>\n",
       "  <th>bmi</th>               <td>    0.0074</td> <td>    0.014</td> <td>    0.530</td> <td> 0.596</td> <td>   -0.020</td> <td>    0.035</td>\n",
       "</tr>\n",
       "<tr>\n",
       "  <th>avg_glucose_level</th> <td>    0.0043</td> <td>    0.002</td> <td>    2.769</td> <td> 0.006</td> <td>    0.001</td> <td>    0.007</td>\n",
       "</tr>\n",
       "<tr>\n",
       "  <th>age</th>               <td>    0.0742</td> <td>    0.007</td> <td>   10.761</td> <td> 0.000</td> <td>    0.061</td> <td>    0.088</td>\n",
       "</tr>\n",
       "<tr>\n",
       "  <th>hypertension</th>      <td>    0.4752</td> <td>    0.209</td> <td>    2.275</td> <td> 0.023</td> <td>    0.066</td> <td>    0.885</td>\n",
       "</tr>\n",
       "</table>"
      ],
      "text/plain": [
       "<class 'statsmodels.iolib.summary.Summary'>\n",
       "\"\"\"\n",
       "                           Logit Regression Results                           \n",
       "==============================================================================\n",
       "Dep. Variable:                 stroke   No. Observations:                 3441\n",
       "Model:                          Logit   Df Residuals:                     3436\n",
       "Method:                           MLE   Df Model:                            4\n",
       "Date:                Sun, 05 Mar 2023   Pseudo R-squ.:                  0.2058\n",
       "Time:                        21:40:15   Log-Likelihood:                -479.88\n",
       "converged:                       True   LL-Null:                       -604.20\n",
       "Covariance Type:            nonrobust   LLR p-value:                 1.267e-52\n",
       "=====================================================================================\n",
       "                        coef    std err          z      P>|z|      [0.025      0.975]\n",
       "-------------------------------------------------------------------------------------\n",
       "Intercept            -8.1837      0.666    -12.294      0.000      -9.488      -6.879\n",
       "bmi                   0.0074      0.014      0.530      0.596      -0.020       0.035\n",
       "avg_glucose_level     0.0043      0.002      2.769      0.006       0.001       0.007\n",
       "age                   0.0742      0.007     10.761      0.000       0.061       0.088\n",
       "hypertension          0.4752      0.209      2.275      0.023       0.066       0.885\n",
       "=====================================================================================\n",
       "\"\"\""
      ]
     },
     "execution_count": 208,
     "metadata": {},
     "output_type": "execute_result"
    }
   ],
   "source": [
    "# basic model with all the continuous vars\n",
    "logit_model = sm.logit(formula = 'stroke~bmi+avg_glucose_level+age+hypertension', data = train).fit()\n",
    "logit_model.summary()"
   ]
  },
  {
   "cell_type": "markdown",
   "id": "b125d1c4",
   "metadata": {},
   "source": [
    "BMI does not appear to be statistically significant in this model, to test for the interaction, add an interaction term between BMI and age."
   ]
  },
  {
   "cell_type": "code",
   "execution_count": 181,
   "id": "f4cb673e",
   "metadata": {},
   "outputs": [
    {
     "name": "stdout",
     "output_type": "stream",
     "text": [
      "Optimization terminated successfully.\n",
      "         Current function value: 0.139646\n",
      "         Iterations 9\n"
     ]
    },
    {
     "data": {
      "text/html": [
       "<table class=\"simpletable\">\n",
       "<caption>Logit Regression Results</caption>\n",
       "<tr>\n",
       "  <th>Dep. Variable:</th>        <td>stroke</td>      <th>  No. Observations:  </th>  <td>  3441</td>  \n",
       "</tr>\n",
       "<tr>\n",
       "  <th>Model:</th>                 <td>Logit</td>      <th>  Df Residuals:      </th>  <td>  3436</td>  \n",
       "</tr>\n",
       "<tr>\n",
       "  <th>Method:</th>                 <td>MLE</td>       <th>  Df Model:          </th>  <td>     4</td>  \n",
       "</tr>\n",
       "<tr>\n",
       "  <th>Date:</th>            <td>Sun, 05 Mar 2023</td> <th>  Pseudo R-squ.:     </th>  <td>0.2047</td>  \n",
       "</tr>\n",
       "<tr>\n",
       "  <th>Time:</th>                <td>21:30:24</td>     <th>  Log-Likelihood:    </th> <td> -480.52</td> \n",
       "</tr>\n",
       "<tr>\n",
       "  <th>converged:</th>             <td>True</td>       <th>  LL-Null:           </th> <td> -604.20</td> \n",
       "</tr>\n",
       "<tr>\n",
       "  <th>Covariance Type:</th>     <td>nonrobust</td>    <th>  LLR p-value:       </th> <td>2.402e-52</td>\n",
       "</tr>\n",
       "</table>\n",
       "<table class=\"simpletable\">\n",
       "<tr>\n",
       "          <td></td>             <th>coef</th>     <th>std err</th>      <th>z</th>      <th>P>|z|</th>  <th>[0.025</th>    <th>0.975]</th>  \n",
       "</tr>\n",
       "<tr>\n",
       "  <th>Intercept</th>         <td>  -11.0251</td> <td>    1.364</td> <td>   -8.082</td> <td> 0.000</td> <td>  -13.699</td> <td>   -8.351</td>\n",
       "</tr>\n",
       "<tr>\n",
       "  <th>bmi</th>               <td>    0.0970</td> <td>    0.039</td> <td>    2.501</td> <td> 0.012</td> <td>    0.021</td> <td>    0.173</td>\n",
       "</tr>\n",
       "<tr>\n",
       "  <th>I(bmi * age)</th>      <td>   -0.0014</td> <td>    0.001</td> <td>   -2.238</td> <td> 0.025</td> <td>   -0.003</td> <td>   -0.000</td>\n",
       "</tr>\n",
       "<tr>\n",
       "  <th>avg_glucose_level</th> <td>    0.0049</td> <td>    0.002</td> <td>    3.237</td> <td> 0.001</td> <td>    0.002</td> <td>    0.008</td>\n",
       "</tr>\n",
       "<tr>\n",
       "  <th>age</th>               <td>    0.1192</td> <td>    0.021</td> <td>    5.704</td> <td> 0.000</td> <td>    0.078</td> <td>    0.160</td>\n",
       "</tr>\n",
       "</table>"
      ],
      "text/plain": [
       "<class 'statsmodels.iolib.summary.Summary'>\n",
       "\"\"\"\n",
       "                           Logit Regression Results                           \n",
       "==============================================================================\n",
       "Dep. Variable:                 stroke   No. Observations:                 3441\n",
       "Model:                          Logit   Df Residuals:                     3436\n",
       "Method:                           MLE   Df Model:                            4\n",
       "Date:                Sun, 05 Mar 2023   Pseudo R-squ.:                  0.2047\n",
       "Time:                        21:30:24   Log-Likelihood:                -480.52\n",
       "converged:                       True   LL-Null:                       -604.20\n",
       "Covariance Type:            nonrobust   LLR p-value:                 2.402e-52\n",
       "=====================================================================================\n",
       "                        coef    std err          z      P>|z|      [0.025      0.975]\n",
       "-------------------------------------------------------------------------------------\n",
       "Intercept           -11.0251      1.364     -8.082      0.000     -13.699      -8.351\n",
       "bmi                   0.0970      0.039      2.501      0.012       0.021       0.173\n",
       "I(bmi * age)         -0.0014      0.001     -2.238      0.025      -0.003      -0.000\n",
       "avg_glucose_level     0.0049      0.002      3.237      0.001       0.002       0.008\n",
       "age                   0.1192      0.021      5.704      0.000       0.078       0.160\n",
       "=====================================================================================\n",
       "\"\"\""
      ]
     },
     "execution_count": 181,
     "metadata": {},
     "output_type": "execute_result"
    }
   ],
   "source": [
    "logit_model2 = sm.logit(formula = 'stroke~bmi+I(bmi*age)+avg_glucose_level+age', data = train).fit()\n",
    "logit_model2.summary()"
   ]
  },
  {
   "cell_type": "code",
   "execution_count": 209,
   "id": "462cec20",
   "metadata": {},
   "outputs": [
    {
     "name": "stdout",
     "output_type": "stream",
     "text": [
      "Classification accuracy = 76.4%\n",
      "Precision = 12.4%\n",
      "TPR or Recall = 75.3%\n",
      "FNR = 24.7%\n",
      "FPR = 23.5%\n",
      "ROC-AUC = 85.2%\n",
      "F1 = 0.21338506304558683\n"
     ]
    },
    {
     "data": {
      "image/png": "[encoded data removed]",
      "text/plain": [
       "<Figure size 432x288 with 2 Axes>"
      ]
     },
     "metadata": {
      "needs_background": "light"
     },
     "output_type": "display_data"
    }
   ],
   "source": [
    "confusion_matrix_data(train.dropna(),train.dropna().stroke,logit_model,cutoff=0.05)"
   ]
  },
  {
   "cell_type": "markdown",
   "id": "24c8e60c",
   "metadata": {},
   "source": [
    "# Confusion matrices for Model #2"
   ]
  },
  {
   "cell_type": "code",
   "execution_count": 185,
   "id": "a9a314be",
   "metadata": {},
   "outputs": [
    {
     "name": "stdout",
     "output_type": "stream",
     "text": [
      "Classification accuracy = 95.2%\n",
      "Precision = 29.5%\n",
      "TPR or Recall = 8.9%\n",
      "FNR = 91.1%\n",
      "FPR = 0.9%\n",
      "ROC-AUC = 84.9%\n",
      "F1 = 0.1368421052631579\n"
     ]
    },
    {
     "data": {
      "image/png": "[encoded data removed]",
      "text/plain": [
       "<Figure size 432x288 with 2 Axes>"
      ]
     },
     "metadata": {
      "needs_background": "light"
     },
     "output_type": "display_data"
    }
   ],
   "source": [
    "confusion_matrix_data(train.dropna(),train.dropna().stroke,logit_model2,cutoff=0.25)"
   ]
  },
  {
   "cell_type": "code",
   "execution_count": 186,
   "id": "625ce6c1",
   "metadata": {
    "scrolled": true
   },
   "outputs": [
    {
     "name": "stdout",
     "output_type": "stream",
     "text": [
      "Classification accuracy = 94.6%\n",
      "Precision = 18.5%\n",
      "TPR or Recall = 7.9%\n",
      "FNR = 92.1%\n",
      "FPR = 1.6%\n",
      "ROC-AUC = 83.3%\n",
      "F1 = 0.1111111111111111\n"
     ]
    },
    {
     "data": {
      "image/png": "[encoded data removed]",
      "text/plain": [
       "<Figure size 432x288 with 2 Axes>"
      ]
     },
     "metadata": {
      "needs_background": "light"
     },
     "output_type": "display_data"
    }
   ],
   "source": [
    "confusion_matrix_data(test.dropna(),test.dropna().stroke,logit_model2,cutoff=0.25)"
   ]
  },
  {
   "cell_type": "code",
   "execution_count": 187,
   "id": "583ca729",
   "metadata": {},
   "outputs": [
    {
     "name": "stdout",
     "output_type": "stream",
     "text": [
      "Classification accuracy = 76.3%\n",
      "Precision = 12.5%\n",
      "TPR or Recall = 76.0%\n",
      "FNR = 24.0%\n",
      "FPR = 23.6%\n",
      "ROC-AUC = 84.9%\n",
      "F1 = 0.21428571428571427\n"
     ]
    },
    {
     "data": {
      "image/png": "[encoded data removed]",
      "text/plain": [
       "<Figure size 432x288 with 2 Axes>"
      ]
     },
     "metadata": {
      "needs_background": "light"
     },
     "output_type": "display_data"
    }
   ],
   "source": [
    "confusion_matrix_data(train.dropna(),train.dropna().stroke,logit_model2,cutoff=0.05)"
   ]
  },
  {
   "cell_type": "code",
   "execution_count": 188,
   "id": "72c1f95d",
   "metadata": {},
   "outputs": [
    {
     "name": "stdout",
     "output_type": "stream",
     "text": [
      "Classification accuracy = 75.7%\n",
      "Precision = 12.1%\n",
      "TPR or Recall = 74.6%\n",
      "FNR = 25.4%\n",
      "FPR = 24.2%\n",
      "ROC-AUC = 83.3%\n",
      "F1 = 0.2088888888888889\n"
     ]
    },
    {
     "data": {
      "image/png": "[encoded data removed]",
      "text/plain": [
       "<Figure size 432x288 with 2 Axes>"
      ]
     },
     "metadata": {
      "needs_background": "light"
     },
     "output_type": "display_data"
    }
   ],
   "source": [
    "confusion_matrix_data(test.dropna(),test.dropna().stroke,logit_model2,cutoff=0.05)"
   ]
  },
  {
   "cell_type": "markdown",
   "id": "cb907971",
   "metadata": {},
   "source": [
    "By making the cutoff so low, we were able to increase our recall value in exchange for our precision. Because there are so few positive cases in our train data, even with a much higher cutoff, the precision was still low. The classification accuracy also fell a bit. "
   ]
  },
  {
   "cell_type": "markdown",
   "id": "74373905",
   "metadata": {},
   "source": [
    "# Since this model will be used for diagnosis, we must minimize FNR. "
   ]
  },
  {
   "cell_type": "code",
   "execution_count": 189,
   "id": "389fc9eb",
   "metadata": {},
   "outputs": [
    {
     "name": "stdout",
     "output_type": "stream",
     "text": [
      "Optimization terminated successfully.\n",
      "         Current function value: 0.138956\n",
      "         Iterations 9\n"
     ]
    },
    {
     "data": {
      "text/html": [
       "<table class=\"simpletable\">\n",
       "<caption>Logit Regression Results</caption>\n",
       "<tr>\n",
       "  <th>Dep. Variable:</th>        <td>stroke</td>      <th>  No. Observations:  </th>  <td>  3441</td>  \n",
       "</tr>\n",
       "<tr>\n",
       "  <th>Model:</th>                 <td>Logit</td>      <th>  Df Residuals:      </th>  <td>  3435</td>  \n",
       "</tr>\n",
       "<tr>\n",
       "  <th>Method:</th>                 <td>MLE</td>       <th>  Df Model:          </th>  <td>     5</td>  \n",
       "</tr>\n",
       "<tr>\n",
       "  <th>Date:</th>            <td>Sun, 05 Mar 2023</td> <th>  Pseudo R-squ.:     </th>  <td>0.2086</td>  \n",
       "</tr>\n",
       "<tr>\n",
       "  <th>Time:</th>                <td>21:31:55</td>     <th>  Log-Likelihood:    </th> <td> -478.15</td> \n",
       "</tr>\n",
       "<tr>\n",
       "  <th>converged:</th>             <td>True</td>       <th>  LL-Null:           </th> <td> -604.20</td> \n",
       "</tr>\n",
       "<tr>\n",
       "  <th>Covariance Type:</th>     <td>nonrobust</td>    <th>  LLR p-value:       </th> <td>1.936e-52</td>\n",
       "</tr>\n",
       "</table>\n",
       "<table class=\"simpletable\">\n",
       "<tr>\n",
       "          <td></td>             <th>coef</th>     <th>std err</th>      <th>z</th>      <th>P>|z|</th>  <th>[0.025</th>    <th>0.975]</th>  \n",
       "</tr>\n",
       "<tr>\n",
       "  <th>Intercept</th>         <td>  -10.7424</td> <td>    1.344</td> <td>   -7.995</td> <td> 0.000</td> <td>  -13.376</td> <td>   -8.109</td>\n",
       "</tr>\n",
       "<tr>\n",
       "  <th>bmi</th>               <td>    0.0904</td> <td>    0.038</td> <td>    2.374</td> <td> 0.018</td> <td>    0.016</td> <td>    0.165</td>\n",
       "</tr>\n",
       "<tr>\n",
       "  <th>I(bmi * age)</th>      <td>   -0.0014</td> <td>    0.001</td> <td>   -2.177</td> <td> 0.029</td> <td>   -0.003</td> <td>   -0.000</td>\n",
       "</tr>\n",
       "<tr>\n",
       "  <th>avg_glucose_level</th> <td>    0.0045</td> <td>    0.002</td> <td>    2.947</td> <td> 0.003</td> <td>    0.002</td> <td>    0.008</td>\n",
       "</tr>\n",
       "<tr>\n",
       "  <th>age</th>               <td>    0.1153</td> <td>    0.021</td> <td>    5.597</td> <td> 0.000</td> <td>    0.075</td> <td>    0.156</td>\n",
       "</tr>\n",
       "<tr>\n",
       "  <th>hypertension</th>      <td>    0.4667</td> <td>    0.209</td> <td>    2.233</td> <td> 0.026</td> <td>    0.057</td> <td>    0.876</td>\n",
       "</tr>\n",
       "</table>"
      ],
      "text/plain": [
       "<class 'statsmodels.iolib.summary.Summary'>\n",
       "\"\"\"\n",
       "                           Logit Regression Results                           \n",
       "==============================================================================\n",
       "Dep. Variable:                 stroke   No. Observations:                 3441\n",
       "Model:                          Logit   Df Residuals:                     3435\n",
       "Method:                           MLE   Df Model:                            5\n",
       "Date:                Sun, 05 Mar 2023   Pseudo R-squ.:                  0.2086\n",
       "Time:                        21:31:55   Log-Likelihood:                -478.15\n",
       "converged:                       True   LL-Null:                       -604.20\n",
       "Covariance Type:            nonrobust   LLR p-value:                 1.936e-52\n",
       "=====================================================================================\n",
       "                        coef    std err          z      P>|z|      [0.025      0.975]\n",
       "-------------------------------------------------------------------------------------\n",
       "Intercept           -10.7424      1.344     -7.995      0.000     -13.376      -8.109\n",
       "bmi                   0.0904      0.038      2.374      0.018       0.016       0.165\n",
       "I(bmi * age)         -0.0014      0.001     -2.177      0.029      -0.003      -0.000\n",
       "avg_glucose_level     0.0045      0.002      2.947      0.003       0.002       0.008\n",
       "age                   0.1153      0.021      5.597      0.000       0.075       0.156\n",
       "hypertension          0.4667      0.209      2.233      0.026       0.057       0.876\n",
       "=====================================================================================\n",
       "\"\"\""
      ]
     },
     "execution_count": 189,
     "metadata": {},
     "output_type": "execute_result"
    }
   ],
   "source": [
    "logit_model3 = sm.logit(formula = 'stroke~bmi+I(bmi*age)+avg_glucose_level+age+hypertension', data = train).fit()\n",
    "logit_model3.summary()"
   ]
  },
  {
   "cell_type": "code",
   "execution_count": 190,
   "id": "2e4549e3",
   "metadata": {},
   "outputs": [
    {
     "name": "stdout",
     "output_type": "stream",
     "text": [
      "Classification accuracy = 94.1%\n",
      "Precision = 18.9%\n",
      "TPR or Recall = 11.1%\n",
      "FNR = 88.9%\n",
      "FPR = 2.1%\n",
      "ROC-AUC = 83.9%\n",
      "F1 = 0.14\n"
     ]
    },
    {
     "data": {
      "image/png": "[encoded data removed]",
      "text/plain": [
       "<Figure size 432x288 with 2 Axes>"
      ]
     },
     "metadata": {
      "needs_background": "light"
     },
     "output_type": "display_data"
    }
   ],
   "source": [
    "confusion_matrix_data(test.dropna(),test.dropna().stroke,logit_model3,cutoff=0.25)"
   ]
  },
  {
   "cell_type": "code",
   "execution_count": 191,
   "id": "950a7c86",
   "metadata": {},
   "outputs": [
    {
     "name": "stdout",
     "output_type": "stream",
     "text": [
      "Classification accuracy = 77.2%\n",
      "Precision = 13.0%\n",
      "TPR or Recall = 76.2%\n",
      "FNR = 23.8%\n",
      "FPR = 22.8%\n",
      "ROC-AUC = 83.9%\n",
      "F1 = 0.22273781902552203\n"
     ]
    },
    {
     "data": {
      "image/png": "[encoded data removed]",
      "text/plain": [
       "<Figure size 432x288 with 2 Axes>"
      ]
     },
     "metadata": {
      "needs_background": "light"
     },
     "output_type": "display_data"
    }
   ],
   "source": [
    "confusion_matrix_data(test.dropna(),test.dropna().stroke,logit_model3,cutoff=0.05)"
   ]
  },
  {
   "cell_type": "code",
   "execution_count": 47,
   "id": "7a68fab4",
   "metadata": {},
   "outputs": [
    {
     "data": {
      "text/html": [
       "<div>\n",
       "<style scoped>\n",
       "    .dataframe tbody tr th:only-of-type {\n",
       "        vertical-align: middle;\n",
       "    }\n",
       "\n",
       "    .dataframe tbody tr th {\n",
       "        vertical-align: top;\n",
       "    }\n",
       "\n",
       "    .dataframe thead th {\n",
       "        text-align: right;\n",
       "    }\n",
       "</style>\n",
       "<table border=\"1\" class=\"dataframe\">\n",
       "  <thead>\n",
       "    <tr style=\"text-align: right;\">\n",
       "      <th></th>\n",
       "      <th>id</th>\n",
       "      <th>gender</th>\n",
       "      <th>age</th>\n",
       "      <th>hypertension</th>\n",
       "      <th>heart_disease</th>\n",
       "      <th>ever_married</th>\n",
       "      <th>work_type</th>\n",
       "      <th>Residence_type</th>\n",
       "      <th>avg_glucose_level</th>\n",
       "      <th>bmi</th>\n",
       "      <th>smoking_status</th>\n",
       "      <th>stroke</th>\n",
       "      <th>imputed_bmi</th>\n",
       "      <th>bmi_original</th>\n",
       "    </tr>\n",
       "  </thead>\n",
       "  <tbody>\n",
       "    <tr>\n",
       "      <th>4091</th>\n",
       "      <td>43698</td>\n",
       "      <td>Female</td>\n",
       "      <td>27.0</td>\n",
       "      <td>0</td>\n",
       "      <td>0</td>\n",
       "      <td>No</td>\n",
       "      <td>Govt_job</td>\n",
       "      <td>Rural</td>\n",
       "      <td>65.43</td>\n",
       "      <td>27.2</td>\n",
       "      <td>Unknown</td>\n",
       "      <td>0</td>\n",
       "      <td>27.2</td>\n",
       "      <td>no</td>\n",
       "    </tr>\n",
       "    <tr>\n",
       "      <th>3150</th>\n",
       "      <td>69979</td>\n",
       "      <td>Male</td>\n",
       "      <td>73.0</td>\n",
       "      <td>0</td>\n",
       "      <td>0</td>\n",
       "      <td>Yes</td>\n",
       "      <td>Self-employed</td>\n",
       "      <td>Rural</td>\n",
       "      <td>231.43</td>\n",
       "      <td>23.0</td>\n",
       "      <td>smokes</td>\n",
       "      <td>0</td>\n",
       "      <td>23.0</td>\n",
       "      <td>no</td>\n",
       "    </tr>\n",
       "    <tr>\n",
       "      <th>2668</th>\n",
       "      <td>43039</td>\n",
       "      <td>Female</td>\n",
       "      <td>63.0</td>\n",
       "      <td>0</td>\n",
       "      <td>0</td>\n",
       "      <td>Yes</td>\n",
       "      <td>Private</td>\n",
       "      <td>Rural</td>\n",
       "      <td>153.60</td>\n",
       "      <td>28.0</td>\n",
       "      <td>formerly smoked</td>\n",
       "      <td>0</td>\n",
       "      <td>28.0</td>\n",
       "      <td>no</td>\n",
       "    </tr>\n",
       "    <tr>\n",
       "      <th>793</th>\n",
       "      <td>69427</td>\n",
       "      <td>Female</td>\n",
       "      <td>29.0</td>\n",
       "      <td>0</td>\n",
       "      <td>0</td>\n",
       "      <td>No</td>\n",
       "      <td>Private</td>\n",
       "      <td>Urban</td>\n",
       "      <td>101.28</td>\n",
       "      <td>22.7</td>\n",
       "      <td>never smoked</td>\n",
       "      <td>0</td>\n",
       "      <td>22.7</td>\n",
       "      <td>no</td>\n",
       "    </tr>\n",
       "    <tr>\n",
       "      <th>798</th>\n",
       "      <td>46683</td>\n",
       "      <td>Female</td>\n",
       "      <td>25.0</td>\n",
       "      <td>0</td>\n",
       "      <td>0</td>\n",
       "      <td>No</td>\n",
       "      <td>Private</td>\n",
       "      <td>Urban</td>\n",
       "      <td>122.01</td>\n",
       "      <td>27.0</td>\n",
       "      <td>smokes</td>\n",
       "      <td>0</td>\n",
       "      <td>27.0</td>\n",
       "      <td>no</td>\n",
       "    </tr>\n",
       "  </tbody>\n",
       "</table>\n",
       "</div>"
      ],
      "text/plain": [
       "         id  gender   age  hypertension  heart_disease ever_married  \\\n",
       "4091  43698  Female  27.0             0              0           No   \n",
       "3150  69979    Male  73.0             0              0          Yes   \n",
       "2668  43039  Female  63.0             0              0          Yes   \n",
       "793   69427  Female  29.0             0              0           No   \n",
       "798   46683  Female  25.0             0              0           No   \n",
       "\n",
       "          work_type Residence_type  avg_glucose_level   bmi   smoking_status  \\\n",
       "4091       Govt_job          Rural              65.43  27.2          Unknown   \n",
       "3150  Self-employed          Rural             231.43  23.0           smokes   \n",
       "2668        Private          Rural             153.60  28.0  formerly smoked   \n",
       "793         Private          Urban             101.28  22.7     never smoked   \n",
       "798         Private          Urban             122.01  27.0           smokes   \n",
       "\n",
       "      stroke  imputed_bmi bmi_original  \n",
       "4091       0         27.2           no  \n",
       "3150       0         23.0           no  \n",
       "2668       0         28.0           no  \n",
       "793        0         22.7           no  \n",
       "798        0         27.0           no  "
      ]
     },
     "execution_count": 47,
     "metadata": {},
     "output_type": "execute_result"
    }
   ],
   "source": [
    "train.head()"
   ]
  },
  {
   "cell_type": "code",
   "execution_count": 50,
   "id": "d25ab456",
   "metadata": {},
   "outputs": [
    {
     "data": {
      "text/plain": [
       "Private          2039\n",
       "Self-employed     567\n",
       "children          486\n",
       "Govt_job          470\n",
       "Never_worked       15\n",
       "Name: work_type, dtype: int64"
      ]
     },
     "execution_count": 50,
     "metadata": {},
     "output_type": "execute_result"
    }
   ],
   "source": [
    "train.work_type.value_counts()"
   ]
  },
  {
   "cell_type": "code",
   "execution_count": 74,
   "id": "06ae2264",
   "metadata": {},
   "outputs": [
    {
     "name": "stdout",
     "output_type": "stream",
     "text": [
      "Optimization terminated successfully.\n",
      "         Current function value: 0.139646\n",
      "         Iterations 9\n"
     ]
    },
    {
     "data": {
      "text/html": [
       "<table class=\"simpletable\">\n",
       "<caption>Logit Regression Results</caption>\n",
       "<tr>\n",
       "  <th>Dep. Variable:</th>        <td>stroke</td>      <th>  No. Observations:  </th>  <td>  3441</td>  \n",
       "</tr>\n",
       "<tr>\n",
       "  <th>Model:</th>                 <td>Logit</td>      <th>  Df Residuals:      </th>  <td>  3436</td>  \n",
       "</tr>\n",
       "<tr>\n",
       "  <th>Method:</th>                 <td>MLE</td>       <th>  Df Model:          </th>  <td>     4</td>  \n",
       "</tr>\n",
       "<tr>\n",
       "  <th>Date:</th>            <td>Sun, 05 Mar 2023</td> <th>  Pseudo R-squ.:     </th>  <td>0.2047</td>  \n",
       "</tr>\n",
       "<tr>\n",
       "  <th>Time:</th>                <td>13:47:11</td>     <th>  Log-Likelihood:    </th> <td> -480.52</td> \n",
       "</tr>\n",
       "<tr>\n",
       "  <th>converged:</th>             <td>True</td>       <th>  LL-Null:           </th> <td> -604.20</td> \n",
       "</tr>\n",
       "<tr>\n",
       "  <th>Covariance Type:</th>     <td>nonrobust</td>    <th>  LLR p-value:       </th> <td>2.402e-52</td>\n",
       "</tr>\n",
       "</table>\n",
       "<table class=\"simpletable\">\n",
       "<tr>\n",
       "          <td></td>             <th>coef</th>     <th>std err</th>      <th>z</th>      <th>P>|z|</th>  <th>[0.025</th>    <th>0.975]</th>  \n",
       "</tr>\n",
       "<tr>\n",
       "  <th>Intercept</th>         <td>  -11.0251</td> <td>    1.364</td> <td>   -8.082</td> <td> 0.000</td> <td>  -13.699</td> <td>   -8.351</td>\n",
       "</tr>\n",
       "<tr>\n",
       "  <th>bmi</th>               <td>    0.0970</td> <td>    0.039</td> <td>    2.501</td> <td> 0.012</td> <td>    0.021</td> <td>    0.173</td>\n",
       "</tr>\n",
       "<tr>\n",
       "  <th>I(bmi * age)</th>      <td>   -0.0014</td> <td>    0.001</td> <td>   -2.238</td> <td> 0.025</td> <td>   -0.003</td> <td>   -0.000</td>\n",
       "</tr>\n",
       "<tr>\n",
       "  <th>avg_glucose_level</th> <td>    0.0049</td> <td>    0.002</td> <td>    3.237</td> <td> 0.001</td> <td>    0.002</td> <td>    0.008</td>\n",
       "</tr>\n",
       "<tr>\n",
       "  <th>age</th>               <td>    0.1192</td> <td>    0.021</td> <td>    5.704</td> <td> 0.000</td> <td>    0.078</td> <td>    0.160</td>\n",
       "</tr>\n",
       "</table>"
      ],
      "text/plain": [
       "<class 'statsmodels.iolib.summary.Summary'>\n",
       "\"\"\"\n",
       "                           Logit Regression Results                           \n",
       "==============================================================================\n",
       "Dep. Variable:                 stroke   No. Observations:                 3441\n",
       "Model:                          Logit   Df Residuals:                     3436\n",
       "Method:                           MLE   Df Model:                            4\n",
       "Date:                Sun, 05 Mar 2023   Pseudo R-squ.:                  0.2047\n",
       "Time:                        13:47:11   Log-Likelihood:                -480.52\n",
       "converged:                       True   LL-Null:                       -604.20\n",
       "Covariance Type:            nonrobust   LLR p-value:                 2.402e-52\n",
       "=====================================================================================\n",
       "                        coef    std err          z      P>|z|      [0.025      0.975]\n",
       "-------------------------------------------------------------------------------------\n",
       "Intercept           -11.0251      1.364     -8.082      0.000     -13.699      -8.351\n",
       "bmi                   0.0970      0.039      2.501      0.012       0.021       0.173\n",
       "I(bmi * age)         -0.0014      0.001     -2.238      0.025      -0.003      -0.000\n",
       "avg_glucose_level     0.0049      0.002      3.237      0.001       0.002       0.008\n",
       "age                   0.1192      0.021      5.704      0.000       0.078       0.160\n",
       "=====================================================================================\n",
       "\"\"\""
      ]
     },
     "execution_count": 74,
     "metadata": {},
     "output_type": "execute_result"
    }
   ],
   "source": [
    "logit_model4 = sm.logit(formula = 'stroke~bmi+I(bmi*age)+avg_glucose_level+age', data = traind).fit()\n",
    "logit_model4.summary()"
   ]
  },
  {
   "cell_type": "code",
   "execution_count": 75,
   "id": "4119bb80",
   "metadata": {},
   "outputs": [
    {
     "data": {
      "text/plain": [
       "<AxesSubplot:xlabel='stroke', ylabel='age'>"
      ]
     },
     "execution_count": 75,
     "metadata": {},
     "output_type": "execute_result"
    },
    {
     "data": {
      "image/png": "[encoded data removed]",
      "text/plain": [
       "<Figure size 432x288 with 1 Axes>"
      ]
     },
     "metadata": {
      "needs_background": "light"
     },
     "output_type": "display_data"
    }
   ],
   "source": [
    "# More EDA for transformations\n",
    "# Try visualizing stroke incidence by age\n",
    "sns.boxplot(x = 'stroke', y = 'age', data = traind)"
   ]
  },
  {
   "cell_type": "code",
   "execution_count": 82,
   "id": "4b26b8eb",
   "metadata": {},
   "outputs": [],
   "source": [
    "binned_age = pd.qcut(traind['age'], 10, retbins = True) # 9 bins, 10 limits\n",
    "traind['age_binned'] = binned_age[0]"
   ]
  },
  {
   "cell_type": "code",
   "execution_count": 83,
   "id": "a5311163",
   "metadata": {},
   "outputs": [
    {
     "data": {
      "text/html": [
       "<div>\n",
       "<style scoped>\n",
       "    .dataframe tbody tr th:only-of-type {\n",
       "        vertical-align: middle;\n",
       "    }\n",
       "\n",
       "    .dataframe tbody tr th {\n",
       "        vertical-align: top;\n",
       "    }\n",
       "\n",
       "    .dataframe thead th {\n",
       "        text-align: right;\n",
       "    }\n",
       "</style>\n",
       "<table border=\"1\" class=\"dataframe\">\n",
       "  <thead>\n",
       "    <tr style=\"text-align: right;\">\n",
       "      <th></th>\n",
       "      <th>age_binned</th>\n",
       "      <th>stroke_percent</th>\n",
       "      <th>nobs</th>\n",
       "    </tr>\n",
       "  </thead>\n",
       "  <tbody>\n",
       "    <tr>\n",
       "      <th>0</th>\n",
       "      <td>(0.079, 11.0]</td>\n",
       "      <td>0.000000</td>\n",
       "      <td>379</td>\n",
       "    </tr>\n",
       "    <tr>\n",
       "      <th>1</th>\n",
       "      <td>(11.0, 21.0]</td>\n",
       "      <td>0.000000</td>\n",
       "      <td>367</td>\n",
       "    </tr>\n",
       "    <tr>\n",
       "      <th>2</th>\n",
       "      <td>(21.0, 30.0]</td>\n",
       "      <td>0.000000</td>\n",
       "      <td>343</td>\n",
       "    </tr>\n",
       "    <tr>\n",
       "      <th>3</th>\n",
       "      <td>(30.0, 38.0]</td>\n",
       "      <td>0.005291</td>\n",
       "      <td>378</td>\n",
       "    </tr>\n",
       "    <tr>\n",
       "      <th>4</th>\n",
       "      <td>(38.0, 45.0]</td>\n",
       "      <td>0.011019</td>\n",
       "      <td>363</td>\n",
       "    </tr>\n",
       "    <tr>\n",
       "      <th>5</th>\n",
       "      <td>(45.0, 52.0]</td>\n",
       "      <td>0.029891</td>\n",
       "      <td>368</td>\n",
       "    </tr>\n",
       "    <tr>\n",
       "      <th>6</th>\n",
       "      <td>(52.0, 58.0]</td>\n",
       "      <td>0.062678</td>\n",
       "      <td>351</td>\n",
       "    </tr>\n",
       "    <tr>\n",
       "      <th>7</th>\n",
       "      <td>(58.0, 65.0]</td>\n",
       "      <td>0.066474</td>\n",
       "      <td>346</td>\n",
       "    </tr>\n",
       "    <tr>\n",
       "      <th>8</th>\n",
       "      <td>(65.0, 75.0]</td>\n",
       "      <td>0.114846</td>\n",
       "      <td>357</td>\n",
       "    </tr>\n",
       "    <tr>\n",
       "      <th>9</th>\n",
       "      <td>(75.0, 82.0]</td>\n",
       "      <td>0.206154</td>\n",
       "      <td>325</td>\n",
       "    </tr>\n",
       "  </tbody>\n",
       "</table>\n",
       "</div>"
      ],
      "text/plain": [
       "      age_binned  stroke_percent  nobs\n",
       "0  (0.079, 11.0]        0.000000   379\n",
       "1   (11.0, 21.0]        0.000000   367\n",
       "2   (21.0, 30.0]        0.000000   343\n",
       "3   (30.0, 38.0]        0.005291   378\n",
       "4   (38.0, 45.0]        0.011019   363\n",
       "5   (45.0, 52.0]        0.029891   368\n",
       "6   (52.0, 58.0]        0.062678   351\n",
       "7   (58.0, 65.0]        0.066474   346\n",
       "8   (65.0, 75.0]        0.114846   357\n",
       "9   (75.0, 82.0]        0.206154   325"
      ]
     },
     "execution_count": 83,
     "metadata": {},
     "output_type": "execute_result"
    }
   ],
   "source": [
    "#Finding percentage of people having diabetes in each Age bin\n",
    "age_data = traind.groupby('age_binned')['stroke'].agg([('stroke_percent','mean'),('nobs','count')]).reset_index(drop=False)\n",
    "age_data"
   ]
  },
  {
   "cell_type": "code",
   "execution_count": 84,
   "id": "457ec4eb",
   "metadata": {},
   "outputs": [
    {
     "data": {
      "text/plain": [
       "Text(0.5, 0, 'Age_bin')"
      ]
     },
     "execution_count": 84,
     "metadata": {},
     "output_type": "execute_result"
    },
    {
     "data": {
      "image/png": "[encoded data removed]",
      "text/plain": [
       "<Figure size 432x288 with 1 Axes>"
      ]
     },
     "metadata": {
      "needs_background": "light"
     },
     "output_type": "display_data"
    }
   ],
   "source": [
    "# Visualize percentages\n",
    "\n",
    "sns.lineplot(x = age_data.index, y= age_data['stroke_percent'])\n",
    "plt.xlabel('Age_bin')"
   ]
  },
  {
   "cell_type": "code",
   "execution_count": 193,
   "id": "9f7bb3ce",
   "metadata": {},
   "outputs": [
    {
     "name": "stdout",
     "output_type": "stream",
     "text": [
      "Optimization terminated successfully.\n",
      "         Current function value: 0.138902\n",
      "         Iterations 11\n",
      "-477.9626714868034\n"
     ]
    },
    {
     "data": {
      "image/png": "[encoded data removed]",
      "text/plain": [
       "<Figure size 432x288 with 1 Axes>"
      ]
     },
     "metadata": {
      "needs_background": "light"
     },
     "output_type": "display_data"
    }
   ],
   "source": [
    "# Odds are not linear with age - problem, looks exponential\n",
    "# maybe add a quadratic term\n",
    "\n",
    "# Trying a quadratic transformation term\n",
    "sns.scatterplot(x = jitter(traind.age,0), y = jitter(traind.stroke,0), data = traind, color = 'orange')\n",
    "logit_model4 = sm.logit(formula = 'stroke~bmi+I(bmi*age)+avg_glucose_level+age+I(age**2)', data = traind).fit()\n",
    "sns.lineplot(x = 'age', y= logit_model.predict(traind), data = traind, color = 'blue') \n",
    "print(logit_model4.llf) #Printing the log likelihood to compare it with the next model we build\n",
    "plt.show()"
   ]
  },
  {
   "cell_type": "code",
   "execution_count": 194,
   "id": "36009f6a",
   "metadata": {},
   "outputs": [
    {
     "data": {
      "text/html": [
       "<table class=\"simpletable\">\n",
       "<caption>Logit Regression Results</caption>\n",
       "<tr>\n",
       "  <th>Dep. Variable:</th>        <td>stroke</td>      <th>  No. Observations:  </th>  <td>  3441</td>  \n",
       "</tr>\n",
       "<tr>\n",
       "  <th>Model:</th>                 <td>Logit</td>      <th>  Df Residuals:      </th>  <td>  3435</td>  \n",
       "</tr>\n",
       "<tr>\n",
       "  <th>Method:</th>                 <td>MLE</td>       <th>  Df Model:          </th>  <td>     5</td>  \n",
       "</tr>\n",
       "<tr>\n",
       "  <th>Date:</th>            <td>Sun, 05 Mar 2023</td> <th>  Pseudo R-squ.:     </th>  <td>0.2089</td>  \n",
       "</tr>\n",
       "<tr>\n",
       "  <th>Time:</th>                <td>21:32:16</td>     <th>  Log-Likelihood:    </th> <td> -477.96</td> \n",
       "</tr>\n",
       "<tr>\n",
       "  <th>converged:</th>             <td>True</td>       <th>  LL-Null:           </th> <td> -604.20</td> \n",
       "</tr>\n",
       "<tr>\n",
       "  <th>Covariance Type:</th>     <td>nonrobust</td>    <th>  LLR p-value:       </th> <td>1.611e-52</td>\n",
       "</tr>\n",
       "</table>\n",
       "<table class=\"simpletable\">\n",
       "<tr>\n",
       "          <td></td>             <th>coef</th>     <th>std err</th>      <th>z</th>      <th>P>|z|</th>  <th>[0.025</th>    <th>0.975]</th>  \n",
       "</tr>\n",
       "<tr>\n",
       "  <th>Intercept</th>         <td>  -16.0592</td> <td>    3.143</td> <td>   -5.110</td> <td> 0.000</td> <td>  -22.218</td> <td>   -9.900</td>\n",
       "</tr>\n",
       "<tr>\n",
       "  <th>bmi</th>               <td>    0.1310</td> <td>    0.049</td> <td>    2.672</td> <td> 0.008</td> <td>    0.035</td> <td>    0.227</td>\n",
       "</tr>\n",
       "<tr>\n",
       "  <th>I(bmi * age)</th>      <td>   -0.0020</td> <td>    0.001</td> <td>   -2.534</td> <td> 0.011</td> <td>   -0.004</td> <td>   -0.000</td>\n",
       "</tr>\n",
       "<tr>\n",
       "  <th>avg_glucose_level</th> <td>    0.0048</td> <td>    0.002</td> <td>    3.157</td> <td> 0.002</td> <td>    0.002</td> <td>    0.008</td>\n",
       "</tr>\n",
       "<tr>\n",
       "  <th>age</th>               <td>    0.2739</td> <td>    0.083</td> <td>    3.293</td> <td> 0.001</td> <td>    0.111</td> <td>    0.437</td>\n",
       "</tr>\n",
       "<tr>\n",
       "  <th>I(age ** 2)</th>       <td>   -0.0011</td> <td>    0.001</td> <td>   -2.011</td> <td> 0.044</td> <td>   -0.002</td> <td>-2.85e-05</td>\n",
       "</tr>\n",
       "</table><br/><br/>Possibly complete quasi-separation: A fraction 0.14 of observations can be<br/>perfectly predicted. This might indicate that there is complete<br/>quasi-separation. In this case some parameters will not be identified."
      ],
      "text/plain": [
       "<class 'statsmodels.iolib.summary.Summary'>\n",
       "\"\"\"\n",
       "                           Logit Regression Results                           \n",
       "==============================================================================\n",
       "Dep. Variable:                 stroke   No. Observations:                 3441\n",
       "Model:                          Logit   Df Residuals:                     3435\n",
       "Method:                           MLE   Df Model:                            5\n",
       "Date:                Sun, 05 Mar 2023   Pseudo R-squ.:                  0.2089\n",
       "Time:                        21:32:16   Log-Likelihood:                -477.96\n",
       "converged:                       True   LL-Null:                       -604.20\n",
       "Covariance Type:            nonrobust   LLR p-value:                 1.611e-52\n",
       "=====================================================================================\n",
       "                        coef    std err          z      P>|z|      [0.025      0.975]\n",
       "-------------------------------------------------------------------------------------\n",
       "Intercept           -16.0592      3.143     -5.110      0.000     -22.218      -9.900\n",
       "bmi                   0.1310      0.049      2.672      0.008       0.035       0.227\n",
       "I(bmi * age)         -0.0020      0.001     -2.534      0.011      -0.004      -0.000\n",
       "avg_glucose_level     0.0048      0.002      3.157      0.002       0.002       0.008\n",
       "age                   0.2739      0.083      3.293      0.001       0.111       0.437\n",
       "I(age ** 2)          -0.0011      0.001     -2.011      0.044      -0.002   -2.85e-05\n",
       "=====================================================================================\n",
       "\n",
       "Possibly complete quasi-separation: A fraction 0.14 of observations can be\n",
       "perfectly predicted. This might indicate that there is complete\n",
       "quasi-separation. In this case some parameters will not be identified.\n",
       "\"\"\""
      ]
     },
     "execution_count": 194,
     "metadata": {},
     "output_type": "execute_result"
    }
   ],
   "source": [
    "logit_model4.summary()"
   ]
  },
  {
   "cell_type": "code",
   "execution_count": 195,
   "id": "6da588e6",
   "metadata": {},
   "outputs": [
    {
     "name": "stdout",
     "output_type": "stream",
     "text": [
      "Classification accuracy = 62.3%\n",
      "Precision = 9.2%\n",
      "TPR or Recall = 87.3%\n",
      "FNR = 12.7%\n",
      "FPR = 38.8%\n",
      "ROC-AUC = 83.6%\n",
      "F1 = 0.1659125188536953\n"
     ]
    },
    {
     "data": {
      "image/png": "[encoded data removed]",
      "text/plain": [
       "<Figure size 432x288 with 2 Axes>"
      ]
     },
     "metadata": {
      "needs_background": "light"
     },
     "output_type": "display_data"
    }
   ],
   "source": [
    "confusion_matrix_data(test.dropna(),test.dropna().stroke,logit_model4,cutoff=0.025)"
   ]
  },
  {
   "cell_type": "code",
   "execution_count": 112,
   "id": "7f442e02",
   "metadata": {},
   "outputs": [
    {
     "data": {
      "text/plain": [
       "<AxesSubplot:xlabel='stroke', ylabel='bmi'>"
      ]
     },
     "execution_count": 112,
     "metadata": {},
     "output_type": "execute_result"
    },
    {
     "data": {
      "image/png": "[encoded data removed]",
      "text/plain": [
       "<Figure size 432x288 with 1 Axes>"
      ]
     },
     "metadata": {
      "needs_background": "light"
     },
     "output_type": "display_data"
    }
   ],
   "source": [
    "# visualize stroke instances by bmi\n",
    "sns.boxplot(x = 'stroke', y = 'bmi', data = traind)"
   ]
  },
  {
   "cell_type": "markdown",
   "id": "b79e85eb",
   "metadata": {},
   "source": [
    "Besides the outliers, it doesn't look like there is much of a difference for stroke instances by bmi."
   ]
  },
  {
   "cell_type": "code",
   "execution_count": 113,
   "id": "31509d14",
   "metadata": {},
   "outputs": [
    {
     "data": {
      "text/plain": [
       "<AxesSubplot:xlabel='stroke', ylabel='avg_glucose_level'>"
      ]
     },
     "execution_count": 113,
     "metadata": {},
     "output_type": "execute_result"
    },
    {
     "data": {
      "image/png": "[encoded data removed]",
      "text/plain": [
       "<Figure size 432x288 with 1 Axes>"
      ]
     },
     "metadata": {
      "needs_background": "light"
     },
     "output_type": "display_data"
    }
   ],
   "source": [
    "# visualize stroke instances by glucose level\n",
    "sns.boxplot(x = 'stroke', y = 'avg_glucose_level', data = traind)"
   ]
  },
  {
   "cell_type": "code",
   "execution_count": 118,
   "id": "f0bbef00",
   "metadata": {},
   "outputs": [],
   "source": [
    "binned_glucose = pd.qcut(traind['avg_glucose_level'], 7, retbins = True) # 9 bins, 10 limits\n",
    "traind['glucose_level_binned'] = binned_glucose[0]"
   ]
  },
  {
   "cell_type": "code",
   "execution_count": 119,
   "id": "d60f1391",
   "metadata": {},
   "outputs": [
    {
     "data": {
      "text/html": [
       "<div>\n",
       "<style scoped>\n",
       "    .dataframe tbody tr th:only-of-type {\n",
       "        vertical-align: middle;\n",
       "    }\n",
       "\n",
       "    .dataframe tbody tr th {\n",
       "        vertical-align: top;\n",
       "    }\n",
       "\n",
       "    .dataframe thead th {\n",
       "        text-align: right;\n",
       "    }\n",
       "</style>\n",
       "<table border=\"1\" class=\"dataframe\">\n",
       "  <thead>\n",
       "    <tr style=\"text-align: right;\">\n",
       "      <th></th>\n",
       "      <th>glucose_level_binned</th>\n",
       "      <th>stroke_percent</th>\n",
       "      <th>nobs</th>\n",
       "    </tr>\n",
       "  </thead>\n",
       "  <tbody>\n",
       "    <tr>\n",
       "      <th>0</th>\n",
       "      <td>(55.229, 69.159]</td>\n",
       "      <td>0.035225</td>\n",
       "      <td>511</td>\n",
       "    </tr>\n",
       "    <tr>\n",
       "      <th>1</th>\n",
       "      <td>(69.159, 79.044]</td>\n",
       "      <td>0.052838</td>\n",
       "      <td>511</td>\n",
       "    </tr>\n",
       "    <tr>\n",
       "      <th>2</th>\n",
       "      <td>(79.044, 87.106]</td>\n",
       "      <td>0.029354</td>\n",
       "      <td>511</td>\n",
       "    </tr>\n",
       "    <tr>\n",
       "      <th>3</th>\n",
       "      <td>(87.106, 96.86]</td>\n",
       "      <td>0.031250</td>\n",
       "      <td>512</td>\n",
       "    </tr>\n",
       "    <tr>\n",
       "      <th>4</th>\n",
       "      <td>(96.86, 110.963]</td>\n",
       "      <td>0.031373</td>\n",
       "      <td>510</td>\n",
       "    </tr>\n",
       "    <tr>\n",
       "      <th>5</th>\n",
       "      <td>(110.963, 149.957]</td>\n",
       "      <td>0.037182</td>\n",
       "      <td>511</td>\n",
       "    </tr>\n",
       "    <tr>\n",
       "      <th>6</th>\n",
       "      <td>(149.957, 271.74]</td>\n",
       "      <td>0.115460</td>\n",
       "      <td>511</td>\n",
       "    </tr>\n",
       "  </tbody>\n",
       "</table>\n",
       "</div>"
      ],
      "text/plain": [
       "  glucose_level_binned  stroke_percent  nobs\n",
       "0     (55.229, 69.159]        0.035225   511\n",
       "1     (69.159, 79.044]        0.052838   511\n",
       "2     (79.044, 87.106]        0.029354   511\n",
       "3      (87.106, 96.86]        0.031250   512\n",
       "4     (96.86, 110.963]        0.031373   510\n",
       "5   (110.963, 149.957]        0.037182   511\n",
       "6    (149.957, 271.74]        0.115460   511"
      ]
     },
     "execution_count": 119,
     "metadata": {},
     "output_type": "execute_result"
    }
   ],
   "source": [
    "#Finding percentage of people having diabetes in each Age bin\n",
    "avg_glucose_data = traind.groupby('glucose_level_binned')['stroke'].agg([('stroke_percent','mean'),('nobs','count')]).reset_index(drop=False)\n",
    "avg_glucose_data"
   ]
  },
  {
   "cell_type": "code",
   "execution_count": 121,
   "id": "9d16a308",
   "metadata": {},
   "outputs": [
    {
     "data": {
      "text/plain": [
       "Text(0.5, 0, 'glucose_level_bin')"
      ]
     },
     "execution_count": 121,
     "metadata": {},
     "output_type": "execute_result"
    },
    {
     "data": {
      "image/png": "[encoded data removed]",
      "text/plain": [
       "<Figure size 432x288 with 1 Axes>"
      ]
     },
     "metadata": {
      "needs_background": "light"
     },
     "output_type": "display_data"
    }
   ],
   "source": [
    "sns.lineplot(x = avg_glucose_data.index, y= avg_glucose_data['stroke_percent'])\n",
    "plt.xlabel('glucose_level_bin')"
   ]
  },
  {
   "cell_type": "code",
   "execution_count": 196,
   "id": "b60ed9ae",
   "metadata": {},
   "outputs": [
    {
     "name": "stdout",
     "output_type": "stream",
     "text": [
      "Optimization terminated successfully.\n",
      "         Current function value: 0.138897\n",
      "         Iterations 11\n",
      "-477.94337054024544\n"
     ]
    },
    {
     "data": {
      "image/png": "[encoded data removed]",
      "text/plain": [
       "<Figure size 432x288 with 1 Axes>"
      ]
     },
     "metadata": {
      "needs_background": "light"
     },
     "output_type": "display_data"
    }
   ],
   "source": [
    "sns.scatterplot(x = jitter(traind.age,0), y = jitter(traind.stroke,0), data = traind, color = 'orange')\n",
    "logit_model5 = sm.logit(formula = 'stroke~bmi+I(bmi*age)+avg_glucose_level+age+I(age**2)+I(avg_glucose_level**3)', data = traind).fit()\n",
    "sns.lineplot(x = 'age', y= logit_model.predict(traind), data = traind, color = 'blue') \n",
    "print(logit_model5.llf) #Printing the log likelihood to compare it with the next model we build\n",
    "plt.show()"
   ]
  },
  {
   "cell_type": "code",
   "execution_count": 197,
   "id": "76db512f",
   "metadata": {},
   "outputs": [
    {
     "data": {
      "text/html": [
       "<table class=\"simpletable\">\n",
       "<caption>Logit Regression Results</caption>\n",
       "<tr>\n",
       "  <th>Dep. Variable:</th>        <td>stroke</td>      <th>  No. Observations:  </th>  <td>  3441</td>  \n",
       "</tr>\n",
       "<tr>\n",
       "  <th>Model:</th>                 <td>Logit</td>      <th>  Df Residuals:      </th>  <td>  3434</td>  \n",
       "</tr>\n",
       "<tr>\n",
       "  <th>Method:</th>                 <td>MLE</td>       <th>  Df Model:          </th>  <td>     6</td>  \n",
       "</tr>\n",
       "<tr>\n",
       "  <th>Date:</th>            <td>Sun, 05 Mar 2023</td> <th>  Pseudo R-squ.:     </th>  <td>0.2090</td>  \n",
       "</tr>\n",
       "<tr>\n",
       "  <th>Time:</th>                <td>21:32:30</td>     <th>  Log-Likelihood:    </th> <td> -477.94</td> \n",
       "</tr>\n",
       "<tr>\n",
       "  <th>converged:</th>             <td>True</td>       <th>  LL-Null:           </th> <td> -604.20</td> \n",
       "</tr>\n",
       "<tr>\n",
       "  <th>Covariance Type:</th>     <td>nonrobust</td>    <th>  LLR p-value:       </th> <td>1.185e-51</td>\n",
       "</tr>\n",
       "</table>\n",
       "<table class=\"simpletable\">\n",
       "<tr>\n",
       "              <td></td>                 <th>coef</th>     <th>std err</th>      <th>z</th>      <th>P>|z|</th>  <th>[0.025</th>    <th>0.975]</th>  \n",
       "</tr>\n",
       "<tr>\n",
       "  <th>Intercept</th>                 <td>  -16.1644</td> <td>    3.191</td> <td>   -5.066</td> <td> 0.000</td> <td>  -22.419</td> <td>   -9.910</td>\n",
       "</tr>\n",
       "<tr>\n",
       "  <th>bmi</th>                       <td>    0.1313</td> <td>    0.049</td> <td>    2.672</td> <td> 0.008</td> <td>    0.035</td> <td>    0.228</td>\n",
       "</tr>\n",
       "<tr>\n",
       "  <th>I(bmi * age)</th>              <td>   -0.0020</td> <td>    0.001</td> <td>   -2.534</td> <td> 0.011</td> <td>   -0.004</td> <td>   -0.000</td>\n",
       "</tr>\n",
       "<tr>\n",
       "  <th>avg_glucose_level</th>         <td>    0.0059</td> <td>    0.006</td> <td>    1.015</td> <td> 0.310</td> <td>   -0.005</td> <td>    0.017</td>\n",
       "</tr>\n",
       "<tr>\n",
       "  <th>age</th>                       <td>    0.2742</td> <td>    0.083</td> <td>    3.294</td> <td> 0.001</td> <td>    0.111</td> <td>    0.437</td>\n",
       "</tr>\n",
       "<tr>\n",
       "  <th>I(age ** 2)</th>               <td>   -0.0011</td> <td>    0.001</td> <td>   -2.012</td> <td> 0.044</td> <td>   -0.002</td> <td>-2.89e-05</td>\n",
       "</tr>\n",
       "<tr>\n",
       "  <th>I(avg_glucose_level ** 3)</th> <td>-1.504e-08</td> <td> 7.67e-08</td> <td>   -0.196</td> <td> 0.845</td> <td>-1.65e-07</td> <td> 1.35e-07</td>\n",
       "</tr>\n",
       "</table><br/><br/>Possibly complete quasi-separation: A fraction 0.14 of observations can be<br/>perfectly predicted. This might indicate that there is complete<br/>quasi-separation. In this case some parameters will not be identified."
      ],
      "text/plain": [
       "<class 'statsmodels.iolib.summary.Summary'>\n",
       "\"\"\"\n",
       "                           Logit Regression Results                           \n",
       "==============================================================================\n",
       "Dep. Variable:                 stroke   No. Observations:                 3441\n",
       "Model:                          Logit   Df Residuals:                     3434\n",
       "Method:                           MLE   Df Model:                            6\n",
       "Date:                Sun, 05 Mar 2023   Pseudo R-squ.:                  0.2090\n",
       "Time:                        21:32:30   Log-Likelihood:                -477.94\n",
       "converged:                       True   LL-Null:                       -604.20\n",
       "Covariance Type:            nonrobust   LLR p-value:                 1.185e-51\n",
       "=============================================================================================\n",
       "                                coef    std err          z      P>|z|      [0.025      0.975]\n",
       "---------------------------------------------------------------------------------------------\n",
       "Intercept                   -16.1644      3.191     -5.066      0.000     -22.419      -9.910\n",
       "bmi                           0.1313      0.049      2.672      0.008       0.035       0.228\n",
       "I(bmi * age)                 -0.0020      0.001     -2.534      0.011      -0.004      -0.000\n",
       "avg_glucose_level             0.0059      0.006      1.015      0.310      -0.005       0.017\n",
       "age                           0.2742      0.083      3.294      0.001       0.111       0.437\n",
       "I(age ** 2)                  -0.0011      0.001     -2.012      0.044      -0.002   -2.89e-05\n",
       "I(avg_glucose_level ** 3) -1.504e-08   7.67e-08     -0.196      0.845   -1.65e-07    1.35e-07\n",
       "=============================================================================================\n",
       "\n",
       "Possibly complete quasi-separation: A fraction 0.14 of observations can be\n",
       "perfectly predicted. This might indicate that there is complete\n",
       "quasi-separation. In this case some parameters will not be identified.\n",
       "\"\"\""
      ]
     },
     "execution_count": 197,
     "metadata": {},
     "output_type": "execute_result"
    }
   ],
   "source": [
    "logit_model5.summary()"
   ]
  },
  {
   "cell_type": "code",
   "execution_count": 206,
   "id": "8ba95a68",
   "metadata": {},
   "outputs": [
    {
     "name": "stdout",
     "output_type": "stream",
     "text": [
      "Classification accuracy = 72.9%\n",
      "Precision = 11.1%\n",
      "TPR or Recall = 76.2%\n",
      "FNR = 23.8%\n",
      "FPR = 27.3%\n",
      "ROC-AUC = 83.6%\n",
      "F1 = 0.19433198380566802\n"
     ]
    },
    {
     "data": {
      "image/png": "[encoded data removed]",
      "text/plain": [
       "<Figure size 432x288 with 2 Axes>"
      ]
     },
     "metadata": {
      "needs_background": "light"
     },
     "output_type": "display_data"
    }
   ],
   "source": [
    "confusion_matrix_data(test.dropna(),test.dropna().stroke,logit_model5,cutoff=0.05)"
   ]
  },
  {
   "cell_type": "code",
   "execution_count": null,
   "id": "cc27eee4",
   "metadata": {},
   "outputs": [],
   "source": []
  }
 ],
 "metadata": {
  "kernelspec": {
   "display_name": "Python 3 (ipykernel)",
   "language": "python",
   "name": "python3"
  },
  "language_info": {
   "codemirror_mode": {
    "name": "ipython",
    "version": 3
   },
   "file_extension": ".py",
   "mimetype": "text/x-python",
   "name": "python",
   "nbconvert_exporter": "python",
   "pygments_lexer": "ipython3",
   "version": "3.9.12"
  }
 },
 "nbformat": 4,
 "nbformat_minor": 5
}
